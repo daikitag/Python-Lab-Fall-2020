{
 "cells": [
  {
   "cell_type": "code",
   "execution_count": 1,
   "metadata": {},
   "outputs": [],
   "source": [
    "import pandas as pd\n",
    "import numpy as np"
   ]
  },
  {
   "cell_type": "markdown",
   "metadata": {},
   "source": [
    "Data from:\n",
    "\n",
    "- Census (https://www.census.gov/quickfacts/fact/table/US/PST045219) accessed Oct 19 2020."
   ]
  },
  {
   "cell_type": "code",
   "execution_count": 6,
   "metadata": {},
   "outputs": [],
   "source": [
    "total = 328239523\n",
    "\n",
    "race = ['White Non-Hispanic','Black', 'AIAN', 'Asian', 'NHPI', 'Hiapanic/Mexican', 'Other']\n",
    "percent = np.array([0.601, 0.134, 0.013, 0.059, 0.002, 0.185, 0.006])"
   ]
  },
  {
   "cell_type": "markdown",
   "metadata": {},
   "source": [
    "Data from:\n",
    "\n",
    "- Center for Disease Control and Prevention (https://www.cdc.gov/nchs/nvss/vsrr/covid19/health_disparities.htm) accessed Oct 19 2020."
   ]
  },
  {
   "cell_type": "code",
   "execution_count": 7,
   "metadata": {},
   "outputs": [],
   "source": [
    "covid = np.array([68300, 26453, 1052, 6229, 284, 20957, 5262])"
   ]
  },
  {
   "cell_type": "code",
   "execution_count": 8,
   "metadata": {},
   "outputs": [
    {
     "name": "stdout",
     "output_type": "stream",
     "text": [
      "[1.         1.73709633 0.71207568 0.92900936 1.24951684 0.99680717\n",
      " 7.71708638]\n"
     ]
    }
   ],
   "source": [
    "race_num= total * percent\n",
    "covid_rate = covid / race_num\n",
    "white_rate = covid_rate[0]\n",
    "relative = covid_rate / white_rate\n",
    "print(relative)"
   ]
  },
  {
   "cell_type": "code",
   "execution_count": 9,
   "metadata": {},
   "outputs": [
    {
     "data": {
      "text/plain": [
       "array([ 34.62225565,  60.1421931 ,  24.65366638,  32.16439941,\n",
       "        43.26109138,  34.51171268, 267.18293763])"
      ]
     },
     "execution_count": 9,
     "metadata": {},
     "output_type": "execute_result"
    }
   ],
   "source": [
    "covid_rate * 100000"
   ]
  }
 ],
 "metadata": {
  "kernelspec": {
   "display_name": "Python 3",
   "language": "python",
   "name": "python3"
  },
  "language_info": {
   "codemirror_mode": {
    "name": "ipython",
    "version": 3
   },
   "file_extension": ".py",
   "mimetype": "text/x-python",
   "name": "python",
   "nbconvert_exporter": "python",
   "pygments_lexer": "ipython3",
   "version": "3.6.10"
  }
 },
 "nbformat": 4,
 "nbformat_minor": 4
}

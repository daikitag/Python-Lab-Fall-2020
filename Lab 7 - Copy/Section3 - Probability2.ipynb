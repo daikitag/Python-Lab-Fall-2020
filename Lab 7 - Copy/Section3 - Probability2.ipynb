{
 "cells": [
  {
   "cell_type": "markdown",
   "metadata": {},
   "source": [
    "# Problem 3\n",
    "\n",
    "The player tosses a coin repeatedly until a tail appears or tosses it a maximum of 1000 times if no tail appears. The initial stake starts at 2 dollars and is doubled every time heads appears. The first time tails appears, the game ends and the player wins whatever is in the pot. Thus the player wins 2 dollars if tails appears on the first toss, 4 dollars if heads appears on the first toss and tails on the second, 8 dollars if heads appears on the first two tosses and tails on the third, and so on. Mathematically, the player wins $2^k$ dollars, where k equals the number of tosses until the first tail.\n",
    "\n",
    "Would you play this game if the cost of participating is $8?\n",
    "\n",
    "Taken from: https://www.r-exercises.com/2017/08/20/answer-probability-questions-with-simulation/"
   ]
  },
  {
   "cell_type": "markdown",
   "metadata": {},
   "source": [
    "### My intuition:\n",
    "\n",
    "I must get at least 2 heads in a row. The probability that I win is 1/4, because that is the probability that I will get at least 2 heads in a row. However, if I get more than 2 heads in a row, I can win at least $16-8=8$ dollars from this game."
   ]
  },
  {
   "cell_type": "markdown",
   "metadata": {},
   "source": [
    "## Question: Will you participate?\n",
    "\n",
    "(a) Yes\n",
    "\n",
    "(b) No"
   ]
  },
  {
   "cell_type": "code",
   "execution_count": 3,
   "metadata": {},
   "outputs": [],
   "source": [
    "import random\n",
    "\n",
    "def coin(s):\n",
    "    money = 0\n",
    "    for i in range(s):\n",
    "        k = 0\n",
    "        for i in range(1000):\n",
    "            k += 1\n",
    "            coin = random.choice(['H','T'])\n",
    "            if coin == 'T':\n",
    "                money += 2**k # 2**k means 2 to the power of k\n",
    "                break\n",
    "    expect = money / s\n",
    "    return expect"
   ]
  },
  {
   "cell_type": "code",
   "execution_count": 12,
   "metadata": {},
   "outputs": [
    {
     "data": {
      "text/plain": [
       "21.66154"
      ]
     },
     "execution_count": 12,
     "metadata": {},
     "output_type": "execute_result"
    }
   ],
   "source": [
    "coin(100000)"
   ]
  },
  {
   "cell_type": "markdown",
   "metadata": {},
   "source": [
    "It's very surprising, but mathematically, it can be shown that the expectation of this game is 1000 dollars. If I don't set a limit, I can prove that the expectation of this game would be inifinite."
   ]
  },
  {
   "cell_type": "markdown",
   "metadata": {},
   "source": [
    "## Problem 4\n",
    "\n",
    "If you take cards numbered from 1-10 and shuffle them, and lay them down in order, what is the probability that at least one card matches its position. "
   ]
  },
  {
   "cell_type": "markdown",
   "metadata": {},
   "source": [
    "## Question to the class:\n",
    "\n",
    "What do you think the probability is?\n",
    "\n",
    "(a) 0.1\n",
    "\n",
    "(b) 0.3\n",
    "\n",
    "(c) 0.5\n",
    "\n",
    "(d) 0.7\n",
    "\n",
    "(e) 0.9"
   ]
  },
  {
   "cell_type": "code",
   "execution_count": 16,
   "metadata": {},
   "outputs": [],
   "source": [
    "def card(s):\n",
    "    location = list(range(1,11)) # this represent the location of the cards\n",
    "    count = 0\n",
    "    for i in range(s):\n",
    "        newloc = random.sample(location,10)\n",
    "        # This reshuffles the order of the list\n",
    "        for j in range(10):\n",
    "            if newloc[j] == location[j]:\n",
    "                count += 1\n",
    "                break\n",
    "    prob = count / s\n",
    "    return prob        "
   ]
  },
  {
   "cell_type": "code",
   "execution_count": 18,
   "metadata": {},
   "outputs": [
    {
     "data": {
      "text/plain": [
       "0.6249"
      ]
     },
     "execution_count": 18,
     "metadata": {},
     "output_type": "execute_result"
    }
   ],
   "source": [
    "card(10000)"
   ]
  },
  {
   "cell_type": "markdown",
   "metadata": {},
   "source": [
    "## Problem 5\n",
    "\n",
    "This returns to problem 4. Do you think the probability increases as I increase the number of cards to be 100?\n",
    "\n",
    "## Question to the class:\n",
    "\n",
    "(a) Yes\n",
    "\n",
    "(b) No"
   ]
  },
  {
   "cell_type": "code",
   "execution_count": 19,
   "metadata": {},
   "outputs": [],
   "source": [
    "def card(s):\n",
    "    location = list(range(1,101)) # this represent the location of the cards\n",
    "    count = 0\n",
    "    for i in range(s):\n",
    "        newloc = random.sample(location,100)\n",
    "        # This reshuffles the order of the list\n",
    "        for j in range(100):\n",
    "            if newloc[j] == location[j]:\n",
    "                count += 1\n",
    "                break\n",
    "    prob = count / s\n",
    "    return prob        "
   ]
  },
  {
   "cell_type": "code",
   "execution_count": 20,
   "metadata": {},
   "outputs": [
    {
     "data": {
      "text/plain": [
       "0.6299"
      ]
     },
     "execution_count": 20,
     "metadata": {},
     "output_type": "execute_result"
    }
   ],
   "source": [
    "card(10000)"
   ]
  },
  {
   "cell_type": "markdown",
   "metadata": {},
   "source": [
    "This is called to be the secretary problem, which is taken from:\n",
    "\n",
    "https://www.youtube.com/embed/pbXg5EI5t4c"
   ]
  }
 ],
 "metadata": {
  "kernelspec": {
   "display_name": "Python 3",
   "language": "python",
   "name": "python3"
  },
  "language_info": {
   "codemirror_mode": {
    "name": "ipython",
    "version": 3
   },
   "file_extension": ".py",
   "mimetype": "text/x-python",
   "name": "python",
   "nbconvert_exporter": "python",
   "pygments_lexer": "ipython3",
   "version": "3.6.10"
  }
 },
 "nbformat": 4,
 "nbformat_minor": 4
}

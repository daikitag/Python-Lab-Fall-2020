{
 "cells": [
  {
   "cell_type": "markdown",
   "metadata": {},
   "source": [
    "# Lab 7\n",
    "\n",
    "## HW6 Due TODAY\n",
    "\n",
    "I briefly reviewed the submissions, and it seems that some people missed the bins. Please double check your solutions, so that you have the correct bin argument inside the histograms."
   ]
  },
  {
   "cell_type": "markdown",
   "metadata": {},
   "source": [
    "## Today's agenda\n",
    "\n",
    "- Conditional Probability\n",
    "- Simulation\n",
    "- Birthday problem\n",
    "- Law of large numbers\n",
    "- Central limit theorem"
   ]
  },
  {
   "cell_type": "markdown",
   "metadata": {},
   "source": [
    "## Brief overview of conditional probability\n",
    "\n",
    "- People who aren't comfortable with conditional probability/Bayes rule should consult Lecture 10 slides\n",
    "\n",
    "What is conditional probability?\n",
    "\n",
    "- We want to find out the probability of the event A given that the event B occurred"
   ]
  },
  {
   "cell_type": "markdown",
   "metadata": {},
   "source": [
    "$P(A|B)$ is probability of A given that the event B occurred"
   ]
  },
  {
   "cell_type": "markdown",
   "metadata": {},
   "source": [
    "<img src=\"Image/Bayes.png\" width=400>"
   ]
  },
  {
   "cell_type": "markdown",
   "metadata": {},
   "source": [
    "$$\n",
    "P(A|B) = \\frac{P(A\\cap B)}{P(B)}=\\frac{Y}{Y+Z}\n",
    "$$"
   ]
  },
  {
   "cell_type": "markdown",
   "metadata": {},
   "source": [
    "### P(A|B) vs P(B|A)?\n",
    "\n",
    "Beginners in conditional probability might have some difficulty remembering which one is which. Read it aloud. $P(A|B)$ is the probability of $A$ given $B$, thus you have the first one ($A$) on your left and the second one ($B$) on your right and put a bar $|$ between them."
   ]
  },
  {
   "cell_type": "markdown",
   "metadata": {},
   "source": [
    "# Bayes' Rule:\n",
    "\n",
    "There are some theorems that you must memorize in statistics. Bayes rule is one of them.\n",
    "\n",
    "$$\n",
    "P(A|B) = \\frac{P(B|A)P(A)}{P(B)}\n",
    "$$"
   ]
  },
  {
   "cell_type": "markdown",
   "metadata": {},
   "source": [
    "The codes below comes directly from HW4 solution"
   ]
  },
  {
   "cell_type": "code",
   "execution_count": 1,
   "metadata": {},
   "outputs": [],
   "source": [
    "import pandas as pd\n",
    "import numpy as np"
   ]
  },
  {
   "cell_type": "code",
   "execution_count": 2,
   "metadata": {},
   "outputs": [],
   "source": [
    "df = pd.read_csv('Data/NHANES.csv')"
   ]
  },
  {
   "cell_type": "code",
   "execution_count": 3,
   "metadata": {},
   "outputs": [],
   "source": [
    "df = df[['Race3','Age','BPSysAve','BPDiaAve']]\n",
    "df = df.dropna()"
   ]
  },
  {
   "cell_type": "code",
   "execution_count": 4,
   "metadata": {},
   "outputs": [],
   "source": [
    "def function(row):\n",
    "    if row['BPDiaAve'] < 80 and row['BPSysAve'] < 120:\n",
    "        return 'Healthy'\n",
    "    elif row['BPDiaAve'] < 80 and row['BPSysAve'] < 130:\n",
    "        return 'Elevated'\n",
    "    elif row['BPDiaAve'] < 90 and row['BPSysAve'] < 140:\n",
    "        return 'Stage1'\n",
    "    elif row['BPDiaAve'] <= 120 and row['BPSysAve'] <= 180:\n",
    "        return 'Stage2'\n",
    "    elif row['BPDiaAve'] >= 180 or row['BPSysAve'] >= 120:\n",
    "        return 'Hypertensive Crisis'\n",
    "    else:\n",
    "        return 'NaN'"
   ]
  },
  {
   "cell_type": "code",
   "execution_count": 5,
   "metadata": {},
   "outputs": [
    {
     "data": {
      "text/html": [
       "<div>\n",
       "<style scoped>\n",
       "    .dataframe tbody tr th:only-of-type {\n",
       "        vertical-align: middle;\n",
       "    }\n",
       "\n",
       "    .dataframe tbody tr th {\n",
       "        vertical-align: top;\n",
       "    }\n",
       "\n",
       "    .dataframe thead th {\n",
       "        text-align: right;\n",
       "    }\n",
       "</style>\n",
       "<table border=\"1\" class=\"dataframe\">\n",
       "  <thead>\n",
       "    <tr style=\"text-align: right;\">\n",
       "      <th>Race3</th>\n",
       "      <th>Asian</th>\n",
       "      <th>Black</th>\n",
       "      <th>Hispanic</th>\n",
       "      <th>Mexican</th>\n",
       "      <th>Other</th>\n",
       "      <th>White</th>\n",
       "    </tr>\n",
       "    <tr>\n",
       "      <th>Blood Pressure</th>\n",
       "      <th></th>\n",
       "      <th></th>\n",
       "      <th></th>\n",
       "      <th></th>\n",
       "      <th></th>\n",
       "      <th></th>\n",
       "    </tr>\n",
       "  </thead>\n",
       "  <tbody>\n",
       "    <tr>\n",
       "      <th>Elevated</th>\n",
       "      <td>26</td>\n",
       "      <td>81</td>\n",
       "      <td>32</td>\n",
       "      <td>50</td>\n",
       "      <td>29</td>\n",
       "      <td>433</td>\n",
       "    </tr>\n",
       "    <tr>\n",
       "      <th>Healthy</th>\n",
       "      <td>153</td>\n",
       "      <td>238</td>\n",
       "      <td>158</td>\n",
       "      <td>256</td>\n",
       "      <td>68</td>\n",
       "      <td>1453</td>\n",
       "    </tr>\n",
       "    <tr>\n",
       "      <th>Hypertensive Crisis</th>\n",
       "      <td>0</td>\n",
       "      <td>6</td>\n",
       "      <td>0</td>\n",
       "      <td>0</td>\n",
       "      <td>0</td>\n",
       "      <td>19</td>\n",
       "    </tr>\n",
       "    <tr>\n",
       "      <th>Stage1</th>\n",
       "      <td>36</td>\n",
       "      <td>97</td>\n",
       "      <td>56</td>\n",
       "      <td>50</td>\n",
       "      <td>11</td>\n",
       "      <td>506</td>\n",
       "    </tr>\n",
       "    <tr>\n",
       "      <th>Stage2</th>\n",
       "      <td>27</td>\n",
       "      <td>63</td>\n",
       "      <td>27</td>\n",
       "      <td>25</td>\n",
       "      <td>14</td>\n",
       "      <td>367</td>\n",
       "    </tr>\n",
       "  </tbody>\n",
       "</table>\n",
       "</div>"
      ],
      "text/plain": [
       "Race3                Asian  Black  Hispanic  Mexican  Other  White\n",
       "Blood Pressure                                                    \n",
       "Elevated                26     81        32       50     29    433\n",
       "Healthy                153    238       158      256     68   1453\n",
       "Hypertensive Crisis      0      6         0        0      0     19\n",
       "Stage1                  36     97        56       50     11    506\n",
       "Stage2                  27     63        27       25     14    367"
      ]
     },
     "execution_count": 5,
     "metadata": {},
     "output_type": "execute_result"
    }
   ],
   "source": [
    "df['Blood Pressure'] = df.apply(function, axis=1)\n",
    "table = pd.crosstab(index=df[\"Blood Pressure\"], columns=df[\"Race3\"]) \n",
    "table"
   ]
  },
  {
   "cell_type": "code",
   "execution_count": 6,
   "metadata": {},
   "outputs": [
    {
     "data": {
      "text/html": [
       "<div>\n",
       "<style scoped>\n",
       "    .dataframe tbody tr th:only-of-type {\n",
       "        vertical-align: middle;\n",
       "    }\n",
       "\n",
       "    .dataframe tbody tr th {\n",
       "        vertical-align: top;\n",
       "    }\n",
       "\n",
       "    .dataframe thead th {\n",
       "        text-align: right;\n",
       "    }\n",
       "</style>\n",
       "<table border=\"1\" class=\"dataframe\">\n",
       "  <thead>\n",
       "    <tr style=\"text-align: right;\">\n",
       "      <th>Race3</th>\n",
       "      <th>Asian_per</th>\n",
       "      <th>Black_per</th>\n",
       "      <th>Hispanic_per</th>\n",
       "      <th>Mexican_per</th>\n",
       "      <th>Other_per</th>\n",
       "      <th>White_per</th>\n",
       "    </tr>\n",
       "    <tr>\n",
       "      <th>Blood Pressure</th>\n",
       "      <th></th>\n",
       "      <th></th>\n",
       "      <th></th>\n",
       "      <th></th>\n",
       "      <th></th>\n",
       "      <th></th>\n",
       "    </tr>\n",
       "  </thead>\n",
       "  <tbody>\n",
       "    <tr>\n",
       "      <th>Elevated</th>\n",
       "      <td>0.107438</td>\n",
       "      <td>0.167010</td>\n",
       "      <td>0.117216</td>\n",
       "      <td>0.131234</td>\n",
       "      <td>0.237705</td>\n",
       "      <td>0.155868</td>\n",
       "    </tr>\n",
       "    <tr>\n",
       "      <th>Healthy</th>\n",
       "      <td>0.632231</td>\n",
       "      <td>0.490722</td>\n",
       "      <td>0.578755</td>\n",
       "      <td>0.671916</td>\n",
       "      <td>0.557377</td>\n",
       "      <td>0.523038</td>\n",
       "    </tr>\n",
       "    <tr>\n",
       "      <th>Hypertensive Crisis</th>\n",
       "      <td>0.000000</td>\n",
       "      <td>0.012371</td>\n",
       "      <td>0.000000</td>\n",
       "      <td>0.000000</td>\n",
       "      <td>0.000000</td>\n",
       "      <td>0.006839</td>\n",
       "    </tr>\n",
       "    <tr>\n",
       "      <th>Stage1</th>\n",
       "      <td>0.148760</td>\n",
       "      <td>0.200000</td>\n",
       "      <td>0.205128</td>\n",
       "      <td>0.131234</td>\n",
       "      <td>0.090164</td>\n",
       "      <td>0.182145</td>\n",
       "    </tr>\n",
       "    <tr>\n",
       "      <th>Stage2</th>\n",
       "      <td>0.111570</td>\n",
       "      <td>0.129897</td>\n",
       "      <td>0.098901</td>\n",
       "      <td>0.065617</td>\n",
       "      <td>0.114754</td>\n",
       "      <td>0.132109</td>\n",
       "    </tr>\n",
       "  </tbody>\n",
       "</table>\n",
       "</div>"
      ],
      "text/plain": [
       "Race3                Asian_per  Black_per  Hispanic_per  Mexican_per  \\\n",
       "Blood Pressure                                                         \n",
       "Elevated              0.107438   0.167010      0.117216     0.131234   \n",
       "Healthy               0.632231   0.490722      0.578755     0.671916   \n",
       "Hypertensive Crisis   0.000000   0.012371      0.000000     0.000000   \n",
       "Stage1                0.148760   0.200000      0.205128     0.131234   \n",
       "Stage2                0.111570   0.129897      0.098901     0.065617   \n",
       "\n",
       "Race3                Other_per  White_per  \n",
       "Blood Pressure                             \n",
       "Elevated              0.237705   0.155868  \n",
       "Healthy               0.557377   0.523038  \n",
       "Hypertensive Crisis   0.000000   0.006839  \n",
       "Stage1                0.090164   0.182145  \n",
       "Stage2                0.114754   0.132109  "
      ]
     },
     "execution_count": 6,
     "metadata": {},
     "output_type": "execute_result"
    }
   ],
   "source": [
    "table['Asian_per'] = table['Asian'] / sum(table['Asian'])\n",
    "table['Black_per'] = table['Black'] / sum(table['Black'])\n",
    "table['Hispanic_per'] = table['Hispanic'] / sum(table['Hispanic'])\n",
    "table['Mexican_per'] = table['Mexican'] / sum(table['Mexican'])\n",
    "table['Other_per'] = table['Other'] / sum(table['Other'])\n",
    "table['White_per'] = table['White'] / sum(table['White'])\n",
    "table = table[['Asian_per','Black_per','Hispanic_per','Mexican_per','Other_per','White_per']]\n",
    "table"
   ]
  },
  {
   "cell_type": "markdown",
   "metadata": {},
   "source": [
    "What does White_per 0.523 represents?\n",
    "\n",
    "1. $P(Healthy\\cup White)$\n",
    "2. $P(Healthy\\cap White)$\n",
    "3. $P(Healthy|White)$\n",
    "4. $P(White|Healthy)$\n",
    "\n",
    "It's 3. $P(Healthy|White)$. This probability represents the probability a person is healthy, given that the person is white. This was obtained by:\n",
    "\n",
    "$$\n",
    "P(Healthy|White) = \\frac{\\text{Healthy White}}{\\text{White}}=\\frac{P(Healthy\\cap White)}{P(White)}\n",
    "$$"
   ]
  },
  {
   "cell_type": "markdown",
   "metadata": {},
   "source": []
  }
 ],
 "metadata": {
  "kernelspec": {
   "display_name": "Python 3",
   "language": "python",
   "name": "python3"
  },
  "language_info": {
   "codemirror_mode": {
    "name": "ipython",
    "version": 3
   },
   "file_extension": ".py",
   "mimetype": "text/x-python",
   "name": "python",
   "nbconvert_exporter": "python",
   "pygments_lexer": "ipython3",
   "version": "3.6.12"
  }
 },
 "nbformat": 4,
 "nbformat_minor": 4
}

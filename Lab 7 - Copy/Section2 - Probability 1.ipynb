{
 "cells": [
  {
   "cell_type": "markdown",
   "metadata": {},
   "source": [
    "# Problem 1\n",
    "\n",
    "Suppose you’re on a game show, and you’re given the choice of three doors. Behind one door is a car; behind the others, goats. You pick a door, say #1, and the host, who knows what’s behind the doors, opens another door, say #3, which has a goat. He then says to you, “Do you want to pick door #2 instead?” Note that the host will always open a door you did not pick, and it always reveals a goat"
   ]
  },
  {
   "cell_type": "markdown",
   "metadata": {},
   "source": [
    "## Question to the class:\n",
    "\n",
    "Which door will you pick:\n",
    "\n",
    "(a) I will choose the door that I initially picked\n",
    "\n",
    "(b) I will change my selection"
   ]
  },
  {
   "cell_type": "markdown",
   "metadata": {},
   "source": [
    "Let's solve this problem by using simulation.\n",
    "\n",
    "Steps:\n",
    "\n",
    "1. We will prepare two groups, one group that doesn't change the selection and the other group that changes the door\n",
    "2. For each of them, we will use `random.randint(1,3)` to simulate the person's selection, and the door that the car is located\n",
    "3. The person wins if his final selection is 1"
   ]
  },
  {
   "cell_type": "code",
   "execution_count": 1,
   "metadata": {},
   "outputs": [],
   "source": [
    "import random"
   ]
  },
  {
   "cell_type": "markdown",
   "metadata": {},
   "source": [
    "## Group1: \n",
    "\n",
    "Group that changes the selection"
   ]
  },
  {
   "cell_type": "code",
   "execution_count": 2,
   "metadata": {},
   "outputs": [],
   "source": [
    "def group1(s):\n",
    "    count = 0\n",
    "    for i in range(s):\n",
    "        select = random.randint(1,3) # This will be the person's selection\n",
    "        car = random.randint(1,3)\n",
    "        if select == car:\n",
    "            count += 1\n",
    "    prob = count / s\n",
    "    return prob"
   ]
  },
  {
   "cell_type": "code",
   "execution_count": 3,
   "metadata": {},
   "outputs": [
    {
     "data": {
      "text/plain": [
       "0.3326"
      ]
     },
     "execution_count": 3,
     "metadata": {},
     "output_type": "execute_result"
    }
   ],
   "source": [
    "group1(100000)"
   ]
  },
  {
   "cell_type": "markdown",
   "metadata": {},
   "source": [
    "## Group2:\n",
    "\n",
    "Group that changes the selection"
   ]
  },
  {
   "cell_type": "code",
   "execution_count": 6,
   "metadata": {},
   "outputs": [],
   "source": [
    "# Without loss of generality, we can assume that the car is in door 1\n",
    "def group2(s):\n",
    "    count = 0\n",
    "    for i in range(s):\n",
    "        select = random.randint(1,3) # person's selection\n",
    "        car = 1\n",
    "        if select == car:\n",
    "            select = random.randint(2,3)\n",
    "        else:\n",
    "            select = 1 # Person changed the door\n",
    "        if select == car:\n",
    "            count += 1\n",
    "    prob = count / s\n",
    "    return prob"
   ]
  },
  {
   "cell_type": "code",
   "execution_count": 7,
   "metadata": {},
   "outputs": [
    {
     "data": {
      "text/plain": [
       "0.6583"
      ]
     },
     "execution_count": 7,
     "metadata": {},
     "output_type": "execute_result"
    }
   ],
   "source": [
    "group2(10000)"
   ]
  },
  {
   "cell_type": "markdown",
   "metadata": {},
   "source": [
    "This is a very famous probability problem called Monty Hall problem:\n",
    "\n",
    "https://www.youtube.com/watch?v=4Lb-6rxZxx0"
   ]
  },
  {
   "cell_type": "markdown",
   "metadata": {},
   "source": [
    "Now, which one had a higher probability? Why?"
   ]
  },
  {
   "cell_type": "markdown",
   "metadata": {},
   "source": [
    "## Problem 2\n",
    "\n",
    "How big do you think the group would have to be before there is more than 50% chance that two people in the group have the same birthday?"
   ]
  },
  {
   "cell_type": "markdown",
   "metadata": {},
   "source": [
    "## Question to the class:\n",
    "\n",
    "What is your answer?\n",
    "\n",
    "(a) 15 people\n",
    "\n",
    "(b) 25 people\n",
    "\n",
    "(c) 75 people\n",
    "\n",
    "(d) 150 people\n",
    "\n",
    "(e) 365 people"
   ]
  },
  {
   "cell_type": "markdown",
   "metadata": {},
   "source": [
    "Steps:\n",
    "\n",
    "1. I will at first simulate birthdays from N people\n",
    "2. If there are overlapping elements, I will add 1 to count variable\n",
    "3. Plot the result"
   ]
  },
  {
   "cell_type": "markdown",
   "metadata": {},
   "source": [
    "Before I show the code to this, I hope I can introduce line graphs"
   ]
  },
  {
   "cell_type": "markdown",
   "metadata": {},
   "source": [
    "The code to generate a line graph would look like:\n",
    "\n",
    "```Python\n",
    "fig, axs = plt.subplots(figsize=(12,8))\n",
    "axs.plot(['list of x-values'], ['list of y-values'])\n",
    "plt.title('title', fontsize=20)\n",
    "axs.set_xlabel('x-axis labels', fontsize=18)\n",
    "axs.set_ylabel('y-axis labels', fontsize=18)\n",
    "axs.tick_params(labelsize=15)\n",
    "plt.show()\n",
    "```\n",
    "\n",
    "### Example:\n",
    "\n",
    "Here, we will plot $y=2x$ by selecting $x=[1,2,3,4,5]$"
   ]
  },
  {
   "cell_type": "code",
   "execution_count": 8,
   "metadata": {},
   "outputs": [],
   "source": [
    "import matplotlib.pyplot as plt"
   ]
  },
  {
   "cell_type": "code",
   "execution_count": 9,
   "metadata": {},
   "outputs": [],
   "source": [
    "x = [1,2,3,4,5]\n",
    "y = [2,4,6,8,10]"
   ]
  },
  {
   "cell_type": "code",
   "execution_count": 10,
   "metadata": {},
   "outputs": [
    {
     "data": {
      "image/png": "[encoded data removed]",
      "text/plain": [
       "<Figure size 864x576 with 1 Axes>"
      ]
     },
     "metadata": {
      "needs_background": "light"
     },
     "output_type": "display_data"
    }
   ],
   "source": [
    "fig, axs = plt.subplots(figsize=(12,8))\n",
    "axs.plot(x, y)\n",
    "plt.title('y=2x', fontsize=20)\n",
    "axs.set_xlabel('x', fontsize=18)\n",
    "axs.set_ylabel('y', fontsize=18)\n",
    "axs.tick_params(labelsize=15)\n",
    "plt.show()"
   ]
  },
  {
   "cell_type": "markdown",
   "metadata": {},
   "source": [
    "We will return:"
   ]
  },
  {
   "cell_type": "code",
   "execution_count": 11,
   "metadata": {},
   "outputs": [],
   "source": [
    "def birthday(s):\n",
    "    prob = []\n",
    "    for i in range(1,41): # specifies the number of people\n",
    "        count = 0\n",
    "        for j in range(s):\n",
    "            # s is the simulation size\n",
    "            birthday = [] # This list will have a list of birdays of i people\n",
    "            for k in range(i):\n",
    "                day = random.randint(1,365)\n",
    "                birthday.append(day)\n",
    "            for element in birthday:\n",
    "                if birthday.count(element) > 1:\n",
    "                    count += 1\n",
    "                    break\n",
    "        p = count / s\n",
    "        prob.append(p)\n",
    "    return prob"
   ]
  },
  {
   "cell_type": "code",
   "execution_count": 12,
   "metadata": {
    "scrolled": true
   },
   "outputs": [],
   "source": [
    "probability = birthday(1000)\n",
    "x = list(range(1,41))"
   ]
  },
  {
   "cell_type": "code",
   "execution_count": 13,
   "metadata": {
    "scrolled": true
   },
   "outputs": [
    {
     "data": {
      "text/plain": [
       "[1,\n",
       " 2,\n",
       " 3,\n",
       " 4,\n",
       " 5,\n",
       " 6,\n",
       " 7,\n",
       " 8,\n",
       " 9,\n",
       " 10,\n",
       " 11,\n",
       " 12,\n",
       " 13,\n",
       " 14,\n",
       " 15,\n",
       " 16,\n",
       " 17,\n",
       " 18,\n",
       " 19,\n",
       " 20,\n",
       " 21,\n",
       " 22,\n",
       " 23,\n",
       " 24,\n",
       " 25,\n",
       " 26,\n",
       " 27,\n",
       " 28,\n",
       " 29,\n",
       " 30,\n",
       " 31,\n",
       " 32,\n",
       " 33,\n",
       " 34,\n",
       " 35,\n",
       " 36,\n",
       " 37,\n",
       " 38,\n",
       " 39,\n",
       " 40]"
      ]
     },
     "execution_count": 13,
     "metadata": {},
     "output_type": "execute_result"
    }
   ],
   "source": [
    "list(range(1,41))"
   ]
  },
  {
   "cell_type": "code",
   "execution_count": 15,
   "metadata": {},
   "outputs": [
    {
     "data": {
      "image/png": "[encoded data removed]",
      "text/plain": [
       "<Figure size 864x576 with 1 Axes>"
      ]
     },
     "metadata": {
      "needs_background": "light"
     },
     "output_type": "display_data"
    }
   ],
   "source": [
    "fig, axs = plt.subplots(figsize=(12,8))\n",
    "axs.plot(x, probability)\n",
    "plt.title('Birthday Problem', fontsize=20)\n",
    "axs.set_xlabel('Number of people', fontsize=18)\n",
    "axs.set_ylabel('Probablity', fontsize=18)\n",
    "axs.axhline(0.5, color='r', ls='--')\n",
    "axs.tick_params(labelsize=15)\n",
    "plt.show()"
   ]
  },
  {
   "cell_type": "markdown",
   "metadata": {},
   "source": [
    "This is a classical birthday problem:\n",
    "\n",
    "https://www.youtube.com/watch?v=KtT_cgMzHx8"
   ]
  }
 ],
 "metadata": {
  "kernelspec": {
   "display_name": "Python 3",
   "language": "python",
   "name": "python3"
  },
  "language_info": {
   "codemirror_mode": {
    "name": "ipython",
    "version": 3
   },
   "file_extension": ".py",
   "mimetype": "text/x-python",
   "name": "python",
   "nbconvert_exporter": "python",
   "pygments_lexer": "ipython3",
   "version": "3.6.10"
  }
 },
 "nbformat": 4,
 "nbformat_minor": 4
}

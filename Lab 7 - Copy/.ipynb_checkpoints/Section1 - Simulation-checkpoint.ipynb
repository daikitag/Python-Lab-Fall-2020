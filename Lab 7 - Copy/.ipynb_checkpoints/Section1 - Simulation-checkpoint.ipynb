{
 "cells": [
  {
   "cell_type": "markdown",
   "metadata": {},
   "source": [
    "# Lab 7\n",
    "\n",
    "## HW6 Due TODAY\n",
    "\n",
    "I briefly reviewed the submissions, and it seems that some people missed the bins. Please double check your solutions, so that you have the correct bin argument inside the histograms."
   ]
  },
  {
   "cell_type": "markdown",
   "metadata": {},
   "source": [
    "## Today's agenda\n",
    "\n",
    "- Simulation\n",
    "- Probability Exercise 1\n",
    "- Probability Exercise 2\n",
    "- Law of large numbers\n",
    "- Central limit theorem"
   ]
  },
  {
   "cell_type": "markdown",
   "metadata": {},
   "source": [
    "# 1. Simulation"
   ]
  },
  {
   "cell_type": "markdown",
   "metadata": {},
   "source": [
    "## What is simulation?\n",
    "\n",
    "Simulation is the process of generating new data. In many situations, it is difficult to examine the probability or estimate a the parameter inside the probability model, such as the mean and variance. While we can't mathematically prove that a value is true, simulation allows us to predict the probability of different outcomes of the model when randomness is present. Simulation, or Monte Carlo simulation, is very important in the field of applied statistics to understand the parameters behind the model."
   ]
  },
  {
   "cell_type": "markdown",
   "metadata": {},
   "source": [
    "## Random library"
   ]
  },
  {
   "cell_type": "code",
   "execution_count": null,
   "metadata": {},
   "outputs": [],
   "source": []
  },
  {
   "cell_type": "markdown",
   "metadata": {},
   "source": [
    "```Python\n",
    "random.randint(a,b)\n",
    "```\n",
    "returns a random number between `a` and `b`. This is frequently used with for loops to generate many simulations based on this model (this can be regarded as a discrete uniform distribution)."
   ]
  },
  {
   "cell_type": "code",
   "execution_count": null,
   "metadata": {},
   "outputs": [],
   "source": []
  },
  {
   "cell_type": "code",
   "execution_count": null,
   "metadata": {},
   "outputs": [],
   "source": []
  },
  {
   "cell_type": "markdown",
   "metadata": {},
   "source": [
    "Notice that I get a different number when I run this code. We can also randomly select strings (words) as well."
   ]
  },
  {
   "cell_type": "markdown",
   "metadata": {},
   "source": [
    "```Python\n",
    "random.choice(['a','b'])\n",
    "```\n",
    "randomly selects `'a'` or `'b'` with equal probability. You can put as many elements that you want."
   ]
  },
  {
   "cell_type": "code",
   "execution_count": null,
   "metadata": {},
   "outputs": [],
   "source": []
  },
  {
   "cell_type": "code",
   "execution_count": null,
   "metadata": {},
   "outputs": [],
   "source": []
  },
  {
   "cell_type": "code",
   "execution_count": null,
   "metadata": {},
   "outputs": [],
   "source": []
  },
  {
   "cell_type": "markdown",
   "metadata": {},
   "source": [
    "Notice that I get a different selection each time."
   ]
  },
  {
   "cell_type": "markdown",
   "metadata": {},
   "source": [
    "## 1. Generate coin toss\n",
    "\n",
    "Coin toss can be seen as `random.choice(['H','T'])`, because we can let `'H'` = Heads and `'T'` = Tails. The following for loop generates a list of coin toss.\n",
    "\n",
    "1. Set the number of tosses to be the parameter\n",
    "2. Randomly select 'H' or 'T'\n",
    "3. Store those numbers in a list called result\n",
    "4. Output the result after the for loop is finished"
   ]
  },
  {
   "cell_type": "code",
   "execution_count": null,
   "metadata": {},
   "outputs": [],
   "source": []
  },
  {
   "cell_type": "code",
   "execution_count": null,
   "metadata": {},
   "outputs": [],
   "source": []
  },
  {
   "cell_type": "code",
   "execution_count": null,
   "metadata": {},
   "outputs": [],
   "source": []
  },
  {
   "cell_type": "markdown",
   "metadata": {},
   "source": [
    "Now, we will be using this simulation to compute probabilities. What is the probability that I will get 2 heads when I flip a coin 3 times?\n",
    "\n",
    "The outcome of getting 2 heads is:\n",
    "$$\n",
    "\\{H,H,T\\}, \\{H,T,H\\},\\{T,H,H\\}\n",
    "$$\n",
    "so there are 3 outcomes. There are a total of $2^3=8$ outcomes, so the probability is \n",
    "$$\\frac{3}{8}=0.375$$\n",
    "\n",
    "We will check this by simulation.\n",
    "\n",
    "Steps:\n",
    "1. Generate 100,000 samples of 3 coin tosses\n",
    "2. Count how many of them have 2 heads"
   ]
  },
  {
   "cell_type": "markdown",
   "metadata": {},
   "source": [
    "I introduce a new code here.\n",
    "```Python\n",
    "list_variable.count('a')\n",
    "```\n",
    "counts the number of `'a'` in a list called `list_variable`"
   ]
  },
  {
   "cell_type": "code",
   "execution_count": null,
   "metadata": {},
   "outputs": [],
   "source": []
  },
  {
   "cell_type": "code",
   "execution_count": null,
   "metadata": {},
   "outputs": [],
   "source": []
  },
  {
   "cell_type": "code",
   "execution_count": null,
   "metadata": {},
   "outputs": [],
   "source": []
  },
  {
   "cell_type": "code",
   "execution_count": null,
   "metadata": {},
   "outputs": [],
   "source": []
  },
  {
   "cell_type": "markdown",
   "metadata": {},
   "source": [
    "Now, we will count the total number of cases when the number of heads = 2"
   ]
  },
  {
   "cell_type": "code",
   "execution_count": null,
   "metadata": {},
   "outputs": [],
   "source": []
  },
  {
   "cell_type": "markdown",
   "metadata": {},
   "source": [
    "It would be extremely difficult to get the exact probability, but notice that this probability would be a good estimate of the actual probability."
   ]
  },
  {
   "cell_type": "markdown",
   "metadata": {},
   "source": [
    "## 2. Generate die roll"
   ]
  },
  {
   "cell_type": "markdown",
   "metadata": {},
   "source": [
    "A die roll can be simulated by:\n",
    "```Python\n",
    "random.randint(1,6)\n",
    "```"
   ]
  },
  {
   "cell_type": "code",
   "execution_count": null,
   "metadata": {},
   "outputs": [],
   "source": []
  },
  {
   "cell_type": "markdown",
   "metadata": {},
   "source": [
    "Now, imagine that I would like to approximate the probability that the total of 10 die rolls is 30. Is this probability easy to compute? I think not. The total outcome of 10 die rolls will be:\n",
    "\n",
    "$$\n",
    "6^{10} = 60,466,176\n",
    "$$\n",
    "\n",
    "I think it would be impractical to examine all 60 million + outcomes, so we would use a simulation to approximate the probability."
   ]
  },
  {
   "cell_type": "markdown",
   "metadata": {},
   "source": [
    "Steps:\n",
    "\n",
    "1. Generate 100,000 samples of 10 die rolls\n",
    "2. Count how many of them will have a total of 30"
   ]
  },
  {
   "cell_type": "code",
   "execution_count": null,
   "metadata": {},
   "outputs": [],
   "source": []
  },
  {
   "cell_type": "code",
   "execution_count": null,
   "metadata": {},
   "outputs": [],
   "source": []
  },
  {
   "cell_type": "code",
   "execution_count": null,
   "metadata": {},
   "outputs": [],
   "source": []
  },
  {
   "cell_type": "code",
   "execution_count": null,
   "metadata": {},
   "outputs": [],
   "source": []
  },
  {
   "cell_type": "markdown",
   "metadata": {},
   "source": [
    "We can estimate that the probability that the total of 10 die rolls is 30 will be approximately 5%."
   ]
  },
  {
   "cell_type": "markdown",
   "metadata": {},
   "source": [
    "In examples like this, simulation would be the best way to compute the probability. Some of you might have seen the word \"Monte Carlo Simulation\" before. In addition to probabilities, Monte Carlo methods can estimate mean, median, IQR, integrals, $\\pi$, etc. This would be the basic ideas behind Monte Carlo methods."
   ]
  }
 ],
 "metadata": {
  "kernelspec": {
   "display_name": "Python 3",
   "language": "python",
   "name": "python3"
  },
  "language_info": {
   "codemirror_mode": {
    "name": "ipython",
    "version": 3
   },
   "file_extension": ".py",
   "mimetype": "text/x-python",
   "name": "python",
   "nbconvert_exporter": "python",
   "pygments_lexer": "ipython3",
   "version": "3.6.10"
  }
 },
 "nbformat": 4,
 "nbformat_minor": 4
}

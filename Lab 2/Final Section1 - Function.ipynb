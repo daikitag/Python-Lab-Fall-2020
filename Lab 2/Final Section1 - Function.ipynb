{
 "cells": [
  {
   "cell_type": "markdown",
   "metadata": {},
   "source": [
    "# Basic Logistics:"
   ]
  },
  {
   "cell_type": "markdown",
   "metadata": {},
   "source": [
    "## Feedback:\n",
    "\n",
    "I really appreciate everyone for providing valuable feedback on Lab 1.\n",
    "\n",
    "From Lab 2, I will include more explanations and reduce the amount of typing that you have to do in the labs."
   ]
  },
  {
   "cell_type": "markdown",
   "metadata": {},
   "source": [
    "## If you have questions:\n",
    "\n",
    "If you have any questions about the coding, please feel free to post your questions to Piazza. I answered at least 30 questions this week regarding Python coding through email, but most of them were really similar. It would be better to post those questions to Piazza, as everyone can have access to the answers.\n",
    "\n",
    "If you have any individual questions, such as getting errors in your HW solutions, please feel free to email me about it. I will always try to respond to them as soon as possible."
   ]
  },
  {
   "cell_type": "markdown",
   "metadata": {},
   "source": [
    "## Assignments:\n",
    "\n",
    "HW problems can be difficult especially if you are new to programming. Most homework problems can be solved by copying the codes in these notebooks and changing some part of them, instead of writing the codes from scratch.\n",
    "\n",
    "These assignments are created to check your understanding in the labs, and if you are struggling with them, please post the questions to Piazza or email me about it. I strongly hope that you can deepen your understanding through these assignments, and I will be more than welcome to provide some help to improve your programming skills."
   ]
  },
  {
   "cell_type": "markdown",
   "metadata": {},
   "source": [
    "## Today's schedule:\n",
    "\n",
    "- Section 1: Function\n",
    "- Section 2: List\n",
    "- Section 3: If statement\n",
    "- Section 4: Pandas / Introduction to data analysis using if statements"
   ]
  },
  {
   "cell_type": "markdown",
   "metadata": {},
   "source": [
    "# Lab2: Function"
   ]
  },
  {
   "cell_type": "markdown",
   "metadata": {},
   "source": [
    "You use functions to do something with the input. For example, print() is a function, but we are occasionally interested in creating a more complicated function to manipulate the data.\n",
    "\n",
    "You start a function with def function_name(input_data): , and the codes that you write below it will be indented. These codes specify what you would like to do with the input, and they must be indented in the function. Most functions in this course will end with \"return output\", and you specify the output there."
   ]
  },
  {
   "cell_type": "markdown",
   "metadata": {},
   "source": [
    "The basic structure of function:\n",
    "\n",
    "```Python\n",
    "def function_name(input_variable):\n",
    "    # Some codes that work with input_variable\n",
    "    return output\n",
    "```\n",
    "\n",
    "This code will return the value that you specify after return"
   ]
  },
  {
   "cell_type": "markdown",
   "metadata": {},
   "source": [
    "## Example 1: Adding two numbers"
   ]
  },
  {
   "cell_type": "markdown",
   "metadata": {},
   "source": [
    "You can write anything as a function name. Here, I will specify the function name to be \"add_number\". You must specify the input variable names inside the parenthesis after you specify the function name."
   ]
  },
  {
   "cell_type": "code",
   "execution_count": 1,
   "metadata": {},
   "outputs": [],
   "source": [
    "# This is a function that adds two numbers\n",
    "# Realize that you won't get any output from the code\n",
    "def add_number(a, b):\n",
    "    result = a + b\n",
    "    return result"
   ]
  },
  {
   "cell_type": "code",
   "execution_count": 2,
   "metadata": {},
   "outputs": [
    {
     "data": {
      "text/plain": [
       "3"
      ]
     },
     "execution_count": 2,
     "metadata": {},
     "output_type": "execute_result"
    }
   ],
   "source": [
    "add_number(1,2)\n",
    "# This will give you the result of 1 + 2"
   ]
  },
  {
   "cell_type": "markdown",
   "metadata": {},
   "source": [
    "I can also put variables in functions."
   ]
  },
  {
   "cell_type": "code",
   "execution_count": 4,
   "metadata": {},
   "outputs": [
    {
     "data": {
      "text/plain": [
       "7"
      ]
     },
     "execution_count": 4,
     "metadata": {},
     "output_type": "execute_result"
    }
   ],
   "source": [
    "number1 = 3\n",
    "number2 = 4\n",
    "add_number(number1, number2)"
   ]
  },
  {
   "cell_type": "markdown",
   "metadata": {},
   "source": [
    "## Example 2: Calculate tip"
   ]
  },
  {
   "cell_type": "markdown",
   "metadata": {},
   "source": [
    "We assume that the tip percentage is 20%. We will create a function that determines the tip price from the total."
   ]
  },
  {
   "cell_type": "code",
   "execution_count": 10,
   "metadata": {},
   "outputs": [],
   "source": [
    "def tip(price):\n",
    "    tip = price * 0.2\n",
    "    return tip"
   ]
  },
  {
   "cell_type": "code",
   "execution_count": 11,
   "metadata": {},
   "outputs": [
    {
     "data": {
      "text/plain": [
       "20.0"
      ]
     },
     "execution_count": 11,
     "metadata": {},
     "output_type": "execute_result"
    }
   ],
   "source": [
    "tip(100)\n",
    "# 100 * 0.2 = 20"
   ]
  },
  {
   "cell_type": "code",
   "execution_count": 12,
   "metadata": {},
   "outputs": [
    {
     "data": {
      "text/plain": [
       "10.0"
      ]
     },
     "execution_count": 12,
     "metadata": {},
     "output_type": "execute_result"
    }
   ],
   "source": [
    "cost = 50\n",
    "tip(cost)\n",
    "# This will return 50 * 0.2 = 10"
   ]
  },
  {
   "cell_type": "markdown",
   "metadata": {},
   "source": [
    "### Why do we use functions?\n",
    "\n",
    "Functions can be used to make the codes short and easier to understand. You can also use functions to do tedious things in programming.\n",
    "\n",
    "Let's imagine that we get the following input and want to find the average of variable1 and variable2."
   ]
  },
  {
   "cell_type": "markdown",
   "metadata": {},
   "source": [
    "```Python\n",
    "variable1 = 3\n",
    "variable2 = 5\n",
    "```"
   ]
  },
  {
   "cell_type": "markdown",
   "metadata": {},
   "source": [
    "From lab1, we know that we can find the average of these variables by using the following code:"
   ]
  },
  {
   "cell_type": "markdown",
   "metadata": {},
   "source": [
    "```Python\n",
    "variable1 = 3\n",
    "variable2 = 5\n",
    "total = variable1 + variable2\n",
    "average = total / 2\n",
    "```"
   ]
  },
  {
   "cell_type": "markdown",
   "metadata": {},
   "source": [
    "However, it can be tedious to write this code all the time, and you might write this code incorrectly if you write it for a multiple times. Instead, we can compute the average of two values by using only 1 line of the code if we can create a function."
   ]
  },
  {
   "cell_type": "markdown",
   "metadata": {},
   "source": [
    "```Python\n",
    "average = mean(variable1, variable2)\n",
    "# mean() is a function that will be created\n",
    "```"
   ]
  },
  {
   "cell_type": "markdown",
   "metadata": {},
   "source": [
    "Let's do this."
   ]
  },
  {
   "cell_type": "code",
   "execution_count": 7,
   "metadata": {},
   "outputs": [],
   "source": [
    "def mean(a, b):\n",
    "    total = a + b\n",
    "    average = total / 2\n",
    "    return average"
   ]
  },
  {
   "cell_type": "markdown",
   "metadata": {},
   "source": [
    "Check that this function works:"
   ]
  },
  {
   "cell_type": "code",
   "execution_count": 8,
   "metadata": {},
   "outputs": [
    {
     "data": {
      "text/plain": [
       "2.0"
      ]
     },
     "execution_count": 8,
     "metadata": {},
     "output_type": "execute_result"
    }
   ],
   "source": [
    "mean(1,3)"
   ]
  },
  {
   "cell_type": "code",
   "execution_count": 13,
   "metadata": {},
   "outputs": [
    {
     "data": {
      "text/plain": [
       "4.0"
      ]
     },
     "execution_count": 13,
     "metadata": {},
     "output_type": "execute_result"
    }
   ],
   "source": [
    "variable1 = 3\n",
    "variable2 = 5\n",
    "mean(variable1, variable2)"
   ]
  },
  {
   "cell_type": "markdown",
   "metadata": {},
   "source": [
    "This example is simple, but functions are very useful if you would like to do something that requires a long piece of code."
   ]
  },
  {
   "cell_type": "markdown",
   "metadata": {},
   "source": [
    "## Any Questions?"
   ]
  },
  {
   "cell_type": "markdown",
   "metadata": {},
   "source": [
    "## Next:\n",
    "\n",
    "- List"
   ]
  }
 ],
 "metadata": {
  "kernelspec": {
   "display_name": "Python 3",
   "language": "python",
   "name": "python3"
  },
  "language_info": {
   "codemirror_mode": {
    "name": "ipython",
    "version": 3
   },
   "file_extension": ".py",
   "mimetype": "text/x-python",
   "name": "python",
   "nbconvert_exporter": "python",
   "pygments_lexer": "ipython3",
   "version": "3.6.10"
  }
 },
 "nbformat": 4,
 "nbformat_minor": 4
}

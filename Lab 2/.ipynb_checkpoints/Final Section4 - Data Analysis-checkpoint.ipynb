{
 "cells": [
  {
   "cell_type": "markdown",
   "metadata": {},
   "source": [
    "# Introduction to Data Analysis"
   ]
  },
  {
   "cell_type": "markdown",
   "metadata": {},
   "source": [
    "We have finally finished the introduction to Python and coding!\n",
    "\n",
    "From now on, we will be focusing on analyzing dataset through Python."
   ]
  },
  {
   "cell_type": "markdown",
   "metadata": {},
   "source": [
    "Reminder from the lectures:\n",
    "\n",
    "<img src=\"Image/slide.png\" width=\"600\" height=\"600\">\n",
    "\n",
    "Almost all data looks like this data matrix. From now on, we will be working to analyze this data matrix."
   ]
  },
  {
   "cell_type": "markdown",
   "metadata": {},
   "source": [
    "# Introduction to pandas\n",
    "\n",
    "<img src=\"Image/pandas_logo.png\" width=\"400\" height=\"600\">\n",
    "<img src=\"Image/panda.png\" width=\"400\">\n",
    "\n",
    "Pandas is a fast, powerful, flexible and easy to use open source data analysis and manipulation tool, built on top of the Python programming language (from the official website).\n",
    "\n",
    "Most data scientists use pandas in a daily basis, and we will be using pandas in our lab as well."
   ]
  },
  {
   "cell_type": "markdown",
   "metadata": {},
   "source": [
    "## What is the purpose of pandas?\n",
    "\n",
    "There are two main purposes of using pandas for this course:\n",
    "\n",
    "- Loading dataset to Python\n",
    "- Data manipulation"
   ]
  },
  {
   "cell_type": "markdown",
   "metadata": {},
   "source": [
    "Most dataset that we are planning to use in the lab are CSV files. They will have .csv prefix at the end. CSV files are very similar to Excel, and they can be opened/created by using Excel. Pandas is a great tool to load CSV files in Python.\n",
    "\n",
    "Besic steps of data analysis:\n",
    "1. Create CSV file (it can be easily created by using Excel)\n",
    "2. Load it in Python by using pandas\n",
    "3. Conduct data analysis in Python"
   ]
  },
  {
   "cell_type": "markdown",
   "metadata": {},
   "source": [
    "## This is the most important line to use pandas!!!"
   ]
  },
  {
   "cell_type": "code",
   "execution_count": 3,
   "metadata": {},
   "outputs": [],
   "source": [
    "import pandas as pd"
   ]
  },
  {
   "cell_type": "markdown",
   "metadata": {},
   "source": [
    "Most labs from now on will be using pandas. I will always include this code at the beginning of each lab notebooks, so please make sure to run this code. You only have to run this code once."
   ]
  },
  {
   "cell_type": "markdown",
   "metadata": {},
   "source": [
    "If you get this error message, it means that you forgot to run this code."
   ]
  },
  {
   "cell_type": "markdown",
   "metadata": {},
   "source": [
    "<img src=\"Image/error.png\" width=\"400\" height=\"600\">"
   ]
  },
  {
   "cell_type": "markdown",
   "metadata": {},
   "source": [
    "```Python\n",
    "df = pd.read_csv('Directory name')\n",
    "```\n",
    "is the code that you use to load a dataset to Python. Here, df is a variable name, so you don't have to make it as df. A directory is the location of the file in your computer. In the example below, we will be loading \"BMI_Data.csv\" file in \"Data\" folder."
   ]
  },
  {
   "cell_type": "code",
   "execution_count": 19,
   "metadata": {},
   "outputs": [],
   "source": [
    "df = pd.read_csv(\"Data/BMI_Data.csv\")"
   ]
  },
  {
   "cell_type": "markdown",
   "metadata": {},
   "source": [
    "We will show the dataset:"
   ]
  },
  {
   "cell_type": "code",
   "execution_count": 20,
   "metadata": {},
   "outputs": [
    {
     "data": {
      "text/html": [
       "<div>\n",
       "<style scoped>\n",
       "    .dataframe tbody tr th:only-of-type {\n",
       "        vertical-align: middle;\n",
       "    }\n",
       "\n",
       "    .dataframe tbody tr th {\n",
       "        vertical-align: top;\n",
       "    }\n",
       "\n",
       "    .dataframe thead th {\n",
       "        text-align: right;\n",
       "    }\n",
       "</style>\n",
       "<table border=\"1\" class=\"dataframe\">\n",
       "  <thead>\n",
       "    <tr style=\"text-align: right;\">\n",
       "      <th></th>\n",
       "      <th>Gender</th>\n",
       "      <th>Age</th>\n",
       "      <th>Height</th>\n",
       "      <th>Weight</th>\n",
       "      <th>Race1</th>\n",
       "      <th>BMI</th>\n",
       "    </tr>\n",
       "  </thead>\n",
       "  <tbody>\n",
       "    <tr>\n",
       "      <th>0</th>\n",
       "      <td>male</td>\n",
       "      <td>34</td>\n",
       "      <td>164.7</td>\n",
       "      <td>87.4</td>\n",
       "      <td>White</td>\n",
       "      <td>32.22</td>\n",
       "    </tr>\n",
       "    <tr>\n",
       "      <th>1</th>\n",
       "      <td>male</td>\n",
       "      <td>34</td>\n",
       "      <td>164.7</td>\n",
       "      <td>87.4</td>\n",
       "      <td>White</td>\n",
       "      <td>32.22</td>\n",
       "    </tr>\n",
       "    <tr>\n",
       "      <th>2</th>\n",
       "      <td>male</td>\n",
       "      <td>34</td>\n",
       "      <td>164.7</td>\n",
       "      <td>87.4</td>\n",
       "      <td>White</td>\n",
       "      <td>32.22</td>\n",
       "    </tr>\n",
       "    <tr>\n",
       "      <th>3</th>\n",
       "      <td>male</td>\n",
       "      <td>4</td>\n",
       "      <td>105.4</td>\n",
       "      <td>17.0</td>\n",
       "      <td>Other</td>\n",
       "      <td>15.30</td>\n",
       "    </tr>\n",
       "    <tr>\n",
       "      <th>4</th>\n",
       "      <td>female</td>\n",
       "      <td>49</td>\n",
       "      <td>168.4</td>\n",
       "      <td>86.7</td>\n",
       "      <td>White</td>\n",
       "      <td>30.57</td>\n",
       "    </tr>\n",
       "    <tr>\n",
       "      <th>...</th>\n",
       "      <td>...</td>\n",
       "      <td>...</td>\n",
       "      <td>...</td>\n",
       "      <td>...</td>\n",
       "      <td>...</td>\n",
       "      <td>...</td>\n",
       "    </tr>\n",
       "    <tr>\n",
       "      <th>9995</th>\n",
       "      <td>male</td>\n",
       "      <td>28</td>\n",
       "      <td>177.3</td>\n",
       "      <td>92.3</td>\n",
       "      <td>Mexican</td>\n",
       "      <td>29.40</td>\n",
       "    </tr>\n",
       "    <tr>\n",
       "      <th>9996</th>\n",
       "      <td>female</td>\n",
       "      <td>0</td>\n",
       "      <td>NaN</td>\n",
       "      <td>6.7</td>\n",
       "      <td>White</td>\n",
       "      <td>NaN</td>\n",
       "    </tr>\n",
       "    <tr>\n",
       "      <th>9997</th>\n",
       "      <td>male</td>\n",
       "      <td>27</td>\n",
       "      <td>175.8</td>\n",
       "      <td>96.7</td>\n",
       "      <td>Mexican</td>\n",
       "      <td>31.30</td>\n",
       "    </tr>\n",
       "    <tr>\n",
       "      <th>9998</th>\n",
       "      <td>male</td>\n",
       "      <td>60</td>\n",
       "      <td>168.8</td>\n",
       "      <td>78.4</td>\n",
       "      <td>White</td>\n",
       "      <td>27.50</td>\n",
       "    </tr>\n",
       "    <tr>\n",
       "      <th>9999</th>\n",
       "      <td>male</td>\n",
       "      <td>60</td>\n",
       "      <td>168.8</td>\n",
       "      <td>78.4</td>\n",
       "      <td>White</td>\n",
       "      <td>27.50</td>\n",
       "    </tr>\n",
       "  </tbody>\n",
       "</table>\n",
       "<p>10000 rows × 6 columns</p>\n",
       "</div>"
      ],
      "text/plain": [
       "      Gender  Age  Height  Weight    Race1    BMI\n",
       "0       male   34   164.7    87.4    White  32.22\n",
       "1       male   34   164.7    87.4    White  32.22\n",
       "2       male   34   164.7    87.4    White  32.22\n",
       "3       male    4   105.4    17.0    Other  15.30\n",
       "4     female   49   168.4    86.7    White  30.57\n",
       "...      ...  ...     ...     ...      ...    ...\n",
       "9995    male   28   177.3    92.3  Mexican  29.40\n",
       "9996  female    0     NaN     6.7    White    NaN\n",
       "9997    male   27   175.8    96.7  Mexican  31.30\n",
       "9998    male   60   168.8    78.4    White  27.50\n",
       "9999    male   60   168.8    78.4    White  27.50\n",
       "\n",
       "[10000 rows x 6 columns]"
      ]
     },
     "execution_count": 20,
     "metadata": {},
     "output_type": "execute_result"
    }
   ],
   "source": [
    "df"
   ]
  },
  {
   "cell_type": "markdown",
   "metadata": {},
   "source": [
    "Notice that it says 10,000 rows x 76 columns at the end. This indicates that there are 10,000 observations with 6 different variables. This dataset comes from NHANES dataset, and it is statistically shown that these 10,000 people in the dataset are the representative of the entire population in the U.S. We will be using this dataset to make estimates of the socioeconomic factors in the U.S."
   ]
  },
  {
   "cell_type": "markdown",
   "metadata": {},
   "source": [
    "### Statistical Questions (Their answers should be in the lecture notes)\n",
    "\n",
    "1. What is a random sample?\n",
    "2. What does a representative of the population mean?\n",
    "3. What is observational data?\n",
    "4. Can we make conclusions from observational data?"
   ]
  },
  {
   "cell_type": "markdown",
   "metadata": {},
   "source": [
    "## Accessing columns\n",
    "\n",
    "Each columns in the dataset can be accessed by using the following code:\n",
    "\n",
    "```Python\n",
    "df['Column Name']\n",
    "```\n",
    "if df is the variable that contains the dataset. We can add a new column to the dataset by specifying\n",
    "```Python\n",
    "df['New Column Name'] = # data that you would like to put in the new column\n",
    "```\n",
    "\n",
    "For example: (This code will only take 'Age' variable in the dataset)"
   ]
  },
  {
   "cell_type": "code",
   "execution_count": 21,
   "metadata": {},
   "outputs": [
    {
     "data": {
      "text/plain": [
       "0       34\n",
       "1       34\n",
       "2       34\n",
       "3        4\n",
       "4       49\n",
       "        ..\n",
       "9995    28\n",
       "9996     0\n",
       "9997    27\n",
       "9998    60\n",
       "9999    60\n",
       "Name: Age, Length: 10000, dtype: int64"
      ]
     },
     "execution_count": 21,
     "metadata": {},
     "output_type": "execute_result"
    }
   ],
   "source": [
    "df['Age']"
   ]
  },
  {
   "cell_type": "markdown",
   "metadata": {},
   "source": [
    "## Obesity\n",
    "\n",
    "It is shown that obesity is related to COVID deaths. \n",
    "\n",
    "<img src=\"Image/COVID_news.png\" width=\"600\" height=\"600\">\n",
    "\n",
    "(Taken from: https://www.sciencemag.org/news/2020/09/why-covid-19-more-deadly-people-obesity-even-if-theyre-young)\n",
    "\n",
    "\n",
    "The raw data only includes BMI data, and obesity level is given as:\n",
    "\n",
    "<table style=\"width:50%\">\n",
    "  <tr>\n",
    "    <th>BMI</th>\n",
    "    <th>Considered</th>\n",
    "  </tr>\n",
    "  <tr>\n",
    "    <td>Below 18.5</td>\n",
    "    <td>Underweight</td>\n",
    "    </tr>\n",
    "    <tr>\n",
    "        <td>18.5 to 24.9</td>\n",
    "        <td>Normal</td>\n",
    "    </tr>\n",
    "    <tr>\n",
    "    <td>25.0 to 29.9</td>\n",
    "        <td>Overweight</td>\n",
    "    </tr>\n",
    "    <tr>\n",
    "        <td>30 or higher</td>\n",
    "        <td>Obesity</td>\n",
    "    </tr>\n",
    "    <tr>\n",
    "        <td>40 or higher</td>\n",
    "        <td>Severe Obesity</td>\n",
    "    </tr>    \n",
    "</table>\n",
    "\n",
    "We will be using if statement to convert BMI data to obesity data."
   ]
  },
  {
   "cell_type": "markdown",
   "metadata": {},
   "source": [
    "Steps to create a new column data by using if statement:\n",
    "\n",
    "1. Create a function that has the if statement inside. Write return to indicate the desired output.\n",
    "2. Write the following code:\n",
    "```Python\n",
    "df['New column name'] = df.apply(function, axis=1)\n",
    "```\n",
    "where df is the name of the dataframe and function is the name of the function created in step 1."
   ]
  },
  {
   "cell_type": "code",
   "execution_count": 22,
   "metadata": {},
   "outputs": [
    {
     "data": {
      "text/html": [
       "<div>\n",
       "<style scoped>\n",
       "    .dataframe tbody tr th:only-of-type {\n",
       "        vertical-align: middle;\n",
       "    }\n",
       "\n",
       "    .dataframe tbody tr th {\n",
       "        vertical-align: top;\n",
       "    }\n",
       "\n",
       "    .dataframe thead th {\n",
       "        text-align: right;\n",
       "    }\n",
       "</style>\n",
       "<table border=\"1\" class=\"dataframe\">\n",
       "  <thead>\n",
       "    <tr style=\"text-align: right;\">\n",
       "      <th></th>\n",
       "      <th>Gender</th>\n",
       "      <th>Age</th>\n",
       "      <th>Height</th>\n",
       "      <th>Weight</th>\n",
       "      <th>Race1</th>\n",
       "      <th>BMI</th>\n",
       "    </tr>\n",
       "  </thead>\n",
       "  <tbody>\n",
       "    <tr>\n",
       "      <th>0</th>\n",
       "      <td>male</td>\n",
       "      <td>34</td>\n",
       "      <td>164.7</td>\n",
       "      <td>87.4</td>\n",
       "      <td>White</td>\n",
       "      <td>32.22</td>\n",
       "    </tr>\n",
       "    <tr>\n",
       "      <th>1</th>\n",
       "      <td>male</td>\n",
       "      <td>34</td>\n",
       "      <td>164.7</td>\n",
       "      <td>87.4</td>\n",
       "      <td>White</td>\n",
       "      <td>32.22</td>\n",
       "    </tr>\n",
       "    <tr>\n",
       "      <th>2</th>\n",
       "      <td>male</td>\n",
       "      <td>34</td>\n",
       "      <td>164.7</td>\n",
       "      <td>87.4</td>\n",
       "      <td>White</td>\n",
       "      <td>32.22</td>\n",
       "    </tr>\n",
       "    <tr>\n",
       "      <th>3</th>\n",
       "      <td>male</td>\n",
       "      <td>4</td>\n",
       "      <td>105.4</td>\n",
       "      <td>17.0</td>\n",
       "      <td>Other</td>\n",
       "      <td>15.30</td>\n",
       "    </tr>\n",
       "    <tr>\n",
       "      <th>4</th>\n",
       "      <td>female</td>\n",
       "      <td>49</td>\n",
       "      <td>168.4</td>\n",
       "      <td>86.7</td>\n",
       "      <td>White</td>\n",
       "      <td>30.57</td>\n",
       "    </tr>\n",
       "    <tr>\n",
       "      <th>...</th>\n",
       "      <td>...</td>\n",
       "      <td>...</td>\n",
       "      <td>...</td>\n",
       "      <td>...</td>\n",
       "      <td>...</td>\n",
       "      <td>...</td>\n",
       "    </tr>\n",
       "    <tr>\n",
       "      <th>9995</th>\n",
       "      <td>male</td>\n",
       "      <td>28</td>\n",
       "      <td>177.3</td>\n",
       "      <td>92.3</td>\n",
       "      <td>Mexican</td>\n",
       "      <td>29.40</td>\n",
       "    </tr>\n",
       "    <tr>\n",
       "      <th>9996</th>\n",
       "      <td>female</td>\n",
       "      <td>0</td>\n",
       "      <td>NaN</td>\n",
       "      <td>6.7</td>\n",
       "      <td>White</td>\n",
       "      <td>NaN</td>\n",
       "    </tr>\n",
       "    <tr>\n",
       "      <th>9997</th>\n",
       "      <td>male</td>\n",
       "      <td>27</td>\n",
       "      <td>175.8</td>\n",
       "      <td>96.7</td>\n",
       "      <td>Mexican</td>\n",
       "      <td>31.30</td>\n",
       "    </tr>\n",
       "    <tr>\n",
       "      <th>9998</th>\n",
       "      <td>male</td>\n",
       "      <td>60</td>\n",
       "      <td>168.8</td>\n",
       "      <td>78.4</td>\n",
       "      <td>White</td>\n",
       "      <td>27.50</td>\n",
       "    </tr>\n",
       "    <tr>\n",
       "      <th>9999</th>\n",
       "      <td>male</td>\n",
       "      <td>60</td>\n",
       "      <td>168.8</td>\n",
       "      <td>78.4</td>\n",
       "      <td>White</td>\n",
       "      <td>27.50</td>\n",
       "    </tr>\n",
       "  </tbody>\n",
       "</table>\n",
       "<p>10000 rows × 6 columns</p>\n",
       "</div>"
      ],
      "text/plain": [
       "      Gender  Age  Height  Weight    Race1    BMI\n",
       "0       male   34   164.7    87.4    White  32.22\n",
       "1       male   34   164.7    87.4    White  32.22\n",
       "2       male   34   164.7    87.4    White  32.22\n",
       "3       male    4   105.4    17.0    Other  15.30\n",
       "4     female   49   168.4    86.7    White  30.57\n",
       "...      ...  ...     ...     ...      ...    ...\n",
       "9995    male   28   177.3    92.3  Mexican  29.40\n",
       "9996  female    0     NaN     6.7    White    NaN\n",
       "9997    male   27   175.8    96.7  Mexican  31.30\n",
       "9998    male   60   168.8    78.4    White  27.50\n",
       "9999    male   60   168.8    78.4    White  27.50\n",
       "\n",
       "[10000 rows x 6 columns]"
      ]
     },
     "execution_count": 22,
     "metadata": {},
     "output_type": "execute_result"
    }
   ],
   "source": [
    "df"
   ]
  },
  {
   "cell_type": "markdown",
   "metadata": {},
   "source": [
    "As you can see, BMI data is stored in 'BMI' column.\n",
    "\n",
    "We define a function:"
   ]
  },
  {
   "cell_type": "code",
   "execution_count": 24,
   "metadata": {},
   "outputs": [],
   "source": [
    "def function(row):\n",
    "    if row['BMI'] < 18.5:\n",
    "        return 'Underweight'\n",
    "    elif row['BMI'] < 25:\n",
    "        return 'Normal'\n",
    "    elif row['BMI'] < 30:\n",
    "        return 'Overweight'\n",
    "    elif row['BMI'] < 40:\n",
    "        return 'Obesity'\n",
    "    else:\n",
    "        return 'Severe Obesity'"
   ]
  },
  {
   "cell_type": "markdown",
   "metadata": {},
   "source": [
    "Reference:\n",
    "\n",
    "<table style=\"width:50%\">\n",
    "  <tr>\n",
    "    <th>BMI</th>\n",
    "    <th>Considered</th>\n",
    "  </tr>\n",
    "  <tr>\n",
    "    <td>Below 18.5</td>\n",
    "    <td>Underweight</td>\n",
    "    </tr>\n",
    "    <tr>\n",
    "        <td>18.5 to 24.9</td>\n",
    "        <td>Normal</td>\n",
    "    </tr>\n",
    "    <tr>\n",
    "    <td>25.0 to 29.9</td>\n",
    "        <td>Overweight</td>\n",
    "    </tr>\n",
    "    <tr>\n",
    "        <td>30 or higher</td>\n",
    "        <td>Obesity</td>\n",
    "    </tr>\n",
    "    <tr>\n",
    "        <td>40 or higher</td>\n",
    "        <td>Severe Obesity</td>\n",
    "    </tr>    \n",
    "</table>\n",
    "\n",
    "Copy and paste the code that was given before:"
   ]
  },
  {
   "cell_type": "code",
   "execution_count": 25,
   "metadata": {},
   "outputs": [],
   "source": [
    "df['Obesity'] = df.apply(function, axis=1)"
   ]
  },
  {
   "cell_type": "code",
   "execution_count": 26,
   "metadata": {},
   "outputs": [
    {
     "data": {
      "text/html": [
       "<div>\n",
       "<style scoped>\n",
       "    .dataframe tbody tr th:only-of-type {\n",
       "        vertical-align: middle;\n",
       "    }\n",
       "\n",
       "    .dataframe tbody tr th {\n",
       "        vertical-align: top;\n",
       "    }\n",
       "\n",
       "    .dataframe thead th {\n",
       "        text-align: right;\n",
       "    }\n",
       "</style>\n",
       "<table border=\"1\" class=\"dataframe\">\n",
       "  <thead>\n",
       "    <tr style=\"text-align: right;\">\n",
       "      <th></th>\n",
       "      <th>Gender</th>\n",
       "      <th>Age</th>\n",
       "      <th>Height</th>\n",
       "      <th>Weight</th>\n",
       "      <th>Race1</th>\n",
       "      <th>BMI</th>\n",
       "      <th>Obesity</th>\n",
       "    </tr>\n",
       "  </thead>\n",
       "  <tbody>\n",
       "    <tr>\n",
       "      <th>0</th>\n",
       "      <td>male</td>\n",
       "      <td>34</td>\n",
       "      <td>164.7</td>\n",
       "      <td>87.4</td>\n",
       "      <td>White</td>\n",
       "      <td>32.22</td>\n",
       "      <td>Obesity</td>\n",
       "    </tr>\n",
       "    <tr>\n",
       "      <th>1</th>\n",
       "      <td>male</td>\n",
       "      <td>34</td>\n",
       "      <td>164.7</td>\n",
       "      <td>87.4</td>\n",
       "      <td>White</td>\n",
       "      <td>32.22</td>\n",
       "      <td>Obesity</td>\n",
       "    </tr>\n",
       "    <tr>\n",
       "      <th>2</th>\n",
       "      <td>male</td>\n",
       "      <td>34</td>\n",
       "      <td>164.7</td>\n",
       "      <td>87.4</td>\n",
       "      <td>White</td>\n",
       "      <td>32.22</td>\n",
       "      <td>Obesity</td>\n",
       "    </tr>\n",
       "    <tr>\n",
       "      <th>3</th>\n",
       "      <td>male</td>\n",
       "      <td>4</td>\n",
       "      <td>105.4</td>\n",
       "      <td>17.0</td>\n",
       "      <td>Other</td>\n",
       "      <td>15.30</td>\n",
       "      <td>Underweight</td>\n",
       "    </tr>\n",
       "    <tr>\n",
       "      <th>4</th>\n",
       "      <td>female</td>\n",
       "      <td>49</td>\n",
       "      <td>168.4</td>\n",
       "      <td>86.7</td>\n",
       "      <td>White</td>\n",
       "      <td>30.57</td>\n",
       "      <td>Obesity</td>\n",
       "    </tr>\n",
       "    <tr>\n",
       "      <th>...</th>\n",
       "      <td>...</td>\n",
       "      <td>...</td>\n",
       "      <td>...</td>\n",
       "      <td>...</td>\n",
       "      <td>...</td>\n",
       "      <td>...</td>\n",
       "      <td>...</td>\n",
       "    </tr>\n",
       "    <tr>\n",
       "      <th>9995</th>\n",
       "      <td>male</td>\n",
       "      <td>28</td>\n",
       "      <td>177.3</td>\n",
       "      <td>92.3</td>\n",
       "      <td>Mexican</td>\n",
       "      <td>29.40</td>\n",
       "      <td>Overweight</td>\n",
       "    </tr>\n",
       "    <tr>\n",
       "      <th>9996</th>\n",
       "      <td>female</td>\n",
       "      <td>0</td>\n",
       "      <td>NaN</td>\n",
       "      <td>6.7</td>\n",
       "      <td>White</td>\n",
       "      <td>NaN</td>\n",
       "      <td>Severe Obesity</td>\n",
       "    </tr>\n",
       "    <tr>\n",
       "      <th>9997</th>\n",
       "      <td>male</td>\n",
       "      <td>27</td>\n",
       "      <td>175.8</td>\n",
       "      <td>96.7</td>\n",
       "      <td>Mexican</td>\n",
       "      <td>31.30</td>\n",
       "      <td>Obesity</td>\n",
       "    </tr>\n",
       "    <tr>\n",
       "      <th>9998</th>\n",
       "      <td>male</td>\n",
       "      <td>60</td>\n",
       "      <td>168.8</td>\n",
       "      <td>78.4</td>\n",
       "      <td>White</td>\n",
       "      <td>27.50</td>\n",
       "      <td>Overweight</td>\n",
       "    </tr>\n",
       "    <tr>\n",
       "      <th>9999</th>\n",
       "      <td>male</td>\n",
       "      <td>60</td>\n",
       "      <td>168.8</td>\n",
       "      <td>78.4</td>\n",
       "      <td>White</td>\n",
       "      <td>27.50</td>\n",
       "      <td>Overweight</td>\n",
       "    </tr>\n",
       "  </tbody>\n",
       "</table>\n",
       "<p>10000 rows × 7 columns</p>\n",
       "</div>"
      ],
      "text/plain": [
       "      Gender  Age  Height  Weight    Race1    BMI         Obesity\n",
       "0       male   34   164.7    87.4    White  32.22         Obesity\n",
       "1       male   34   164.7    87.4    White  32.22         Obesity\n",
       "2       male   34   164.7    87.4    White  32.22         Obesity\n",
       "3       male    4   105.4    17.0    Other  15.30     Underweight\n",
       "4     female   49   168.4    86.7    White  30.57         Obesity\n",
       "...      ...  ...     ...     ...      ...    ...             ...\n",
       "9995    male   28   177.3    92.3  Mexican  29.40      Overweight\n",
       "9996  female    0     NaN     6.7    White    NaN  Severe Obesity\n",
       "9997    male   27   175.8    96.7  Mexican  31.30         Obesity\n",
       "9998    male   60   168.8    78.4    White  27.50      Overweight\n",
       "9999    male   60   168.8    78.4    White  27.50      Overweight\n",
       "\n",
       "[10000 rows x 7 columns]"
      ]
     },
     "execution_count": 26,
     "metadata": {},
     "output_type": "execute_result"
    }
   ],
   "source": [
    "df"
   ]
  },
  {
   "cell_type": "markdown",
   "metadata": {},
   "source": [
    "Observe that we have the new 'Obesity' column in the dataframe.\n",
    "\n",
    "We can count the elements in the column by using:\n",
    "\n",
    "```Python\n",
    "df['Column Name'].value_counts()\n",
    "```"
   ]
  },
  {
   "cell_type": "code",
   "execution_count": 27,
   "metadata": {},
   "outputs": [
    {
     "data": {
      "text/plain": [
       "Normal            2941\n",
       "Overweight        2656\n",
       "Obesity           2281\n",
       "Underweight       1271\n",
       "Severe Obesity     851\n",
       "Name: Obesity, dtype: int64"
      ]
     },
     "execution_count": 27,
     "metadata": {},
     "output_type": "execute_result"
    }
   ],
   "source": [
    "df['Obesity'].value_counts()"
   ]
  },
  {
   "cell_type": "markdown",
   "metadata": {},
   "source": [
    "Remember that we had 10,000 observations. We can estimate that 22.81% of the population are obese (excluding severely obese) and 8.51% of the population are severely obese. Combined together, we can estimate that 31.32% of the U.S. population are obese.\n",
    "\n",
    "In the future labs, we will be examining the socioeconomic factors behind obesity rates to understand the reasons behind COVID-19 deaths."
   ]
  },
  {
   "cell_type": "markdown",
   "metadata": {},
   "source": [
    "## Any final questions before we end the lab today?"
   ]
  }
 ],
 "metadata": {
  "kernelspec": {
   "display_name": "Python 3",
   "language": "python",
   "name": "python3"
  },
  "language_info": {
   "codemirror_mode": {
    "name": "ipython",
    "version": 3
   },
   "file_extension": ".py",
   "mimetype": "text/x-python",
   "name": "python",
   "nbconvert_exporter": "python",
   "pygments_lexer": "ipython3",
   "version": "3.6.10"
  }
 },
 "nbformat": 4,
 "nbformat_minor": 4
}

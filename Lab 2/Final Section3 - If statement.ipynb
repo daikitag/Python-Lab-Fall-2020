{
 "cells": [
  {
   "cell_type": "markdown",
   "metadata": {},
   "source": [
    "# Section3: If Statement"
   ]
  },
  {
   "cell_type": "markdown",
   "metadata": {},
   "source": [
    "## If statement"
   ]
  },
  {
   "cell_type": "markdown",
   "metadata": {},
   "source": [
    "We frequently use conditional statements to make decisions.\n",
    "\n",
    "For example, if a student's test score is greater than or equal to 50%, he/she will pass the course. Otherwise, the student will fail the course.\n",
    "\n",
    "We will write this in Python:"
   ]
  },
  {
   "cell_type": "code",
   "execution_count": 3,
   "metadata": {},
   "outputs": [
    {
     "name": "stdout",
     "output_type": "stream",
     "text": [
      "Pass\n"
     ]
    }
   ],
   "source": [
    "# set score variable here\n",
    "score = 70\n",
    "\n",
    "if score >= 50:\n",
    "    print(\"Pass\")\n",
    "else:\n",
    "    print(\"Fail\")"
   ]
  },
  {
   "cell_type": "markdown",
   "metadata": {},
   "source": [
    "Basic structure of if statement:\n",
    "\n",
    "```Python\n",
    "if condition1:\n",
    "    # Write a code that you would like to run if condition1 is true\n",
    "elif condition2:\n",
    "    # Write a code that you would like to run if condition1 is false and condition2 is true\n",
    "    # You can have as many elifs as you want, but it is not always necessary to write elif\n",
    "    # especially if you only want to examine one condition\n",
    "else:\n",
    "    # Write a code that you would like to run if all conditions are false\n",
    "```\n",
    "\n",
    "Please be careful about these indents. You must delete the indents to add 'elif' or 'else' statements.\n",
    "\n",
    "Also, do not forget to add ':'"
   ]
  },
  {
   "cell_type": "markdown",
   "metadata": {},
   "source": [
    "Operations that are frequently used in if statements:\n",
    "\n",
    "<table style=\"width:75%\">\n",
    "  <tr>\n",
    "    <th>Condition</th>\n",
    "    <th>Example</th>\n",
    "      <th>Meaning</th>\n",
    "  </tr>\n",
    "  <tr>\n",
    "    <td>></td>\n",
    "    <td>a > b</td>\n",
    "      <td>Check if a is greater than b</td>\n",
    "    </tr>\n",
    "    <tr>\n",
    "        <td>>=</td>\n",
    "        <td>a >= b</td>\n",
    "        <td>Check if a is greater than or equal to b</td>\n",
    "    </tr>\n",
    "    <tr>\n",
    "    <td><span>&lt;</span></td>\n",
    "        <td>a <span>&lt;</span> b</td>\n",
    "        <td>Check if a is less than b</td>\n",
    "    </tr>\n",
    "    <tr>\n",
    "        <td><span>&lt;</span>=</td>\n",
    "        <td>a <span>&lt;</span>= b</td>\n",
    "        <td>Check if a is less than or equal to b</td>\n",
    "    </tr>\n",
    "    <tr>\n",
    "        <td>==</td>\n",
    "        <td>a == b</td>\n",
    "        <td>Check if a is equal to b</td>   \n",
    "    </tr>\n",
    "    \n",
    "</table>"
   ]
  },
  {
   "cell_type": "markdown",
   "metadata": {},
   "source": [
    "Some of you might have seen this diagram before from computer science courses. In Python, you use if statements to do this. You do not have to learn to read this diagram, as I won't be using this to illustrate examples.\n",
    "\n",
    "<img src=\"Image/if.png\" width=\"300\" height=\"500\">"
   ]
  },
  {
   "cell_type": "markdown",
   "metadata": {},
   "source": [
    "## Pass / Fail\n",
    "\n",
    "Copy the first example and change the value in variable. Observe that the print statement changes if the score is less than 50."
   ]
  },
  {
   "cell_type": "code",
   "execution_count": 4,
   "metadata": {},
   "outputs": [
    {
     "name": "stdout",
     "output_type": "stream",
     "text": [
      "Fail\n"
     ]
    }
   ],
   "source": [
    "# set score variable here\n",
    "score = 30\n",
    "\n",
    "if score >= 50:\n",
    "    print(\"Pass\")\n",
    "else:\n",
    "    print(\"Fail\")"
   ]
  },
  {
   "cell_type": "markdown",
   "metadata": {},
   "source": [
    "## Letter Grade\n",
    "\n",
    "Now, let's suppose that we would like to assign letter grades to the student based on the following condition:\n",
    "\n",
    "- score >= 90 : A\n",
    "- score >= 70 : B\n",
    "- score >= 50 : C\n",
    "- otherwise : Fail"
   ]
  },
  {
   "cell_type": "code",
   "execution_count": 5,
   "metadata": {},
   "outputs": [
    {
     "name": "stdout",
     "output_type": "stream",
     "text": [
      "Fail\n"
     ]
    }
   ],
   "source": [
    "# set score variable here\n",
    "score = 30\n",
    "\n",
    "if score >= 90:\n",
    "    print(\"A\")\n",
    "elif score >= 70:\n",
    "    print(\"B\")\n",
    "elif score >= 50:\n",
    "    print(\"C\")\n",
    "else:\n",
    "    print(\"Fail\")"
   ]
  },
  {
   "cell_type": "markdown",
   "metadata": {},
   "source": [
    "Observe that the print statement changes as we change the score variable."
   ]
  },
  {
   "cell_type": "code",
   "execution_count": 6,
   "metadata": {},
   "outputs": [
    {
     "name": "stdout",
     "output_type": "stream",
     "text": [
      "B\n"
     ]
    }
   ],
   "source": [
    "# set score variable here\n",
    "score = 80\n",
    "\n",
    "if score >= 90:\n",
    "    print(\"A\")\n",
    "elif score >= 70:\n",
    "    print(\"B\")\n",
    "elif score >= 50:\n",
    "    print(\"C\")\n",
    "else:\n",
    "    print(\"Fail\")"
   ]
  },
  {
   "cell_type": "markdown",
   "metadata": {},
   "source": [
    "Notice that we didn't have to specify that score is less than 90 in the second condition. This is because the Python code only goes to the second condition if the first condition is false."
   ]
  },
  {
   "cell_type": "markdown",
   "metadata": {},
   "source": [
    "## Importance of if statements in data analysis\n",
    "\n",
    "In this example above, we are more interested in student's grades instead of their scores. However, the raw data will only includes the student's scores, and they will not include their grades. Since we are analyzing the raw data, we frequently have to use if statements to analyze the data.\n",
    "\n",
    "We will be analyzing dataset by using if statement in the next section."
   ]
  },
  {
   "cell_type": "markdown",
   "metadata": {},
   "source": [
    "## and / or\n",
    "\n",
    "Sometimes we are interested in specifying multiple conditions in if statement. Use 'or' to specify if one of the statements is true, and use 'and' to specify if both is true.\n",
    "\n",
    "<img src=\"Image/venn.png\" width=\"400\" height=\"600\">"
   ]
  },
  {
   "cell_type": "markdown",
   "metadata": {},
   "source": [
    "We will be demontrating this in the example below.\n",
    "\n",
    "Here, we will make:\n",
    "\n",
    "- 1: True\n",
    "- 0: False"
   ]
  },
  {
   "cell_type": "markdown",
   "metadata": {},
   "source": [
    "### Important:\n",
    "\n",
    "The color of 'or' and 'and' changes as you write the code. If it doesn't, it means that you wrote the code incorrectly."
   ]
  },
  {
   "cell_type": "markdown",
   "metadata": {},
   "source": [
    "## 1. or statement (only 1 has to be true)"
   ]
  },
  {
   "cell_type": "markdown",
   "metadata": {},
   "source": [
    "For this exercise, only type the first one. For the rest, copy and paste the code and only change the value of a or b"
   ]
  },
  {
   "cell_type": "markdown",
   "metadata": {},
   "source": [
    "### Case1: Both a and b are true\n",
    "\n",
    "We will get true"
   ]
  },
  {
   "cell_type": "code",
   "execution_count": 8,
   "metadata": {},
   "outputs": [
    {
     "name": "stdout",
     "output_type": "stream",
     "text": [
      "True\n"
     ]
    }
   ],
   "source": [
    "a = 1\n",
    "b = 1\n",
    "\n",
    "if a == 1 or b == 1:\n",
    "    print(\"True\")\n",
    "else:\n",
    "    print(\"False\")"
   ]
  },
  {
   "cell_type": "markdown",
   "metadata": {},
   "source": [
    "### Case 2: Only one of them is true\n",
    "\n",
    "We will get true"
   ]
  },
  {
   "cell_type": "code",
   "execution_count": 9,
   "metadata": {},
   "outputs": [
    {
     "name": "stdout",
     "output_type": "stream",
     "text": [
      "True\n"
     ]
    }
   ],
   "source": [
    "a = 1\n",
    "b = 0\n",
    "\n",
    "if a == 1 or b == 1:\n",
    "    print(\"True\")\n",
    "else:\n",
    "    print(\"False\")"
   ]
  },
  {
   "cell_type": "markdown",
   "metadata": {},
   "source": [
    "### Case 3: None of them is true\n",
    "\n",
    "We will get false"
   ]
  },
  {
   "cell_type": "code",
   "execution_count": 10,
   "metadata": {},
   "outputs": [
    {
     "name": "stdout",
     "output_type": "stream",
     "text": [
      "False\n"
     ]
    }
   ],
   "source": [
    "a = 0\n",
    "b = 0\n",
    "\n",
    "if a == 1 or b == 1:\n",
    "    print(\"True\")\n",
    "else:\n",
    "    print(\"False\")"
   ]
  },
  {
   "cell_type": "markdown",
   "metadata": {},
   "source": [
    "## 2. and statement (all statements have to be true)\n",
    "\n",
    "We will demonstrating \"and\" here"
   ]
  },
  {
   "cell_type": "markdown",
   "metadata": {},
   "source": [
    "### Case1: Both a and b are true\n",
    "\n",
    "We will get true"
   ]
  },
  {
   "cell_type": "code",
   "execution_count": 11,
   "metadata": {},
   "outputs": [
    {
     "name": "stdout",
     "output_type": "stream",
     "text": [
      "True\n"
     ]
    }
   ],
   "source": [
    "a = 1\n",
    "b = 1\n",
    "\n",
    "if a == 1 and b == 1:\n",
    "    print(\"True\")\n",
    "else:\n",
    "    print(\"False\")"
   ]
  },
  {
   "cell_type": "markdown",
   "metadata": {},
   "source": [
    "### Case 2: Only one of them is true\n",
    "\n",
    "We will get false"
   ]
  },
  {
   "cell_type": "code",
   "execution_count": 12,
   "metadata": {},
   "outputs": [
    {
     "name": "stdout",
     "output_type": "stream",
     "text": [
      "False\n"
     ]
    }
   ],
   "source": [
    "a = 0\n",
    "b = 1\n",
    "\n",
    "if a == 1 and b == 1:\n",
    "    print(\"True\")\n",
    "else:\n",
    "    print(\"False\")"
   ]
  },
  {
   "cell_type": "markdown",
   "metadata": {},
   "source": [
    "### Case 3: None of them is true\n",
    "\n",
    "We will get false"
   ]
  },
  {
   "cell_type": "code",
   "execution_count": 13,
   "metadata": {},
   "outputs": [
    {
     "name": "stdout",
     "output_type": "stream",
     "text": [
      "False\n"
     ]
    }
   ],
   "source": [
    "a = 0\n",
    "b = 0\n",
    "\n",
    "if a == 1 and b == 1:\n",
    "    print(\"True\")\n",
    "else:\n",
    "    print(\"False\")"
   ]
  },
  {
   "cell_type": "markdown",
   "metadata": {},
   "source": [
    "## Any Questions?\n",
    "\n",
    "\n",
    "## Next steps:\n",
    "\n",
    "- Pandas\n",
    "- Introduction to data analysis"
   ]
  }
 ],
 "metadata": {
  "kernelspec": {
   "display_name": "Python 3",
   "language": "python",
   "name": "python3"
  },
  "language_info": {
   "codemirror_mode": {
    "name": "ipython",
    "version": 3
   },
   "file_extension": ".py",
   "mimetype": "text/x-python",
   "name": "python",
   "nbconvert_exporter": "python",
   "pygments_lexer": "ipython3",
   "version": "3.6.10"
  }
 },
 "nbformat": 4,
 "nbformat_minor": 4
}

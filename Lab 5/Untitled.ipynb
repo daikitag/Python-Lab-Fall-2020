{
 "cells": [
  {
   "cell_type": "markdown",
   "metadata": {},
   "source": [
    "# Visualizing BMI values among different race groups"
   ]
  },
  {
   "cell_type": "code",
   "execution_count": 1,
   "metadata": {},
   "outputs": [],
   "source": [
    "import pandas as pd\n",
    "import numpy as np\n",
    "import matplotlib.pyplot as plt"
   ]
  },
  {
   "cell_type": "code",
   "execution_count": 2,
   "metadata": {},
   "outputs": [],
   "source": [
    "df = pd.read_csv('Data/NHANES.csv')"
   ]
  },
  {
   "cell_type": "code",
   "execution_count": 3,
   "metadata": {},
   "outputs": [],
   "source": [
    "df = df.dropna(subset=['BMI'])"
   ]
  },
  {
   "cell_type": "code",
   "execution_count": 4,
   "metadata": {},
   "outputs": [],
   "source": [
    "# Right now, I have a dataframe with no NaNs in BMI\n",
    "# We would like to observe BMI here"
   ]
  },
  {
   "cell_type": "code",
   "execution_count": 5,
   "metadata": {},
   "outputs": [
    {
     "data": {
      "text/plain": [
       "White       3047\n",
       "Black        568\n",
       "Mexican      452\n",
       "Hispanic     340\n",
       "Asian        277\n",
       "Other        150\n",
       "Name: Race3, dtype: int64"
      ]
     },
     "execution_count": 5,
     "metadata": {},
     "output_type": "execute_result"
    }
   ],
   "source": [
    "df['Race3'].value_counts()"
   ]
  },
  {
   "cell_type": "code",
   "execution_count": 7,
   "metadata": {},
   "outputs": [],
   "source": [
    "white = df['Race3'] == 'White'\n",
    "black = df['Race3'] == 'Black'\n",
    "hispanic = df['Race3'] == 'Hispanic'\n",
    "asian = df['Race3'] == 'Asian'\n",
    "\n",
    "white_df = df[white]\n",
    "black_df = df[black]\n",
    "hispanic_df = df[hispanic]\n",
    "asian_df = df[asian]"
   ]
  },
  {
   "cell_type": "code",
   "execution_count": 17,
   "metadata": {},
   "outputs": [
    {
     "data": {
      "image/png": "[encoded data removed]",
      "text/plain": [
       "<Figure size 864x576 with 1 Axes>"
      ]
     },
     "metadata": {
      "needs_background": "light"
     },
     "output_type": "display_data"
    }
   ],
   "source": [
    "fig, axs = plt.subplots(figsize=(12,8))\n",
    "axs.hist(white_df['BMI'], color=\"b\", alpha=0.3,\n",
    "         bins=np.linspace(12,82,37), label=\"Whites\")\n",
    "axs.hist(black_df['BMI'], color=\"r\", alpha=0.3,\n",
    "         bins=np.linspace(12,82,37), label=\"Blacks\")\n",
    "axs.hist(hispanic_df['BMI'], color=\"y\", alpha=0.5,\n",
    "         bins=np.linspace(12,82,37), label=\"Hispanics\")\n",
    "axs.hist(asian_df['BMI'], color=\"c\", alpha=0.5,\n",
    "         bins=np.linspace(12,82,37), label=\"Asians\")\n",
    "\n",
    "plt.title(\"Distribution of BMI in the U.S.\", fontsize=20)\n",
    "axs.set_xlabel(\"BMI\", fontsize=18)\n",
    "axs.set_ylabel(\"Frequency\", fontsize=18)\n",
    "axs.tick_params(labelsize=15)\n",
    "axs.legend(prop={'size': 15})\n",
    "\n",
    "plt.show()"
   ]
  },
  {
   "cell_type": "code",
   "execution_count": 9,
   "metadata": {},
   "outputs": [
    {
     "name": "stdout",
     "output_type": "stream",
     "text": [
      "Min BMI is: 12.88\n",
      "Max BMI is: 81.25\n"
     ]
    }
   ],
   "source": [
    "print(\"Min BMI is:\", np.min(df['BMI']))\n",
    "print(\"Max BMI is:\", np.max(df['BMI']))"
   ]
  },
  {
   "cell_type": "code",
   "execution_count": null,
   "metadata": {},
   "outputs": [],
   "source": [
    "# Set the bin width to be 2\n",
    "# (82−12)/2"
   ]
  },
  {
   "cell_type": "code",
   "execution_count": 15,
   "metadata": {},
   "outputs": [
    {
     "data": {
      "text/plain": [
       "35.0"
      ]
     },
     "execution_count": 15,
     "metadata": {},
     "output_type": "execute_result"
    }
   ],
   "source": [
    "(82-12)/2"
   ]
  },
  {
   "cell_type": "code",
   "execution_count": 16,
   "metadata": {},
   "outputs": [
    {
     "data": {
      "text/plain": [
       "array([12., 14., 16., 18., 20., 22., 24., 26., 28., 30., 32., 34., 36.,\n",
       "       38., 40., 42., 44., 46., 48., 50., 52., 54., 56., 58., 60., 62.,\n",
       "       64., 66., 68., 70., 72., 74., 76., 78., 80., 82.])"
      ]
     },
     "execution_count": 16,
     "metadata": {},
     "output_type": "execute_result"
    }
   ],
   "source": [
    "# Check\n",
    "np.linspace(12,82,36)"
   ]
  }
 ],
 "metadata": {
  "kernelspec": {
   "display_name": "Python 3",
   "language": "python",
   "name": "python3"
  },
  "language_info": {
   "codemirror_mode": {
    "name": "ipython",
    "version": 3
   },
   "file_extension": ".py",
   "mimetype": "text/x-python",
   "name": "python",
   "nbconvert_exporter": "python",
   "pygments_lexer": "ipython3",
   "version": "3.6.10"
  }
 },
 "nbformat": 4,
 "nbformat_minor": 4
}

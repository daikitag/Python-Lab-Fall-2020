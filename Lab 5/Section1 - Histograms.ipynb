{
 "cells": [
  {
   "cell_type": "markdown",
   "metadata": {},
   "source": [
    "# Python Lab 5"
   ]
  },
  {
   "cell_type": "markdown",
   "metadata": {},
   "source": [
    "## Piazza\n",
    "\n",
    "I decided to post answers to general questions that I receive through email to Piazza. I won't be posting personal questions, but it might be useful to read through the answers/questions to solve the HW problems. Also, please feel free to ask any questions to us. I will be more than welcome to answer any questions that you might have."
   ]
  },
  {
   "cell_type": "markdown",
   "metadata": {},
   "source": [
    "## HW Comments\n",
    "\n",
    "Some of the problems ask you to briefly comment on the results, because it is often important to make interpretations from data visuals. However, I noticed that some of the people are writing paragraphs that summarize the dataset. While you are welcome to do so, you only have to write 1-2 sentences to summarize the results.\n",
    "\n",
    "Some of the students wrote excellent responses on these problems. I might include them to HW solutions as sample solutions without indicating the name of the person. If you don't want me to do so, please indicate it in your solution."
   ]
  },
  {
   "cell_type": "markdown",
   "metadata": {},
   "source": [
    "## The next HW will be due on Oct 28 (Next next Wednesday)\n",
    "\n",
    "Today is going to be the final data visualization lab. It will include more problems than usual (4 problems in total), but it aims to summarize all the things that we did in matplotlib. I will be posting this to Courseworks by Thursday."
   ]
  },
  {
   "cell_type": "markdown",
   "metadata": {},
   "source": [
    "## Next Lab:\n",
    "\n",
    "The next lab is going to focus on introducing the project, and I'm planning to end the class earlier than usual.\n",
    "We are planning to finish the first part of the lab (data visualizations, numpy, pandas) today, and I will assume that you are familiar with these concepts in the second part of the lab (statistical inference) starting from next next Wednesday. If there are some concepts that you are confused with, I will answer all of those questions next week."
   ]
  },
  {
   "cell_type": "markdown",
   "metadata": {},
   "source": [
    "## Today's agenda:\n",
    "\n",
    "- Histograms #1\n",
    "- Histograms #2\n",
    "- Histograms #3\n",
    "- Grouped histograms\n",
    "- Grouped boxplot\n",
    "- COVID-19 Analysis"
   ]
  },
  {
   "cell_type": "markdown",
   "metadata": {},
   "source": [
    "We have three main ways to visualize quantitative data:\n",
    "\n",
    "1. Bar chart\n",
    "2. Histogram\n",
    "3. Box plot\n",
    "\n",
    "While I won't be covering it in the lab, you can create a bar chart that shows the average of the quantitative data (it was asked in HW4). While interpreting average in a bar chart is extremely easy, we are frequently interested in distribution of the data as well. Histograms and box plots are frequently better in these purposes."
   ]
  },
  {
   "cell_type": "markdown",
   "metadata": {},
   "source": [
    "## Histograms"
   ]
  },
  {
   "cell_type": "markdown",
   "metadata": {},
   "source": [
    "Histograms can be easily produced by using the following code:"
   ]
  },
  {
   "cell_type": "markdown",
   "metadata": {},
   "source": [
    "```Python\n",
    "import matplotlib.pyplot as plt\n",
    "\n",
    "fig, axs = plt.subplots(figsize=(12,8))\n",
    "axs.hist(x_value, color=\"SkyBlue\", edgecolor=\"Black\")\n",
    "plt.title(\"Title\", fontsize=20)\n",
    "axs.set_xlabel(\"x element\", fontsize=18)\n",
    "axs.set_ylabel(\"Frequency\", fontsize=18)\n",
    "axs.tick_params(labelsize=15)\n",
    "plt.show()\n",
    "```\n",
    "\n",
    "You specify a list of values in `x_value`. This is the only thing that you have to specify."
   ]
  },
  {
   "cell_type": "markdown",
   "metadata": {},
   "source": [
    "## Import dataset by using Pandas"
   ]
  },
  {
   "cell_type": "code",
   "execution_count": null,
   "metadata": {},
   "outputs": [],
   "source": [
    "import pandas as pd\n",
    "df = pd.read_csv('Data/NHANES.csv')"
   ]
  },
  {
   "cell_type": "markdown",
   "metadata": {},
   "source": [
    "Get the 'Height' column"
   ]
  },
  {
   "cell_type": "code",
   "execution_count": null,
   "metadata": {},
   "outputs": [],
   "source": [
    "height = df['Height'].dropna()"
   ]
  },
  {
   "cell_type": "code",
   "execution_count": null,
   "metadata": {},
   "outputs": [],
   "source": [
    "x_value = height\n",
    "\n",
    "import matplotlib.pyplot as plt\n",
    "\n",
    "fig, axs = plt.subplots(figsize=(12,8))\n",
    "axs.hist(x_value, color=\"SkyBlue\", edgecolor=\"Black\")\n",
    "plt.title(\"Height\", fontsize=20)\n",
    "axs.set_xlabel(\"Height[cm]\", fontsize=18)\n",
    "axs.set_ylabel(\"Frequency\", fontsize=18)\n",
    "axs.tick_params(labelsize=15)\n",
    "plt.show()"
   ]
  },
  {
   "cell_type": "markdown",
   "metadata": {},
   "source": [
    "This might be good, but the bin width is too big. It would be better to set the bin width to be smaller to better visualize the trend in the height data."
   ]
  }
 ],
 "metadata": {
  "kernelspec": {
   "display_name": "Python 3",
   "language": "python",
   "name": "python3"
  },
  "language_info": {
   "codemirror_mode": {
    "name": "ipython",
    "version": 3
   },
   "file_extension": ".py",
   "mimetype": "text/x-python",
   "name": "python",
   "nbconvert_exporter": "python",
   "pygments_lexer": "ipython3",
   "version": "3.6.10"
  }
 },
 "nbformat": 4,
 "nbformat_minor": 4
}

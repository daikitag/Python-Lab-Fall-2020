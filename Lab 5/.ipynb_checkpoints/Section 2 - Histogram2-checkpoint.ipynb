{
 "cells": [
  {
   "cell_type": "markdown",
   "metadata": {},
   "source": [
    "# Section2 - Histogram2 bin width"
   ]
  },
  {
   "cell_type": "markdown",
   "metadata": {},
   "source": [
    "In this notebook, we will be working with manipulating bin widths. Out of many methods that are available, we will be showing the numpy linspace method."
   ]
  },
  {
   "cell_type": "markdown",
   "metadata": {},
   "source": [
    "## numpy.linspace"
   ]
  },
  {
   "cell_type": "code",
   "execution_count": 1,
   "metadata": {},
   "outputs": [],
   "source": [
    "# what is an array? - brief\n",
    "# list vs array\n",
    "# numpy generates arrays"
   ]
  },
  {
   "cell_type": "markdown",
   "metadata": {},
   "source": [
    "`numpy.linspace` is used to return evenly spaced numbers over a specified interval. The function works like:\n",
    "\n",
    "```Python\n",
    "numpy.linspace(start, stop, num=50)\n",
    "```\n",
    "where `start` indicates the place to start, `stop` indicates the place to stop, and `num` indicates number of samples to generate."
   ]
  },
  {
   "cell_type": "code",
   "execution_count": 2,
   "metadata": {},
   "outputs": [],
   "source": [
    "import numpy as np"
   ]
  },
  {
   "cell_type": "markdown",
   "metadata": {},
   "source": [
    "Example 1:"
   ]
  },
  {
   "cell_type": "code",
   "execution_count": 3,
   "metadata": {
    "scrolled": true
   },
   "outputs": [
    {
     "data": {
      "text/plain": [
       "array([ 0.,  5., 10.])"
      ]
     },
     "execution_count": 3,
     "metadata": {},
     "output_type": "execute_result"
    }
   ],
   "source": [
    "np.linspace(0,10,3)"
   ]
  },
  {
   "cell_type": "markdown",
   "metadata": {},
   "source": [
    "Example 2:"
   ]
  },
  {
   "cell_type": "code",
   "execution_count": 4,
   "metadata": {},
   "outputs": [
    {
     "data": {
      "text/plain": [
       "array([ 0.,  5., 10., 15., 20.])"
      ]
     },
     "execution_count": 4,
     "metadata": {},
     "output_type": "execute_result"
    }
   ],
   "source": [
    "np.linspace(0, 20, 5)"
   ]
  },
  {
   "cell_type": "markdown",
   "metadata": {},
   "source": [
    "As you see, `np.linspace()` produces `num-1` spaces between the numbers."
   ]
  },
  {
   "cell_type": "markdown",
   "metadata": {},
   "source": [
    "Remember the code that was used before:"
   ]
  },
  {
   "cell_type": "markdown",
   "metadata": {},
   "source": [
    "```Python\n",
    "import matplotlib.pyplot as plt\n",
    "\n",
    "fig, axs = plt.subplots(figsize=(12,8))\n",
    "axs.hist(x_value, color=\"SkyBlue\", edgecolor=\"Black\")\n",
    "plt.title(\"Title\", fontsize=20)\n",
    "axs.set_xlabel(\"x element\", fontsize=18)\n",
    "axs.set_ylabel(\"Frequency\", fontsize=18)\n",
    "axs.tick_params(labelsize=15)\n",
    "plt.show()\n",
    "```"
   ]
  },
  {
   "cell_type": "markdown",
   "metadata": {},
   "source": [
    "1. Load the dataset"
   ]
  },
  {
   "cell_type": "code",
   "execution_count": 5,
   "metadata": {},
   "outputs": [],
   "source": [
    "import pandas as pd\n",
    "df = pd.read_csv('Data/NHANES.csv')\n",
    "height = df['Height'].dropna()"
   ]
  },
  {
   "cell_type": "code",
   "execution_count": 6,
   "metadata": {},
   "outputs": [
    {
     "data": {
      "image/png": "[encoded data removed]",
      "text/plain": [
       "<Figure size 864x576 with 1 Axes>"
      ]
     },
     "metadata": {
      "needs_background": "light"
     },
     "output_type": "display_data"
    }
   ],
   "source": [
    "import matplotlib.pyplot as plt\n",
    "\n",
    "x_value = height\n",
    "\n",
    "fig, axs = plt.subplots(figsize=(12,8))\n",
    "axs.hist(x_value, color=\"SkyBlue\", edgecolor=\"Black\")\n",
    "plt.title(\"Height\", fontsize=20)\n",
    "axs.set_xlabel(\"Height\", fontsize=18)\n",
    "axs.set_ylabel(\"Frequency\", fontsize=18)\n",
    "axs.tick_params(labelsize=15)\n",
    "plt.show()"
   ]
  },
  {
   "cell_type": "markdown",
   "metadata": {},
   "source": [
    "2. Get max and min height values"
   ]
  },
  {
   "cell_type": "code",
   "execution_count": 7,
   "metadata": {},
   "outputs": [
    {
     "name": "stdout",
     "output_type": "stream",
     "text": [
      "Min height is: 83.6\n",
      "Max height is: 200.4\n"
     ]
    }
   ],
   "source": [
    "print(\"Min height is:\", np.min(height))\n",
    "print(\"Max height is:\", np.max(height))"
   ]
  },
  {
   "cell_type": "markdown",
   "metadata": {},
   "source": [
    "3. Bin width can be changed like:\n",
    "\n",
    "```Python\n",
    "fig, axs = plt.subplots(figsize=(12,8))\n",
    "axs.hist(x_value, color=\"SkyBlue\", edgecolor=\"Black\", bins=x)\n",
    "plt.title(\"Title\", fontsize=20)\n",
    "axs.set_xlabel(\"x element\", fontsize=18)\n",
    "axs.set_ylabel(\"Frequency\", fontsize=18)\n",
    "axs.tick_params(labelsize=15)\n",
    "plt.show()\n",
    "```\n",
    "Here, you specify the value of `x` in `bins`. The histogram bars will start from position `x`, and you specify the list of positions in `x`."
   ]
  },
  {
   "cell_type": "markdown",
   "metadata": {},
   "source": [
    "Example 1:\n",
    "\n",
    "Let's imagine that we would like to have the bin width to be 5cm. We will use the `np.linspace()` here.\n",
    "\n",
    "We know that min=83.8 > 80, max = 200.4 < 205\n",
    "\n",
    "We want to create a list that is 5 distance apart. So, you would like to create [80, 85, 90, 95, ..., 205]\n",
    "\n",
    "I'm sorry, but some math is involved.\n",
    "\n",
    "$$\n",
    "(205 - 80)/5 = 125 / 5 = 25\n",
    "$$\n",
    "\n",
    "This means that you would like to create 25 spaces between, so you should generate (25+1)=26 points between 80 and 205.\n",
    "\n",
    "If we use `np.linspace()`, this will be:"
   ]
  },
  {
   "cell_type": "code",
   "execution_count": 8,
   "metadata": {},
   "outputs": [
    {
     "data": {
      "text/plain": [
       "array([ 80.,  85.,  90.,  95., 100., 105., 110., 115., 120., 125., 130.,\n",
       "       135., 140., 145., 150., 155., 160., 165., 170., 175., 180., 185.,\n",
       "       190., 195., 200., 205.])"
      ]
     },
     "execution_count": 8,
     "metadata": {},
     "output_type": "execute_result"
    }
   ],
   "source": [
    "np.linspace(80, 205, 26)"
   ]
  },
  {
   "cell_type": "markdown",
   "metadata": {},
   "source": [
    "Perfect! Now, we will be using this in the histogram:"
   ]
  },
  {
   "cell_type": "code",
   "execution_count": 9,
   "metadata": {},
   "outputs": [
    {
     "data": {
      "image/png": "[encoded data removed]",
      "text/plain": [
       "<Figure size 864x576 with 1 Axes>"
      ]
     },
     "metadata": {
      "needs_background": "light"
     },
     "output_type": "display_data"
    }
   ],
   "source": [
    "x_value = height\n",
    "\n",
    "fig, axs = plt.subplots(figsize=(12,8))\n",
    "axs.hist(x_value, color=\"SkyBlue\", edgecolor=\"Black\", bins=np.linspace(80,205,26))\n",
    "plt.title(\"Height\", fontsize=20)\n",
    "axs.set_xlabel(\"Height [cm]\", fontsize=18)\n",
    "axs.set_ylabel(\"Frequency\", fontsize=18)\n",
    "axs.tick_params(labelsize=15)\n",
    "plt.show()"
   ]
  },
  {
   "cell_type": "markdown",
   "metadata": {},
   "source": [
    "Looks great! The bins start from 80, 85, 90, ..., 200, which is what we would like to have."
   ]
  },
  {
   "cell_type": "markdown",
   "metadata": {},
   "source": [
    "Example2: 2cm width\n",
    "\n",
    "The start point is 80 and the end point is 202 (Max is 200.4). We must have:\n",
    "\n",
    "$$\n",
    "(202-80)/2 = 122/2 = 61\n",
    "$$\n",
    "61 spaces between 80 and 202. This indicates that we should have (61+1)=62 points between 80 and 202, so `np.linspace(80,202,62)` should do our job. Let's check:"
   ]
  },
  {
   "cell_type": "code",
   "execution_count": 10,
   "metadata": {},
   "outputs": [
    {
     "data": {
      "text/plain": [
       "array([ 80.,  82.,  84.,  86.,  88.,  90.,  92.,  94.,  96.,  98., 100.,\n",
       "       102., 104., 106., 108., 110., 112., 114., 116., 118., 120., 122.,\n",
       "       124., 126., 128., 130., 132., 134., 136., 138., 140., 142., 144.,\n",
       "       146., 148., 150., 152., 154., 156., 158., 160., 162., 164., 166.,\n",
       "       168., 170., 172., 174., 176., 178., 180., 182., 184., 186., 188.,\n",
       "       190., 192., 194., 196., 198., 200., 202.])"
      ]
     },
     "execution_count": 10,
     "metadata": {},
     "output_type": "execute_result"
    }
   ],
   "source": [
    "np.linspace(80,202,62)"
   ]
  },
  {
   "cell_type": "markdown",
   "metadata": {},
   "source": [
    "Looks great. We will be using this in the histogram:"
   ]
  },
  {
   "cell_type": "code",
   "execution_count": 16,
   "metadata": {},
   "outputs": [
    {
     "data": {
      "image/png": "[encoded data removed]",
      "text/plain": [
       "<Figure size 864x576 with 1 Axes>"
      ]
     },
     "metadata": {
      "needs_background": "light"
     },
     "output_type": "display_data"
    }
   ],
   "source": [
    "x_value = height\n",
    "\n",
    "fig, axs = plt.subplots(figsize=(12,8))\n",
    "axs.hist(x_value, color=\"SkyBlue\", edgecolor=\"Black\", bins=np.linspace(80,202,62))\n",
    "plt.title(\"Height\", fontsize=20)\n",
    "axs.set_xlabel(\"Height [cm]\", fontsize=18)\n",
    "axs.set_ylabel(\"Frequency\", fontsize=18)\n",
    "axs.tick_params(labelsize=15)\n",
    "plt.show()"
   ]
  },
  {
   "cell_type": "markdown",
   "metadata": {},
   "source": [
    "The bars start from 80, 82, 84, ... like what we want. Compare this with the original histogram. We could understand more information about distributions from this compared to the original one."
   ]
  }
 ],
 "metadata": {
  "kernelspec": {
   "display_name": "Python 3",
   "language": "python",
   "name": "python3"
  },
  "language_info": {
   "codemirror_mode": {
    "name": "ipython",
    "version": 3
   },
   "file_extension": ".py",
   "mimetype": "text/x-python",
   "name": "python",
   "nbconvert_exporter": "python",
   "pygments_lexer": "ipython3",
   "version": "3.6.10"
  }
 },
 "nbformat": 4,
 "nbformat_minor": 4
}

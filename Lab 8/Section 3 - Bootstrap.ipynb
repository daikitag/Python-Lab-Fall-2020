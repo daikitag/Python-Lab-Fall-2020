{
 "cells": [
  {
   "cell_type": "markdown",
   "metadata": {},
   "source": [
    "# Bootstrap"
   ]
  },
  {
   "cell_type": "markdown",
   "metadata": {},
   "source": [
    "What is bootstrap and why is it useful?\n",
    "\n",
    "<img src = \"Image/bootstrap.png\" width=500>"
   ]
  },
  {
   "cell_type": "markdown",
   "metadata": {},
   "source": [
    "```Python\n",
    "np.random.choice(a, size=n, replace=True)\n",
    "```\n",
    "Can get a sample of size `n` from the data `a` with replacement."
   ]
  },
  {
   "cell_type": "code",
   "execution_count": 1,
   "metadata": {},
   "outputs": [],
   "source": [
    "import numpy as np\n",
    "data1 = [1, 2, 3, 4, 5]"
   ]
  },
  {
   "cell_type": "code",
   "execution_count": 2,
   "metadata": {},
   "outputs": [
    {
     "name": "stdout",
     "output_type": "stream",
     "text": [
      "[2 3 5 1 1]\n"
     ]
    }
   ],
   "source": [
    "bootstrap = np.random.choice(data1, size=5, replace=True)\n",
    "print(bootstrap)"
   ]
  },
  {
   "cell_type": "markdown",
   "metadata": {},
   "source": [
    "While it is possible to conduct a bootstrap to a given data, we will simulate 30 points from a standard normal distribution, just like what it was given in the lecture. The following code can simulate a normal distribution with mean $\\mu$ and standard deviation $\\sigma$. `s` defines the number of points:\n",
    "\n",
    "```Python\n",
    "np.random.normal(mu, sigma, s)\n",
    "```\n",
    "\n",
    "Here, `np` is numpy, not random package. Recall that a standard normal distribution is a special name for a normal distribution with mean 0 and variance 1:"
   ]
  },
  {
   "cell_type": "code",
   "execution_count": 15,
   "metadata": {},
   "outputs": [],
   "source": [
    "import numpy as np\n",
    "data = np.random.normal(0,1,30)"
   ]
  },
  {
   "cell_type": "code",
   "execution_count": 16,
   "metadata": {},
   "outputs": [
    {
     "data": {
      "text/plain": [
       "array([ 1.17071311,  0.05737849,  1.07511377,  1.02425346,  0.14623596,\n",
       "        1.3045562 , -1.67842325, -0.87865378,  0.443375  ,  0.45468204,\n",
       "        0.44948077, -0.16534131,  1.4761861 ,  0.12489015, -0.90714889,\n",
       "       -0.09295929,  0.38031336,  0.14755609,  0.14882601, -0.88156826,\n",
       "        0.88740688,  0.94500296, -0.9237412 , -0.27231032,  1.4384448 ,\n",
       "        0.24376722, -2.30329386,  0.3764786 ,  1.30944381,  0.36088194])"
      ]
     },
     "execution_count": 16,
     "metadata": {},
     "output_type": "execute_result"
    }
   ],
   "source": [
    "data"
   ]
  },
  {
   "cell_type": "code",
   "execution_count": 17,
   "metadata": {},
   "outputs": [
    {
     "data": {
      "text/plain": [
       "0.19538488479121266"
      ]
     },
     "execution_count": 17,
     "metadata": {},
     "output_type": "execute_result"
    }
   ],
   "source": [
    "np.mean(data)"
   ]
  },
  {
   "cell_type": "markdown",
   "metadata": {},
   "source": [
    "I have a question to the class. Is the expectation of the mean of this new data 0 or the sample average of the 30 points?\n",
    "\n",
    "(a) 0\n",
    "\n",
    "(b) Sample average"
   ]
  },
  {
   "cell_type": "code",
   "execution_count": 32,
   "metadata": {},
   "outputs": [],
   "source": [
    "means = []\n",
    "for i in range(100000):\n",
    "    boot = np.random.choice(data, size=30, replace=True)\n",
    "    average = np.mean(boot)\n",
    "    means.append(average)"
   ]
  },
  {
   "cell_type": "code",
   "execution_count": 33,
   "metadata": {},
   "outputs": [
    {
     "name": "stdout",
     "output_type": "stream",
     "text": [
      "Max: 0.8551593607742723\n",
      "Min: -0.6193914211941224\n"
     ]
    }
   ],
   "source": [
    "print(\"Max:\", np.max(means))\n",
    "print(\"Min:\", np.min(means))"
   ]
  },
  {
   "cell_type": "markdown",
   "metadata": {},
   "source": [
    "I want to create even points from -1 to 1 with length = 0.05:\n",
    "\n",
    "$$\n",
    "(1-(-1))/0.1 = 2/0.05 = 40\n",
    "$$"
   ]
  },
  {
   "cell_type": "code",
   "execution_count": 34,
   "metadata": {},
   "outputs": [
    {
     "data": {
      "text/plain": [
       "0.19474931496358472"
      ]
     },
     "execution_count": 34,
     "metadata": {},
     "output_type": "execute_result"
    }
   ],
   "source": [
    "np.mean(means)"
   ]
  },
  {
   "cell_type": "code",
   "execution_count": 35,
   "metadata": {},
   "outputs": [
    {
     "data": {
      "image/png": "[encoded data removed]",
      "text/plain": [
       "<Figure size 864x576 with 1 Axes>"
      ]
     },
     "metadata": {
      "needs_background": "light"
     },
     "output_type": "display_data"
    }
   ],
   "source": [
    "import matplotlib.pyplot as plt\n",
    "fig, axs = plt.subplots(figsize=(12,8))\n",
    "axs.hist(means, color=\"SkyBlue\", edgecolor=\"Black\", bins=np.linspace(-1,1,40))\n",
    "plt.title(\"Histogram of Bootstrapped Means\", fontsize=20)\n",
    "axs.set_xlabel(\"Mean\", fontsize=18)\n",
    "axs.set_ylabel(\"Frequency\", fontsize=18)\n",
    "axs.tick_params(labelsize=15)\n",
    "plt.show()"
   ]
  },
  {
   "cell_type": "markdown",
   "metadata": {},
   "source": [
    "The 95\\% confidence interval can be determined by finding out the 2.5th percentile and 97.5th percentile of the bootstrapped means (95\\% of the bootstrapped means are included in this region):"
   ]
  },
  {
   "cell_type": "code",
   "execution_count": 39,
   "metadata": {},
   "outputs": [
    {
     "name": "stdout",
     "output_type": "stream",
     "text": [
      "95% CI from bootstrap method is: (-0.13938685722621785, 0.5087604971025446)\n"
     ]
    }
   ],
   "source": [
    "q1 = np.percentile(means, 2.5, interpolation='midpoint')\n",
    "q3 = np.percentile(means, 97.5, interpolation='midpoint')\n",
    "\n",
    "print(\"95% CI from bootstrap method is:\", \"({}, {})\".format(q1,q3))"
   ]
  },
  {
   "cell_type": "markdown",
   "metadata": {},
   "source": [
    "95\\% CI of mean can be determined by:\n",
    "\n",
    "$$\n",
    "\\bar{X}\\pm1.96\\cdot SE(\\bar{X})\n",
    "$$\n",
    "where\n",
    "$$\n",
    "SE(\\bar{X}) = \\frac{SD(X)}{\\sqrt{n}}\n",
    "$$"
   ]
  },
  {
   "cell_type": "code",
   "execution_count": 40,
   "metadata": {},
   "outputs": [],
   "source": [
    "se = np.std(data) / np.sqrt(30)"
   ]
  },
  {
   "cell_type": "code",
   "execution_count": 41,
   "metadata": {},
   "outputs": [
    {
     "name": "stdout",
     "output_type": "stream",
     "text": [
      "95% CI of mean is: (-0.1273310150357053, 0.5181007846181306)\n"
     ]
    }
   ],
   "source": [
    "low = np.mean(data) - 1.96*se\n",
    "up = np.mean(data) + 1.96*se\n",
    "\n",
    "print(\"95% CI of mean is:\", \"({}, {})\".format(low,up))"
   ]
  },
  {
   "cell_type": "markdown",
   "metadata": {},
   "source": [
    "The biggest advantage of using bootstrap is the fact that you don't need any mathematical knowledge to compute the 95\\% CI. Now, let's compute the 95\\% CI of variance:"
   ]
  },
  {
   "cell_type": "code",
   "execution_count": 43,
   "metadata": {},
   "outputs": [
    {
     "data": {
      "text/plain": [
       "0.8132982507374324"
      ]
     },
     "execution_count": 43,
     "metadata": {},
     "output_type": "execute_result"
    }
   ],
   "source": [
    "np.var(data)"
   ]
  },
  {
   "cell_type": "code",
   "execution_count": 44,
   "metadata": {},
   "outputs": [],
   "source": [
    "variance = []\n",
    "for i in range(100000):\n",
    "    boot = np.random.choice(data, size=30, replace=True)\n",
    "    var = np.var(boot)\n",
    "    variance.append(var)"
   ]
  },
  {
   "cell_type": "code",
   "execution_count": 47,
   "metadata": {},
   "outputs": [
    {
     "data": {
      "image/png": "[encoded data removed]",
      "text/plain": [
       "<Figure size 864x576 with 1 Axes>"
      ]
     },
     "metadata": {
      "needs_background": "light"
     },
     "output_type": "display_data"
    }
   ],
   "source": [
    "import matplotlib.pyplot as plt\n",
    "fig, axs = plt.subplots(figsize=(12,8))\n",
    "axs.hist(variance, color=\"SkyBlue\", edgecolor=\"Black\", bins=np.linspace(0,2,40))\n",
    "plt.title(\"Histogram of Bootstrapped Variances\", fontsize=20)\n",
    "axs.set_xlabel(\"Variance\", fontsize=18)\n",
    "axs.set_ylabel(\"Frequency\", fontsize=18)\n",
    "axs.tick_params(labelsize=15)\n",
    "plt.show()"
   ]
  },
  {
   "cell_type": "code",
   "execution_count": 48,
   "metadata": {},
   "outputs": [
    {
     "name": "stdout",
     "output_type": "stream",
     "text": [
      "95% CI from bootstrap method is: (0.3880678625574163, 1.2672634091441877)\n"
     ]
    }
   ],
   "source": [
    "q1 = np.percentile(variance, 2.5, interpolation='midpoint')\n",
    "q3 = np.percentile(variance, 97.5, interpolation='midpoint')\n",
    "\n",
    "print(\"95% CI from bootstrap method is:\", \"({}, {})\".format(q1,q3))"
   ]
  },
  {
   "cell_type": "markdown",
   "metadata": {},
   "source": [
    "Generally, it is impossible to figure out the 95\\% CI of variance analytically. However, we can use bootstrap to estimate CI of parameters from the data.\n",
    "\n",
    "We will be covering more details about CI in the next lab, but in the next section, I hope I can introduce Central Limit Theorem, which is one of the most important theorems in statistics."
   ]
  }
 ],
 "metadata": {
  "kernelspec": {
   "display_name": "Python 3",
   "language": "python",
   "name": "python3"
  },
  "language_info": {
   "codemirror_mode": {
    "name": "ipython",
    "version": 3
   },
   "file_extension": ".py",
   "mimetype": "text/x-python",
   "name": "python",
   "nbconvert_exporter": "python",
   "pygments_lexer": "ipython3",
   "version": "3.6.12"
  }
 },
 "nbformat": 4,
 "nbformat_minor": 4
}

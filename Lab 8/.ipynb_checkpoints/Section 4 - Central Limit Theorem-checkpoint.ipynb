{
 "cells": [
  {
   "cell_type": "markdown",
   "metadata": {},
   "source": [
    "# Central Limit Theorem"
   ]
  },
  {
   "cell_type": "markdown",
   "metadata": {},
   "source": [
    "What is central limit theorem?\n",
    "\n",
    "Formal Definition:\n",
    "\n",
    "Let $X_i$ be iid with $E(X_i)=\\mu$ and $Var(X_i)=\\sigma^2<\\infty$. Then, $\\sqrt{n}(X_i-\\mu)/\\sigma$ tends to the standard normal distribution $N(0,1)$.\n",
    "\n",
    "In simple words:\n",
    "\n",
    "Central limit theorem states that the sample average follows a normal distribution with expectation $\\mu$ and variance $\\sigma^2/n$"
   ]
  },
  {
   "cell_type": "code",
   "execution_count": 16,
   "metadata": {},
   "outputs": [],
   "source": [
    "import pandas as pd\n",
    "import numpy as np\n",
    "import matplotlib.pyplot as plt"
   ]
  },
  {
   "cell_type": "code",
   "execution_count": 4,
   "metadata": {},
   "outputs": [],
   "source": [
    "data = pd.read_csv('Data/Salaries.csv')"
   ]
  },
  {
   "cell_type": "markdown",
   "metadata": {},
   "source": [
    "This data represents salaries in San Francisco City from 2011-2014"
   ]
  },
  {
   "cell_type": "code",
   "execution_count": 5,
   "metadata": {},
   "outputs": [
    {
     "data": {
      "text/html": [
       "<div>\n",
       "<style scoped>\n",
       "    .dataframe tbody tr th:only-of-type {\n",
       "        vertical-align: middle;\n",
       "    }\n",
       "\n",
       "    .dataframe tbody tr th {\n",
       "        vertical-align: top;\n",
       "    }\n",
       "\n",
       "    .dataframe thead th {\n",
       "        text-align: right;\n",
       "    }\n",
       "</style>\n",
       "<table border=\"1\" class=\"dataframe\">\n",
       "  <thead>\n",
       "    <tr style=\"text-align: right;\">\n",
       "      <th></th>\n",
       "      <th>Id</th>\n",
       "      <th>EmployeeName</th>\n",
       "      <th>JobTitle</th>\n",
       "      <th>BasePay</th>\n",
       "      <th>OvertimePay</th>\n",
       "      <th>OtherPay</th>\n",
       "      <th>Benefits</th>\n",
       "      <th>TotalPay</th>\n",
       "      <th>TotalPayBenefits</th>\n",
       "      <th>Year</th>\n",
       "      <th>Notes</th>\n",
       "      <th>Agency</th>\n",
       "      <th>Status</th>\n",
       "    </tr>\n",
       "  </thead>\n",
       "  <tbody>\n",
       "    <tr>\n",
       "      <th>0</th>\n",
       "      <td>1</td>\n",
       "      <td>NATHANIEL FORD</td>\n",
       "      <td>GENERAL MANAGER-METROPOLITAN TRANSIT AUTHORITY</td>\n",
       "      <td>167411</td>\n",
       "      <td>0</td>\n",
       "      <td>400184</td>\n",
       "      <td>NaN</td>\n",
       "      <td>567595.43</td>\n",
       "      <td>567595.43</td>\n",
       "      <td>2011</td>\n",
       "      <td>NaN</td>\n",
       "      <td>San Francisco</td>\n",
       "      <td>NaN</td>\n",
       "    </tr>\n",
       "    <tr>\n",
       "      <th>1</th>\n",
       "      <td>2</td>\n",
       "      <td>GARY JIMENEZ</td>\n",
       "      <td>CAPTAIN III (POLICE DEPARTMENT)</td>\n",
       "      <td>155966</td>\n",
       "      <td>245132</td>\n",
       "      <td>137811</td>\n",
       "      <td>NaN</td>\n",
       "      <td>538909.28</td>\n",
       "      <td>538909.28</td>\n",
       "      <td>2011</td>\n",
       "      <td>NaN</td>\n",
       "      <td>San Francisco</td>\n",
       "      <td>NaN</td>\n",
       "    </tr>\n",
       "    <tr>\n",
       "      <th>2</th>\n",
       "      <td>3</td>\n",
       "      <td>ALBERT PARDINI</td>\n",
       "      <td>CAPTAIN III (POLICE DEPARTMENT)</td>\n",
       "      <td>212739</td>\n",
       "      <td>106088</td>\n",
       "      <td>16452.6</td>\n",
       "      <td>NaN</td>\n",
       "      <td>335279.91</td>\n",
       "      <td>335279.91</td>\n",
       "      <td>2011</td>\n",
       "      <td>NaN</td>\n",
       "      <td>San Francisco</td>\n",
       "      <td>NaN</td>\n",
       "    </tr>\n",
       "    <tr>\n",
       "      <th>3</th>\n",
       "      <td>4</td>\n",
       "      <td>CHRISTOPHER CHONG</td>\n",
       "      <td>WIRE ROPE CABLE MAINTENANCE MECHANIC</td>\n",
       "      <td>77916</td>\n",
       "      <td>56120.7</td>\n",
       "      <td>198307</td>\n",
       "      <td>NaN</td>\n",
       "      <td>332343.61</td>\n",
       "      <td>332343.61</td>\n",
       "      <td>2011</td>\n",
       "      <td>NaN</td>\n",
       "      <td>San Francisco</td>\n",
       "      <td>NaN</td>\n",
       "    </tr>\n",
       "    <tr>\n",
       "      <th>4</th>\n",
       "      <td>5</td>\n",
       "      <td>PATRICK GARDNER</td>\n",
       "      <td>DEPUTY CHIEF OF DEPARTMENT,(FIRE DEPARTMENT)</td>\n",
       "      <td>134402</td>\n",
       "      <td>9737</td>\n",
       "      <td>182235</td>\n",
       "      <td>NaN</td>\n",
       "      <td>326373.19</td>\n",
       "      <td>326373.19</td>\n",
       "      <td>2011</td>\n",
       "      <td>NaN</td>\n",
       "      <td>San Francisco</td>\n",
       "      <td>NaN</td>\n",
       "    </tr>\n",
       "  </tbody>\n",
       "</table>\n",
       "</div>"
      ],
      "text/plain": [
       "   Id       EmployeeName                                        JobTitle  \\\n",
       "0   1     NATHANIEL FORD  GENERAL MANAGER-METROPOLITAN TRANSIT AUTHORITY   \n",
       "1   2       GARY JIMENEZ                 CAPTAIN III (POLICE DEPARTMENT)   \n",
       "2   3     ALBERT PARDINI                 CAPTAIN III (POLICE DEPARTMENT)   \n",
       "3   4  CHRISTOPHER CHONG            WIRE ROPE CABLE MAINTENANCE MECHANIC   \n",
       "4   5    PATRICK GARDNER    DEPUTY CHIEF OF DEPARTMENT,(FIRE DEPARTMENT)   \n",
       "\n",
       "  BasePay OvertimePay OtherPay Benefits   TotalPay  TotalPayBenefits  Year  \\\n",
       "0  167411           0   400184      NaN  567595.43         567595.43  2011   \n",
       "1  155966      245132   137811      NaN  538909.28         538909.28  2011   \n",
       "2  212739      106088  16452.6      NaN  335279.91         335279.91  2011   \n",
       "3   77916     56120.7   198307      NaN  332343.61         332343.61  2011   \n",
       "4  134402        9737   182235      NaN  326373.19         326373.19  2011   \n",
       "\n",
       "   Notes         Agency Status  \n",
       "0    NaN  San Francisco    NaN  \n",
       "1    NaN  San Francisco    NaN  \n",
       "2    NaN  San Francisco    NaN  \n",
       "3    NaN  San Francisco    NaN  \n",
       "4    NaN  San Francisco    NaN  "
      ]
     },
     "execution_count": 5,
     "metadata": {},
     "output_type": "execute_result"
    }
   ],
   "source": [
    "data.head()"
   ]
  },
  {
   "cell_type": "code",
   "execution_count": 7,
   "metadata": {},
   "outputs": [],
   "source": [
    "income = data['TotalPay'].dropna()"
   ]
  },
  {
   "cell_type": "markdown",
   "metadata": {},
   "source": [
    "Remember the following code from Lab 5:\n",
    "\n",
    "```Python\n",
    "fig, axs = plt.subplots(figsize=(12,8))\n",
    "axs.hist(x_value, color=\"SkyBlue\", edgecolor=\"Black\")\n",
    "plt.title(\"Title\", fontsize=20)\n",
    "axs.set_xlabel(\"x element\", fontsize=18)\n",
    "axs.set_ylabel(\"Frequency\", fontsize=18)\n",
    "axs.tick_params(labelsize=15)\n",
    "plt.show()\n",
    "```"
   ]
  },
  {
   "cell_type": "code",
   "execution_count": 12,
   "metadata": {},
   "outputs": [
    {
     "data": {
      "image/png": "[encoded data removed]",
      "text/plain": [
       "<Figure size 864x576 with 1 Axes>"
      ]
     },
     "metadata": {
      "needs_background": "light"
     },
     "output_type": "display_data"
    }
   ],
   "source": [
    "fig, axs = plt.subplots(figsize=(12,8))\n",
    "axs.hist(income, color=\"SkyBlue\", edgecolor=\"Black\", bins=100)\n",
    "# I can set a number to the bins argument instead of np.linspace() to set the number of bins\n",
    "plt.title(\"Income Distribution in San Francisco City\", fontsize=20)\n",
    "axs.axvline(x = np.mean(income), color='r')\n",
    "axs.set_xlabel(\"Income\", fontsize=18)\n",
    "axs.set_ylabel(\"Frequency\", fontsize=18)\n",
    "axs.tick_params(labelsize=15)\n",
    "plt.show()"
   ]
  },
  {
   "cell_type": "code",
   "execution_count": 11,
   "metadata": {},
   "outputs": [
    {
     "data": {
      "text/plain": [
       "74768.82910206994"
      ]
     },
     "execution_count": 11,
     "metadata": {},
     "output_type": "execute_result"
    }
   ],
   "source": [
    "np.mean(income)"
   ]
  },
  {
   "cell_type": "markdown",
   "metadata": {},
   "source": [
    "The red line represents the mean income."
   ]
  },
  {
   "cell_type": "code",
   "execution_count": 18,
   "metadata": {},
   "outputs": [
    {
     "name": "stdout",
     "output_type": "stream",
     "text": [
      "Number of people:  148653\n",
      "Mean:  74768.82910206994\n",
      "Median:  71427.04\n",
      "Maximum:  567595.43\n"
     ]
    }
   ],
   "source": [
    "print('Number of people: ', len(income))\n",
    "print('Mean: ', np.mean(income))\n",
    "print('Median: ', np.median(income))\n",
    "print('Maximum: ', np.max(income))"
   ]
  },
  {
   "cell_type": "markdown",
   "metadata": {},
   "source": [
    "The mean is greater than the median, which suggests that the data is skewed."
   ]
  },
  {
   "cell_type": "markdown",
   "metadata": {},
   "source": [
    "Let's treat this data to be the population. We will use this dataset for visualizing central limit theorem.\n",
    "\n",
    "We will use:\n",
    "\n",
    "```Python\n",
    "np.random.choice(a, size=n, replace=False)\n",
    "```\n",
    "because we would like to take a simple random sample from the dataset."
   ]
  },
  {
   "cell_type": "code",
   "execution_count": 88,
   "metadata": {},
   "outputs": [],
   "source": [
    "means = []\n",
    "\n",
    "for i in range(5000):\n",
    "    a = np.random.choice(income, size = 100, replace=False)\n",
    "    means.append(np.mean(a))"
   ]
  },
  {
   "cell_type": "code",
   "execution_count": 89,
   "metadata": {},
   "outputs": [
    {
     "data": {
      "image/png": "[encoded data removed]",
      "text/plain": [
       "<Figure size 864x576 with 1 Axes>"
      ]
     },
     "metadata": {
      "needs_background": "light"
     },
     "output_type": "display_data"
    }
   ],
   "source": [
    "fig, axs = plt.subplots(figsize=(12,8))\n",
    "axs.hist(means, color=\"SkyBlue\", edgecolor=\"Black\", bins=100)\n",
    "# I can set a number to the bins argument instead of np.linspace() to set the number of bins\n",
    "plt.title(\"Income Mean Distribution\", fontsize=20)\n",
    "axs.axvline(x = np.mean(income), color='r')\n",
    "axs.set_xlabel(\"Income\", fontsize=18)\n",
    "axs.set_ylabel(\"Frequency\", fontsize=18)\n",
    "axs.tick_params(labelsize=15)\n",
    "plt.show()"
   ]
  },
  {
   "cell_type": "markdown",
   "metadata": {},
   "source": [
    "Compare this plot with the previous one. It is clear to see that this plot looks normal, even though the original data was skewed."
   ]
  },
  {
   "cell_type": "markdown",
   "metadata": {},
   "source": [
    "Let's visualize the standard error. Standard error is the standard deviation of the statistic (sample average in this case), and we can prove that:\n",
    "\n",
    "$$\n",
    "Var(\\bar{X}) = Var\\left(\\frac{\\sum_{i=1}^nX_i}{n} \\right) = \\frac{1}{n^2}n\\cdot Var(X) = \\frac{\\sigma^2}{n}\n",
    "$$\n",
    "This follows from the fact that all $X_i$'s are \n",
    "Since we don't know the exact value of $\\sigma^2$, we estimate it by using $s^s$, which is the sample variance. This leads us to the formula:\n",
    "$$\n",
    "SE(\\bar{X}) = \\frac{s}{\\sqrt{n}}\n",
    "$$"
   ]
  },
  {
   "cell_type": "markdown",
   "metadata": {},
   "source": [
    "However, in this problm, we know the exact value of $\\sigma^2$, because the entire population is all the people in the dataset, so $\\sigma^2$ can be easily determined by using: `np.var(income)`."
   ]
  },
  {
   "cell_type": "markdown",
   "metadata": {},
   "source": [
    "The sample size is 100, as we randomly took 100 samples from the original data to get the sample average. The standard error of the means can be determined by using the following equation:"
   ]
  },
  {
   "cell_type": "code",
   "execution_count": 90,
   "metadata": {},
   "outputs": [
    {
     "name": "stdout",
     "output_type": "stream",
     "text": [
      "Population std is: 50516.626875032634\n",
      "Standard Error is: 5051.662687503263\n"
     ]
    }
   ],
   "source": [
    "std = np.std(income)\n",
    "print(\"Population std is:\", std)\n",
    "se = std/np.sqrt(100)\n",
    "print(\"Standard Error is:\", se)"
   ]
  },
  {
   "cell_type": "markdown",
   "metadata": {},
   "source": [
    "Let's compare it with the simulated means:"
   ]
  },
  {
   "cell_type": "code",
   "execution_count": 91,
   "metadata": {},
   "outputs": [
    {
     "name": "stdout",
     "output_type": "stream",
     "text": [
      "std of simulated means is: 5124.817065995966\n"
     ]
    }
   ],
   "source": [
    "sample_sd = np.std(means)\n",
    "print(\"std of simulated means is:\", sample_sd)"
   ]
  },
  {
   "cell_type": "markdown",
   "metadata": {},
   "source": [
    "As you see, the standard error and the standard deviation of the means are extremely close.\n",
    "\n",
    "As a next step, we will see the mean:"
   ]
  },
  {
   "cell_type": "code",
   "execution_count": 92,
   "metadata": {},
   "outputs": [
    {
     "name": "stdout",
     "output_type": "stream",
     "text": [
      "Population mean is: 74768.82910206994\n",
      "Mean of the simulated means is: 74789.37097147999\n"
     ]
    }
   ],
   "source": [
    "print(\"Population mean is:\", np.mean(income))\n",
    "print(\"Mean of the simulated means is:\", np.mean(means))"
   ]
  },
  {
   "cell_type": "markdown",
   "metadata": {},
   "source": [
    "They are very close as well. Now, we will try to see if the data follows a normal distribution.\n",
    "\n",
    "While there are statistical analsis that enables us to prove whether the data follows a normal distribution, we will use the following to check the result:"
   ]
  },
  {
   "cell_type": "markdown",
   "metadata": {},
   "source": [
    "Remember from the lecture:\n",
    "\n",
    "<img src='Image/central.png' width=400>"
   ]
  },
  {
   "cell_type": "markdown",
   "metadata": {},
   "source": [
    "Now, let's see how the sample average is located around the standard error:"
   ]
  },
  {
   "cell_type": "code",
   "execution_count": 31,
   "metadata": {},
   "outputs": [
    {
     "data": {
      "image/png": "[encoded data removed]",
      "text/plain": [
       "<Figure size 864x576 with 1 Axes>"
      ]
     },
     "metadata": {
      "needs_background": "light"
     },
     "output_type": "display_data"
    }
   ],
   "source": [
    "fig, axs = plt.subplots(figsize=(12,8))\n",
    "axs.hist(means, color=\"SkyBlue\", edgecolor=\"Black\", bins=100)\n",
    "# I can set a number to the bins argument instead of np.linspace() to set the number of bins\n",
    "plt.title(\"Income Mean Distribution\", fontsize=20)\n",
    "axs.axvline(x = np.mean(income), color='r')\n",
    "axs.axvline(x = np.mean(income)-se, color='r', ls='--')\n",
    "axs.axvline(x = np.mean(income)+se, color='r', ls='--')\n",
    "axs.set_xlabel(\"Income\", fontsize=18)\n",
    "axs.set_ylabel(\"Frequency\", fontsize=18)\n",
    "axs.tick_params(labelsize=15)\n",
    "plt.show()"
   ]
  },
  {
   "cell_type": "markdown",
   "metadata": {},
   "source": [
    "Let's examine how many of them are located in this region:"
   ]
  },
  {
   "cell_type": "code",
   "execution_count": 36,
   "metadata": {},
   "outputs": [],
   "source": [
    "low = np.mean(income) - se\n",
    "up = np.mean(income) + se"
   ]
  },
  {
   "cell_type": "code",
   "execution_count": 38,
   "metadata": {},
   "outputs": [
    {
     "name": "stdout",
     "output_type": "stream",
     "text": [
      "0.6771\n"
     ]
    }
   ],
   "source": [
    "count = 0\n",
    "for i in range(len(means)):\n",
    "    if means[i]>low and means[i] < up:\n",
    "        count += 1\n",
    "print(count / len(means))"
   ]
  },
  {
   "cell_type": "markdown",
   "metadata": {},
   "source": [
    "Approximately 68\\% of means fall within +/- 1 standard deviation."
   ]
  },
  {
   "cell_type": "code",
   "execution_count": 40,
   "metadata": {},
   "outputs": [],
   "source": [
    "low = np.mean(income) - 2*se\n",
    "up = np.mean(income) + 2*se"
   ]
  },
  {
   "cell_type": "code",
   "execution_count": 41,
   "metadata": {},
   "outputs": [
    {
     "name": "stdout",
     "output_type": "stream",
     "text": [
      "0.956\n"
     ]
    }
   ],
   "source": [
    "count = 0\n",
    "for i in range(len(means)):\n",
    "    if means[i]>low and means[i] < up:\n",
    "        count += 1\n",
    "print(count / len(means))"
   ]
  },
  {
   "cell_type": "markdown",
   "metadata": {},
   "source": [
    "Approximately 95\\% of means fall within +/- 2 standard deviation. This shows that the data follows a normal distribution."
   ]
  },
  {
   "cell_type": "markdown",
   "metadata": {},
   "source": [
    "Now, I want to show one more important thing:"
   ]
  },
  {
   "cell_type": "code",
   "execution_count": 43,
   "metadata": {},
   "outputs": [
    {
     "name": "stdout",
     "output_type": "stream",
     "text": [
      "0\n"
     ]
    }
   ],
   "source": [
    "mean = np.mean(income)\n",
    "\n",
    "count = 0\n",
    "for i in range(len(means)):\n",
    "    if means[i]==mean:\n",
    "        count += 1\n",
    "print(count)"
   ]
  },
  {
   "cell_type": "markdown",
   "metadata": {},
   "source": [
    "As you see, NONE of the means from the original data have exactly the same mean as the original data. This is an important fact to note. Even if I take a simple random sample from the dataset, it would be nearly impossible to get an exact estimate of the population mean. Therefore, we should always report 95\\% CI, which we will cover in the next lab."
   ]
  },
  {
   "cell_type": "markdown",
   "metadata": {},
   "source": [
    "Remember that:\n",
    "$$\n",
    "SE(\\bar{X}) = \\frac{s}{\\sqrt{n}}\n",
    "$$\n",
    "We will change the value of n to illustrate how the mean distribution will change:"
   ]
  },
  {
   "cell_type": "markdown",
   "metadata": {},
   "source": [
    "We will change the number of samples\n",
    "\n",
    "1. Sample size = 10\n",
    "2. Sample size = 50\n",
    "3. Sample size = 100\n",
    "4. Sample size = 500\n",
    "5. Sample size = 1000"
   ]
  },
  {
   "cell_type": "code",
   "execution_count": 77,
   "metadata": {},
   "outputs": [],
   "source": [
    "means10 = []\n",
    "\n",
    "for i in range(1000):\n",
    "    a = np.random.choice(income, size = 10, replace=False)\n",
    "    means10.append(np.mean(a))"
   ]
  },
  {
   "cell_type": "code",
   "execution_count": 78,
   "metadata": {},
   "outputs": [],
   "source": [
    "means50 = []\n",
    "\n",
    "for i in range(1000):\n",
    "    a = np.random.choice(income, size = 50, replace=False)\n",
    "    means50.append(np.mean(a))"
   ]
  },
  {
   "cell_type": "code",
   "execution_count": 79,
   "metadata": {},
   "outputs": [],
   "source": [
    "means100 = []\n",
    "\n",
    "for i in range(1000):\n",
    "    a = np.random.choice(income, size = 100, replace=False)\n",
    "    means100.append(np.mean(a))"
   ]
  },
  {
   "cell_type": "code",
   "execution_count": 80,
   "metadata": {},
   "outputs": [],
   "source": [
    "means500 = []\n",
    "\n",
    "for i in range(1000):\n",
    "    a = np.random.choice(income, size = 500, replace=False)\n",
    "    means500.append(np.mean(a))"
   ]
  },
  {
   "cell_type": "code",
   "execution_count": 81,
   "metadata": {},
   "outputs": [],
   "source": [
    "means1000 = []\n",
    "\n",
    "for i in range(1000):\n",
    "    a = np.random.choice(income, size = 1000, replace=False)\n",
    "    means1000.append(np.mean(a))"
   ]
  },
  {
   "cell_type": "code",
   "execution_count": 82,
   "metadata": {},
   "outputs": [
    {
     "data": {
      "image/png": "[encoded data removed]",
      "text/plain": [
       "<Figure size 864x576 with 1 Axes>"
      ]
     },
     "metadata": {
      "needs_background": "light"
     },
     "output_type": "display_data"
    }
   ],
   "source": [
    "fig, axs = plt.subplots(figsize=(12,8))\n",
    "axs.hist(means10, color=\"y\", alpha=0.5, bins=np.linspace(50000,100000,200), label=\"N = 10\")\n",
    "axs.hist(means50, color=\"c\", alpha=0.5, bins=np.linspace(50000,100000,200), label=\"N = 50\")\n",
    "axs.hist(means100, color=\"g\", alpha=0.5, bins=np.linspace(50000,100000,200), label=\"N = 100\")\n",
    "axs.hist(means500, color=\"b\", alpha=0.5, bins=np.linspace(50000,100000,200), label=\"N = 500\")\n",
    "axs.hist(means1000, color=\"r\", alpha=0.3, bins=np.linspace(50000,100000,200), label=\"N = 1000\")\n",
    "axs.axvline(x = np.mean(income), color='r', label='Mean')\n",
    "\n",
    "plt.title(\"Distribution of Means\", fontsize=20)\n",
    "axs.set_xlabel(\"Income\", fontsize=18)\n",
    "axs.set_ylabel(\"Frequency\", fontsize=18)\n",
    "axs.tick_params(labelsize=15)\n",
    "axs.legend(prop={'size': 15})\n",
    "\n",
    "plt.show()"
   ]
  },
  {
   "cell_type": "markdown",
   "metadata": {},
   "source": [
    "As we can see, it's better to take a larger sample size to estimate the mean salary.\n",
    "\n",
    "The expectation of the mean:\n",
    "\n",
    "$$ E(\\bar{x}) = \\mu$$\n",
    "\n",
    "doesn't depend on the sample size, but the standard error of the mean gets smaller with sample size:\n",
    "\n",
    "$$ SE(\\bar{x}) = \\frac{\\sigma}{\\sqrt{n}}$$"
   ]
  }
 ],
 "metadata": {
  "kernelspec": {
   "display_name": "Python 3",
   "language": "python",
   "name": "python3"
  },
  "language_info": {
   "codemirror_mode": {
    "name": "ipython",
    "version": 3
   },
   "file_extension": ".py",
   "mimetype": "text/x-python",
   "name": "python",
   "nbconvert_exporter": "python",
   "pygments_lexer": "ipython3",
   "version": "3.6.12"
  }
 },
 "nbformat": 4,
 "nbformat_minor": 4
}

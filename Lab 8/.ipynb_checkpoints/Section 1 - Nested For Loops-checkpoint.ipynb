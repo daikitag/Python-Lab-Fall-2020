{
 "cells": [
  {
   "cell_type": "markdown",
   "metadata": {},
   "source": [
    "# Announcements"
   ]
  },
  {
   "cell_type": "markdown",
   "metadata": {},
   "source": [
    "I have no announcements for this week."
   ]
  },
  {
   "cell_type": "markdown",
   "metadata": {},
   "source": [
    "# Section 1 - Nested For Loops\n",
    "\n",
    "Remember the following example during the previous lecture:"
   ]
  },
  {
   "cell_type": "markdown",
   "metadata": {},
   "source": [
    "# Problem 3\n",
    "\n",
    "The player tosses a coin repeatedly until a tail appears or tosses it a maximum of 1000 times if no tail appears. The initial stake starts at 2 dollars and is doubled every time heads appears. The first time tails appears, the game ends and the player wins whatever is in the pot. Thus the player wins 2 dollars if tails appears on the first toss, 4 dollars if heads appears on the first toss and tails on the second, 8 dollars if heads appears on the first two tosses and tails on the third, and so on. Mathematically, the player wins $2^k$ dollars, where k equals the number of tosses until the first tail.\n",
    "\n",
    "Would you play this game if the cost of participating is $8?\n",
    "\n",
    "Taken from: https://www.r-exercises.com/2017/08/20/answer-probability-questions-with-simulation/"
   ]
  },
  {
   "cell_type": "code",
   "execution_count": 2,
   "metadata": {},
   "outputs": [],
   "source": [
    "import random"
   ]
  },
  {
   "cell_type": "code",
   "execution_count": 11,
   "metadata": {},
   "outputs": [],
   "source": [
    "def coin(s):\n",
    "    money = 0\n",
    "    for i in range(s):\n",
    "        k = 0\n",
    "        for i in range(1000):\n",
    "            k += 1\n",
    "            coin = random.choice(['H','T'])\n",
    "            if coin == 'T':\n",
    "                money += 2**k\n",
    "                break\n",
    "    expect = money / s\n",
    "    return expect"
   ]
  },
  {
   "cell_type": "markdown",
   "metadata": {},
   "source": [
    "This is an example of having two if statements. We will be examining this in detail in this section.\n",
    "\n",
    "Before we go into this, let's examine `break` in detail:"
   ]
  },
  {
   "cell_type": "code",
   "execution_count": 5,
   "metadata": {},
   "outputs": [
    {
     "name": "stdout",
     "output_type": "stream",
     "text": [
      "0\n",
      "1\n",
      "2\n",
      "3\n",
      "4\n"
     ]
    }
   ],
   "source": [
    "for i in range(5):\n",
    "    print(i)"
   ]
  },
  {
   "cell_type": "markdown",
   "metadata": {},
   "source": [
    "This prints the number from 0 to 4. However, if I add a break in this if statement:"
   ]
  },
  {
   "cell_type": "code",
   "execution_count": 6,
   "metadata": {},
   "outputs": [
    {
     "name": "stdout",
     "output_type": "stream",
     "text": [
      "0\n",
      "1\n",
      "2\n",
      "3\n"
     ]
    }
   ],
   "source": [
    "for i in range(5):\n",
    "    if i > 3:\n",
    "        break\n",
    "    print(i)"
   ]
  },
  {
   "cell_type": "markdown",
   "metadata": {},
   "source": [
    "This forces the if statement to end, even though we still have some `i`'s left"
   ]
  },
  {
   "cell_type": "markdown",
   "metadata": {},
   "source": [
    "Imagine that you would like to get these coordinates in the following order:\n",
    "\n",
    "$$\n",
    "(0,0), (0,1), (0,2), (1,0), (1,1), (1,2), (2,0), (2,1), (2,2)\n",
    "$$\n",
    "\n",
    "How would you code this? Let's see."
   ]
  },
  {
   "cell_type": "code",
   "execution_count": 2,
   "metadata": {},
   "outputs": [
    {
     "name": "stdout",
     "output_type": "stream",
     "text": [
      "0 0\n",
      "0 1\n",
      "0 2\n",
      "1 0\n",
      "1 1\n",
      "1 2\n",
      "2 0\n",
      "2 1\n",
      "2 2\n"
     ]
    }
   ],
   "source": [
    "for i in range(3):\n",
    "    for j in range(3):\n",
    "        print(i,j)"
   ]
  },
  {
   "cell_type": "markdown",
   "metadata": {},
   "source": [
    "In this example, we start with $i=0$, and then start the if statement with $j=0,1,2$. This is an example of nested for statement. If we change the order of $i$ and $j$, you will see that the order of these numbers change:"
   ]
  },
  {
   "cell_type": "code",
   "execution_count": 3,
   "metadata": {},
   "outputs": [
    {
     "name": "stdout",
     "output_type": "stream",
     "text": [
      "0 0\n",
      "1 0\n",
      "2 0\n",
      "0 1\n",
      "1 1\n",
      "2 1\n",
      "0 2\n",
      "1 2\n",
      "2 2\n"
     ]
    }
   ],
   "source": [
    "for i in range(3):\n",
    "    for j in range(3):\n",
    "        print(j,i)"
   ]
  },
  {
   "cell_type": "markdown",
   "metadata": {},
   "source": [
    "Now, let's go back to the previous example:\n",
    "\n",
    "```Python\n",
    "def coin(s):\n",
    "    money = 0\n",
    "    for i in range(s):\n",
    "        k = 0\n",
    "        for i in range(1000):\n",
    "            k += 1\n",
    "            coin = random.choice(['H','T'])\n",
    "            if coin == 'T':\n",
    "                money += 2**k\n",
    "                break\n",
    "    expect = money / s\n",
    "    return expect\n",
    "```\n",
    "\n",
    "To better visualize what is happening inside this code, I will be adding print statements between the lines."
   ]
  },
  {
   "cell_type": "code",
   "execution_count": 42,
   "metadata": {},
   "outputs": [],
   "source": [
    "def coin(s):\n",
    "    money = 0\n",
    "    print(\"The function coin starts here:\")\n",
    "    print(\"---------------------------\")\n",
    "    for i in range(s):\n",
    "        print(\"The first for loop starts.\")\n",
    "        print(\"The value of i is:\", i)\n",
    "        k = 0\n",
    "        print(\"The value of k is:\", k)\n",
    "        for j in range(1000):\n",
    "            print(\"The second for loop starts\")\n",
    "            print(\"The value of j is:\", j)\n",
    "            k += 1\n",
    "            print(\"The value of k is:\", k)\n",
    "            coin = random.choice(['H','T'])\n",
    "            if coin == 'T':\n",
    "                print(\"We got a tail, so the second for loop ends\")\n",
    "                print(\"------------------------------\")\n",
    "                money += 2**k\n",
    "                break\n",
    "    expect = money / s\n",
    "    return expect"
   ]
  },
  {
   "cell_type": "code",
   "execution_count": 43,
   "metadata": {},
   "outputs": [
    {
     "name": "stdout",
     "output_type": "stream",
     "text": [
      "The function coin starts here:\n",
      "---------------------------\n",
      "The first for loop starts.\n",
      "The value of i is: 0\n",
      "The value of k is: 0\n",
      "The second for loop starts\n",
      "The value of j is: 0\n",
      "The value of k is: 1\n",
      "We got a tail, so the second for loop ends\n",
      "------------------------------\n",
      "The first for loop starts.\n",
      "The value of i is: 1\n",
      "The value of k is: 0\n",
      "The second for loop starts\n",
      "The value of j is: 0\n",
      "The value of k is: 1\n",
      "The second for loop starts\n",
      "The value of j is: 1\n",
      "The value of k is: 2\n",
      "The second for loop starts\n",
      "The value of j is: 2\n",
      "The value of k is: 3\n",
      "We got a tail, so the second for loop ends\n",
      "------------------------------\n"
     ]
    },
    {
     "data": {
      "text/plain": [
       "5.0"
      ]
     },
     "execution_count": 43,
     "metadata": {},
     "output_type": "execute_result"
    }
   ],
   "source": [
    "coin(2)"
   ]
  },
  {
   "cell_type": "markdown",
   "metadata": {},
   "source": [
    "The for loop inside the for loop shows the outcome of 1 game. This can also be written as two seperate steps:"
   ]
  },
  {
   "cell_type": "markdown",
   "metadata": {},
   "source": [
    "```Python\n",
    "def coin(s):\n",
    "    money = 0\n",
    "    for i in range(s):\n",
    "        k = 0\n",
    "        for i in range(1000):\n",
    "            k += 1\n",
    "            coin = random.choice(['H','T'])\n",
    "            if coin == 'T':\n",
    "                money += 2**k\n",
    "                break\n",
    "    expect = money / s\n",
    "    return expect\n",
    "```"
   ]
  },
  {
   "cell_type": "markdown",
   "metadata": {},
   "source": [
    "This is the code for giving me the outcome of 1 game:"
   ]
  },
  {
   "cell_type": "code",
   "execution_count": 4,
   "metadata": {},
   "outputs": [],
   "source": [
    "def game(s):\n",
    "    k = 0\n",
    "    for i in range(s):\n",
    "        k += 1\n",
    "        coin = random.choice(['H','T'])\n",
    "        if coin == 'T':\n",
    "            money = 2**k\n",
    "            return money\n",
    "            break"
   ]
  },
  {
   "cell_type": "code",
   "execution_count": 6,
   "metadata": {},
   "outputs": [
    {
     "data": {
      "text/plain": [
       "2"
      ]
     },
     "execution_count": 6,
     "metadata": {},
     "output_type": "execute_result"
    }
   ],
   "source": [
    "game(1000)"
   ]
  },
  {
   "cell_type": "markdown",
   "metadata": {},
   "source": [
    "Here, the value of `s` won't change the outcome. I set the value of `s` to be large (1000), because\n",
    "\n",
    "$$\n",
    "\\left(\\frac{1}{2}\\right)^{1000}\n",
    "$$\n",
    "\n",
    "is an extremely small number, and it's very unlikey to occur. We can add `i` after `money` to see how many steps it took to end this game:"
   ]
  },
  {
   "cell_type": "code",
   "execution_count": 61,
   "metadata": {},
   "outputs": [],
   "source": [
    "def game(s):\n",
    "    k = 0\n",
    "    money = 0\n",
    "    for i in range(s):\n",
    "        k += 1\n",
    "        coin = random.choice(['H','T'])\n",
    "        if coin == 'T':\n",
    "            money += 2**k\n",
    "            return money, i\n",
    "            break"
   ]
  },
  {
   "cell_type": "code",
   "execution_count": 64,
   "metadata": {},
   "outputs": [
    {
     "data": {
      "text/plain": [
       "(2, 0)"
      ]
     },
     "execution_count": 64,
     "metadata": {},
     "output_type": "execute_result"
    }
   ],
   "source": [
    "game(100)"
   ]
  },
  {
   "cell_type": "markdown",
   "metadata": {},
   "source": [
    "Then, we can create a new function to determine the total outcome of the gamble:"
   ]
  },
  {
   "cell_type": "code",
   "execution_count": 33,
   "metadata": {},
   "outputs": [],
   "source": [
    "def game(s):\n",
    "    k = 0\n",
    "    money = 0\n",
    "    for i in range(s):\n",
    "        k += 1\n",
    "        coin = random.choice(['H','T'])\n",
    "        if coin == 'T':\n",
    "            money += 2**k\n",
    "            return money\n",
    "            break"
   ]
  },
  {
   "cell_type": "code",
   "execution_count": 34,
   "metadata": {},
   "outputs": [],
   "source": [
    "def gamble(s):\n",
    "    total = 0\n",
    "    for i in range(s):\n",
    "        money = game(1000)\n",
    "        total += money\n",
    "    return total / s"
   ]
  },
  {
   "cell_type": "code",
   "execution_count": 35,
   "metadata": {},
   "outputs": [
    {
     "data": {
      "text/plain": [
       "18.666"
      ]
     },
     "execution_count": 35,
     "metadata": {},
     "output_type": "execute_result"
    }
   ],
   "source": [
    "gamble(1000)"
   ]
  },
  {
   "cell_type": "markdown",
   "metadata": {},
   "source": [
    "This example was simple, so I used 1 function to do the simulation. However, it would be useful to create 2 different functions, one for 1 game and another for multiple games, in situations where the code for 1 outcome is complicated."
   ]
  }
 ],
 "metadata": {
  "kernelspec": {
   "display_name": "Python 3",
   "language": "python",
   "name": "python3"
  },
  "language_info": {
   "codemirror_mode": {
    "name": "ipython",
    "version": 3
   },
   "file_extension": ".py",
   "mimetype": "text/x-python",
   "name": "python",
   "nbconvert_exporter": "python",
   "pygments_lexer": "ipython3",
   "version": "3.6.12"
  }
 },
 "nbformat": 4,
 "nbformat_minor": 4
}

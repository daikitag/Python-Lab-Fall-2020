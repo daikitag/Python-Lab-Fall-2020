{
 "cells": [
  {
   "cell_type": "markdown",
   "metadata": {},
   "source": [
    "# Confidence Intervals for Proportion\n",
    "\n",
    "We will get proportion data for categorical data (this includes proportion of college graduates, proportion of people who like blue, etc). The standard error of proportion can be determined to be:\n",
    "$$\n",
    "SE(\\hat{p})=\\sqrt{\\frac{\\hat{p}(1-\\hat{p})}{n}}\n",
    "$$\n",
    "\n",
    "Here, $\\hat{p}$ is the sample proportion that you obtained from the dataset. Thus, the 95\\% CI can be computed as:\n",
    "\n",
    "$$\n",
    "\\hat{p}\\pm1.96 \\sqrt{\\frac{\\hat{p}(1-\\hat{p})}{n}}\n",
    "$$\n",
    "\n",
    "The function to compute the 95% CI of proportion will look like:\n",
    "\n",
    "```Python\n",
    "def CI_prop(s, n):\n",
    "    p = s / n\n",
    "    se2 = p * (1-p) / n\n",
    "    se = np.sqrt(se2)\n",
    "    low = p - 1.96 * se\n",
    "    up = p + 1.96 * se\n",
    "    print('Sample proportion is:', p)\n",
    "    print('95% CI is: ({}, {})'.format(low, up))\n",
    "```\n",
    "\n",
    "Where `s` is the number of occurences of an element, and `n` is the sample size."
   ]
  },
  {
   "cell_type": "markdown",
   "metadata": {},
   "source": [
    "## How do I count the number of occurences?\n",
    "\n",
    "### 1. List\n",
    "Use `.count()`"
   ]
  },
  {
   "cell_type": "code",
   "execution_count": 1,
   "metadata": {},
   "outputs": [
    {
     "data": {
      "text/plain": [
       "2"
      ]
     },
     "execution_count": 1,
     "metadata": {},
     "output_type": "execute_result"
    }
   ],
   "source": [
    "number = [1, 1, 2, 3]\n",
    "number.count(1)"
   ]
  },
  {
   "cell_type": "markdown",
   "metadata": {},
   "source": [
    "### 2. Numpy array\n",
    "\n",
    "Use `np.sum(condition)`\n",
    "\n",
    "For example, `np.random.randint(low = a, high = b, size = n)` generates `n` random integers from `a` to `(b-1)`"
   ]
  },
  {
   "cell_type": "code",
   "execution_count": 11,
   "metadata": {},
   "outputs": [
    {
     "data": {
      "text/plain": [
       "array([2, 1, 1, 2, 0])"
      ]
     },
     "execution_count": 11,
     "metadata": {},
     "output_type": "execute_result"
    }
   ],
   "source": [
    "import numpy as np\n",
    "number = np.random.randint(low = 0, high = 3,size = 5)\n",
    "number"
   ]
  },
  {
   "cell_type": "code",
   "execution_count": 12,
   "metadata": {},
   "outputs": [
    {
     "ename": "AttributeError",
     "evalue": "'numpy.ndarray' object has no attribute 'count'",
     "output_type": "error",
     "traceback": [
      "\u001b[1;31m---------------------------------------------------------------------------\u001b[0m",
      "\u001b[1;31mAttributeError\u001b[0m                            Traceback (most recent call last)",
      "\u001b[1;32m<ipython-input-12-6f65c94a31b3>\u001b[0m in \u001b[0;36m<module>\u001b[1;34m\u001b[0m\n\u001b[1;32m----> 1\u001b[1;33m \u001b[0mnumber\u001b[0m\u001b[1;33m.\u001b[0m\u001b[0mcount\u001b[0m\u001b[1;33m(\u001b[0m\u001b[1;36m0\u001b[0m\u001b[1;33m)\u001b[0m\u001b[1;33m\u001b[0m\u001b[1;33m\u001b[0m\u001b[0m\n\u001b[0m",
      "\u001b[1;31mAttributeError\u001b[0m: 'numpy.ndarray' object has no attribute 'count'"
     ]
    }
   ],
   "source": [
    "number.count(0)"
   ]
  },
  {
   "cell_type": "markdown",
   "metadata": {},
   "source": [
    "`.count()` will give you an error in numpy array. Instead, you use the following:"
   ]
  },
  {
   "cell_type": "code",
   "execution_count": 13,
   "metadata": {},
   "outputs": [
    {
     "data": {
      "text/plain": [
       "2"
      ]
     },
     "execution_count": 13,
     "metadata": {},
     "output_type": "execute_result"
    }
   ],
   "source": [
    "np.sum(number == 1)"
   ]
  },
  {
   "cell_type": "code",
   "execution_count": 14,
   "metadata": {
    "scrolled": true
   },
   "outputs": [
    {
     "data": {
      "text/plain": [
       "4"
      ]
     },
     "execution_count": 14,
     "metadata": {},
     "output_type": "execute_result"
    }
   ],
   "source": [
    "np.sum(number > 0)"
   ]
  },
  {
   "cell_type": "markdown",
   "metadata": {},
   "source": [
    "This might be useful to solve Problem 1 in HW7"
   ]
  },
  {
   "cell_type": "markdown",
   "metadata": {},
   "source": [
    "### 3. Dataframe\n",
    "\n",
    "Simply use `.value_counts()`"
   ]
  },
  {
   "cell_type": "code",
   "execution_count": 15,
   "metadata": {},
   "outputs": [],
   "source": [
    "import pandas as pd\n",
    "df = pd.read_csv('Data/NHANES.csv')"
   ]
  },
  {
   "cell_type": "code",
   "execution_count": 17,
   "metadata": {},
   "outputs": [
    {
     "data": {
      "text/plain": [
       "Some College      2267\n",
       "College Grad      2098\n",
       "High School       1517\n",
       "9 - 11th Grade     888\n",
       "8th Grade          451\n",
       "Name: Education, dtype: int64"
      ]
     },
     "execution_count": 17,
     "metadata": {},
     "output_type": "execute_result"
    }
   ],
   "source": [
    "df['Education'].value_counts()"
   ]
  },
  {
   "cell_type": "markdown",
   "metadata": {},
   "source": [
    "You can get the length of the column by using `len()`:"
   ]
  },
  {
   "cell_type": "code",
   "execution_count": 18,
   "metadata": {},
   "outputs": [
    {
     "data": {
      "text/plain": [
       "10000"
      ]
     },
     "execution_count": 18,
     "metadata": {},
     "output_type": "execute_result"
    }
   ],
   "source": [
    "len(df['Education'])"
   ]
  },
  {
   "cell_type": "markdown",
   "metadata": {},
   "source": [
    "## Data Analysis:\n",
    "\n",
    "Now, let's estimate the proportion of college graduates in the U.S."
   ]
  },
  {
   "cell_type": "code",
   "execution_count": 28,
   "metadata": {},
   "outputs": [],
   "source": [
    "def CI_prop(s, n):\n",
    "    p = s / n\n",
    "    se2 = p * (1-p) / n\n",
    "    se = np.sqrt(se2)\n",
    "    low = p - 1.96 * se\n",
    "    up = p + 1.96 * se\n",
    "    print('Sample proportion is:', p)\n",
    "    print('95% CI is: ({}, {})'.format(low, up))"
   ]
  },
  {
   "cell_type": "code",
   "execution_count": 22,
   "metadata": {},
   "outputs": [
    {
     "name": "stdout",
     "output_type": "stream",
     "text": [
      "Sample proportion is: 0.2098\n",
      "95% CI is: (0.20181955101052576, 0.2177804489894742)\n"
     ]
    }
   ],
   "source": [
    "CI_prop(2098, 10000)"
   ]
  },
  {
   "cell_type": "markdown",
   "metadata": {},
   "source": [
    "This includes children, so we should remove them:"
   ]
  },
  {
   "cell_type": "code",
   "execution_count": 23,
   "metadata": {},
   "outputs": [],
   "source": [
    "df_adult = df[df['Age'] >= 25]"
   ]
  },
  {
   "cell_type": "code",
   "execution_count": 24,
   "metadata": {},
   "outputs": [
    {
     "data": {
      "text/plain": [
       "College Grad      2016\n",
       "Some College      1951\n",
       "High School       1345\n",
       "9 - 11th Grade     814\n",
       "8th Grade          435\n",
       "Name: Education, dtype: int64"
      ]
     },
     "execution_count": 24,
     "metadata": {},
     "output_type": "execute_result"
    }
   ],
   "source": [
    "df_adult['Education'].value_counts()"
   ]
  },
  {
   "cell_type": "code",
   "execution_count": 25,
   "metadata": {},
   "outputs": [
    {
     "data": {
      "text/plain": [
       "6571"
      ]
     },
     "execution_count": 25,
     "metadata": {},
     "output_type": "execute_result"
    }
   ],
   "source": [
    "len(df_adult['Education'])"
   ]
  },
  {
   "cell_type": "code",
   "execution_count": 29,
   "metadata": {},
   "outputs": [
    {
     "name": "stdout",
     "output_type": "stream",
     "text": [
      "Sample proportion is: 0.30680261756201493\n",
      "95% CI is: (0.2956520152961805, 0.31795321982784935)\n"
     ]
    }
   ],
   "source": [
    "CI_prop(2016, 6571)"
   ]
  },
  {
   "cell_type": "markdown",
   "metadata": {},
   "source": [
    "How do I report this?"
   ]
  },
  {
   "cell_type": "code",
   "execution_count": 27,
   "metadata": {},
   "outputs": [],
   "source": [
    "# According to the NHANES dataset, the percentage of the U.S. population with a Bachelor's degree or higher is\n",
    "# estiamted to be 30.68% (95% CI = [29.56, 31.80])."
   ]
  },
  {
   "cell_type": "markdown",
   "metadata": {},
   "source": [
    "This data is not a recent one, so it doesn't reflect the actual percentages now, but it has been reported that approximately 35\\% of the people in the U.S. have a Bachelor's degree or higher.\n",
    "\n",
    "https://www.statista.com/statistics/184272/educational-attainment-of-college-diploma-or-higher-by-gender/\n",
    "\n",
    "This means that less than a half Americans can graduate from college. I believe that we should appreciate our opportunities to be able to study at Columbia University and think about how we can contribute to the society."
   ]
  },
  {
   "cell_type": "markdown",
   "metadata": {},
   "source": [
    "# 2. Confidence interval for proportion difference\n",
    "\n",
    "This can be very easily computed by:\n",
    "\n",
    "$$\n",
    "SE(\\hat{p_1}-\\hat{p_2})=\\sqrt{(SE(\\hat{p_1})^2+SE(\\hat{p_2})^2}\n",
    "$$\n",
    "\n",
    "Or in other words:\n",
    "\n",
    "$$\n",
    "SE(\\hat{p_1}-\\hat{p_2})=\\sqrt{\\frac{p_1(1-p_1)}{n_1}+\\frac{p_2(1-p_2)}{n_2}}\n",
    "$$\n",
    "\n",
    "In Python:\n",
    "\n",
    "```Python\n",
    "def CI_prop_diff(s1, s2, n1, n2):\n",
    "    p1 = s1 / n1\n",
    "    p2 = s2 / n2\n",
    "    se2p1 = p1 * (1 - p1) / n1\n",
    "    se2p2 = p2 * (1 - p2) / n2\n",
    "    se2 = se2p1 + se2p2\n",
    "    se = np.sqrt(se2)\n",
    "    low = (p1 - p2) - 1.96 * se\n",
    "    up = (p1 - p2) + 1.96 * se\n",
    "    print(\"Proportion difference is:\", p1 - p2)\n",
    "    print(\"95% CI is: ({}, {})\".format(low, up))\n",
    "```"
   ]
  },
  {
   "cell_type": "markdown",
   "metadata": {},
   "source": [
    "### Vitamin C and the Common Cold\n",
    "\n",
    "Linus Pauling, recipient of Nobel Prizes in Chemistry and in Peace, advocated the use of vitamin C for preventing the common cold. A Canadian experiment examined this claim, using 818 volunteers. At the beginning of the winter, subjects were randomly divided into two groups. The vitamin C group received a supply of vitamin C pills adequate to last through the entire cold season at 1,000 mg per day. The placebo group received an equivalent amount of inert pills. At the end of the cold season, each subject was interviewed by a physician who did not know the group to which the subject had been assigned. On the basis of the interview, the physcian determined whether the subject had or had not suffered a cold during the period. Can the risk of a cold be reduced by using vitamin C?\n",
    "\n",
    "(Data from T. W. Anderson, D. B. W. Reid, and G. H. Beaton, \"Vitamin C and the Common Cold\", Canadian Medical Association Journal 107 (1972): 503-08.)"
   ]
  },
  {
   "cell_type": "code",
   "execution_count": 30,
   "metadata": {},
   "outputs": [],
   "source": [
    "import pandas as pd\n",
    "import numpy as np\n",
    "import matplotlib.pyplot as plt"
   ]
  },
  {
   "cell_type": "code",
   "execution_count": 31,
   "metadata": {},
   "outputs": [
    {
     "data": {
      "text/html": [
       "<div>\n",
       "<style scoped>\n",
       "    .dataframe tbody tr th:only-of-type {\n",
       "        vertical-align: middle;\n",
       "    }\n",
       "\n",
       "    .dataframe tbody tr th {\n",
       "        vertical-align: top;\n",
       "    }\n",
       "\n",
       "    .dataframe thead th {\n",
       "        text-align: right;\n",
       "    }\n",
       "</style>\n",
       "<table border=\"1\" class=\"dataframe\">\n",
       "  <thead>\n",
       "    <tr style=\"text-align: right;\">\n",
       "      <th></th>\n",
       "      <th>Treatment</th>\n",
       "      <th>Cold</th>\n",
       "      <th>NoCold</th>\n",
       "    </tr>\n",
       "  </thead>\n",
       "  <tbody>\n",
       "    <tr>\n",
       "      <th>0</th>\n",
       "      <td>Placebo</td>\n",
       "      <td>335</td>\n",
       "      <td>76</td>\n",
       "    </tr>\n",
       "    <tr>\n",
       "      <th>1</th>\n",
       "      <td>VitC</td>\n",
       "      <td>302</td>\n",
       "      <td>105</td>\n",
       "    </tr>\n",
       "  </tbody>\n",
       "</table>\n",
       "</div>"
      ],
      "text/plain": [
       "  Treatment  Cold  NoCold\n",
       "0   Placebo   335      76\n",
       "1      VitC   302     105"
      ]
     },
     "execution_count": 31,
     "metadata": {},
     "output_type": "execute_result"
    }
   ],
   "source": [
    "df = pd.read_csv('Data/ex4.csv')\n",
    "df"
   ]
  },
  {
   "cell_type": "markdown",
   "metadata": {},
   "source": [
    "The first step in anything should be data visualization. Remember the following code to create a bar chart:\n",
    "\n",
    "```Python\n",
    "fig, axs = plt.subplots(figsize=(10,6)) # Change the figure size here       \n",
    "axs.bar(x_values, y_values, color=('deepskyblue')) # You specify the color here     \n",
    "axs.set_title(\"Plot Title\", fontsize=20, fontweight=\"bold\")   \n",
    "axs.set_xlabel(\"x-axis label\", fontsize=14)\n",
    "axs.set_ylabel(\"y-axis label\", fontsize=14)\n",
    "axs.tick_params(labelsize=16)              \n",
    "plt.show() \n",
    "```"
   ]
  },
  {
   "cell_type": "code",
   "execution_count": 32,
   "metadata": {},
   "outputs": [
    {
     "data": {
      "text/html": [
       "<div>\n",
       "<style scoped>\n",
       "    .dataframe tbody tr th:only-of-type {\n",
       "        vertical-align: middle;\n",
       "    }\n",
       "\n",
       "    .dataframe tbody tr th {\n",
       "        vertical-align: top;\n",
       "    }\n",
       "\n",
       "    .dataframe thead th {\n",
       "        text-align: right;\n",
       "    }\n",
       "</style>\n",
       "<table border=\"1\" class=\"dataframe\">\n",
       "  <thead>\n",
       "    <tr style=\"text-align: right;\">\n",
       "      <th></th>\n",
       "      <th>Treatment</th>\n",
       "      <th>Cold</th>\n",
       "      <th>NoCold</th>\n",
       "      <th>Total</th>\n",
       "      <th>Cold_per</th>\n",
       "    </tr>\n",
       "  </thead>\n",
       "  <tbody>\n",
       "    <tr>\n",
       "      <th>0</th>\n",
       "      <td>Placebo</td>\n",
       "      <td>335</td>\n",
       "      <td>76</td>\n",
       "      <td>411</td>\n",
       "      <td>0.815085</td>\n",
       "    </tr>\n",
       "    <tr>\n",
       "      <th>1</th>\n",
       "      <td>VitC</td>\n",
       "      <td>302</td>\n",
       "      <td>105</td>\n",
       "      <td>407</td>\n",
       "      <td>0.742015</td>\n",
       "    </tr>\n",
       "  </tbody>\n",
       "</table>\n",
       "</div>"
      ],
      "text/plain": [
       "  Treatment  Cold  NoCold  Total  Cold_per\n",
       "0   Placebo   335      76    411  0.815085\n",
       "1      VitC   302     105    407  0.742015"
      ]
     },
     "execution_count": 32,
     "metadata": {},
     "output_type": "execute_result"
    }
   ],
   "source": [
    "df['Total'] = df['Cold'] + df['NoCold']\n",
    "df['Cold_per'] = df['Cold'] / df['Total']\n",
    "df"
   ]
  },
  {
   "cell_type": "code",
   "execution_count": 40,
   "metadata": {},
   "outputs": [
    {
     "data": {
      "image/png": "[encoded data removed]",
      "text/plain": [
       "<Figure size 360x432 with 1 Axes>"
      ]
     },
     "metadata": {
      "needs_background": "light"
     },
     "output_type": "display_data"
    }
   ],
   "source": [
    "x_values = ['Placebo', 'Vitamin C']\n",
    "y_values = df['Cold_per']\n",
    "\n",
    "fig, axs = plt.subplots(figsize=(5,6)) # Change the figure size here       \n",
    "axs.bar(x_values, y_values, color=('deepskyblue'), width=0.5) # You specify the color here     \n",
    "axs.set_title(\"Vitamin C and Common Cold\", fontsize=20, fontweight=\"bold\")   \n",
    "axs.set_xlabel(\"\", fontsize=14)\n",
    "axs.set_ylabel(\"Proportion of people who got a cold\", fontsize=14)\n",
    "axs.tick_params(labelsize=16)              \n",
    "plt.show() "
   ]
  },
  {
   "cell_type": "markdown",
   "metadata": {},
   "source": [
    "Now, let's obtain the 95\\% CI for proportion difference:"
   ]
  },
  {
   "cell_type": "code",
   "execution_count": 41,
   "metadata": {},
   "outputs": [],
   "source": [
    "def CI_prop_diff(s1, s2, n1, n2):\n",
    "    p1 = s1 / n1\n",
    "    p2 = s2 / n2\n",
    "    se2p1 = p1 * (1 - p1) / n1\n",
    "    se2p2 = p2 * (1 - p2) / n2\n",
    "    se2 = se2p1 + se2p2\n",
    "    se = np.sqrt(se2)\n",
    "    low = (p1 - p2) - 1.96 * se\n",
    "    up = (p1 - p2) + 1.96 * se\n",
    "    print(\"Proportion difference is:\", p1 - p2)\n",
    "    print(\"95% CI is: ({}, {})\".format(low, up))"
   ]
  },
  {
   "cell_type": "code",
   "execution_count": 42,
   "metadata": {},
   "outputs": [
    {
     "data": {
      "text/html": [
       "<div>\n",
       "<style scoped>\n",
       "    .dataframe tbody tr th:only-of-type {\n",
       "        vertical-align: middle;\n",
       "    }\n",
       "\n",
       "    .dataframe tbody tr th {\n",
       "        vertical-align: top;\n",
       "    }\n",
       "\n",
       "    .dataframe thead th {\n",
       "        text-align: right;\n",
       "    }\n",
       "</style>\n",
       "<table border=\"1\" class=\"dataframe\">\n",
       "  <thead>\n",
       "    <tr style=\"text-align: right;\">\n",
       "      <th></th>\n",
       "      <th>Treatment</th>\n",
       "      <th>Cold</th>\n",
       "      <th>NoCold</th>\n",
       "      <th>Total</th>\n",
       "      <th>Cold_per</th>\n",
       "    </tr>\n",
       "  </thead>\n",
       "  <tbody>\n",
       "    <tr>\n",
       "      <th>0</th>\n",
       "      <td>Placebo</td>\n",
       "      <td>335</td>\n",
       "      <td>76</td>\n",
       "      <td>411</td>\n",
       "      <td>0.815085</td>\n",
       "    </tr>\n",
       "    <tr>\n",
       "      <th>1</th>\n",
       "      <td>VitC</td>\n",
       "      <td>302</td>\n",
       "      <td>105</td>\n",
       "      <td>407</td>\n",
       "      <td>0.742015</td>\n",
       "    </tr>\n",
       "  </tbody>\n",
       "</table>\n",
       "</div>"
      ],
      "text/plain": [
       "  Treatment  Cold  NoCold  Total  Cold_per\n",
       "0   Placebo   335      76    411  0.815085\n",
       "1      VitC   302     105    407  0.742015"
      ]
     },
     "execution_count": 42,
     "metadata": {},
     "output_type": "execute_result"
    }
   ],
   "source": [
    "df"
   ]
  },
  {
   "cell_type": "code",
   "execution_count": 43,
   "metadata": {},
   "outputs": [
    {
     "name": "stdout",
     "output_type": "stream",
     "text": [
      "Proportion difference is: 0.07307041613610954\n",
      "95% CI is: (0.016363724481925114, 0.12977710779029397)\n"
     ]
    }
   ],
   "source": [
    "CI_prop_diff(s1=335, s2=302, n1=411, n2=407)"
   ]
  },
  {
   "cell_type": "markdown",
   "metadata": {},
   "source": [
    "How do I report this?"
   ]
  },
  {
   "cell_type": "code",
   "execution_count": 44,
   "metadata": {},
   "outputs": [],
   "source": [
    "# Of the 411 subjects who took the placebo pill, 82% caught colds at some time during the winter. Among the 407 who took\n",
    "# vitamin C pills, however, only 74% caught colds. The data provide strong evidence that the probability of catching cold\n",
    "# was smaller for those who took vitamin C, as the difference was 7.31% (95% CI = [1.64, 12.98]). This provides strong\n",
    "# support to Dr. Pauling's convictions."
   ]
  },
  {
   "cell_type": "markdown",
   "metadata": {},
   "source": [
    "## Discussions:\n",
    "\n",
    "Because the treatments were randomly assigned to the available volunteers, the difference in cold rates in these groups can safely be attributed to differences in treatments, but it is important to understand exactly what the treatments entail."
   ]
  }
 ],
 "metadata": {
  "kernelspec": {
   "display_name": "Python 3",
   "language": "python",
   "name": "python3"
  },
  "language_info": {
   "codemirror_mode": {
    "name": "ipython",
    "version": 3
   },
   "file_extension": ".py",
   "mimetype": "text/x-python",
   "name": "python",
   "nbconvert_exporter": "python",
   "pygments_lexer": "ipython3",
   "version": "3.6.12"
  }
 },
 "nbformat": 4,
 "nbformat_minor": 4
}

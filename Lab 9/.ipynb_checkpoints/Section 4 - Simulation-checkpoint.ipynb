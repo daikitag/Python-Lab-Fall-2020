{
 "cells": [
  {
   "cell_type": "markdown",
   "metadata": {},
   "source": [
    "# Section 4 - Simulating Confidence Intervals"
   ]
  },
  {
   "cell_type": "markdown",
   "metadata": {},
   "source": [
    "Let's remind ourselves about the definition of 95\\% Confidence Intervals:\n",
    "\n",
    "<img src='Image/slide6.png' width=500>"
   ]
  },
  {
   "cell_type": "markdown",
   "metadata": {},
   "source": [
    "95\\% CI does not mean that the probability that the interval includes the population mean is 95\\%. Instead, it means that if we compute the 95\\% CI from the random sample from the population, 95\\% of them will contain the population parameter. Let's see:"
   ]
  },
  {
   "cell_type": "markdown",
   "metadata": {},
   "source": [
    "We will be using the NHANES dataset like before:"
   ]
  },
  {
   "cell_type": "code",
   "execution_count": 1,
   "metadata": {},
   "outputs": [],
   "source": [
    "import pandas as pd\n",
    "import numpy as np\n",
    "import matplotlib.pyplot as plt"
   ]
  },
  {
   "cell_type": "code",
   "execution_count": 5,
   "metadata": {},
   "outputs": [],
   "source": [
    "df = pd.read_csv('Data/NHANES.csv')\n",
    "height = df['Height'].dropna()"
   ]
  },
  {
   "cell_type": "code",
   "execution_count": 6,
   "metadata": {},
   "outputs": [
    {
     "data": {
      "text/plain": [
       "161.8778376697419"
      ]
     },
     "execution_count": 6,
     "metadata": {},
     "output_type": "execute_result"
    }
   ],
   "source": [
    "np.mean(height)"
   ]
  },
  {
   "cell_type": "markdown",
   "metadata": {},
   "source": [
    "Here, we assume the people in the NHANES.csv file to be the entire population, so the population mean is 161.88cm. We will create confidence intervals based on the simple random sample that we get from the dataset:"
   ]
  },
  {
   "cell_type": "markdown",
   "metadata": {},
   "source": [
    "I will slightly modify the previous confidence interval function to return a list of confidence interval instead:\n",
    "\n",
    "```Python\n",
    "def CI_mean(data):\n",
    "    se = np.std(data)/np.sqrt(len(data))\n",
    "    low = np.mean(data)-1.96*se\n",
    "    up = np.mean(data)+1.96*se\n",
    "    print(\"Average is:\", np.mean(data))\n",
    "    print(\"95% CI of mean is: ({}, {})\".format(low,up))\n",
    "```\n",
    "\n",
    "to be:"
   ]
  },
  {
   "cell_type": "code",
   "execution_count": 4,
   "metadata": {},
   "outputs": [],
   "source": [
    "def CI_mean(data):\n",
    "    se = np.std(data)/np.sqrt(len(data))\n",
    "    low = np.mean(data)-1.96*se\n",
    "    up = np.mean(data)+1.96*se\n",
    "    ci = [low, up]\n",
    "    return ci"
   ]
  },
  {
   "cell_type": "markdown",
   "metadata": {},
   "source": [
    "I also define a new function that returns the interval width:"
   ]
  },
  {
   "cell_type": "code",
   "execution_count": 10,
   "metadata": {},
   "outputs": [],
   "source": [
    "def width(data):\n",
    "    se = np.std(data)/np.sqrt(len(data))\n",
    "    return se * 1.96"
   ]
  },
  {
   "cell_type": "markdown",
   "metadata": {},
   "source": [
    "We set the sample size to be 100, and we will sample 1,000 confidence intervals:"
   ]
  },
  {
   "cell_type": "code",
   "execution_count": 15,
   "metadata": {},
   "outputs": [],
   "source": [
    "means = []\n",
    "intervals = []\n",
    "widths = []\n",
    "\n",
    "for i in range(100):\n",
    "    sample = np.random.choice(height, size = 100, replace=False)\n",
    "    means.append(np.mean(sample))\n",
    "    intervals.append(CI_mean(sample))\n",
    "    widths.append(width(sample))"
   ]
  },
  {
   "cell_type": "code",
   "execution_count": 13,
   "metadata": {},
   "outputs": [
    {
     "data": {
      "image/png": "[encoded data removed]",
      "text/plain": [
       "<Figure size 720x720 with 1 Axes>"
      ]
     },
     "metadata": {
      "needs_background": "light"
     },
     "output_type": "display_data"
    }
   ],
   "source": [
    "fig, axs = plt.subplots(figsize=(10,10))\n",
    "plt.title(\"95% Confidence Intervals for Height [cm]\", fontsize=20)\n",
    "plt.errorbar(x=means, y=range(100), xerr=widths,\n",
    "                    ls='none', marker='o', markersize=3, fmt='grey', ecolor=\"grey\", capsize=3)\n",
    "plt.axvline(np.mean(height), ls='--', color=\"red\")\n",
    "axs.tick_params(labelsize=15)\n",
    "axs.set_xlabel(\"Height [cm]\", fontsize=15)\n",
    "plt.yticks([])\n",
    "plt.show()"
   ]
  },
  {
   "cell_type": "markdown",
   "metadata": {},
   "source": [
    "Let's generate 1000 confidence intervals and count how many of them don't contain the true mean:"
   ]
  },
  {
   "cell_type": "code",
   "execution_count": 16,
   "metadata": {},
   "outputs": [],
   "source": [
    "means = []\n",
    "intervals = []\n",
    "widths = []\n",
    "\n",
    "for i in range(1000):\n",
    "    sample = np.random.choice(height, size = 100, replace=False)\n",
    "    means.append(np.mean(sample))\n",
    "    intervals.append(CI_mean(sample))\n",
    "    widths.append(width(sample))"
   ]
  },
  {
   "cell_type": "code",
   "execution_count": 23,
   "metadata": {},
   "outputs": [
    {
     "name": "stdout",
     "output_type": "stream",
     "text": [
      "0.94\n"
     ]
    }
   ],
   "source": [
    "count = 0\n",
    "mean = np.mean(height)\n",
    "for i in range(1000):\n",
    "    low = intervals[i][0]\n",
    "    up = intervals[i][1]\n",
    "    if low < mean and up > mean:\n",
    "        count += 1\n",
    "print(count / 1000)"
   ]
  }
 ],
 "metadata": {
  "kernelspec": {
   "display_name": "Python 3",
   "language": "python",
   "name": "python3"
  },
  "language_info": {
   "codemirror_mode": {
    "name": "ipython",
    "version": 3
   },
   "file_extension": ".py",
   "mimetype": "text/x-python",
   "name": "python",
   "nbconvert_exporter": "python",
   "pygments_lexer": "ipython3",
   "version": "3.6.12"
  }
 },
 "nbformat": 4,
 "nbformat_minor": 4
}

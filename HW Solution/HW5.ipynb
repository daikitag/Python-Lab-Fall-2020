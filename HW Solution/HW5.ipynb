{
 "cells": [
  {
   "cell_type": "markdown",
   "metadata": {},
   "source": [
    "# Python Lab HW 5-6 [50 points]\n",
    "\n",
    "### Hints for Problem 1-3:\n",
    "\n",
    "Problem 1, 2 and 3 should be very straightforward exercises. They can be solved by modifying the codes that were provided to you during lab 5. For problem 2, use the exact same codes that were used to create 3 datasets (male adult, female adult and children), but you have to further separate the children data according to their gender.\n",
    "\n",
    "For histograms, please be careful about the bins. The directions were provided to you during lab 5."
   ]
  },
  {
   "cell_type": "markdown",
   "metadata": {},
   "source": [
    "### Hints for Problem 4:\n",
    "\n",
    "Problem 4 is actually a difficult problem. The problem is worth only 3 points, but it will take more than all the time you spent solving problem 1-3. The number of points in this problem is purposely set to be low, so please feel free to skip this problem if you do not have time.\n",
    "\n",
    "This problem asks you to create a visual from the latest COVID-19 data. The data comes from the Centers for Disease Control and Prevention, which is a United States federal agency, under the Department of Health and Human Services. It has one of the largest datasets for COVID-19, and the NHANES dataset that we frequently use in the lab is also coming from this agency.\n",
    "\n",
    "The dataset is named as \"Excess_Deaths_Associated_with_COVID-19.csv\", and it is located in \"Dataset used in labs\" folder under \"labs\" folder. Before you start working on the coding, it might be useful for you to insepct this dataset in Excel, or go to the website where the data is taken from, to understand the structure of the dataset.\n",
    "\n",
    "Since we are finished with the introduction to Python, numpy, pandas and matplotlib, I set this problem as a final review exercise. You should be very proud of yourself if you were able to solve this problem."
   ]
  },
  {
   "cell_type": "markdown",
   "metadata": {},
   "source": [
    "# Problem1 [17 points]:\n",
    "\n",
    "Create a histogram that shows the income distribution of San Francisco city. The data is taken from \n",
    "\n",
    "https://www.kaggle.com/kaggle/sf-salaries\n",
    "\n",
    "and you can load it by using\n",
    "\n",
    "```Python\n",
    "pd.read_csv('Data/Salaries.csv')\n",
    "```\n",
    "\n",
    "The salary data is located in `'TotalPay'` column.\n",
    "\n",
    "Create a histogram that shows the distribution of the data. You must include the following:\n",
    "\n",
    "- Create a histogram [7 points]\n",
    "- Correct bins [3 points] (You can use the default histogram without any bins, but please make your histogram look nicer)\n",
    "- Create a horizontal line that shows the median [2 points]\n",
    "- Create a horizontal line that shows the mean [2 points]\n",
    "- Appropriate labels [2 points]\n",
    "- Comment on the distribution (positively/negatively skewed, symmetric) [1 point]"
   ]
  },
  {
   "cell_type": "code",
   "execution_count": null,
   "metadata": {},
   "outputs": [],
   "source": []
  },
  {
   "cell_type": "markdown",
   "metadata": {},
   "source": [
    "# Problem 2 [20 points]\n",
    "\n",
    "Create a grouped histogram that shows the weight data from the NHANES dataset. You can load the NHANES dataset by using:\n",
    "\n",
    "```Python\n",
    "pd.read_csv('Data/NHANES.csv')\n",
    "```\n",
    "and the weight is located in `Weight` column.\n",
    "\n",
    "The groups should be:\n",
    "\n",
    "- Male adult (Gender:Male, Age>20)\n",
    "- Female adult (Gender:Female, Age>=20)\n",
    "- Young male (Gender:Male, Age<20)\n",
    "- Young female (Gender:Female, Age<20)\n",
    "\n",
    "Instead of writing the code from scratch, use the code that was introduced during the labs to create a grouped histogram of the height data. You only have to modify the code slightly for weight data.\n",
    "\n",
    "Grading scheme:\n",
    "- Get appropriate dataset [3 points]\n",
    "- Get appropriate bins [4 points]\n",
    "- Create a grouped histogram [8 points]\n",
    "- Appropriate colors (able to see the overlaps) [2 points]\n",
    "- Appropriate labels [3 points]"
   ]
  },
  {
   "cell_type": "code",
   "execution_count": null,
   "metadata": {},
   "outputs": [],
   "source": []
  },
  {
   "cell_type": "markdown",
   "metadata": {},
   "source": [
    "# Problem 3 [10 points]\n",
    "\n",
    "Use the same data in problem 2, but create a grouped boxplot instead.\n",
    "\n",
    "Grading scheme:\n",
    "\n",
    "- Use the same data that was used in problem 2 [1 point]\n",
    "- Create a grouped boxplot [6 points]\n",
    "- Appropriate labels [2 points]\n",
    "- Briefly comment on the results [1 point]"
   ]
  },
  {
   "cell_type": "code",
   "execution_count": null,
   "metadata": {},
   "outputs": [],
   "source": []
  },
  {
   "cell_type": "markdown",
   "metadata": {},
   "source": [
    "# Problem 4 [3 points]\n",
    "\n",
    "It has been reported that COVID-19 is the third leading cause of death in the U.S.\n",
    "\n",
    "Article: https://www.scientificamerican.com/article/covid-19-is-now-the-third-leading-cause-of-death-in-the-u-s1/\n",
    "\n",
    "While you do not have to read this article, notice that the \"source\" under the figures say \"Centers for Disease Control and Prevention, National Center for Health Statistics\". We are planning to use the raw dataset to analyze the latest COVID-19 deaths.\n",
    "\n",
    "The dataset comes from https://www.cdc.gov/nchs/nvss/vsrr/covid19/excess_deaths.htm, and it was downloaded from the \"National and State Estimates of Excess Deaths\" link.\n",
    "\n",
    "It can be loaded to Python by using:\n",
    "\n",
    "```Python\n",
    "pd.read_csv('Data/weekly_deaths.csv')\n",
    "```\n",
    "\n",
    "This dataset includes the weekly deaths from 2017. You should only take the dataset from Feb2020-Sep2020 and sum those weekly deaths to create montly deaths. Also, we would like to get a national death count. The deaths have two categories, so you should think about how we can get COVID-19 related deaths.\n",
    "\n",
    "Obtaining the dataset is the most difficult part. However, you should create appropriate labels to the bar chart by changing the `plt.text()` argument in bar chart code that was provided to you during lab 3. You also have to determine the colors that were used, but I only used the colors that are specified in this document:\n",
    "\n",
    "https://matplotlib.org/3.3.1/gallery/color/named_colors.html\n",
    "\n",
    "The final output should look like:\n",
    "\n",
    "<img src='Images/plot_covid.png' width=700>\n",
    "\n",
    "Good luck!"
   ]
  },
  {
   "cell_type": "code",
   "execution_count": null,
   "metadata": {},
   "outputs": [],
   "source": []
  }
 ],
 "metadata": {
  "kernelspec": {
   "display_name": "Python 3",
   "language": "python",
   "name": "python3"
  },
  "language_info": {
   "codemirror_mode": {
    "name": "ipython",
    "version": 3
   },
   "file_extension": ".py",
   "mimetype": "text/x-python",
   "name": "python",
   "nbconvert_exporter": "python",
   "pygments_lexer": "ipython3",
   "version": "3.6.10"
  }
 },
 "nbformat": 4,
 "nbformat_minor": 4
}

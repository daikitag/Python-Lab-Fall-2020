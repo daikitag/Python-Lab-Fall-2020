{
 "cells": [
  {
   "cell_type": "markdown",
   "metadata": {},
   "source": [
    "# Python Lab HW 5-6 [50 points]\n",
    "\n",
    "### Hints for Problem 1-3:\n",
    "\n",
    "Problem 1, 2 and 3 should be very straightforward exercises. They can be solved by modifying the codes that were provided to you during lab 5. For problem 2, use the exact same codes that were used to create 3 datasets (male adult, female adult and children), but you have to further separate the children data according to their gender.\n",
    "\n",
    "For histograms, please be careful about the bins. The directions were provided to you during lab 5."
   ]
  },
  {
   "cell_type": "markdown",
   "metadata": {},
   "source": [
    "### Hints for Problem 4:\n",
    "\n",
    "Problem 4 is actually a difficult problem. The problem is worth only 3 points, but it will take more than all the time you spent solving problem 1-3. The number of points in this problem is purposely set to be low, so please feel free to skip this problem if you do not have time.\n",
    "\n",
    "This problem asks you to create a visual from the latest COVID-19 data. The data comes from the Centers for Disease Control and Prevention, which is a United States federal agency, under the Department of Health and Human Services. It has one of the largest datasets for COVID-19, and the NHANES dataset that we frequently use in the lab is also coming from this agency.\n",
    "\n",
    "The dataset is named as \"Excess_Deaths_Associated_with_COVID-19.csv\", and it is located in \"Dataset used in labs\" folder under \"labs\" folder. Before you start working on the coding, it might be useful for you to insepct this dataset in Excel, or go to the website where the data is taken from, to understand the structure of the dataset.\n",
    "\n",
    "Since we are finished with the introduction to Python, numpy, pandas and matplotlib, I set this problem as a final review exercise. You should be very proud of yourself if you were able to solve this problem."
   ]
  },
  {
   "cell_type": "code",
   "execution_count": 1,
   "metadata": {},
   "outputs": [],
   "source": [
    "import numpy as np\n",
    "import pandas as pd\n",
    "import matplotlib.pyplot as plt"
   ]
  },
  {
   "cell_type": "markdown",
   "metadata": {},
   "source": [
    "# Problem1 [17 points]:\n",
    "\n",
    "Create a histogram that shows the income distribution of San Francisco city. The data is taken from \n",
    "\n",
    "https://www.kaggle.com/kaggle/sf-salaries\n",
    "\n",
    "and you can load it by using\n",
    "\n",
    "```Python\n",
    "pd.read_csv('Data/Salaries.csv')\n",
    "```\n",
    "\n",
    "The salary data is located in `'TotalPay'` column.\n",
    "\n",
    "Create a histogram that shows the distribution of the data. You must include the following:\n",
    "\n",
    "- Create a histogram [7 points]\n",
    "- Correct bins [3 points] (You can use the default histogram without any bins, but please make your histogram look nicer)\n",
    "- Create a horizontal line that shows the median [2 points]\n",
    "- Create a horizontal line that shows the mean [2 points]\n",
    "- Appropriate labels [2 points]\n",
    "- Comment on the distribution (positively/negatively skewed, symmetric) [1 point]"
   ]
  },
  {
   "cell_type": "code",
   "execution_count": 3,
   "metadata": {},
   "outputs": [
    {
     "name": "stderr",
     "output_type": "stream",
     "text": [
      "C:\\Users\\daiki\\Anaconda3\\lib\\site-packages\\IPython\\core\\interactiveshell.py:3072: DtypeWarning: Columns (3,4,5,6,12) have mixed types.Specify dtype option on import or set low_memory=False.\n",
      "  interactivity=interactivity, compiler=compiler, result=result)\n"
     ]
    }
   ],
   "source": [
    "df = pd.read_csv('Data/Salaries.csv')\n",
    "salary = df['TotalPay'].dropna()"
   ]
  },
  {
   "cell_type": "code",
   "execution_count": 6,
   "metadata": {},
   "outputs": [
    {
     "name": "stdout",
     "output_type": "stream",
     "text": [
      "Max: 567595.43\n",
      "Min: 0.0\n"
     ]
    }
   ],
   "source": [
    "print('Max:', np.max(salary))\n",
    "print('Min:', np.min(salary))"
   ]
  },
  {
   "cell_type": "markdown",
   "metadata": {},
   "source": [
    "Create histogram with bin width 10000\n",
    "\n",
    "$$\n",
    "(570000 - 0)/10000 = 57\n",
    "$$\n",
    "We must create (57+1)= 58points"
   ]
  },
  {
   "cell_type": "code",
   "execution_count": 9,
   "metadata": {},
   "outputs": [
    {
     "data": {
      "text/plain": [
       "array([     0.,  10000.,  20000.,  30000.,  40000.,  50000.,  60000.,\n",
       "        70000.,  80000.,  90000., 100000., 110000., 120000., 130000.,\n",
       "       140000., 150000., 160000., 170000., 180000., 190000., 200000.,\n",
       "       210000., 220000., 230000., 240000., 250000., 260000., 270000.,\n",
       "       280000., 290000., 300000., 310000., 320000., 330000., 340000.,\n",
       "       350000., 360000., 370000., 380000., 390000., 400000., 410000.,\n",
       "       420000., 430000., 440000., 450000., 460000., 470000., 480000.,\n",
       "       490000., 500000., 510000., 520000., 530000., 540000., 550000.,\n",
       "       560000., 570000.])"
      ]
     },
     "execution_count": 9,
     "metadata": {},
     "output_type": "execute_result"
    }
   ],
   "source": [
    "np.linspace(0, 570000, 58)"
   ]
  },
  {
   "cell_type": "code",
   "execution_count": 15,
   "metadata": {},
   "outputs": [
    {
     "data": {
      "image/png": "[encoded data removed]",
      "text/plain": [
       "<Figure size 864x576 with 1 Axes>"
      ]
     },
     "metadata": {
      "needs_background": "light"
     },
     "output_type": "display_data"
    }
   ],
   "source": [
    "x_value = salary\n",
    "\n",
    "fig, axs = plt.subplots(figsize=(12,8))\n",
    "axs.hist(x_value, color=\"SkyBlue\", edgecolor=\"Black\", bins=np.linspace(0, 570000, 58))\n",
    "plt.title(\"Income Distribution of San Francisco City\", fontsize=20)\n",
    "axs.set_xlabel(\"Annual Pay [US$]\", fontsize=18)\n",
    "axs.set_ylabel(\"Frequency\", fontsize=18)\n",
    "\n",
    "axs.axvline(np.mean(salary), color='red', ls='dashed', lw=3, label='Mean')\n",
    "axs.axvline(np.median(salary), color='blue', ls='dashed', lw=3, label='Median')\n",
    "axs.legend(prop={'size': 15})\n",
    "\n",
    "axs.tick_params(labelsize=15)\n",
    "plt.show()"
   ]
  },
  {
   "cell_type": "markdown",
   "metadata": {},
   "source": [
    "This looks like a positively skewed distribution."
   ]
  },
  {
   "cell_type": "markdown",
   "metadata": {},
   "source": [
    "# Problem 2 [20 points]\n",
    "\n",
    "Create a grouped histogram that shows the weight data from the NHANES dataset. You can load the NHANES dataset by using:\n",
    "\n",
    "```Python\n",
    "pd.read_csv('Data/NHANES.csv')\n",
    "```\n",
    "and the weight is located in `Weight` column.\n",
    "\n",
    "The groups should be:\n",
    "\n",
    "- Male adult (Gender:Male, Age>20)\n",
    "- Female adult (Gender:Female, Age>=20)\n",
    "- Young male (Gender:Male, Age<20)\n",
    "- Young female (Gender:Female, Age<20)\n",
    "\n",
    "Instead of writing the code from scratch, use the code that was introduced during the labs to create a grouped histogram of the height data. You only have to modify the code slightly for weight data.\n",
    "\n",
    "Grading scheme:\n",
    "- Get appropriate dataset [3 points]\n",
    "- Get appropriate bins [4 points]\n",
    "- Create a grouped histogram [8 points]\n",
    "- Appropriate colors (able to see the overlaps) [2 points]\n",
    "- Appropriate labels [3 points]"
   ]
  },
  {
   "cell_type": "code",
   "execution_count": 37,
   "metadata": {},
   "outputs": [],
   "source": [
    "df = pd.read_csv('Data/NHANES.csv')\n",
    "\n",
    "df = df.dropna(subset=['Weight'])\n",
    "\n",
    "adult = df['Age'] >= 20\n",
    "child = df['Age'] < 20\n",
    "\n",
    "# Remember that == means a condition statement to find if two elements are the same\n",
    "male = df['Gender'] == 'male'\n",
    "female = df['Gender'] == 'female'\n",
    "\n",
    "male_df = df[adult & male]\n",
    "female_df = df[adult & female]\n",
    "boy_df = df[child & male]\n",
    "girl_df = df[child & female]"
   ]
  },
  {
   "cell_type": "code",
   "execution_count": 38,
   "metadata": {},
   "outputs": [
    {
     "name": "stdout",
     "output_type": "stream",
     "text": [
      "Max: 230.7\n",
      "Min: 2.8\n"
     ]
    }
   ],
   "source": [
    "print('Max:', np.max(df['Weight']))\n",
    "print('Min:', np.min(df['Weight']))"
   ]
  },
  {
   "cell_type": "markdown",
   "metadata": {},
   "source": [
    "Choose width to be 5\n",
    "\n",
    "$$\n",
    "(235 - 0)/5 = 47\n",
    "$$\n",
    "\n",
    "We need (47+1)=48 points."
   ]
  },
  {
   "cell_type": "code",
   "execution_count": 39,
   "metadata": {},
   "outputs": [
    {
     "data": {
      "text/plain": [
       "array([  0.,   5.,  10.,  15.,  20.,  25.,  30.,  35.,  40.,  45.,  50.,\n",
       "        55.,  60.,  65.,  70.,  75.,  80.,  85.,  90.,  95., 100., 105.,\n",
       "       110., 115., 120., 125., 130., 135., 140., 145., 150., 155., 160.,\n",
       "       165., 170., 175., 180., 185., 190., 195., 200., 205., 210., 215.,\n",
       "       220., 225., 230., 235.])"
      ]
     },
     "execution_count": 39,
     "metadata": {},
     "output_type": "execute_result"
    }
   ],
   "source": [
    "np.linspace(0,235,48)"
   ]
  },
  {
   "cell_type": "code",
   "execution_count": 40,
   "metadata": {},
   "outputs": [
    {
     "data": {
      "image/png": "[encoded data removed]",
      "text/plain": [
       "<Figure size 864x576 with 1 Axes>"
      ]
     },
     "metadata": {
      "needs_background": "light"
     },
     "output_type": "display_data"
    }
   ],
   "source": [
    "fig, axs = plt.subplots(figsize=(12,8))\n",
    "axs.hist(male_df['Weight'], color=\"b\", alpha=0.3, bins=np.linspace(0,235,48), label=\"Male Adult\")\n",
    "axs.hist(female_df['Weight'], color=\"r\", alpha=0.3, bins=np.linspace(0,235,48), label=\"Female Adult\")\n",
    "axs.hist(boy_df['Weight'], color=\"c\", alpha=0.5, bins=np.linspace(0,235,48), label=\"Boy\")\n",
    "axs.hist(girl_df['Weight'], color=\"y\", alpha=0.5, bins=np.linspace(0,235,48), label=\"Girl\")\n",
    "\n",
    "plt.title(\"Distribution of weight in the U.S.\", fontsize=20)\n",
    "axs.set_xlabel(\"Weight [kg]\", fontsize=18)\n",
    "axs.set_ylabel(\"Frequency\", fontsize=18)\n",
    "axs.tick_params(labelsize=15)\n",
    "axs.legend(prop={'size': 15})\n",
    "\n",
    "plt.show()"
   ]
  },
  {
   "cell_type": "markdown",
   "metadata": {},
   "source": [
    "# Problem 3 [10 points]\n",
    "\n",
    "Use the same data in problem 2, but create a grouped boxplot instead.\n",
    "\n",
    "Grading scheme:\n",
    "\n",
    "- Use the same data that was used in problem 2 [1 point]\n",
    "- Create a grouped boxplot [6 points]\n",
    "- Appropriate labels [2 points]\n",
    "- Briefly comment on the results [1 point]"
   ]
  },
  {
   "cell_type": "code",
   "execution_count": 43,
   "metadata": {},
   "outputs": [
    {
     "name": "stderr",
     "output_type": "stream",
     "text": [
      "C:\\Users\\daiki\\Anaconda3\\lib\\site-packages\\numpy\\core\\_asarray.py:83: VisibleDeprecationWarning: Creating an ndarray from ragged nested sequences (which is a list-or-tuple of lists-or-tuples-or ndarrays with different lengths or shapes) is deprecated. If you meant to do this, you must specify 'dtype=object' when creating the ndarray\n",
      "  return array(a, dtype, copy=False, order=order)\n"
     ]
    },
    {
     "data": {
      "image/png": "[encoded data removed]",
      "text/plain": [
       "<Figure size 864x576 with 1 Axes>"
      ]
     },
     "metadata": {
      "needs_background": "light"
     },
     "output_type": "display_data"
    }
   ],
   "source": [
    "fig, axs = plt.subplots(figsize=(12,8))\n",
    "axs.boxplot([male_df['Weight'], female_df['Weight'], boy_df['Weight'], girl_df['Weight']])\n",
    "plt.title('Weight distribution of the U.S.', fontsize=20)\n",
    "axs.set_xticklabels(['Male Adult','Female Adult','Boy', 'Girl'])\n",
    "axs.set_ylabel('Weight [kg]', fontsize=18)\n",
    "axs.tick_params(labelsize=15)\n",
    "plt.show()"
   ]
  },
  {
   "cell_type": "markdown",
   "metadata": {},
   "source": [
    "Sample comment from students:"
   ]
  },
  {
   "cell_type": "markdown",
   "metadata": {},
   "source": [
    "- This boxplot shoes that on average, males weigh the most and young females weight the least, but it\n",
    "does look like there are a few outliers. It is also\n",
    "interesting to note that most of the outliers are\n",
    "higher than the mean as opposed to lower than the mean. "
   ]
  },
  {
   "cell_type": "markdown",
   "metadata": {},
   "source": [
    "- This graph shows the average distributions of weight among each group of people. It shows that adult females have a lower average weight compared to males, and young females have a slightly lower average weight compared to young males. This makes sense considering that men generally have a higher body weight compared with women. It also shows that there is a larger distribution in adults compared to children, possibly indicating that more adults are outside of the normal distribution; however, it could also indicate that more adults than children have data in the dataset."
   ]
  },
  {
   "cell_type": "markdown",
   "metadata": {},
   "source": [
    "- The result shows that Male adults have the highest mean and always the highest IQR. While the female adult has a greater mean, but the top of IQR of the young male is more than female adult. Also, the young male has a lower mean than young female. All of them have a numerous oultiers showing that the data is not normally distributed which we can later confirm with the histograms."
   ]
  },
  {
   "cell_type": "markdown",
   "metadata": {},
   "source": [
    "# Problem 4 [3 points]\n",
    "\n",
    "It has been reported that COVID-19 is the third leading cause of death in the U.S.\n",
    "\n",
    "Article: https://www.scientificamerican.com/article/covid-19-is-now-the-third-leading-cause-of-death-in-the-u-s1/\n",
    "\n",
    "While you do not have to read this article, notice that the \"source\" under the figures say \"Centers for Disease Control and Prevention, National Center for Health Statistics\". We are planning to use the raw dataset to analyze the latest COVID-19 deaths.\n",
    "\n",
    "The dataset comes from https://www.cdc.gov/nchs/nvss/vsrr/covid19/excess_deaths.htm, and it was downloaded from the \"National and State Estimates of Excess Deaths\" link.\n",
    "\n",
    "It can be loaded to Python by using:\n",
    "\n",
    "```Python\n",
    "pd.read_csv('Data/weekly_deaths.csv')\n",
    "```\n",
    "\n",
    "This dataset includes the weekly deaths from 2017. You should only take the dataset from Feb2020-Sep2020 and sum those weekly deaths to create montly deaths. Also, we would like to get a national death count. The deaths have two categories, so you should think about how we can get COVID-19 related deaths.\n",
    "\n",
    "Obtaining the dataset is the most difficult part. However, you should create appropriate labels to the bar chart by changing the `plt.text()` argument in bar chart code that was provided to you during lab 3. You also have to determine the colors that were used, but I only used the colors that are specified in this document:\n",
    "\n",
    "https://matplotlib.org/3.3.1/gallery/color/named_colors.html\n",
    "\n",
    "The final output should look like:\n",
    "\n",
    "<img src='Images/plot_covid.png' width=700>\n",
    "\n",
    "Good luck."
   ]
  },
  {
   "cell_type": "code",
   "execution_count": 30,
   "metadata": {},
   "outputs": [],
   "source": [
    "import pandas as pd\n",
    "import matplotlib.pyplot as plt\n",
    "import numpy as np"
   ]
  },
  {
   "cell_type": "code",
   "execution_count": 31,
   "metadata": {},
   "outputs": [],
   "source": [
    "df = pd.read_csv('Data/weekly_deaths.csv')"
   ]
  },
  {
   "cell_type": "code",
   "execution_count": 32,
   "metadata": {},
   "outputs": [
    {
     "data": {
      "text/html": [
       "<div>\n",
       "<style scoped>\n",
       "    .dataframe tbody tr th:only-of-type {\n",
       "        vertical-align: middle;\n",
       "    }\n",
       "\n",
       "    .dataframe tbody tr th {\n",
       "        vertical-align: top;\n",
       "    }\n",
       "\n",
       "    .dataframe thead th {\n",
       "        text-align: right;\n",
       "    }\n",
       "</style>\n",
       "<table border=\"1\" class=\"dataframe\">\n",
       "  <thead>\n",
       "    <tr style=\"text-align: right;\">\n",
       "      <th></th>\n",
       "      <th>Week Ending Date</th>\n",
       "      <th>State</th>\n",
       "      <th>Observed Number</th>\n",
       "      <th>Upper Bound Threshold</th>\n",
       "      <th>Exceeds Threshold</th>\n",
       "      <th>Average Expected Count</th>\n",
       "      <th>Excess Lower Estimate</th>\n",
       "      <th>Excess Higher Estimate</th>\n",
       "      <th>Year</th>\n",
       "      <th>Total Excess Lower Estimate in 2020</th>\n",
       "      <th>Total Excess Higher Estimate in 2020</th>\n",
       "      <th>Percent Excess Lower Estimate</th>\n",
       "      <th>Percent Excess Higher Estimate</th>\n",
       "      <th>Type</th>\n",
       "      <th>Outcome</th>\n",
       "      <th>Suppress</th>\n",
       "      <th>Note</th>\n",
       "    </tr>\n",
       "  </thead>\n",
       "  <tbody>\n",
       "    <tr>\n",
       "      <th>0</th>\n",
       "      <td>1/14/2017</td>\n",
       "      <td>Alabama</td>\n",
       "      <td>1130.0</td>\n",
       "      <td>1199.0</td>\n",
       "      <td>False</td>\n",
       "      <td>1042.0</td>\n",
       "      <td>0.0</td>\n",
       "      <td>88.0</td>\n",
       "      <td>2017</td>\n",
       "      <td>3533</td>\n",
       "      <td>5472</td>\n",
       "      <td>0.0</td>\n",
       "      <td>0.1</td>\n",
       "      <td>Predicted (weighted)</td>\n",
       "      <td>All causes</td>\n",
       "      <td>NaN</td>\n",
       "      <td>NaN</td>\n",
       "    </tr>\n",
       "    <tr>\n",
       "      <th>1</th>\n",
       "      <td>1/21/2017</td>\n",
       "      <td>Alabama</td>\n",
       "      <td>1048.0</td>\n",
       "      <td>1214.0</td>\n",
       "      <td>False</td>\n",
       "      <td>1057.0</td>\n",
       "      <td>0.0</td>\n",
       "      <td>0.0</td>\n",
       "      <td>2017</td>\n",
       "      <td>3533</td>\n",
       "      <td>5472</td>\n",
       "      <td>0.0</td>\n",
       "      <td>0.0</td>\n",
       "      <td>Predicted (weighted)</td>\n",
       "      <td>All causes</td>\n",
       "      <td>NaN</td>\n",
       "      <td>NaN</td>\n",
       "    </tr>\n",
       "    <tr>\n",
       "      <th>2</th>\n",
       "      <td>1/28/2017</td>\n",
       "      <td>Alabama</td>\n",
       "      <td>1026.0</td>\n",
       "      <td>1233.0</td>\n",
       "      <td>False</td>\n",
       "      <td>1076.0</td>\n",
       "      <td>0.0</td>\n",
       "      <td>0.0</td>\n",
       "      <td>2017</td>\n",
       "      <td>3533</td>\n",
       "      <td>5472</td>\n",
       "      <td>0.0</td>\n",
       "      <td>0.0</td>\n",
       "      <td>Predicted (weighted)</td>\n",
       "      <td>All causes</td>\n",
       "      <td>NaN</td>\n",
       "      <td>NaN</td>\n",
       "    </tr>\n",
       "    <tr>\n",
       "      <th>3</th>\n",
       "      <td>2/4/2017</td>\n",
       "      <td>Alabama</td>\n",
       "      <td>1036.0</td>\n",
       "      <td>1231.0</td>\n",
       "      <td>False</td>\n",
       "      <td>1074.0</td>\n",
       "      <td>0.0</td>\n",
       "      <td>0.0</td>\n",
       "      <td>2017</td>\n",
       "      <td>3533</td>\n",
       "      <td>5472</td>\n",
       "      <td>0.0</td>\n",
       "      <td>0.0</td>\n",
       "      <td>Predicted (weighted)</td>\n",
       "      <td>All causes</td>\n",
       "      <td>NaN</td>\n",
       "      <td>NaN</td>\n",
       "    </tr>\n",
       "    <tr>\n",
       "      <th>4</th>\n",
       "      <td>2/11/2017</td>\n",
       "      <td>Alabama</td>\n",
       "      <td>1058.0</td>\n",
       "      <td>1224.0</td>\n",
       "      <td>False</td>\n",
       "      <td>1071.0</td>\n",
       "      <td>0.0</td>\n",
       "      <td>0.0</td>\n",
       "      <td>2017</td>\n",
       "      <td>3533</td>\n",
       "      <td>5472</td>\n",
       "      <td>0.0</td>\n",
       "      <td>0.0</td>\n",
       "      <td>Predicted (weighted)</td>\n",
       "      <td>All causes</td>\n",
       "      <td>NaN</td>\n",
       "      <td>NaN</td>\n",
       "    </tr>\n",
       "  </tbody>\n",
       "</table>\n",
       "</div>"
      ],
      "text/plain": [
       "  Week Ending Date    State  Observed Number  Upper Bound Threshold  \\\n",
       "0        1/14/2017  Alabama           1130.0                 1199.0   \n",
       "1        1/21/2017  Alabama           1048.0                 1214.0   \n",
       "2        1/28/2017  Alabama           1026.0                 1233.0   \n",
       "3         2/4/2017  Alabama           1036.0                 1231.0   \n",
       "4        2/11/2017  Alabama           1058.0                 1224.0   \n",
       "\n",
       "   Exceeds Threshold  Average Expected Count  Excess Lower Estimate  \\\n",
       "0              False                  1042.0                    0.0   \n",
       "1              False                  1057.0                    0.0   \n",
       "2              False                  1076.0                    0.0   \n",
       "3              False                  1074.0                    0.0   \n",
       "4              False                  1071.0                    0.0   \n",
       "\n",
       "   Excess Higher Estimate  Year  Total Excess Lower Estimate in 2020  \\\n",
       "0                    88.0  2017                                 3533   \n",
       "1                     0.0  2017                                 3533   \n",
       "2                     0.0  2017                                 3533   \n",
       "3                     0.0  2017                                 3533   \n",
       "4                     0.0  2017                                 3533   \n",
       "\n",
       "   Total Excess Higher Estimate in 2020  Percent Excess Lower Estimate  \\\n",
       "0                                  5472                            0.0   \n",
       "1                                  5472                            0.0   \n",
       "2                                  5472                            0.0   \n",
       "3                                  5472                            0.0   \n",
       "4                                  5472                            0.0   \n",
       "\n",
       "   Percent Excess Higher Estimate                  Type     Outcome Suppress  \\\n",
       "0                             0.1  Predicted (weighted)  All causes      NaN   \n",
       "1                             0.0  Predicted (weighted)  All causes      NaN   \n",
       "2                             0.0  Predicted (weighted)  All causes      NaN   \n",
       "3                             0.0  Predicted (weighted)  All causes      NaN   \n",
       "4                             0.0  Predicted (weighted)  All causes      NaN   \n",
       "\n",
       "  Note  \n",
       "0  NaN  \n",
       "1  NaN  \n",
       "2  NaN  \n",
       "3  NaN  \n",
       "4  NaN  "
      ]
     },
     "execution_count": 32,
     "metadata": {},
     "output_type": "execute_result"
    }
   ],
   "source": [
    "df.head()"
   ]
  },
  {
   "cell_type": "code",
   "execution_count": 33,
   "metadata": {},
   "outputs": [
    {
     "data": {
      "text/plain": [
       "2019    8424\n",
       "2018    8424\n",
       "2017    8262\n",
       "2020    6480\n",
       "Name: Year, dtype: int64"
      ]
     },
     "execution_count": 33,
     "metadata": {},
     "output_type": "execute_result"
    }
   ],
   "source": [
    "df['Year'].value_counts()"
   ]
  },
  {
   "cell_type": "code",
   "execution_count": 34,
   "metadata": {},
   "outputs": [],
   "source": [
    "df = df[df['Year']==2020]"
   ]
  },
  {
   "cell_type": "code",
   "execution_count": 35,
   "metadata": {},
   "outputs": [
    {
     "data": {
      "text/plain": [
       "Predicted (weighted)    4320\n",
       "Unweighted              2160\n",
       "Name: Type, dtype: int64"
      ]
     },
     "execution_count": 35,
     "metadata": {},
     "output_type": "execute_result"
    }
   ],
   "source": [
    "df['Type'].value_counts()"
   ]
  },
  {
   "cell_type": "code",
   "execution_count": 36,
   "metadata": {},
   "outputs": [],
   "source": [
    "df = df[df['Type']=='Predicted (weighted)']"
   ]
  },
  {
   "cell_type": "code",
   "execution_count": 37,
   "metadata": {
    "scrolled": true
   },
   "outputs": [
    {
     "data": {
      "text/plain": [
       "2/29/2020    108\n",
       "2/22/2020    108\n",
       "3/14/2020    108\n",
       "2/1/2020     108\n",
       "2/8/2020     108\n",
       "8/8/2020     108\n",
       "3/21/2020    108\n",
       "5/30/2020    108\n",
       "9/5/2020     108\n",
       "3/28/2020    108\n",
       "7/11/2020    108\n",
       "8/1/2020     108\n",
       "10/3/2020    108\n",
       "9/26/2020    108\n",
       "6/27/2020    108\n",
       "5/23/2020    108\n",
       "8/22/2020    108\n",
       "4/18/2020    108\n",
       "4/11/2020    108\n",
       "6/20/2020    108\n",
       "7/4/2020     108\n",
       "6/6/2020     108\n",
       "8/29/2020    108\n",
       "2/15/2020    108\n",
       "8/15/2020    108\n",
       "9/19/2020    108\n",
       "1/4/2020     108\n",
       "3/7/2020     108\n",
       "5/2/2020     108\n",
       "5/9/2020     108\n",
       "1/11/2020    108\n",
       "4/25/2020    108\n",
       "6/13/2020    108\n",
       "4/4/2020     108\n",
       "5/16/2020    108\n",
       "1/18/2020    108\n",
       "7/18/2020    108\n",
       "9/12/2020    108\n",
       "1/25/2020    108\n",
       "7/25/2020    108\n",
       "Name: Week Ending Date, dtype: int64"
      ]
     },
     "execution_count": 37,
     "metadata": {},
     "output_type": "execute_result"
    }
   ],
   "source": [
    "df['Week Ending Date'].value_counts()"
   ]
  },
  {
   "cell_type": "code",
   "execution_count": 38,
   "metadata": {},
   "outputs": [],
   "source": [
    "def function(row):\n",
    "    if row['Week Ending Date'][0] == '2':\n",
    "        return 'Feb'\n",
    "    if row['Week Ending Date'][0] == '3':\n",
    "        return 'March'\n",
    "    if row['Week Ending Date'][0] == '4':\n",
    "        return 'April'\n",
    "    elif row['Week Ending Date'][0] == '5':\n",
    "        return 'May'\n",
    "    elif row['Week Ending Date'][0] == '6':\n",
    "        return 'June'\n",
    "    elif row['Week Ending Date'][0] == '7':\n",
    "        return 'July'\n",
    "    elif row['Week Ending Date'][0] == '8':\n",
    "        return 'August'\n",
    "    elif row['Week Ending Date'][0] == '9':\n",
    "        return 'September'\n",
    "    else:\n",
    "        return 'NaN'"
   ]
  },
  {
   "cell_type": "code",
   "execution_count": 39,
   "metadata": {},
   "outputs": [],
   "source": [
    "df['Month'] = df.apply(function, axis=1)"
   ]
  },
  {
   "cell_type": "code",
   "execution_count": 40,
   "metadata": {},
   "outputs": [
    {
     "data": {
      "text/plain": [
       "NaN          540\n",
       "Feb          540\n",
       "August       540\n",
       "May          540\n",
       "July         432\n",
       "June         432\n",
       "April        432\n",
       "March        432\n",
       "September    432\n",
       "Name: Month, dtype: int64"
      ]
     },
     "execution_count": 40,
     "metadata": {},
     "output_type": "execute_result"
    }
   ],
   "source": [
    "df['Month'].value_counts()"
   ]
  },
  {
   "cell_type": "code",
   "execution_count": 41,
   "metadata": {},
   "outputs": [
    {
     "data": {
      "text/plain": [
       "All causes, excluding COVID-19    2160\n",
       "All causes                        2160\n",
       "Name: Outcome, dtype: int64"
      ]
     },
     "execution_count": 41,
     "metadata": {},
     "output_type": "execute_result"
    }
   ],
   "source": [
    "df['Outcome'].value_counts()"
   ]
  },
  {
   "cell_type": "code",
   "execution_count": 42,
   "metadata": {
    "scrolled": true
   },
   "outputs": [
    {
     "data": {
      "text/plain": [
       "New Hampshire           80\n",
       "Nebraska                80\n",
       "Oregon                  80\n",
       "Minnesota               80\n",
       "Virginia                80\n",
       "Oklahoma                80\n",
       "Connecticut             80\n",
       "Indiana                 80\n",
       "Washington              80\n",
       "Michigan                80\n",
       "Maryland                80\n",
       "Vermont                 80\n",
       "Pennsylvania            80\n",
       "Missouri                80\n",
       "Mississippi             80\n",
       "California              80\n",
       "Wisconsin               80\n",
       "Kentucky                80\n",
       "Colorado                80\n",
       "Ohio                    80\n",
       "Massachusetts           80\n",
       "South Dakota            80\n",
       "Utah                    80\n",
       "New Mexico              80\n",
       "Puerto Rico             80\n",
       "Iowa                    80\n",
       "Arkansas                80\n",
       "Alaska                  80\n",
       "New Jersey              80\n",
       "North Dakota            80\n",
       "Idaho                   80\n",
       "North Carolina          80\n",
       "South Carolina          80\n",
       "Delaware                80\n",
       "Wyoming                 80\n",
       "Florida                 80\n",
       "New York City           80\n",
       "Hawaii                  80\n",
       "Louisiana               80\n",
       "Nevada                  80\n",
       "Montana                 80\n",
       "Alabama                 80\n",
       "West Virginia           80\n",
       "Texas                   80\n",
       "District of Columbia    80\n",
       "Illinois                80\n",
       "Georgia                 80\n",
       "Arizona                 80\n",
       "United States           80\n",
       "New York                80\n",
       "Tennessee               80\n",
       "Rhode Island            80\n",
       "Maine                   80\n",
       "Kansas                  80\n",
       "Name: State, dtype: int64"
      ]
     },
     "execution_count": 42,
     "metadata": {},
     "output_type": "execute_result"
    }
   ],
   "source": [
    "df['State'].value_counts()"
   ]
  },
  {
   "cell_type": "code",
   "execution_count": 43,
   "metadata": {},
   "outputs": [],
   "source": [
    "df = df[df['State']=='United States']"
   ]
  },
  {
   "cell_type": "code",
   "execution_count": 44,
   "metadata": {},
   "outputs": [
    {
     "data": {
      "text/html": [
       "<div>\n",
       "<style scoped>\n",
       "    .dataframe tbody tr th:only-of-type {\n",
       "        vertical-align: middle;\n",
       "    }\n",
       "\n",
       "    .dataframe tbody tr th {\n",
       "        vertical-align: top;\n",
       "    }\n",
       "\n",
       "    .dataframe thead th {\n",
       "        text-align: right;\n",
       "    }\n",
       "</style>\n",
       "<table border=\"1\" class=\"dataframe\">\n",
       "  <thead>\n",
       "    <tr style=\"text-align: right;\">\n",
       "      <th></th>\n",
       "      <th>Week Ending Date</th>\n",
       "      <th>State</th>\n",
       "      <th>Observed Number</th>\n",
       "      <th>Upper Bound Threshold</th>\n",
       "      <th>Exceeds Threshold</th>\n",
       "      <th>Average Expected Count</th>\n",
       "      <th>Excess Lower Estimate</th>\n",
       "      <th>Excess Higher Estimate</th>\n",
       "      <th>Year</th>\n",
       "      <th>Total Excess Lower Estimate in 2020</th>\n",
       "      <th>Total Excess Higher Estimate in 2020</th>\n",
       "      <th>Percent Excess Lower Estimate</th>\n",
       "      <th>Percent Excess Higher Estimate</th>\n",
       "      <th>Type</th>\n",
       "      <th>Outcome</th>\n",
       "      <th>Suppress</th>\n",
       "      <th>Note</th>\n",
       "      <th>Month</th>\n",
       "    </tr>\n",
       "  </thead>\n",
       "  <tbody>\n",
       "    <tr>\n",
       "      <th>9125</th>\n",
       "      <td>1/4/2020</td>\n",
       "      <td>United States</td>\n",
       "      <td>60145.0</td>\n",
       "      <td>61902.0</td>\n",
       "      <td>False</td>\n",
       "      <td>59478.0</td>\n",
       "      <td>0.0</td>\n",
       "      <td>667.0</td>\n",
       "      <td>2020</td>\n",
       "      <td>224173</td>\n",
       "      <td>299028</td>\n",
       "      <td>0.0</td>\n",
       "      <td>0.0</td>\n",
       "      <td>Predicted (weighted)</td>\n",
       "      <td>All causes</td>\n",
       "      <td>NaN</td>\n",
       "      <td>NaN</td>\n",
       "      <td>NaN</td>\n",
       "    </tr>\n",
       "    <tr>\n",
       "      <th>9126</th>\n",
       "      <td>1/11/2020</td>\n",
       "      <td>United States</td>\n",
       "      <td>60707.0</td>\n",
       "      <td>62499.0</td>\n",
       "      <td>False</td>\n",
       "      <td>59995.0</td>\n",
       "      <td>0.0</td>\n",
       "      <td>712.0</td>\n",
       "      <td>2020</td>\n",
       "      <td>224173</td>\n",
       "      <td>299028</td>\n",
       "      <td>0.0</td>\n",
       "      <td>0.0</td>\n",
       "      <td>Predicted (weighted)</td>\n",
       "      <td>All causes</td>\n",
       "      <td>NaN</td>\n",
       "      <td>NaN</td>\n",
       "      <td>NaN</td>\n",
       "    </tr>\n",
       "    <tr>\n",
       "      <th>9127</th>\n",
       "      <td>1/18/2020</td>\n",
       "      <td>United States</td>\n",
       "      <td>59339.0</td>\n",
       "      <td>62546.0</td>\n",
       "      <td>False</td>\n",
       "      <td>60233.0</td>\n",
       "      <td>0.0</td>\n",
       "      <td>0.0</td>\n",
       "      <td>2020</td>\n",
       "      <td>224173</td>\n",
       "      <td>299028</td>\n",
       "      <td>0.0</td>\n",
       "      <td>0.0</td>\n",
       "      <td>Predicted (weighted)</td>\n",
       "      <td>All causes</td>\n",
       "      <td>NaN</td>\n",
       "      <td>NaN</td>\n",
       "      <td>NaN</td>\n",
       "    </tr>\n",
       "    <tr>\n",
       "      <th>9128</th>\n",
       "      <td>1/25/2020</td>\n",
       "      <td>United States</td>\n",
       "      <td>59126.0</td>\n",
       "      <td>62611.0</td>\n",
       "      <td>False</td>\n",
       "      <td>60349.0</td>\n",
       "      <td>0.0</td>\n",
       "      <td>0.0</td>\n",
       "      <td>2020</td>\n",
       "      <td>224173</td>\n",
       "      <td>299028</td>\n",
       "      <td>0.0</td>\n",
       "      <td>0.0</td>\n",
       "      <td>Predicted (weighted)</td>\n",
       "      <td>All causes</td>\n",
       "      <td>NaN</td>\n",
       "      <td>NaN</td>\n",
       "      <td>NaN</td>\n",
       "    </tr>\n",
       "    <tr>\n",
       "      <th>9129</th>\n",
       "      <td>2/1/2020</td>\n",
       "      <td>United States</td>\n",
       "      <td>58780.0</td>\n",
       "      <td>62074.0</td>\n",
       "      <td>False</td>\n",
       "      <td>59906.0</td>\n",
       "      <td>0.0</td>\n",
       "      <td>0.0</td>\n",
       "      <td>2020</td>\n",
       "      <td>224173</td>\n",
       "      <td>299028</td>\n",
       "      <td>0.0</td>\n",
       "      <td>0.0</td>\n",
       "      <td>Predicted (weighted)</td>\n",
       "      <td>All causes</td>\n",
       "      <td>NaN</td>\n",
       "      <td>Data in recent weeks are incomplete. Only 60% ...</td>\n",
       "      <td>Feb</td>\n",
       "    </tr>\n",
       "  </tbody>\n",
       "</table>\n",
       "</div>"
      ],
      "text/plain": [
       "     Week Ending Date          State  Observed Number  Upper Bound Threshold  \\\n",
       "9125         1/4/2020  United States          60145.0                61902.0   \n",
       "9126        1/11/2020  United States          60707.0                62499.0   \n",
       "9127        1/18/2020  United States          59339.0                62546.0   \n",
       "9128        1/25/2020  United States          59126.0                62611.0   \n",
       "9129         2/1/2020  United States          58780.0                62074.0   \n",
       "\n",
       "      Exceeds Threshold  Average Expected Count  Excess Lower Estimate  \\\n",
       "9125              False                 59478.0                    0.0   \n",
       "9126              False                 59995.0                    0.0   \n",
       "9127              False                 60233.0                    0.0   \n",
       "9128              False                 60349.0                    0.0   \n",
       "9129              False                 59906.0                    0.0   \n",
       "\n",
       "      Excess Higher Estimate  Year  Total Excess Lower Estimate in 2020  \\\n",
       "9125                   667.0  2020                               224173   \n",
       "9126                   712.0  2020                               224173   \n",
       "9127                     0.0  2020                               224173   \n",
       "9128                     0.0  2020                               224173   \n",
       "9129                     0.0  2020                               224173   \n",
       "\n",
       "      Total Excess Higher Estimate in 2020  Percent Excess Lower Estimate  \\\n",
       "9125                                299028                            0.0   \n",
       "9126                                299028                            0.0   \n",
       "9127                                299028                            0.0   \n",
       "9128                                299028                            0.0   \n",
       "9129                                299028                            0.0   \n",
       "\n",
       "      Percent Excess Higher Estimate                  Type     Outcome  \\\n",
       "9125                             0.0  Predicted (weighted)  All causes   \n",
       "9126                             0.0  Predicted (weighted)  All causes   \n",
       "9127                             0.0  Predicted (weighted)  All causes   \n",
       "9128                             0.0  Predicted (weighted)  All causes   \n",
       "9129                             0.0  Predicted (weighted)  All causes   \n",
       "\n",
       "     Suppress                                               Note Month  \n",
       "9125      NaN                                                NaN   NaN  \n",
       "9126      NaN                                                NaN   NaN  \n",
       "9127      NaN                                                NaN   NaN  \n",
       "9128      NaN                                                NaN   NaN  \n",
       "9129      NaN  Data in recent weeks are incomplete. Only 60% ...   Feb  "
      ]
     },
     "execution_count": 44,
     "metadata": {},
     "output_type": "execute_result"
    }
   ],
   "source": [
    "df.head()"
   ]
  },
  {
   "cell_type": "code",
   "execution_count": 45,
   "metadata": {},
   "outputs": [],
   "source": [
    "all_case = df['Outcome'] == 'All causes'\n",
    "no_covid = df['Outcome'] == 'All causes, excluding COVID-19'\n",
    "\n",
    "all_df = df[all_case]\n",
    "nocovid_df = df[no_covid]"
   ]
  },
  {
   "cell_type": "code",
   "execution_count": 46,
   "metadata": {},
   "outputs": [
    {
     "data": {
      "text/html": [
       "<div>\n",
       "<style scoped>\n",
       "    .dataframe tbody tr th:only-of-type {\n",
       "        vertical-align: middle;\n",
       "    }\n",
       "\n",
       "    .dataframe tbody tr th {\n",
       "        vertical-align: top;\n",
       "    }\n",
       "\n",
       "    .dataframe thead th {\n",
       "        text-align: right;\n",
       "    }\n",
       "</style>\n",
       "<table border=\"1\" class=\"dataframe\">\n",
       "  <thead>\n",
       "    <tr style=\"text-align: right;\">\n",
       "      <th></th>\n",
       "      <th>Week Ending Date</th>\n",
       "      <th>State</th>\n",
       "      <th>Observed Number</th>\n",
       "      <th>Upper Bound Threshold</th>\n",
       "      <th>Exceeds Threshold</th>\n",
       "      <th>Average Expected Count</th>\n",
       "      <th>Excess Lower Estimate</th>\n",
       "      <th>Excess Higher Estimate</th>\n",
       "      <th>Year</th>\n",
       "      <th>Total Excess Lower Estimate in 2020</th>\n",
       "      <th>Total Excess Higher Estimate in 2020</th>\n",
       "      <th>Percent Excess Lower Estimate</th>\n",
       "      <th>Percent Excess Higher Estimate</th>\n",
       "      <th>Type</th>\n",
       "      <th>Outcome</th>\n",
       "      <th>Suppress</th>\n",
       "      <th>Note</th>\n",
       "      <th>Month</th>\n",
       "    </tr>\n",
       "  </thead>\n",
       "  <tbody>\n",
       "    <tr>\n",
       "      <th>9125</th>\n",
       "      <td>1/4/2020</td>\n",
       "      <td>United States</td>\n",
       "      <td>60145.0</td>\n",
       "      <td>61902.0</td>\n",
       "      <td>False</td>\n",
       "      <td>59478.0</td>\n",
       "      <td>0.0</td>\n",
       "      <td>667.0</td>\n",
       "      <td>2020</td>\n",
       "      <td>224173</td>\n",
       "      <td>299028</td>\n",
       "      <td>0.0</td>\n",
       "      <td>0.0</td>\n",
       "      <td>Predicted (weighted)</td>\n",
       "      <td>All causes</td>\n",
       "      <td>NaN</td>\n",
       "      <td>NaN</td>\n",
       "      <td>NaN</td>\n",
       "    </tr>\n",
       "    <tr>\n",
       "      <th>9126</th>\n",
       "      <td>1/11/2020</td>\n",
       "      <td>United States</td>\n",
       "      <td>60707.0</td>\n",
       "      <td>62499.0</td>\n",
       "      <td>False</td>\n",
       "      <td>59995.0</td>\n",
       "      <td>0.0</td>\n",
       "      <td>712.0</td>\n",
       "      <td>2020</td>\n",
       "      <td>224173</td>\n",
       "      <td>299028</td>\n",
       "      <td>0.0</td>\n",
       "      <td>0.0</td>\n",
       "      <td>Predicted (weighted)</td>\n",
       "      <td>All causes</td>\n",
       "      <td>NaN</td>\n",
       "      <td>NaN</td>\n",
       "      <td>NaN</td>\n",
       "    </tr>\n",
       "    <tr>\n",
       "      <th>9127</th>\n",
       "      <td>1/18/2020</td>\n",
       "      <td>United States</td>\n",
       "      <td>59339.0</td>\n",
       "      <td>62546.0</td>\n",
       "      <td>False</td>\n",
       "      <td>60233.0</td>\n",
       "      <td>0.0</td>\n",
       "      <td>0.0</td>\n",
       "      <td>2020</td>\n",
       "      <td>224173</td>\n",
       "      <td>299028</td>\n",
       "      <td>0.0</td>\n",
       "      <td>0.0</td>\n",
       "      <td>Predicted (weighted)</td>\n",
       "      <td>All causes</td>\n",
       "      <td>NaN</td>\n",
       "      <td>NaN</td>\n",
       "      <td>NaN</td>\n",
       "    </tr>\n",
       "    <tr>\n",
       "      <th>9128</th>\n",
       "      <td>1/25/2020</td>\n",
       "      <td>United States</td>\n",
       "      <td>59126.0</td>\n",
       "      <td>62611.0</td>\n",
       "      <td>False</td>\n",
       "      <td>60349.0</td>\n",
       "      <td>0.0</td>\n",
       "      <td>0.0</td>\n",
       "      <td>2020</td>\n",
       "      <td>224173</td>\n",
       "      <td>299028</td>\n",
       "      <td>0.0</td>\n",
       "      <td>0.0</td>\n",
       "      <td>Predicted (weighted)</td>\n",
       "      <td>All causes</td>\n",
       "      <td>NaN</td>\n",
       "      <td>NaN</td>\n",
       "      <td>NaN</td>\n",
       "    </tr>\n",
       "    <tr>\n",
       "      <th>9129</th>\n",
       "      <td>2/1/2020</td>\n",
       "      <td>United States</td>\n",
       "      <td>58780.0</td>\n",
       "      <td>62074.0</td>\n",
       "      <td>False</td>\n",
       "      <td>59906.0</td>\n",
       "      <td>0.0</td>\n",
       "      <td>0.0</td>\n",
       "      <td>2020</td>\n",
       "      <td>224173</td>\n",
       "      <td>299028</td>\n",
       "      <td>0.0</td>\n",
       "      <td>0.0</td>\n",
       "      <td>Predicted (weighted)</td>\n",
       "      <td>All causes</td>\n",
       "      <td>NaN</td>\n",
       "      <td>Data in recent weeks are incomplete. Only 60% ...</td>\n",
       "      <td>Feb</td>\n",
       "    </tr>\n",
       "  </tbody>\n",
       "</table>\n",
       "</div>"
      ],
      "text/plain": [
       "     Week Ending Date          State  Observed Number  Upper Bound Threshold  \\\n",
       "9125         1/4/2020  United States          60145.0                61902.0   \n",
       "9126        1/11/2020  United States          60707.0                62499.0   \n",
       "9127        1/18/2020  United States          59339.0                62546.0   \n",
       "9128        1/25/2020  United States          59126.0                62611.0   \n",
       "9129         2/1/2020  United States          58780.0                62074.0   \n",
       "\n",
       "      Exceeds Threshold  Average Expected Count  Excess Lower Estimate  \\\n",
       "9125              False                 59478.0                    0.0   \n",
       "9126              False                 59995.0                    0.0   \n",
       "9127              False                 60233.0                    0.0   \n",
       "9128              False                 60349.0                    0.0   \n",
       "9129              False                 59906.0                    0.0   \n",
       "\n",
       "      Excess Higher Estimate  Year  Total Excess Lower Estimate in 2020  \\\n",
       "9125                   667.0  2020                               224173   \n",
       "9126                   712.0  2020                               224173   \n",
       "9127                     0.0  2020                               224173   \n",
       "9128                     0.0  2020                               224173   \n",
       "9129                     0.0  2020                               224173   \n",
       "\n",
       "      Total Excess Higher Estimate in 2020  Percent Excess Lower Estimate  \\\n",
       "9125                                299028                            0.0   \n",
       "9126                                299028                            0.0   \n",
       "9127                                299028                            0.0   \n",
       "9128                                299028                            0.0   \n",
       "9129                                299028                            0.0   \n",
       "\n",
       "      Percent Excess Higher Estimate                  Type     Outcome  \\\n",
       "9125                             0.0  Predicted (weighted)  All causes   \n",
       "9126                             0.0  Predicted (weighted)  All causes   \n",
       "9127                             0.0  Predicted (weighted)  All causes   \n",
       "9128                             0.0  Predicted (weighted)  All causes   \n",
       "9129                             0.0  Predicted (weighted)  All causes   \n",
       "\n",
       "     Suppress                                               Note Month  \n",
       "9125      NaN                                                NaN   NaN  \n",
       "9126      NaN                                                NaN   NaN  \n",
       "9127      NaN                                                NaN   NaN  \n",
       "9128      NaN                                                NaN   NaN  \n",
       "9129      NaN  Data in recent weeks are incomplete. Only 60% ...   Feb  "
      ]
     },
     "execution_count": 46,
     "metadata": {},
     "output_type": "execute_result"
    }
   ],
   "source": [
    "all_df.head()"
   ]
  },
  {
   "cell_type": "code",
   "execution_count": 47,
   "metadata": {},
   "outputs": [
    {
     "data": {
      "text/html": [
       "<div>\n",
       "<style scoped>\n",
       "    .dataframe tbody tr th:only-of-type {\n",
       "        vertical-align: middle;\n",
       "    }\n",
       "\n",
       "    .dataframe tbody tr th {\n",
       "        vertical-align: top;\n",
       "    }\n",
       "\n",
       "    .dataframe thead th {\n",
       "        text-align: right;\n",
       "    }\n",
       "</style>\n",
       "<table border=\"1\" class=\"dataframe\">\n",
       "  <thead>\n",
       "    <tr style=\"text-align: right;\">\n",
       "      <th></th>\n",
       "      <th>Week Ending Date</th>\n",
       "      <th>State</th>\n",
       "      <th>Observed Number</th>\n",
       "      <th>Upper Bound Threshold</th>\n",
       "      <th>Exceeds Threshold</th>\n",
       "      <th>Average Expected Count</th>\n",
       "      <th>Excess Lower Estimate</th>\n",
       "      <th>Excess Higher Estimate</th>\n",
       "      <th>Year</th>\n",
       "      <th>Total Excess Lower Estimate in 2020</th>\n",
       "      <th>Total Excess Higher Estimate in 2020</th>\n",
       "      <th>Percent Excess Lower Estimate</th>\n",
       "      <th>Percent Excess Higher Estimate</th>\n",
       "      <th>Type</th>\n",
       "      <th>Outcome</th>\n",
       "      <th>Suppress</th>\n",
       "      <th>Note</th>\n",
       "      <th>Month</th>\n",
       "    </tr>\n",
       "  </thead>\n",
       "  <tbody>\n",
       "    <tr>\n",
       "      <th>19655</th>\n",
       "      <td>1/4/2020</td>\n",
       "      <td>United States</td>\n",
       "      <td>60144.0</td>\n",
       "      <td>61902.0</td>\n",
       "      <td>False</td>\n",
       "      <td>59478.0</td>\n",
       "      <td>0.0</td>\n",
       "      <td>666.0</td>\n",
       "      <td>2020</td>\n",
       "      <td>32478</td>\n",
       "      <td>100947</td>\n",
       "      <td>0.0</td>\n",
       "      <td>0.0</td>\n",
       "      <td>Predicted (weighted)</td>\n",
       "      <td>All causes, excluding COVID-19</td>\n",
       "      <td>NaN</td>\n",
       "      <td>NaN</td>\n",
       "      <td>NaN</td>\n",
       "    </tr>\n",
       "    <tr>\n",
       "      <th>19656</th>\n",
       "      <td>1/11/2020</td>\n",
       "      <td>United States</td>\n",
       "      <td>60707.0</td>\n",
       "      <td>62499.0</td>\n",
       "      <td>False</td>\n",
       "      <td>59995.0</td>\n",
       "      <td>0.0</td>\n",
       "      <td>712.0</td>\n",
       "      <td>2020</td>\n",
       "      <td>32478</td>\n",
       "      <td>100947</td>\n",
       "      <td>0.0</td>\n",
       "      <td>0.0</td>\n",
       "      <td>Predicted (weighted)</td>\n",
       "      <td>All causes, excluding COVID-19</td>\n",
       "      <td>NaN</td>\n",
       "      <td>NaN</td>\n",
       "      <td>NaN</td>\n",
       "    </tr>\n",
       "    <tr>\n",
       "      <th>19657</th>\n",
       "      <td>1/18/2020</td>\n",
       "      <td>United States</td>\n",
       "      <td>59335.0</td>\n",
       "      <td>62546.0</td>\n",
       "      <td>False</td>\n",
       "      <td>60233.0</td>\n",
       "      <td>0.0</td>\n",
       "      <td>0.0</td>\n",
       "      <td>2020</td>\n",
       "      <td>32478</td>\n",
       "      <td>100947</td>\n",
       "      <td>0.0</td>\n",
       "      <td>0.0</td>\n",
       "      <td>Predicted (weighted)</td>\n",
       "      <td>All causes, excluding COVID-19</td>\n",
       "      <td>NaN</td>\n",
       "      <td>NaN</td>\n",
       "      <td>NaN</td>\n",
       "    </tr>\n",
       "    <tr>\n",
       "      <th>19658</th>\n",
       "      <td>1/25/2020</td>\n",
       "      <td>United States</td>\n",
       "      <td>59125.0</td>\n",
       "      <td>62611.0</td>\n",
       "      <td>False</td>\n",
       "      <td>60349.0</td>\n",
       "      <td>0.0</td>\n",
       "      <td>0.0</td>\n",
       "      <td>2020</td>\n",
       "      <td>32478</td>\n",
       "      <td>100947</td>\n",
       "      <td>0.0</td>\n",
       "      <td>0.0</td>\n",
       "      <td>Predicted (weighted)</td>\n",
       "      <td>All causes, excluding COVID-19</td>\n",
       "      <td>NaN</td>\n",
       "      <td>NaN</td>\n",
       "      <td>NaN</td>\n",
       "    </tr>\n",
       "    <tr>\n",
       "      <th>19659</th>\n",
       "      <td>2/1/2020</td>\n",
       "      <td>United States</td>\n",
       "      <td>58780.0</td>\n",
       "      <td>62074.0</td>\n",
       "      <td>False</td>\n",
       "      <td>59906.0</td>\n",
       "      <td>0.0</td>\n",
       "      <td>0.0</td>\n",
       "      <td>2020</td>\n",
       "      <td>32478</td>\n",
       "      <td>100947</td>\n",
       "      <td>0.0</td>\n",
       "      <td>0.0</td>\n",
       "      <td>Predicted (weighted)</td>\n",
       "      <td>All causes, excluding COVID-19</td>\n",
       "      <td>NaN</td>\n",
       "      <td>Data in recent weeks are incomplete. Only 60% ...</td>\n",
       "      <td>Feb</td>\n",
       "    </tr>\n",
       "  </tbody>\n",
       "</table>\n",
       "</div>"
      ],
      "text/plain": [
       "      Week Ending Date          State  Observed Number  Upper Bound Threshold  \\\n",
       "19655         1/4/2020  United States          60144.0                61902.0   \n",
       "19656        1/11/2020  United States          60707.0                62499.0   \n",
       "19657        1/18/2020  United States          59335.0                62546.0   \n",
       "19658        1/25/2020  United States          59125.0                62611.0   \n",
       "19659         2/1/2020  United States          58780.0                62074.0   \n",
       "\n",
       "       Exceeds Threshold  Average Expected Count  Excess Lower Estimate  \\\n",
       "19655              False                 59478.0                    0.0   \n",
       "19656              False                 59995.0                    0.0   \n",
       "19657              False                 60233.0                    0.0   \n",
       "19658              False                 60349.0                    0.0   \n",
       "19659              False                 59906.0                    0.0   \n",
       "\n",
       "       Excess Higher Estimate  Year  Total Excess Lower Estimate in 2020  \\\n",
       "19655                   666.0  2020                                32478   \n",
       "19656                   712.0  2020                                32478   \n",
       "19657                     0.0  2020                                32478   \n",
       "19658                     0.0  2020                                32478   \n",
       "19659                     0.0  2020                                32478   \n",
       "\n",
       "       Total Excess Higher Estimate in 2020  Percent Excess Lower Estimate  \\\n",
       "19655                                100947                            0.0   \n",
       "19656                                100947                            0.0   \n",
       "19657                                100947                            0.0   \n",
       "19658                                100947                            0.0   \n",
       "19659                                100947                            0.0   \n",
       "\n",
       "       Percent Excess Higher Estimate                  Type  \\\n",
       "19655                             0.0  Predicted (weighted)   \n",
       "19656                             0.0  Predicted (weighted)   \n",
       "19657                             0.0  Predicted (weighted)   \n",
       "19658                             0.0  Predicted (weighted)   \n",
       "19659                             0.0  Predicted (weighted)   \n",
       "\n",
       "                              Outcome Suppress  \\\n",
       "19655  All causes, excluding COVID-19      NaN   \n",
       "19656  All causes, excluding COVID-19      NaN   \n",
       "19657  All causes, excluding COVID-19      NaN   \n",
       "19658  All causes, excluding COVID-19      NaN   \n",
       "19659  All causes, excluding COVID-19      NaN   \n",
       "\n",
       "                                                    Note Month  \n",
       "19655                                                NaN   NaN  \n",
       "19656                                                NaN   NaN  \n",
       "19657                                                NaN   NaN  \n",
       "19658                                                NaN   NaN  \n",
       "19659  Data in recent weeks are incomplete. Only 60% ...   Feb  "
      ]
     },
     "execution_count": 47,
     "metadata": {},
     "output_type": "execute_result"
    }
   ],
   "source": [
    "nocovid_df.head()"
   ]
  },
  {
   "cell_type": "code",
   "execution_count": 48,
   "metadata": {},
   "outputs": [],
   "source": [
    "month = ['Feb','March','April', 'May', 'June', 'July', 'August', 'September']\n",
    "\n",
    "deaths = []\n",
    "\n",
    "for i in month:\n",
    "    data = all_df[all_df['Month']== i]\n",
    "    deaths.append(np.sum(data['Observed Number']))"
   ]
  },
  {
   "cell_type": "code",
   "execution_count": 49,
   "metadata": {},
   "outputs": [
    {
     "data": {
      "text/plain": [
       "[295005.0,\n",
       " 240309.0,\n",
       " 302083.0,\n",
       " 323275.0,\n",
       " 234369.0,\n",
       " 249539.0,\n",
       " 312414.0,\n",
       " 228816.0]"
      ]
     },
     "execution_count": 49,
     "metadata": {},
     "output_type": "execute_result"
    }
   ],
   "source": [
    "deaths"
   ]
  },
  {
   "cell_type": "code",
   "execution_count": 50,
   "metadata": {},
   "outputs": [],
   "source": [
    "no_covid = []\n",
    "\n",
    "for i in month:\n",
    "    data = nocovid_df[nocovid_df['Month']== i]\n",
    "    no_covid.append(np.sum(data['Observed Number']))"
   ]
  },
  {
   "cell_type": "code",
   "execution_count": 51,
   "metadata": {},
   "outputs": [
    {
     "data": {
      "text/plain": [
       "[294989.0,\n",
       " 236481.0,\n",
       " 243236.0,\n",
       " 276170.0,\n",
       " 217463.0,\n",
       " 224018.0,\n",
       " 277467.0,\n",
       " 211444.0]"
      ]
     },
     "execution_count": 51,
     "metadata": {},
     "output_type": "execute_result"
    }
   ],
   "source": [
    "no_covid"
   ]
  },
  {
   "cell_type": "code",
   "execution_count": 52,
   "metadata": {},
   "outputs": [],
   "source": [
    "deaths = np.array(deaths)\n",
    "no_covid = np.array(no_covid)"
   ]
  },
  {
   "cell_type": "code",
   "execution_count": 53,
   "metadata": {},
   "outputs": [],
   "source": [
    "covid = deaths - no_covid"
   ]
  },
  {
   "cell_type": "code",
   "execution_count": 54,
   "metadata": {
    "scrolled": true
   },
   "outputs": [
    {
     "data": {
      "text/plain": [
       "array([1.6000e+01, 3.8280e+03, 5.8847e+04, 4.7105e+04, 1.6906e+04,\n",
       "       2.5521e+04, 3.4947e+04, 1.7372e+04])"
      ]
     },
     "execution_count": 54,
     "metadata": {},
     "output_type": "execute_result"
    }
   ],
   "source": [
    "covid"
   ]
  },
  {
   "cell_type": "code",
   "execution_count": 55,
   "metadata": {},
   "outputs": [
    {
     "data": {
      "text/plain": [
       "204542.0"
      ]
     },
     "execution_count": 55,
     "metadata": {},
     "output_type": "execute_result"
    }
   ],
   "source": [
    "np.sum(covid)"
   ]
  },
  {
   "cell_type": "code",
   "execution_count": 56,
   "metadata": {},
   "outputs": [
    {
     "data": {
      "text/plain": [
       "0.09357720936403438"
      ]
     },
     "execution_count": 56,
     "metadata": {},
     "output_type": "execute_result"
    }
   ],
   "source": [
    "np.sum(covid)/np.sum(deaths)"
   ]
  },
  {
   "cell_type": "code",
   "execution_count": 57,
   "metadata": {},
   "outputs": [],
   "source": [
    "percentage = covid / deaths"
   ]
  },
  {
   "cell_type": "code",
   "execution_count": 58,
   "metadata": {},
   "outputs": [
    {
     "data": {
      "text/plain": [
       "array([5.42363689e-05, 1.59294908e-02, 1.94804077e-01, 1.45711855e-01,\n",
       "       7.21341133e-02, 1.02272591e-01, 1.11861184e-01, 7.59212642e-02])"
      ]
     },
     "execution_count": 58,
     "metadata": {},
     "output_type": "execute_result"
    }
   ],
   "source": [
    "percentage"
   ]
  },
  {
   "cell_type": "code",
   "execution_count": 59,
   "metadata": {},
   "outputs": [],
   "source": [
    "percent = ['0.0%','1.6%', '19.5%','14.6%','7.2%','10.2%','11.2%','7.6%']"
   ]
  },
  {
   "cell_type": "code",
   "execution_count": 60,
   "metadata": {},
   "outputs": [
    {
     "data": {
      "image/png": "[encoded data removed]",
      "text/plain": [
       "<Figure size 720x432 with 1 Axes>"
      ]
     },
     "metadata": {
      "needs_background": "light"
     },
     "output_type": "display_data"
    }
   ],
   "source": [
    "label = ['Feb','March','April','May','June','July','Aug','Sep']\n",
    "y_value1 = no_covid\n",
    "y_value2 = covid\n",
    "\n",
    "fig, axs = plt.subplots(figsize=(10,6)) # Change the figure size here    \n",
    "\n",
    "p1 = axs.bar(label, y_value1, color='darkgray')   \n",
    "p2 = axs.bar(label, y_value2, bottom=y_value1, color='indianred')\n",
    "\n",
    "axs.set_title(\"2020 U.S. Monthly Number of Deaths\", fontsize=20, fontweight=\"bold\", pad=30)   \n",
    "axs.set_ylabel(\"Number of Deaths\", fontsize=14)\n",
    "axs.tick_params(labelsize=16)  \n",
    "axs.spines['right'].set_visible(False)\n",
    "axs.spines['top'].set_visible(False)\n",
    "axs.legend((p1[0],p2[0]),('Excluding COVID-19','COVID-19 Deaths'),bbox_to_anchor=(1.03,0.8),fontsize=15)\n",
    "txt=\"* The percentages indicate relative COVID-19 deaths\"\n",
    "txt1 = 'Source: Centers for Disease Control and Prevention, National Center for Health Statistics'\n",
    "plt.text(2.5, -55000, txt, ha='center', fontsize=14)\n",
    "plt.text(3.5, -75000, txt1, ha='center', fontsize=11)\n",
    "\n",
    "for i in range(len(percent)):\n",
    "    plt.text(i-0.3, deaths[i] + 5000, percent[i], color='darkred', size=16)\n",
    "\n",
    "plt.show() "
   ]
  }
 ],
 "metadata": {
  "kernelspec": {
   "display_name": "Python 3",
   "language": "python",
   "name": "python3"
  },
  "language_info": {
   "codemirror_mode": {
    "name": "ipython",
    "version": 3
   },
   "file_extension": ".py",
   "mimetype": "text/x-python",
   "name": "python",
   "nbconvert_exporter": "python",
   "pygments_lexer": "ipython3",
   "version": "3.6.12"
  }
 },
 "nbformat": 4,
 "nbformat_minor": 4
}

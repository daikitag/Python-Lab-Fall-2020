{
 "cells": [
  {
   "cell_type": "markdown",
   "metadata": {},
   "source": [
    "# Homework 3"
   ]
  },
  {
   "cell_type": "markdown",
   "metadata": {},
   "source": [
    "# Problem1 [10 points]\n",
    "\n",
    "There are 2 for loop exercises, each worth 5 points each. You just have to get the desired output from for loops."
   ]
  },
  {
   "cell_type": "markdown",
   "metadata": {},
   "source": [
    "## (a) [5 points]\n",
    "\n",
    "Create a function that counts the number of common divisors of two numbers. Start with:\n",
    "```Python\n",
    "def divisor(number1, number2):\n",
    "```\n",
    "and use for loop inside this function"
   ]
  },
  {
   "cell_type": "code",
   "execution_count": 31,
   "metadata": {},
   "outputs": [],
   "source": [
    "def divisor(number1, number2):\n",
    "    total = 0\n",
    "    for i in range(1, number1+1):\n",
    "        if number1 % i == 0 and number2 % i == 0:\n",
    "            total += 1\n",
    "    print(\"The number of common divisors of {} and {} is {}\".format(number1, number2, total))"
   ]
  },
  {
   "cell_type": "code",
   "execution_count": 32,
   "metadata": {},
   "outputs": [
    {
     "name": "stdout",
     "output_type": "stream",
     "text": [
      "The number of common divisors of 2 and 3 is 1\n",
      "The number of common divisors of 2 and 4 is 2\n",
      "The number of common divisors of 6 and 12 is 4\n"
     ]
    }
   ],
   "source": [
    "# Check:\n",
    "divisor(2,3)\n",
    "divisor(2,4)\n",
    "divisor(6,12)"
   ]
  },
  {
   "cell_type": "markdown",
   "metadata": {},
   "source": [
    "## (b) [5 points]\n",
    "\n",
    "Create a function that examines whether the given number is a prime number or not. Start with:\n",
    "```Python\n",
    "def prime(number):\n",
    "```\n",
    "and use for loop inside this function."
   ]
  },
  {
   "cell_type": "code",
   "execution_count": 54,
   "metadata": {},
   "outputs": [],
   "source": [
    "def prime(number):\n",
    "    divisor = 0\n",
    "    for i in range(2, number):\n",
    "        if number % i == 0:\n",
    "            divisor += 1\n",
    "    if divisor == 0:\n",
    "        print(number, \"is a prime number\")\n",
    "    else:\n",
    "        print(number, \"is not a prime number\")"
   ]
  },
  {
   "cell_type": "code",
   "execution_count": 57,
   "metadata": {},
   "outputs": [
    {
     "name": "stdout",
     "output_type": "stream",
     "text": [
      "12 is not a prime number\n",
      "3 is a prime number\n",
      "17 is a prime number\n",
      "22 is not a prime number\n"
     ]
    }
   ],
   "source": [
    "# Check\n",
    "prime(12)\n",
    "prime(3)\n",
    "prime(17)\n",
    "prime(22)"
   ]
  },
  {
   "cell_type": "markdown",
   "metadata": {},
   "source": [
    "# Problem 2 [10 points]\n",
    "\n",
    "Grading scheme:\n",
    "- 3 points: Get the correct dataset\n",
    "- 3 points: Created a pie chart\n",
    "- 3 points: Correct labels\n",
    "- 1 point: Deal with NaNs\n",
    "\n",
    "During classes, we classified the BMI of different people. Create a pie chart that shows the distribution of people in different stages of obesity.\n",
    "\n",
    "### Hint:\n",
    "\n",
    "The \"NHANES.csv\" file is located in \"Data\" file, so you can just use\n",
    "```Python\n",
    "pd.read_csv(\"Data/NHANES.csv\")\n",
    "```\n",
    "to access it. BMI is in the \"BMI\" column."
   ]
  },
  {
   "cell_type": "code",
   "execution_count": 18,
   "metadata": {},
   "outputs": [
    {
     "name": "stderr",
     "output_type": "stream",
     "text": [
      "C:\\Users\\daiki\\Anaconda3\\lib\\site-packages\\ipykernel_launcher.py:19: SettingWithCopyWarning: \n",
      "A value is trying to be set on a copy of a slice from a DataFrame.\n",
      "Try using .loc[row_indexer,col_indexer] = value instead\n",
      "\n",
      "See the caveats in the documentation: https://pandas.pydata.org/pandas-docs/stable/user_guide/indexing.html#returning-a-view-versus-a-copy\n"
     ]
    }
   ],
   "source": [
    "import pandas as pd\n",
    "df = pd.read_csv(\"Data/NHANES.csv\")\n",
    "df_new = df.dropna(subset=['BMI'])\n",
    "\n",
    "def function(row):\n",
    "    if row['BMI'] >= 40:\n",
    "        return 'Severe Obesity'\n",
    "    elif row['BMI'] >= 30:\n",
    "        return 'Obesity'\n",
    "    elif row['BMI'] >= 25:\n",
    "        return 'Overweight'\n",
    "    elif row['BMI'] >= 18.5:\n",
    "        return 'Normal'\n",
    "    elif row['BMI'] < 18.5:\n",
    "        return 'Underweight'\n",
    "    else:\n",
    "        return 'NaN'\n",
    "    \n",
    "df_new['Obesity'] = df_new.apply(function, axis=1)\n",
    "\n",
    "table = pd.crosstab(index=df_new[\"Obesity\"], columns=\"count\") "
   ]
  },
  {
   "cell_type": "code",
   "execution_count": 20,
   "metadata": {},
   "outputs": [
    {
     "data": {
      "text/plain": [
       "Normal            2941\n",
       "Overweight        2656\n",
       "Obesity           2281\n",
       "Underweight       1271\n",
       "Severe Obesity     485\n",
       "Name: Obesity, dtype: int64"
      ]
     },
     "execution_count": 20,
     "metadata": {},
     "output_type": "execute_result"
    }
   ],
   "source": [
    "df_new['Obesity'].value_counts()"
   ]
  },
  {
   "cell_type": "code",
   "execution_count": 21,
   "metadata": {},
   "outputs": [
    {
     "data": {
      "image/png": "[encoded data removed]",
      "text/plain": [
       "<Figure size 360x360 with 1 Axes>"
      ]
     },
     "metadata": {},
     "output_type": "display_data"
    }
   ],
   "source": [
    "y_values = [2941, 2656, 2281, 1271, 485]\n",
    "x_values = ['Normal','Oberweight', 'Obesity','Underweight','Severe Obesity']\n",
    "\n",
    "import matplotlib.pyplot as plt\n",
    "\n",
    "fig, axs = plt.subplots(figsize=(5, 5)) # change figure size here\n",
    "axs.pie(y_values, labels=x_values, autopct='%1.1f%%', startangle=90)\n",
    "\n",
    "axs.axis('equal')\n",
    "plt.title('Obesity Distribution',fontweight=\"bold\", fontsize=15, pad=20)\n",
    "plt.show()"
   ]
  },
  {
   "cell_type": "markdown",
   "metadata": {},
   "source": [
    "## Alternative Solution:"
   ]
  },
  {
   "cell_type": "code",
   "execution_count": 4,
   "metadata": {},
   "outputs": [],
   "source": [
    "table = table.reindex(['Underweight','Normal','Overweight','Obesity','Severe Obesity'])"
   ]
  },
  {
   "cell_type": "code",
   "execution_count": 5,
   "metadata": {},
   "outputs": [
    {
     "data": {
      "image/png": "[encoded data removed]",
      "text/plain": [
       "<Figure size 360x360 with 1 Axes>"
      ]
     },
     "metadata": {},
     "output_type": "display_data"
    }
   ],
   "source": [
    "y_values = table[\"count\"]\n",
    "x_values = table.index\n",
    "\n",
    "import matplotlib.pyplot as plt\n",
    "\n",
    "fig, axs = plt.subplots(figsize=(5, 5)) # change figure size here\n",
    "axs.pie(y_values, labels=x_values, autopct='%1.1f%%', startangle=90)\n",
    "\n",
    "axs.axis('equal')\n",
    "plt.title('Obesity Distribution',fontweight=\"bold\", fontsize=15, pad=20)\n",
    "plt.show()"
   ]
  },
  {
   "cell_type": "markdown",
   "metadata": {},
   "source": [
    "# Problem 3 [15 points]\n",
    "\n",
    "Grading scheme:\n",
    "- 4 points: Create a visual to show education level of the U.S. \n",
    "- 1 point: Correctly dealt with NaNs\n",
    "- 4 points: Create a two way frequency table\n",
    "- 4 points: Determine the probability of each elements\n",
    "- 2 points: Comment on the result\n",
    "\n",
    "Race variable is located in 'Race3' column in NHANES.csv, and education level is available in 'Education' column in NHANES.csv. Create a visual to show the education level in the U.S. Afterwards, create a two way frequency table of education vs race. Determine the probability of each elements (i.e. show percentage of college grad, some college, etc for all race), and then comment on the result."
   ]
  },
  {
   "cell_type": "code",
   "execution_count": 6,
   "metadata": {},
   "outputs": [
    {
     "data": {
      "text/html": [
       "<div>\n",
       "<style scoped>\n",
       "    .dataframe tbody tr th:only-of-type {\n",
       "        vertical-align: middle;\n",
       "    }\n",
       "\n",
       "    .dataframe tbody tr th {\n",
       "        vertical-align: top;\n",
       "    }\n",
       "\n",
       "    .dataframe thead th {\n",
       "        text-align: right;\n",
       "    }\n",
       "</style>\n",
       "<table border=\"1\" class=\"dataframe\">\n",
       "  <thead>\n",
       "    <tr style=\"text-align: right;\">\n",
       "      <th>col_0</th>\n",
       "      <th>count</th>\n",
       "    </tr>\n",
       "    <tr>\n",
       "      <th>Education</th>\n",
       "      <th></th>\n",
       "    </tr>\n",
       "  </thead>\n",
       "  <tbody>\n",
       "    <tr>\n",
       "      <th>8th Grade</th>\n",
       "      <td>451</td>\n",
       "    </tr>\n",
       "    <tr>\n",
       "      <th>9 - 11th Grade</th>\n",
       "      <td>888</td>\n",
       "    </tr>\n",
       "    <tr>\n",
       "      <th>College Grad</th>\n",
       "      <td>2098</td>\n",
       "    </tr>\n",
       "    <tr>\n",
       "      <th>High School</th>\n",
       "      <td>1517</td>\n",
       "    </tr>\n",
       "    <tr>\n",
       "      <th>Some College</th>\n",
       "      <td>2267</td>\n",
       "    </tr>\n",
       "  </tbody>\n",
       "</table>\n",
       "</div>"
      ],
      "text/plain": [
       "col_0           count\n",
       "Education            \n",
       "8th Grade         451\n",
       "9 - 11th Grade    888\n",
       "College Grad     2098\n",
       "High School      1517\n",
       "Some College     2267"
      ]
     },
     "execution_count": 6,
     "metadata": {},
     "output_type": "execute_result"
    }
   ],
   "source": [
    "df_new = df.dropna(subset=['Education'])\n",
    "table = pd.crosstab(index=df_new[\"Education\"], columns=\"count\") \n",
    "table"
   ]
  },
  {
   "cell_type": "code",
   "execution_count": 7,
   "metadata": {},
   "outputs": [],
   "source": [
    "table = table.reindex(['8th Grade','9 - 11th Grade','High School','Some College','College Grad'])"
   ]
  },
  {
   "cell_type": "code",
   "execution_count": 8,
   "metadata": {},
   "outputs": [
    {
     "data": {
      "text/html": [
       "<div>\n",
       "<style scoped>\n",
       "    .dataframe tbody tr th:only-of-type {\n",
       "        vertical-align: middle;\n",
       "    }\n",
       "\n",
       "    .dataframe tbody tr th {\n",
       "        vertical-align: top;\n",
       "    }\n",
       "\n",
       "    .dataframe thead th {\n",
       "        text-align: right;\n",
       "    }\n",
       "</style>\n",
       "<table border=\"1\" class=\"dataframe\">\n",
       "  <thead>\n",
       "    <tr style=\"text-align: right;\">\n",
       "      <th>col_0</th>\n",
       "      <th>count</th>\n",
       "    </tr>\n",
       "    <tr>\n",
       "      <th>Education</th>\n",
       "      <th></th>\n",
       "    </tr>\n",
       "  </thead>\n",
       "  <tbody>\n",
       "    <tr>\n",
       "      <th>8th Grade</th>\n",
       "      <td>451</td>\n",
       "    </tr>\n",
       "    <tr>\n",
       "      <th>9 - 11th Grade</th>\n",
       "      <td>888</td>\n",
       "    </tr>\n",
       "    <tr>\n",
       "      <th>High School</th>\n",
       "      <td>1517</td>\n",
       "    </tr>\n",
       "    <tr>\n",
       "      <th>Some College</th>\n",
       "      <td>2267</td>\n",
       "    </tr>\n",
       "    <tr>\n",
       "      <th>College Grad</th>\n",
       "      <td>2098</td>\n",
       "    </tr>\n",
       "  </tbody>\n",
       "</table>\n",
       "</div>"
      ],
      "text/plain": [
       "col_0           count\n",
       "Education            \n",
       "8th Grade         451\n",
       "9 - 11th Grade    888\n",
       "High School      1517\n",
       "Some College     2267\n",
       "College Grad     2098"
      ]
     },
     "execution_count": 8,
     "metadata": {},
     "output_type": "execute_result"
    }
   ],
   "source": [
    "table"
   ]
  },
  {
   "cell_type": "code",
   "execution_count": 12,
   "metadata": {},
   "outputs": [
    {
     "data": {
      "image/png": "[encoded data removed]",
      "text/plain": [
       "<Figure size 720x432 with 1 Axes>"
      ]
     },
     "metadata": {
      "needs_background": "light"
     },
     "output_type": "display_data"
    }
   ],
   "source": [
    "x_values = table.index\n",
    "y_values = table['count'] / sum(table['count']) * 100\n",
    "\n",
    "fig, axs = plt.subplots(figsize=(10,6)) # Change the figure size here       \n",
    "axs.bar(x_values, y_values, color=('deepskyblue')) # You specify the color here     \n",
    "axs.set_title(\"Education level in the U.S.\", fontsize=20, fontweight=\"bold\")   \n",
    "axs.set_xlabel(\"Education\", fontsize=14)\n",
    "axs.set_ylabel(\"Percentage [%]\", fontsize=14)\n",
    "axs.tick_params(labelsize=12)  \n",
    "plt.grid(axis='y')\n",
    "plt.show() "
   ]
  },
  {
   "cell_type": "code",
   "execution_count": 47,
   "metadata": {},
   "outputs": [],
   "source": [
    "table = pd.crosstab(index=df_new[\"Education\"], columns=df[\"Race3\"]) "
   ]
  },
  {
   "cell_type": "code",
   "execution_count": 49,
   "metadata": {},
   "outputs": [],
   "source": [
    "table = table.reindex(['8th Grade','9 - 11th Grade','High School','Some College','College Grad'])\n",
    "table['Asian_per'] = table['Asian'] / sum(table['Asian'])\n",
    "table['Black_per'] = table['Black'] / sum(table['Black'])\n",
    "table['Hispanic_per'] = table['Hispanic'] / sum(table['Hispanic'])\n",
    "table['Mexican_per'] = table['Mexican'] / sum(table['Mexican'])\n",
    "table['Other_per'] = table['Other'] / sum(table['Other'])\n",
    "table['White_per'] = table['White'] / sum(table['White'])"
   ]
  },
  {
   "cell_type": "code",
   "execution_count": 50,
   "metadata": {},
   "outputs": [
    {
     "data": {
      "text/html": [
       "<div>\n",
       "<style scoped>\n",
       "    .dataframe tbody tr th:only-of-type {\n",
       "        vertical-align: middle;\n",
       "    }\n",
       "\n",
       "    .dataframe tbody tr th {\n",
       "        vertical-align: top;\n",
       "    }\n",
       "\n",
       "    .dataframe thead th {\n",
       "        text-align: right;\n",
       "    }\n",
       "</style>\n",
       "<table border=\"1\" class=\"dataframe\">\n",
       "  <thead>\n",
       "    <tr style=\"text-align: right;\">\n",
       "      <th>Race3</th>\n",
       "      <th>Asian</th>\n",
       "      <th>Black</th>\n",
       "      <th>Hispanic</th>\n",
       "      <th>Mexican</th>\n",
       "      <th>Other</th>\n",
       "      <th>White</th>\n",
       "      <th>Asian_per</th>\n",
       "      <th>Black_per</th>\n",
       "      <th>Hispanic_per</th>\n",
       "      <th>Mexican_per</th>\n",
       "      <th>Other_per</th>\n",
       "      <th>White_per</th>\n",
       "    </tr>\n",
       "    <tr>\n",
       "      <th>Education</th>\n",
       "      <th></th>\n",
       "      <th></th>\n",
       "      <th></th>\n",
       "      <th></th>\n",
       "      <th></th>\n",
       "      <th></th>\n",
       "      <th></th>\n",
       "      <th></th>\n",
       "      <th></th>\n",
       "      <th></th>\n",
       "      <th></th>\n",
       "      <th></th>\n",
       "    </tr>\n",
       "  </thead>\n",
       "  <tbody>\n",
       "    <tr>\n",
       "      <th>8th Grade</th>\n",
       "      <td>15</td>\n",
       "      <td>11</td>\n",
       "      <td>43</td>\n",
       "      <td>65</td>\n",
       "      <td>3</td>\n",
       "      <td>75</td>\n",
       "      <td>0.071770</td>\n",
       "      <td>0.027778</td>\n",
       "      <td>0.185345</td>\n",
       "      <td>0.239852</td>\n",
       "      <td>0.033708</td>\n",
       "      <td>0.031420</td>\n",
       "    </tr>\n",
       "    <tr>\n",
       "      <th>9 - 11th Grade</th>\n",
       "      <td>13</td>\n",
       "      <td>63</td>\n",
       "      <td>45</td>\n",
       "      <td>68</td>\n",
       "      <td>9</td>\n",
       "      <td>207</td>\n",
       "      <td>0.062201</td>\n",
       "      <td>0.159091</td>\n",
       "      <td>0.193966</td>\n",
       "      <td>0.250923</td>\n",
       "      <td>0.101124</td>\n",
       "      <td>0.086720</td>\n",
       "    </tr>\n",
       "    <tr>\n",
       "      <th>High School</th>\n",
       "      <td>15</td>\n",
       "      <td>94</td>\n",
       "      <td>57</td>\n",
       "      <td>61</td>\n",
       "      <td>16</td>\n",
       "      <td>436</td>\n",
       "      <td>0.071770</td>\n",
       "      <td>0.237374</td>\n",
       "      <td>0.245690</td>\n",
       "      <td>0.225092</td>\n",
       "      <td>0.179775</td>\n",
       "      <td>0.182656</td>\n",
       "    </tr>\n",
       "    <tr>\n",
       "      <th>Some College</th>\n",
       "      <td>56</td>\n",
       "      <td>152</td>\n",
       "      <td>53</td>\n",
       "      <td>54</td>\n",
       "      <td>46</td>\n",
       "      <td>799</td>\n",
       "      <td>0.267943</td>\n",
       "      <td>0.383838</td>\n",
       "      <td>0.228448</td>\n",
       "      <td>0.199262</td>\n",
       "      <td>0.516854</td>\n",
       "      <td>0.334730</td>\n",
       "    </tr>\n",
       "    <tr>\n",
       "      <th>College Grad</th>\n",
       "      <td>110</td>\n",
       "      <td>76</td>\n",
       "      <td>34</td>\n",
       "      <td>23</td>\n",
       "      <td>15</td>\n",
       "      <td>870</td>\n",
       "      <td>0.526316</td>\n",
       "      <td>0.191919</td>\n",
       "      <td>0.146552</td>\n",
       "      <td>0.084871</td>\n",
       "      <td>0.168539</td>\n",
       "      <td>0.364474</td>\n",
       "    </tr>\n",
       "  </tbody>\n",
       "</table>\n",
       "</div>"
      ],
      "text/plain": [
       "Race3           Asian  Black  Hispanic  Mexican  Other  White  Asian_per  \\\n",
       "Education                                                                  \n",
       "8th Grade          15     11        43       65      3     75   0.071770   \n",
       "9 - 11th Grade     13     63        45       68      9    207   0.062201   \n",
       "High School        15     94        57       61     16    436   0.071770   \n",
       "Some College       56    152        53       54     46    799   0.267943   \n",
       "College Grad      110     76        34       23     15    870   0.526316   \n",
       "\n",
       "Race3           Black_per  Hispanic_per  Mexican_per  Other_per  White_per  \n",
       "Education                                                                   \n",
       "8th Grade        0.027778      0.185345     0.239852   0.033708   0.031420  \n",
       "9 - 11th Grade   0.159091      0.193966     0.250923   0.101124   0.086720  \n",
       "High School      0.237374      0.245690     0.225092   0.179775   0.182656  \n",
       "Some College     0.383838      0.228448     0.199262   0.516854   0.334730  \n",
       "College Grad     0.191919      0.146552     0.084871   0.168539   0.364474  "
      ]
     },
     "execution_count": 50,
     "metadata": {},
     "output_type": "execute_result"
    }
   ],
   "source": [
    "table"
   ]
  },
  {
   "cell_type": "markdown",
   "metadata": {},
   "source": [
    "### Comment:\n",
    "\n",
    "It can be anything that is based on this data. For example:\n",
    "\n",
    "- Racial inequality in education\n",
    "- Why it is important to observe proportions compared to raw counts\n",
    "- etc\n",
    "\n",
    "In reporting the results, it might be useful to report some extreme values in the data to show how the data is distributed."
   ]
  }
 ],
 "metadata": {
  "kernelspec": {
   "display_name": "Python 3",
   "language": "python",
   "name": "python3"
  },
  "language_info": {
   "codemirror_mode": {
    "name": "ipython",
    "version": 3
   },
   "file_extension": ".py",
   "mimetype": "text/x-python",
   "name": "python",
   "nbconvert_exporter": "python",
   "pygments_lexer": "ipython3",
   "version": "3.6.12"
  }
 },
 "nbformat": 4,
 "nbformat_minor": 4
}

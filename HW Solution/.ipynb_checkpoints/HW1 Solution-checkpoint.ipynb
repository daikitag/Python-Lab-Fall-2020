{
 "cells": [
  {
   "cell_type": "markdown",
   "metadata": {},
   "source": [
    "# HW1: Total = 40 points"
   ]
  },
  {
   "cell_type": "markdown",
   "metadata": {},
   "source": [
    "## Problem1 [5 points]"
   ]
  },
  {
   "cell_type": "markdown",
   "metadata": {},
   "source": [
    "Use print statement to show your \"name\", \"UNI\", and the \"subject/area\" that you would like to pursue in the future. \"Name\", \"UNI\", and \"subject\" should be variables.\n",
    "\n",
    "Grading scheme:\n",
    "1. Use variable to represent name [1 point]\n",
    "2. Use variable to represent UNI [1 point]\n",
    "3. Use variable to represent subject [1 point]\n",
    "4. Use print statement to combine all the variables [2 points]"
   ]
  },
  {
   "cell_type": "code",
   "execution_count": 5,
   "metadata": {},
   "outputs": [
    {
     "name": "stdout",
     "output_type": "stream",
     "text": [
      "My name is Daiki and my UNI is dt2631. I'm interested in statistics.\n"
     ]
    }
   ],
   "source": [
    "# 1. here\n",
    "name = \"Daiki\"\n",
    "# 2. here\n",
    "uni = \"dt2631\"\n",
    "# 3. here\n",
    "subject = \"statistics\"\n",
    "\n",
    "# 4. here\n",
    "print(\"My name is {} and my UNI is {}. I'm interested in {}.\".format(name, uni, subject))"
   ]
  },
  {
   "cell_type": "markdown",
   "metadata": {},
   "source": [
    "## Problem2 [5 points]"
   ]
  },
  {
   "cell_type": "markdown",
   "metadata": {},
   "source": [
    "I wrote:\n",
    "~~~~{.python}\n",
    "print(\"1 + 1\")\n",
    "~~~~\n",
    "in Python, and I got the following output:\n",
    "~~~~{.python}\n",
    "1 + 1\n",
    "~~~~\n",
    "Rewrite this code so that the output will be 2, and briefly indicate the reasons why the output of the original code wasn't 2 by using comments.\n",
    "\n",
    "Grading scheme:\n",
    "1. Correct code given [2 points]\n",
    "2. Correct reason [2 points]\n",
    "3. Used comment to write reason [1 point]"
   ]
  },
  {
   "cell_type": "code",
   "execution_count": 6,
   "metadata": {},
   "outputs": [
    {
     "name": "stdout",
     "output_type": "stream",
     "text": [
      "2\n"
     ]
    }
   ],
   "source": [
    "# 2. 3. here\n",
    "# 1+1 in the print statement is surrounded by quotation marks\n",
    "# Python read this as a string instead of a mathematical operation, so we should delete the quotation marks\n",
    "\n",
    "# 1. here\n",
    "print(1 + 1)"
   ]
  },
  {
   "cell_type": "markdown",
   "metadata": {},
   "source": [
    "## Problem3 [15 points]"
   ]
  },
  {
   "cell_type": "markdown",
   "metadata": {},
   "source": [
    "By using variables, write a code that gives \"1000 Minutes = ?? Days ?? Hours ?? Minutes\". Your output should be in this form and you will be penalized if the output is different, even if your answer is correct.\n",
    "\n",
    "Your code should start with:\n",
    "\n",
    "~~~~{.python}\n",
    "variable_name = 5000\n",
    "~~~~\n",
    "\n",
    "and the only numbers in your code should be 5000[minutes], 60[minutes/hour] and 24[hours/day]. You should try to do all the calculations with only variables.\n",
    "\n",
    "Grading scheme:\n",
    "1. Start with the code indicated in the problem [2 points]\n",
    "2. Correctly using variables to find minutes [2 points]\n",
    "3. Correctly using variables to find hours [2 points]\n",
    "4. Correctly using variables to find days [2 points]\n",
    "5. The only numbers used are 5000, 60 and 24, and do not use numbers in the final print statement [2 points]\n",
    "6. Correct numbers given [3 points]\n",
    "7. Correct output from print statement [2 points]"
   ]
  },
  {
   "cell_type": "code",
   "execution_count": 3,
   "metadata": {},
   "outputs": [
    {
     "name": "stdout",
     "output_type": "stream",
     "text": [
      "5000 Minutes = 3 Days 11 Hours 20 Minutes\n"
     ]
    }
   ],
   "source": [
    "# 1. here\n",
    "time = 5000\n",
    "# 2. here\n",
    "minute = time % 60\n",
    "\n",
    "time1 = time // 60\n",
    "\n",
    "# 3. here\n",
    "hour = time1 % 24\n",
    "# 4. here\n",
    "day = time1 // 24\n",
    "\n",
    "# 6. 7. here\n",
    "print(\"{} Minutes = {} Days {} Hours {} Minutes\".format(time, day, hour, minute))\n",
    "\n",
    "# 5. is satisfied"
   ]
  },
  {
   "cell_type": "markdown",
   "metadata": {},
   "source": [
    "## Problem4 [15 points]"
   ]
  },
  {
   "cell_type": "markdown",
   "metadata": {},
   "source": [
    "Before you start this section, it is highly recommended to read \"HW1 Analyzing books.pdf\" in \"Supplement Information to Assignments\" folder. It is also advisable to copy the codes from the lecture notes to do these steps, as the output should be the same.\n",
    "\n",
    "You should do the following:\n",
    "1. Find the URL of the book that you would like to analyze. Do not use the Iliad or the Odyssey link that was used in lab1 [5 points]\n",
    "2. Use the Python code below to download the text file [2 points]\n",
    "~~~~{.python}\n",
    "!wget -O book.txt \"url obtained from step1\"\n",
    "~~~~\n",
    "3. Read the text document that was downloaded in step 2, and create a variable from it [3 points]\n",
    "4. Create variables that have the frequency of 5 characters or important words in the book [3 points]\n",
    "5. Use the print statement to show the result [2 points]"
   ]
  },
  {
   "cell_type": "code",
   "execution_count": 7,
   "metadata": {},
   "outputs": [
    {
     "name": "stderr",
     "output_type": "stream",
     "text": [
      "--2020-09-17 03:26:23--  http://www.gutenberg.org/files/2554/2554-0.txt\n",
      "Resolving www.gutenberg.org (www.gutenberg.org)... 152.19.134.47\n",
      "Connecting to www.gutenberg.org (www.gutenberg.org)|152.19.134.47|:80... connected.\n",
      "HTTP request sent, awaiting response... 200 OK\n",
      "Length: 1201735 (1.1M) [text/plain]\n",
      "Saving to: 'book.txt'\n",
      "\n",
      "     0K .......... .......... .......... .......... ..........  4%  134K 8s\n",
      "    50K .......... .......... .......... .......... ..........  8%  266K 6s\n",
      "   100K .......... .......... .......... .......... .......... 12%  267K 5s\n",
      "   150K .......... .......... .......... .......... .......... 17%  270K 5s\n",
      "   200K .......... .......... .......... .......... .......... 21%  272K 4s\n",
      "   250K .......... .......... .......... .......... .......... 25% 5.81M 3s\n",
      "   300K .......... .......... .......... .......... .......... 29%  273K 3s\n",
      "   350K .......... .......... .......... .......... .......... 34% 4.72M 3s\n",
      "   400K .......... .......... .......... .......... .......... 38% 5.68M 2s\n",
      "   450K .......... .......... .......... .......... .......... 42%  292K 2s\n",
      "   500K .......... .......... .......... .......... .......... 46% 8.75M 2s\n",
      "   550K .......... .......... .......... .......... .......... 51% 4.07M 1s\n",
      "   600K .......... .......... .......... .......... .......... 55% 6.99M 1s\n",
      "   650K .......... .......... .......... .......... .......... 59%  272K 1s\n",
      "   700K .......... .......... .......... .......... .......... 63% 3.53M 1s\n",
      "   750K .......... .......... .......... .......... .......... 68% 6.89M 1s\n",
      "   800K .......... .......... .......... .......... .......... 72% 5.81M 1s\n",
      "   850K .......... .......... .......... .......... .......... 76%  407K 1s\n",
      "   900K .......... .......... .......... .......... .......... 80%  929K 0s\n",
      "   950K .......... .......... .......... .......... .......... 85% 1.96M 0s\n",
      "  1000K .......... .......... .......... .......... .......... 89% 6.15M 0s\n",
      "  1050K .......... .......... .......... .......... .......... 93%  505K 0s\n",
      "  1100K .......... .......... .......... .......... .......... 97% 1.15M 0s\n",
      "  1150K .......... .......... ...                             100% 1.26M=2.1s\n",
      "\n",
      "2020-09-17 03:26:25 (557 KB/s) - 'book.txt' saved [1201735/1201735]\n",
      "\n"
     ]
    }
   ],
   "source": [
    "# 1. 2. here\n",
    "# I analyzed crime and punishment\n",
    "!wget -O book.txt \"http://www.gutenberg.org/files/2554/2554-0.txt\""
   ]
  },
  {
   "cell_type": "code",
   "execution_count": 10,
   "metadata": {},
   "outputs": [
    {
     "name": "stdout",
     "output_type": "stream",
     "text": [
      "Character Frequency in Crime and Punishment\n",
      "----------------------------------\n",
      "| Characters        | Frequency   \n",
      "|-------------------|-------------\n",
      "| Raskolnikov       |  784\n",
      "| Sonia             |  402\n",
      "| Dounia            |  325\n",
      "| Svidrigailov      |  211\n",
      "| Razumikhin        |  348\n",
      "----------------------------------\n"
     ]
    }
   ],
   "source": [
    "# 3. here\n",
    "file = open(\"book.txt\", encoding=\"utf-8\")\n",
    "book = file.read().replace(\"\\n\", \" \")\n",
    "\n",
    "# 4. here\n",
    "Raskolnikov = book.count(\"Raskolnikov\")\n",
    "Sonia = book.count(\"Sonia\")\n",
    "Dounia = book.count(\"Dounia\")\n",
    "Svidrigailov = book.count(\"Svidrigaïlov\")\n",
    "Razumikhin = book.count(\"Razumihin\")\n",
    "\n",
    "# 5. here\n",
    "print(\"Character Frequency in Crime and Punishment\")\n",
    "print(\"----------------------------------\")\n",
    "print(\"| Characters        | Frequency   \")\n",
    "print(\"|-------------------|-------------\")\n",
    "print(\"| Raskolnikov       | \", Raskolnikov)\n",
    "print(\"| Sonia             | \", Sonia)\n",
    "print(\"| Dounia            | \", Dounia)\n",
    "print(\"| Svidrigailov      | \", Svidrigailov)\n",
    "print(\"| Razumikhin        | \", Razumikhin)\n",
    "print(\"----------------------------------\")"
   ]
  },
  {
   "cell_type": "markdown",
   "metadata": {},
   "source": [
    "## Please do not forget to save (Ctrl + s), download this, and upload it to courseworks"
   ]
  }
 ],
 "metadata": {
  "kernelspec": {
   "display_name": "Python 3",
   "language": "python",
   "name": "python3"
  },
  "language_info": {
   "codemirror_mode": {
    "name": "ipython",
    "version": 3
   },
   "file_extension": ".py",
   "mimetype": "text/x-python",
   "name": "python",
   "nbconvert_exporter": "python",
   "pygments_lexer": "ipython3",
   "version": "3.6.12"
  }
 },
 "nbformat": 4,
 "nbformat_minor": 4
}

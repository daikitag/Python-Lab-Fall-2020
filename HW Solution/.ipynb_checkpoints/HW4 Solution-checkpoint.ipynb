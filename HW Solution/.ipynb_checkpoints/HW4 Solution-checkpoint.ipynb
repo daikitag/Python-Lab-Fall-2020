{
 "cells": [
  {
   "cell_type": "markdown",
   "metadata": {},
   "source": [
    "# Homework 4"
   ]
  },
  {
   "cell_type": "markdown",
   "metadata": {},
   "source": [
    "Problem1 and Problem2 are the exact same problems from HW3. Feel free to use the same solution if you were able to solve them in HW3."
   ]
  },
  {
   "cell_type": "markdown",
   "metadata": {},
   "source": [
    "### Note:\n",
    "\n",
    "I will upload the code to fix the issues of problem1 by the end of this week."
   ]
  },
  {
   "cell_type": "code",
   "execution_count": 19,
   "metadata": {},
   "outputs": [],
   "source": [
    "import numpy as np\n",
    "import matplotlib.pyplot as plt\n",
    "import pandas as pd"
   ]
  },
  {
   "cell_type": "markdown",
   "metadata": {},
   "source": [
    "# Problem 1 [10 points]\n",
    "\n",
    "Grading scheme:\n",
    "- 2 points: Get the correct dataset\n",
    "- 2 points: Calculate fertality rate\n",
    "- 2 points: Create bar chart\n",
    "- 2 points: Correct labels\n",
    "- 2 points: Comment on the result\n",
    "\n",
    "Get the COVID-19 case and death numbers from 5 different countries, and determine the case fertality rate of those 5 countries.\n",
    "\n",
    "$$\n",
    "\\text{Case Fertality Rate} = \\frac{\\text{Number of Deaths}}{\\text{Number of Cases}}\n",
    "$$\n",
    "\n",
    "Then, create a bar chart showing the case fertality rates. Comment on the result.\n",
    "\n",
    "### Hint:\n",
    "You can approach this problem through:\n",
    "1. Create a list of cases + death numbers of five countries\n",
    "2. Create a csv file with country + cases + death\n",
    "\n",
    "If you plan to create a csv file, you can upload it to Codio through \"File\" --> \"Upload\" and use the csv file there."
   ]
  },
  {
   "cell_type": "code",
   "execution_count": 21,
   "metadata": {},
   "outputs": [
    {
     "name": "stdout",
     "output_type": "stream",
     "text": [
      "[0.026983168276932794, 0.015207435272337838, 0.029458221267809528, 0.017324746058790065, 0.034368789577531006]\n"
     ]
    }
   ],
   "source": [
    "# The data is taken from here: https://www.worldometers.info/coronavirus/\n",
    "# The numbers are taken on Oct 17, 2020\n",
    "\n",
    "country = ['USA','India','Brazil','Russia','Spain']\n",
    "case = [8288278, 7432680, 5201570, 1369313, 982723]\n",
    "death = [223644, 113032, 153229, 23723, 33775]\n",
    "rate = []\n",
    "\n",
    "for i in range(5):\n",
    "    percent = death[i] / case[i]\n",
    "    rate.append(percent)\n",
    "\n",
    "print(rate)"
   ]
  },
  {
   "cell_type": "code",
   "execution_count": 22,
   "metadata": {
    "scrolled": false
   },
   "outputs": [
    {
     "data": {
      "image/png": "[encoded data removed]",
      "text/plain": [
       "<Figure size 720x432 with 1 Axes>"
      ]
     },
     "metadata": {
      "needs_background": "light"
     },
     "output_type": "display_data"
    }
   ],
   "source": [
    "x_values = country\n",
    "y_values = rate\n",
    "\n",
    "fig, axs = plt.subplots(figsize=(10,6)) # Change the figure size here       \n",
    "axs.bar(x_values, y_values, color=('deepskyblue')) # You specify the color here     \n",
    "axs.set_title(\"COVID-19 Case Fertality Rate\", fontsize=20, fontweight=\"bold\")   \n",
    "axs.set_xlabel(\"Country\", fontsize=14)\n",
    "axs.set_ylabel(\"Percentage [%]\", fontsize=14)\n",
    "axs.tick_params(labelsize=12)  \n",
    "plt.grid(axis='y')\n",
    "plt.show() "
   ]
  },
  {
   "cell_type": "markdown",
   "metadata": {},
   "source": [
    "## Sample comments from students:"
   ]
  },
  {
   "cell_type": "markdown",
   "metadata": {},
   "source": [
    "It's interesting to note the differences in fertality rate in Iran and Israel, considering they are located extremely close to one another. I was also shocked by the very high fertality rates in Iran and France. I'd be interested in next looking into this distrubtion split up by age group to visually see the differecens there. Additionally, I want to look into the healthcare systems in each country and how many hospitals they have to see how those numbers relate to the fertality rates. "
   ]
  },
  {
   "cell_type": "markdown",
   "metadata": {},
   "source": [
    "In this bar graph, it seems that Iran has the highest fatality rate, at almost 6%, compared to the other countries in the bargraph. However, this could be due to a myriad of reasons, including inaccurate reporting. This graph also does not take into account the number of citizens in each country. India and the USA, which appear to have the lowest fatality rates, almost have the highest infection numbers and are very populous countries. Given that so many citizens are infected, the percentage of fatalities may be smaller but in reality, more people have died from COVID-19 in the USA than anywhere else. Overall, while percentages differ, this cannot be used to say that the US or India have the pandemic under control in their countries compared with the other countries in this chart."
   ]
  },
  {
   "cell_type": "markdown",
   "metadata": {},
   "source": [
    "This data shows that income level of a country does not affect case fatality rate. France, a high income county, has a much higher rate than Namibia, which is much lower income. However, it is questionable whether case fatality rate is a good measure with COVID because there are many asymptomatic cases is testing levels are extremely uneven between countries. Fatality as an overall proportion of population would probably be more reflective of country responses to COVID, given this disease. "
   ]
  },
  {
   "cell_type": "markdown",
   "metadata": {},
   "source": [
    "The fertility rate is very intersting. When I was looking at the numbers of infection rate, the US was much larger than the other countries listed. However, the number of deaths in conjunction with the number of cases is smaller. For example, Canada had 168960 cases, so I though they would have a low fertility rate. However, with 9504 deaths, the porportion is greater. I think it is very interesting how the death rate is proposed in media, and this shows why it is important to look into the actaul data that is collected. However, the fertility rate can be deceiving in some ways because the US still has the most cases and needs to continue practicing social distancing and mask wearing protocols (even though it looks like they have a relativley low fertility rate)."
   ]
  },
  {
   "cell_type": "markdown",
   "metadata": {},
   "source": [
    "# Problem 2 [5 points]\n",
    "\n",
    "Grading scheme:\n",
    "- 2 points: Find a media source\n",
    "- 3 points: Correctly created the pie chart or bar chart\n",
    "\n",
    "Find 1 pie chart or bar chart from a media source. Do your best to replicate it. You don't have to worry about the exact colors, but make sure that the exact numbers and the lables are the same.\n",
    "\n",
    "### Optional:\n",
    "\n",
    "This is completely optional, and you don't have to do it. However, it is possible for you to extract the exact color by using color picker online. Do your best to completely replicate the visual including the colors. Most pie charts / bar graphs on the media can be completely replicated by using Python.\n",
    "\n",
    "https://imagecolorpicker.com/en/"
   ]
  },
  {
   "cell_type": "code",
   "execution_count": 1,
   "metadata": {},
   "outputs": [],
   "source": [
    "# Sample answer from students given at the end"
   ]
  },
  {
   "cell_type": "markdown",
   "metadata": {},
   "source": [
    "# Note:\n",
    "\n",
    "Problem 3-5 works with blood pressure data. The details about blood pressure is written in HW2, so please use it as a reference to solve these problems."
   ]
  },
  {
   "cell_type": "markdown",
   "metadata": {},
   "source": [
    "# Problem 3 [15 points]\n",
    "\n",
    "Create a stacked gar chart that shows the proportion of 5 different blood pressure categories of adults (age >= 20) in the U.S. broken down by race. The blood pressure data is located in `Data/NHANES.csv` file, and the correct code to classify blood pressure is available to you through HW2 solution.\n",
    "\n",
    "You should do the following:\n",
    "\n",
    "- 2 points: Load the dataset\n",
    "- 1 points: Deal with NaNs (You should determine which NaNs to delete)\n",
    "- 1 points: Use the if statement in HW1 solution to classify blood pressure data\n",
    "- 2 points: Only choose adult data\n",
    "- 4 points: Manipulate the dataframe to get the proportion of different blood pressure categries broken down by race\n",
    "- 3 points: Create a grouped bar chart\n",
    "- 1 points: Appropriate labels/title\n",
    "- 1 points: Comment on the result (What can you conclude from data?)"
   ]
  },
  {
   "cell_type": "code",
   "execution_count": 58,
   "metadata": {},
   "outputs": [],
   "source": [
    "df = pd.read_csv('Data/NHANES.csv')"
   ]
  },
  {
   "cell_type": "code",
   "execution_count": 59,
   "metadata": {},
   "outputs": [],
   "source": [
    "df = df[['Race3','Age','BPSysAve','BPDiaAve']]\n",
    "df = df[df['Age']>=20]\n",
    "df = df.dropna()"
   ]
  },
  {
   "cell_type": "code",
   "execution_count": 60,
   "metadata": {},
   "outputs": [],
   "source": [
    "def function(row):\n",
    "    if row['BPDiaAve'] < 80 and row['BPSysAve'] < 120:\n",
    "        return 'Healthy'\n",
    "    elif row['BPDiaAve'] < 80 and row['BPSysAve'] < 130:\n",
    "        return 'Elevated'\n",
    "    elif row['BPDiaAve'] < 90 and row['BPSysAve'] < 140:\n",
    "        return 'Stage1'\n",
    "    elif row['BPDiaAve'] <= 120 and row['BPSysAve'] <= 180:\n",
    "        return 'Stage2'\n",
    "    elif row['BPDiaAve'] >= 180 or row['BPSysAve'] >= 120:\n",
    "        return 'Hypertensive Crisis'\n",
    "    else:\n",
    "        return 'NaN'"
   ]
  },
  {
   "cell_type": "code",
   "execution_count": 61,
   "metadata": {},
   "outputs": [],
   "source": [
    "df['Blood Pressure'] = df.apply(function, axis=1)"
   ]
  },
  {
   "cell_type": "code",
   "execution_count": 62,
   "metadata": {},
   "outputs": [],
   "source": [
    "table = pd.crosstab(index=df[\"Blood Pressure\"], columns=df[\"Race3\"]) "
   ]
  },
  {
   "cell_type": "code",
   "execution_count": 63,
   "metadata": {},
   "outputs": [
    {
     "data": {
      "text/html": [
       "<div>\n",
       "<style scoped>\n",
       "    .dataframe tbody tr th:only-of-type {\n",
       "        vertical-align: middle;\n",
       "    }\n",
       "\n",
       "    .dataframe tbody tr th {\n",
       "        vertical-align: top;\n",
       "    }\n",
       "\n",
       "    .dataframe thead th {\n",
       "        text-align: right;\n",
       "    }\n",
       "</style>\n",
       "<table border=\"1\" class=\"dataframe\">\n",
       "  <thead>\n",
       "    <tr style=\"text-align: right;\">\n",
       "      <th>Race3</th>\n",
       "      <th>Asian</th>\n",
       "      <th>Black</th>\n",
       "      <th>Hispanic</th>\n",
       "      <th>Mexican</th>\n",
       "      <th>Other</th>\n",
       "      <th>White</th>\n",
       "    </tr>\n",
       "    <tr>\n",
       "      <th>Blood Pressure</th>\n",
       "      <th></th>\n",
       "      <th></th>\n",
       "      <th></th>\n",
       "      <th></th>\n",
       "      <th></th>\n",
       "      <th></th>\n",
       "    </tr>\n",
       "  </thead>\n",
       "  <tbody>\n",
       "    <tr>\n",
       "      <th>Elevated</th>\n",
       "      <td>24</td>\n",
       "      <td>70</td>\n",
       "      <td>30</td>\n",
       "      <td>40</td>\n",
       "      <td>26</td>\n",
       "      <td>405</td>\n",
       "    </tr>\n",
       "    <tr>\n",
       "      <th>Healthy</th>\n",
       "      <td>114</td>\n",
       "      <td>149</td>\n",
       "      <td>108</td>\n",
       "      <td>151</td>\n",
       "      <td>36</td>\n",
       "      <td>1042</td>\n",
       "    </tr>\n",
       "    <tr>\n",
       "      <th>Hypertensive Crisis</th>\n",
       "      <td>0</td>\n",
       "      <td>6</td>\n",
       "      <td>0</td>\n",
       "      <td>0</td>\n",
       "      <td>0</td>\n",
       "      <td>19</td>\n",
       "    </tr>\n",
       "    <tr>\n",
       "      <th>Stage1</th>\n",
       "      <td>35</td>\n",
       "      <td>95</td>\n",
       "      <td>55</td>\n",
       "      <td>44</td>\n",
       "      <td>10</td>\n",
       "      <td>491</td>\n",
       "    </tr>\n",
       "    <tr>\n",
       "      <th>Stage2</th>\n",
       "      <td>27</td>\n",
       "      <td>60</td>\n",
       "      <td>27</td>\n",
       "      <td>25</td>\n",
       "      <td>13</td>\n",
       "      <td>367</td>\n",
       "    </tr>\n",
       "  </tbody>\n",
       "</table>\n",
       "</div>"
      ],
      "text/plain": [
       "Race3                Asian  Black  Hispanic  Mexican  Other  White\n",
       "Blood Pressure                                                    \n",
       "Elevated                24     70        30       40     26    405\n",
       "Healthy                114    149       108      151     36   1042\n",
       "Hypertensive Crisis      0      6         0        0      0     19\n",
       "Stage1                  35     95        55       44     10    491\n",
       "Stage2                  27     60        27       25     13    367"
      ]
     },
     "execution_count": 63,
     "metadata": {},
     "output_type": "execute_result"
    }
   ],
   "source": [
    "table"
   ]
  },
  {
   "cell_type": "code",
   "execution_count": 64,
   "metadata": {},
   "outputs": [
    {
     "data": {
      "text/html": [
       "<div>\n",
       "<style scoped>\n",
       "    .dataframe tbody tr th:only-of-type {\n",
       "        vertical-align: middle;\n",
       "    }\n",
       "\n",
       "    .dataframe tbody tr th {\n",
       "        vertical-align: top;\n",
       "    }\n",
       "\n",
       "    .dataframe thead th {\n",
       "        text-align: right;\n",
       "    }\n",
       "</style>\n",
       "<table border=\"1\" class=\"dataframe\">\n",
       "  <thead>\n",
       "    <tr style=\"text-align: right;\">\n",
       "      <th>Race3</th>\n",
       "      <th>Asian_per</th>\n",
       "      <th>Black_per</th>\n",
       "      <th>Hispanic_per</th>\n",
       "      <th>Mexican_per</th>\n",
       "      <th>Other_per</th>\n",
       "      <th>White_per</th>\n",
       "    </tr>\n",
       "    <tr>\n",
       "      <th>Blood Pressure</th>\n",
       "      <th></th>\n",
       "      <th></th>\n",
       "      <th></th>\n",
       "      <th></th>\n",
       "      <th></th>\n",
       "      <th></th>\n",
       "    </tr>\n",
       "  </thead>\n",
       "  <tbody>\n",
       "    <tr>\n",
       "      <th>Elevated</th>\n",
       "      <td>0.120</td>\n",
       "      <td>0.184211</td>\n",
       "      <td>0.136364</td>\n",
       "      <td>0.153846</td>\n",
       "      <td>0.305882</td>\n",
       "      <td>0.174269</td>\n",
       "    </tr>\n",
       "    <tr>\n",
       "      <th>Healthy</th>\n",
       "      <td>0.570</td>\n",
       "      <td>0.392105</td>\n",
       "      <td>0.490909</td>\n",
       "      <td>0.580769</td>\n",
       "      <td>0.423529</td>\n",
       "      <td>0.448365</td>\n",
       "    </tr>\n",
       "    <tr>\n",
       "      <th>Hypertensive Crisis</th>\n",
       "      <td>0.000</td>\n",
       "      <td>0.015789</td>\n",
       "      <td>0.000000</td>\n",
       "      <td>0.000000</td>\n",
       "      <td>0.000000</td>\n",
       "      <td>0.008176</td>\n",
       "    </tr>\n",
       "    <tr>\n",
       "      <th>Stage1</th>\n",
       "      <td>0.175</td>\n",
       "      <td>0.250000</td>\n",
       "      <td>0.250000</td>\n",
       "      <td>0.169231</td>\n",
       "      <td>0.117647</td>\n",
       "      <td>0.211274</td>\n",
       "    </tr>\n",
       "    <tr>\n",
       "      <th>Stage2</th>\n",
       "      <td>0.135</td>\n",
       "      <td>0.157895</td>\n",
       "      <td>0.122727</td>\n",
       "      <td>0.096154</td>\n",
       "      <td>0.152941</td>\n",
       "      <td>0.157917</td>\n",
       "    </tr>\n",
       "  </tbody>\n",
       "</table>\n",
       "</div>"
      ],
      "text/plain": [
       "Race3                Asian_per  Black_per  Hispanic_per  Mexican_per  \\\n",
       "Blood Pressure                                                         \n",
       "Elevated                 0.120   0.184211      0.136364     0.153846   \n",
       "Healthy                  0.570   0.392105      0.490909     0.580769   \n",
       "Hypertensive Crisis      0.000   0.015789      0.000000     0.000000   \n",
       "Stage1                   0.175   0.250000      0.250000     0.169231   \n",
       "Stage2                   0.135   0.157895      0.122727     0.096154   \n",
       "\n",
       "Race3                Other_per  White_per  \n",
       "Blood Pressure                             \n",
       "Elevated              0.305882   0.174269  \n",
       "Healthy               0.423529   0.448365  \n",
       "Hypertensive Crisis   0.000000   0.008176  \n",
       "Stage1                0.117647   0.211274  \n",
       "Stage2                0.152941   0.157917  "
      ]
     },
     "execution_count": 64,
     "metadata": {},
     "output_type": "execute_result"
    }
   ],
   "source": [
    "table['Asian_per'] = table['Asian'] / sum(table['Asian'])\n",
    "table['Black_per'] = table['Black'] / sum(table['Black'])\n",
    "table['Hispanic_per'] = table['Hispanic'] / sum(table['Hispanic'])\n",
    "table['Mexican_per'] = table['Mexican'] / sum(table['Mexican'])\n",
    "table['Other_per'] = table['Other'] / sum(table['Other'])\n",
    "table['White_per'] = table['White'] / sum(table['White'])\n",
    "table = table[['Asian_per','Black_per','Hispanic_per','Mexican_per','Other_per','White_per']]\n",
    "table"
   ]
  },
  {
   "cell_type": "code",
   "execution_count": 65,
   "metadata": {},
   "outputs": [
    {
     "data": {
      "image/png": "[encoded data removed]",
      "text/plain": [
       "<Figure size 720x432 with 1 Axes>"
      ]
     },
     "metadata": {
      "needs_background": "light"
     },
     "output_type": "display_data"
    }
   ],
   "source": [
    "import matplotlib.pyplot as plt\n",
    "\n",
    "label = ['Asian', 'Black', 'Hispanic', 'Mexican', 'Other', 'White']\n",
    "y_value1 = table.loc['Healthy']\n",
    "y_value2 = table.loc['Elevated']\n",
    "y_value3 = table.loc['Stage1']\n",
    "y_value4 = table.loc['Stage2']\n",
    "y_value5 = table.loc['Hypertensive Crisis']\n",
    "\n",
    "fig, axs = plt.subplots(figsize=(10,6)) # Change the figure size here    \n",
    "\n",
    "p1 = axs.bar(label, y_value1) # You specify the color here     \n",
    "p2 = axs.bar(label, y_value2, bottom=y_value1)\n",
    "p3 = axs.bar(label, y_value3, bottom=(y_value1+y_value2))\n",
    "p4 = axs.bar(label, y_value4, bottom=(y_value1+y_value2+y_value3))\n",
    "p5 = axs.bar(label, y_value5, bottom=(y_value1+y_value2+y_value3+y_value4))\n",
    "\n",
    "axs.set_title(\"Blood pressure level broken down by race\", fontsize=20, fontweight=\"bold\")   \n",
    "axs.set_xlabel(\"Race\", fontsize=14)\n",
    "axs.set_ylabel(\"Proportion\", fontsize=14)\n",
    "axs.tick_params(labelsize=16)  \n",
    "axs.legend((p1[0],p2[0],p3[0],p4[0],p5[0]),['Healthy','Elevated','Stage1','Stage2','Hypertensive Crisis'],\n",
    "           bbox_to_anchor=(1.05, 1))\n",
    "# make sure to add p here, if you would like to add more bars\n",
    "plt.show() "
   ]
  },
  {
   "cell_type": "markdown",
   "metadata": {},
   "source": [
    "## Sample comment from students:"
   ]
  },
  {
   "cell_type": "markdown",
   "metadata": {},
   "source": [
    "This graph tells us that over all races, the overwhelming majority have a healthy blood pressure and the minority have are in hypertensive crisis. Regarding race specifics, most mexicans have healthy blood pressures and fewest hypertensive crisis cases. Otherwise, Otherwise, the data is somewhat evenly distributed by race. "
   ]
  },
  {
   "cell_type": "markdown",
   "metadata": {},
   "source": [
    "Based on this result, it seems that Asian and Mexican populations have the highest proportions of individuals with healthy blood pressures (>50%). It also appears that Black populations are the only group with measurable levels of hypertensive crisis. However, this does not necessarily accurately portray the entire population, as much data is missing from the data set (due to not answering, dropping data lines because of missing data, etc.). So while this data portrays a portion of the population, this cannot be necessarily extrapolated to say that it is representative of the entire population of the US or the different racial groups in the US."
   ]
  },
  {
   "cell_type": "markdown",
   "metadata": {},
   "source": [
    "From this data we can conclude that many of the people in the data we were given (regardless of race) have healthy blood pressure. 'Other' has the highest percentage of elevated blood pressure. This data makes sense because more than 50% of people are classified as healthy. Additionally, because this is an observational study you cannot draw causal conclusions."
   ]
  },
  {
   "cell_type": "markdown",
   "metadata": {},
   "source": [
    "# Problem 4 [10 points]\n",
    "\n",
    "It has been reported that smoking will raise your blood pressure. To find out the relationship between smoking and blood pressure, do the following:\n",
    "\n",
    "1. Smoking data is only obtained for participants aged 20 years or older, so select the adult dataframe from `Data/NHANES.csv` file [2 points]\n",
    "\n",
    "2. `Smoke100` column indicates:\n",
    "\n",
    "Study participant has smoked at least 100 cigarettes in their entire life. Reported for participants aged 20 years or older as `Yes` or `No`\n",
    "\n",
    "Create two dataframes: one for `Yes` and one for `No` [2 points]\n",
    "\n",
    "3. Find the following: [4 points]\n",
    "\n",
    "    - Average\n",
    "    - Median\n",
    "    - Variance\n",
    "    - IQR\n",
    "\n",
    "of \"diastolic\" and \"systolic\" blood pressure. Then, use a print statement to show the result.\n",
    "\n",
    "4. Now that you have computed the mean \"diastolic\" and \"systolic\" blood pressure for smokers and non-smokers, find which blood pressure stage the mean is located in [2 points]"
   ]
  },
  {
   "cell_type": "code",
   "execution_count": 23,
   "metadata": {},
   "outputs": [],
   "source": [
    "df = pd.read_csv('Data/NHANES.csv')"
   ]
  },
  {
   "cell_type": "code",
   "execution_count": 24,
   "metadata": {},
   "outputs": [
    {
     "data": {
      "text/html": [
       "<div>\n",
       "<style scoped>\n",
       "    .dataframe tbody tr th:only-of-type {\n",
       "        vertical-align: middle;\n",
       "    }\n",
       "\n",
       "    .dataframe tbody tr th {\n",
       "        vertical-align: top;\n",
       "    }\n",
       "\n",
       "    .dataframe thead th {\n",
       "        text-align: right;\n",
       "    }\n",
       "</style>\n",
       "<table border=\"1\" class=\"dataframe\">\n",
       "  <thead>\n",
       "    <tr style=\"text-align: right;\">\n",
       "      <th></th>\n",
       "      <th>ID</th>\n",
       "      <th>SurveyYr</th>\n",
       "      <th>Gender</th>\n",
       "      <th>Age</th>\n",
       "      <th>AgeDecade</th>\n",
       "      <th>AgeMonths</th>\n",
       "      <th>Race1</th>\n",
       "      <th>Race3</th>\n",
       "      <th>Education</th>\n",
       "      <th>MaritalStatus</th>\n",
       "      <th>...</th>\n",
       "      <th>RegularMarij</th>\n",
       "      <th>AgeRegMarij</th>\n",
       "      <th>HardDrugs</th>\n",
       "      <th>SexEver</th>\n",
       "      <th>SexAge</th>\n",
       "      <th>SexNumPartnLife</th>\n",
       "      <th>SexNumPartYear</th>\n",
       "      <th>SameSex</th>\n",
       "      <th>SexOrientation</th>\n",
       "      <th>PregntNow</th>\n",
       "    </tr>\n",
       "  </thead>\n",
       "  <tbody>\n",
       "    <tr>\n",
       "      <th>0</th>\n",
       "      <td>51624</td>\n",
       "      <td>2009_10</td>\n",
       "      <td>male</td>\n",
       "      <td>34</td>\n",
       "      <td>30-39</td>\n",
       "      <td>409.0</td>\n",
       "      <td>White</td>\n",
       "      <td>NaN</td>\n",
       "      <td>High School</td>\n",
       "      <td>Married</td>\n",
       "      <td>...</td>\n",
       "      <td>No</td>\n",
       "      <td>NaN</td>\n",
       "      <td>Yes</td>\n",
       "      <td>Yes</td>\n",
       "      <td>16.0</td>\n",
       "      <td>8.0</td>\n",
       "      <td>1.0</td>\n",
       "      <td>No</td>\n",
       "      <td>Heterosexual</td>\n",
       "      <td>NaN</td>\n",
       "    </tr>\n",
       "    <tr>\n",
       "      <th>1</th>\n",
       "      <td>51624</td>\n",
       "      <td>2009_10</td>\n",
       "      <td>male</td>\n",
       "      <td>34</td>\n",
       "      <td>30-39</td>\n",
       "      <td>409.0</td>\n",
       "      <td>White</td>\n",
       "      <td>NaN</td>\n",
       "      <td>High School</td>\n",
       "      <td>Married</td>\n",
       "      <td>...</td>\n",
       "      <td>No</td>\n",
       "      <td>NaN</td>\n",
       "      <td>Yes</td>\n",
       "      <td>Yes</td>\n",
       "      <td>16.0</td>\n",
       "      <td>8.0</td>\n",
       "      <td>1.0</td>\n",
       "      <td>No</td>\n",
       "      <td>Heterosexual</td>\n",
       "      <td>NaN</td>\n",
       "    </tr>\n",
       "    <tr>\n",
       "      <th>2</th>\n",
       "      <td>51624</td>\n",
       "      <td>2009_10</td>\n",
       "      <td>male</td>\n",
       "      <td>34</td>\n",
       "      <td>30-39</td>\n",
       "      <td>409.0</td>\n",
       "      <td>White</td>\n",
       "      <td>NaN</td>\n",
       "      <td>High School</td>\n",
       "      <td>Married</td>\n",
       "      <td>...</td>\n",
       "      <td>No</td>\n",
       "      <td>NaN</td>\n",
       "      <td>Yes</td>\n",
       "      <td>Yes</td>\n",
       "      <td>16.0</td>\n",
       "      <td>8.0</td>\n",
       "      <td>1.0</td>\n",
       "      <td>No</td>\n",
       "      <td>Heterosexual</td>\n",
       "      <td>NaN</td>\n",
       "    </tr>\n",
       "    <tr>\n",
       "      <th>3</th>\n",
       "      <td>51625</td>\n",
       "      <td>2009_10</td>\n",
       "      <td>male</td>\n",
       "      <td>4</td>\n",
       "      <td>0-9</td>\n",
       "      <td>49.0</td>\n",
       "      <td>Other</td>\n",
       "      <td>NaN</td>\n",
       "      <td>NaN</td>\n",
       "      <td>NaN</td>\n",
       "      <td>...</td>\n",
       "      <td>NaN</td>\n",
       "      <td>NaN</td>\n",
       "      <td>NaN</td>\n",
       "      <td>NaN</td>\n",
       "      <td>NaN</td>\n",
       "      <td>NaN</td>\n",
       "      <td>NaN</td>\n",
       "      <td>NaN</td>\n",
       "      <td>NaN</td>\n",
       "      <td>NaN</td>\n",
       "    </tr>\n",
       "    <tr>\n",
       "      <th>4</th>\n",
       "      <td>51630</td>\n",
       "      <td>2009_10</td>\n",
       "      <td>female</td>\n",
       "      <td>49</td>\n",
       "      <td>40-49</td>\n",
       "      <td>596.0</td>\n",
       "      <td>White</td>\n",
       "      <td>NaN</td>\n",
       "      <td>Some College</td>\n",
       "      <td>LivePartner</td>\n",
       "      <td>...</td>\n",
       "      <td>No</td>\n",
       "      <td>NaN</td>\n",
       "      <td>Yes</td>\n",
       "      <td>Yes</td>\n",
       "      <td>12.0</td>\n",
       "      <td>10.0</td>\n",
       "      <td>1.0</td>\n",
       "      <td>Yes</td>\n",
       "      <td>Heterosexual</td>\n",
       "      <td>NaN</td>\n",
       "    </tr>\n",
       "  </tbody>\n",
       "</table>\n",
       "<p>5 rows × 76 columns</p>\n",
       "</div>"
      ],
      "text/plain": [
       "      ID SurveyYr  Gender  Age AgeDecade  AgeMonths  Race1 Race3  \\\n",
       "0  51624  2009_10    male   34     30-39      409.0  White   NaN   \n",
       "1  51624  2009_10    male   34     30-39      409.0  White   NaN   \n",
       "2  51624  2009_10    male   34     30-39      409.0  White   NaN   \n",
       "3  51625  2009_10    male    4       0-9       49.0  Other   NaN   \n",
       "4  51630  2009_10  female   49     40-49      596.0  White   NaN   \n",
       "\n",
       "      Education MaritalStatus  ... RegularMarij  AgeRegMarij  HardDrugs  \\\n",
       "0   High School       Married  ...           No          NaN        Yes   \n",
       "1   High School       Married  ...           No          NaN        Yes   \n",
       "2   High School       Married  ...           No          NaN        Yes   \n",
       "3           NaN           NaN  ...          NaN          NaN        NaN   \n",
       "4  Some College   LivePartner  ...           No          NaN        Yes   \n",
       "\n",
       "   SexEver SexAge SexNumPartnLife  SexNumPartYear  SameSex  SexOrientation  \\\n",
       "0      Yes   16.0             8.0             1.0       No    Heterosexual   \n",
       "1      Yes   16.0             8.0             1.0       No    Heterosexual   \n",
       "2      Yes   16.0             8.0             1.0       No    Heterosexual   \n",
       "3      NaN    NaN             NaN             NaN      NaN             NaN   \n",
       "4      Yes   12.0            10.0             1.0      Yes    Heterosexual   \n",
       "\n",
       "   PregntNow  \n",
       "0        NaN  \n",
       "1        NaN  \n",
       "2        NaN  \n",
       "3        NaN  \n",
       "4        NaN  \n",
       "\n",
       "[5 rows x 76 columns]"
      ]
     },
     "execution_count": 24,
     "metadata": {},
     "output_type": "execute_result"
    }
   ],
   "source": [
    "df.head()"
   ]
  },
  {
   "cell_type": "code",
   "execution_count": 25,
   "metadata": {},
   "outputs": [],
   "source": [
    "adult = df['Age'] >= 20\n",
    "\n",
    "yes = df['Smoke100'] == 'Yes'\n",
    "no = df['Smoke100'] == 'No'\n",
    "\n",
    "\n",
    "yes_df = df[adult & yes]\n",
    "no_df = df[adult & no]"
   ]
  },
  {
   "cell_type": "code",
   "execution_count": 26,
   "metadata": {},
   "outputs": [],
   "source": [
    "# Since I don't want to type the same thing four times, I decided to create a function:\n",
    "\n",
    "def summary_statistics(df, variable):\n",
    "    value = df[variable].dropna()\n",
    "    print('Average:', np.mean(value))\n",
    "    print('Median:', np.median(value))\n",
    "    print('Variance:', np.var(value))\n",
    "    q1 = np.percentile(value, 25, interpolation='midpoint')\n",
    "    q3 = np.percentile(value, 75, interpolation='midpoint')\n",
    "    print('IQR:', q3-q1)"
   ]
  },
  {
   "cell_type": "code",
   "execution_count": 27,
   "metadata": {},
   "outputs": [
    {
     "name": "stdout",
     "output_type": "stream",
     "text": [
      "Diastolic blood pressure of non-smokers:\n",
      "Average: 69.9803261713694\n",
      "Median: 71.0\n",
      "Variance: 152.90875091613322\n",
      "IQR: 13.0\n",
      "----------------------------------------\n",
      "Systolic blood pressure of non-smokers:\n",
      "Average: 119.83225472430753\n",
      "Median: 118.0\n",
      "Variance: 268.6940981261595\n",
      "IQR: 21.0\n",
      "----------------------------------------\n",
      "Diastolic blood pressure of smokers:\n",
      "Average: 70.33397683397683\n",
      "Median: 71.0\n",
      "Variance: 158.2488198347286\n",
      "IQR: 15.0\n",
      "----------------------------------------\n",
      "Systolic blood pressure of smokers:\n",
      "Average: 122.45752895752896\n",
      "Median: 120.0\n",
      "Variance: 322.1980031603589\n",
      "IQR: 20.0\n"
     ]
    }
   ],
   "source": [
    "print('Diastolic blood pressure of non-smokers:')\n",
    "summary_statistics(no_df, 'BPDiaAve')\n",
    "print('----------------------------------------')\n",
    "print('Systolic blood pressure of non-smokers:')\n",
    "summary_statistics(no_df, 'BPSysAve')\n",
    "print('----------------------------------------')\n",
    "print('Diastolic blood pressure of smokers:')\n",
    "summary_statistics(yes_df, 'BPDiaAve')\n",
    "print('----------------------------------------')\n",
    "print('Systolic blood pressure of smokers:')\n",
    "summary_statistics(yes_df, 'BPSysAve')"
   ]
  },
  {
   "cell_type": "markdown",
   "metadata": {},
   "source": [
    "Mean (Diastolic, Systolic) of:\n",
    "- Non-smokers: (69.98, 119.83) --> 'Healthy'\n",
    "- Smokers: (70.33, 122.46) --> 'Elevated'"
   ]
  },
  {
   "cell_type": "markdown",
   "metadata": {},
   "source": [
    "# Problem 5 [10 points]\n",
    "\n",
    "Use the dataframe that you produced in problem 4 to created a grouped bar chart that shows \"diastolic\" and \"systolic\" blood pressure of smokers and non-smokers.\n",
    "\n",
    "You should include the appropriate title/axis label/legend in the plot\n",
    "\n",
    "Grading scheme:\n",
    "\n",
    "- Create grouped bar chart [7 points]\n",
    "- Appropriate title [1 point]\n",
    "- Axis label [1 point]\n",
    "- Legend [1 point]"
   ]
  },
  {
   "cell_type": "code",
   "execution_count": 29,
   "metadata": {},
   "outputs": [],
   "source": [
    "labels = ['Diastolic', 'Systolic']\n",
    "y_value1 = [np.mean(yes_df['BPDiaAve']), np.mean(yes_df['BPSysAve'])]\n",
    "y_value2 = [np.mean(no_df['BPDiaAve']), np.mean(no_df['BPSysAve'])]"
   ]
  },
  {
   "cell_type": "code",
   "execution_count": 36,
   "metadata": {},
   "outputs": [
    {
     "data": {
      "image/png": "[encoded data removed]",
      "text/plain": [
       "<Figure size 720x432 with 1 Axes>"
      ]
     },
     "metadata": {
      "needs_background": "light"
     },
     "output_type": "display_data"
    }
   ],
   "source": [
    "x = np.arange(len(labels))\n",
    "width = 0.3\n",
    "\n",
    "fig, ax = plt.subplots(figsize=(10,6))\n",
    "ax.bar(x - width/2, y_value1, width, label='Smokers', color='orange')\n",
    "ax.bar(x + width/2, y_value2, width, label='Non-Smokers', color='tomato')\n",
    "\n",
    "\n",
    "ax.set_ylabel('Percentage[%]', fontsize=14)\n",
    "ax.set_xlabel('', fontsize=14)\n",
    "ax.set_title('Blood Pressure of Smokers vs Non-Smokers',fontsize=20, fontweight='bold')\n",
    "ax.set_xticks(x)\n",
    "ax.set_xticklabels(labels, fontsize=12)\n",
    "ax.legend(fontsize=11)\n",
    "\n",
    "\n",
    "plt.show()"
   ]
  },
  {
   "cell_type": "markdown",
   "metadata": {},
   "source": [
    "# Sample solution from Problem 2"
   ]
  },
  {
   "cell_type": "code",
   "execution_count": 2,
   "metadata": {},
   "outputs": [
    {
     "name": "stderr",
     "output_type": "stream",
     "text": [
      "C:\\Users\\daiki\\Anaconda3\\lib\\site-packages\\ipykernel_launcher.py:15: MatplotlibDeprecationWarning: Adding an axes using the same arguments as a previous axes currently reuses the earlier instance.  In a future version, a new instance will always be created and returned.  Meanwhile, this warning can be suppressed, and the future behavior ensured, by passing a unique label to each axes instance.\n",
      "  from ipykernel import kernelapp as app\n"
     ]
    },
    {
     "data": {
      "image/png": "[encoded data removed]",
      "text/plain": [
       "<Figure size 432x288 with 1 Axes>"
      ]
     },
     "metadata": {
      "needs_background": "light"
     },
     "output_type": "display_data"
    }
   ],
   "source": [
    "import matplotlib.pyplot as plt\n",
    "import numpy as np\n",
    "\n",
    "\n",
    "# graph is from:\n",
    "# https://www.economist.com/graphic-detail/2020/09/20/more-people-are-climbing-to-the-top-of-mount-everest-than-ever-before\n",
    "\n",
    "\n",
    "plt.plot([15,20,30,35,40,41,50,60,70,80],[66,66,66,68,70,69,55,40,22,10], color = \"#2c74a4\",linewidth=3.0)\n",
    "plt.plot([15,20,30,40,50,60,70],[30,34,38,39,30,18,8], color = '#6ecbdb',linewidth=3.0)\n",
    "plt.annotate('2006-19', xy =(18, 70), color = \"#2c74a4\", fontsize=12) \n",
    "plt.annotate('1990-2005', xy =(18, 25), color = \"#6ecbdb\", fontsize=12) \n",
    "           \n",
    "\n",
    "ax = plt.subplot(111)\n",
    "\n",
    "\n",
    "\n",
    "plt.yticks(np.arange(0, 81, 20))\n",
    "plt.xticks(np.arange(15, 81, 5))\n",
    "ax.spines['left'].set_visible(False)\n",
    "ax.spines['top'].set_visible(False)\n",
    "ax.yaxis.set_label_position(\"right\")\n",
    "ax.yaxis.tick_right()\n",
    "ax.yaxis.grid(True, color =\"#d2dbdf\") \n",
    "\n",
    "ax.spines['right'].set_color('#ffffff')\n",
    "ax.spines['bottom'].set_color('#565556')\n",
    "ax.tick_params(axis='y', colors='#565556')\n",
    "ax.tick_params(axis='x', colors='#565556')\n",
    "\n",
    "for label in ax.xaxis.get_ticklabels()[2::2]:\n",
    "    label.set_visible(False)\n",
    "    \n",
    "    \n",
    "ax.yaxis.set_ticks_position('none') \n",
    "ax.xaxis.set_ticks_position('none') \n",
    "\n",
    "\n",
    "plt.title(\"By climber's age\", fontsize=17, loc='left', color =\"#565556\", y = 1.05)\n",
    "plt.suptitle(\"Successful summit,%\", ha = 'right' , y=1.06, fontsize=18, color = \"#3b3839\", x = 0.575)\n",
    "plt.xlabel(\"Climber's age\", color = \"#565556\", fontsize=13)\n",
    "\n",
    "plt.show()\n",
    "\n",
    "# Could not figure out how to get the y axix labels on the line as opposed to next to them..."
   ]
  },
  {
   "cell_type": "code",
   "execution_count": 1,
   "metadata": {},
   "outputs": [
    {
     "data": {
      "image/png": "[encoded data removed]",
      "text/plain": [
       "<Figure size 432x432 with 1 Axes>"
      ]
     },
     "metadata": {
      "needs_background": "light"
     },
     "output_type": "display_data"
    }
   ],
   "source": [
    "x_values = [\"Merck\", \"Intersect\", \"Meda\", \"Karlstorz\"]\n",
    "y_values = [90, 45, 15, 10]\n",
    "\n",
    "import matplotlib.pyplot as plt\n",
    "\n",
    "fig, axs = plt.subplots(figsize=(6,6))       \n",
    "axs.bar(x_values, y_values, color=('#87aab9'), edgecolor = (\"black\"), width=0.4)      \n",
    "axs.set_title(\"Number of payments by company\", \n",
    "              fontsize=14, loc = 'left')   \n",
    "\n",
    "axs.set_ylabel(\"No. of Payments\", fontsize=14)\n",
    "axs.tick_params(labelsize=14)   \n",
    "\n",
    "axs.spines['right'].set_visible(False)\n",
    "axs.spines['top'].set_visible(False)\n",
    "\n",
    "axs.set_ylim([0,100])\n",
    "axs.set_yticks([0,10,20, 30, 40, 50, 60, 70, 80, 90, 100])\n",
    "\n",
    "plt.grid(axis='y')\n",
    "\n",
    "plt.show() "
   ]
  }
 ],
 "metadata": {
  "kernelspec": {
   "display_name": "Python 3",
   "language": "python",
   "name": "python3"
  },
  "language_info": {
   "codemirror_mode": {
    "name": "ipython",
    "version": 3
   },
   "file_extension": ".py",
   "mimetype": "text/x-python",
   "name": "python",
   "nbconvert_exporter": "python",
   "pygments_lexer": "ipython3",
   "version": "3.6.10"
  }
 },
 "nbformat": 4,
 "nbformat_minor": 4
}

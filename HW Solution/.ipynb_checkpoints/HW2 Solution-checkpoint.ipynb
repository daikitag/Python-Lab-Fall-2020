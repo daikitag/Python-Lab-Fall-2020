{
 "cells": [
  {
   "cell_type": "markdown",
   "metadata": {},
   "source": [
    "# HW2 [50 points]\n",
    "\n",
    "Please complete this assignment on your computer instead of using Codio.\n",
    "\n",
    "Before you start this assignment, follow the directions in \"How to install Python.pdf\" and \"How to use Python on your computer.pdf\" and download Anaconda to your computer."
   ]
  },
  {
   "cell_type": "markdown",
   "metadata": {},
   "source": [
    "# Problem 1 [5 points x 3]"
   ]
  },
  {
   "cell_type": "markdown",
   "metadata": {},
   "source": [
    "## (a)\n",
    "\n",
    "Points:\n",
    "- 2 Points: Explanation\n",
    "- 3 Points: Correct code"
   ]
  },
  {
   "cell_type": "markdown",
   "metadata": {},
   "source": [
    "Explanation:\n",
    "\n",
    "The first if statement is \n",
    "```Python\n",
    "if number % 2 == 0\n",
    "```\n",
    "so all numbers that can be divided by 2 and 3 are `True` here. Instead you should have\n",
    "```Python\n",
    "if number % 2 == 0 and number % 3 == 0\n",
    "```\n",
    "here. The other codes can stay the same."
   ]
  },
  {
   "cell_type": "code",
   "execution_count": 4,
   "metadata": {},
   "outputs": [
    {
     "name": "stdout",
     "output_type": "stream",
     "text": [
      "Divisible by 2 and 3\n"
     ]
    }
   ],
   "source": [
    "number = 24\n",
    "\n",
    "if number % 2 == 0 and number % 3 == 0:\n",
    "    print(\"Divisible by 2 and 3\")\n",
    "elif number % 3 == 0:\n",
    "    print(\"Divisible by 3 but not divisible by 2\")\n",
    "elif number % 2 == 0:\n",
    "    print(\"Divisible by 2 but not divisible by 3\")\n",
    "else:\n",
    "    print(\"Not divisible by 2 or 3\")"
   ]
  },
  {
   "cell_type": "markdown",
   "metadata": {},
   "source": [
    "## (b)\n",
    "\n",
    "The problem forgets `:` at the end."
   ]
  },
  {
   "cell_type": "code",
   "execution_count": 7,
   "metadata": {},
   "outputs": [
    {
     "name": "stdout",
     "output_type": "stream",
     "text": [
      "['one', 'two', 'A', 'B']\n"
     ]
    }
   ],
   "source": [
    "list1 = ['one', 'two']\n",
    "list2 = ['A', 'B']\n",
    "\n",
    "def add_list(list1, list2):\n",
    "    lista = list1 + list2\n",
    "    print(lista)\n",
    "\n",
    "add_list(list1, list2)"
   ]
  },
  {
   "cell_type": "markdown",
   "metadata": {},
   "source": [
    "## (c)\n",
    "\n",
    "Only correct code is required here. The problem can be easily solved by `insert()` function in Python, but I was hoping that you could solve this problem by only the techniques that are covered in class."
   ]
  },
  {
   "cell_type": "code",
   "execution_count": 11,
   "metadata": {},
   "outputs": [
    {
     "data": {
      "text/plain": [
       "[1, 2, 3, 100, 4, 5]"
      ]
     },
     "execution_count": 11,
     "metadata": {},
     "output_type": "execute_result"
    }
   ],
   "source": [
    "list1 = [1,2,3,4,5]\n",
    "lista = list1[0:3]\n",
    "lista.append(100)\n",
    "lista + list1[3:5]"
   ]
  },
  {
   "cell_type": "markdown",
   "metadata": {},
   "source": [
    "# Problem2 [20 points]"
   ]
  },
  {
   "cell_type": "markdown",
   "metadata": {},
   "source": [
    "- Create your csv file and load it in Python [4 points]\n",
    "- Correct directory path [2 points]\n",
    "- Correctly calculate the total score [4 points]\n",
    "- Correct if statement [6 points]\n",
    "- Correct final grades [4 points]"
   ]
  },
  {
   "cell_type": "code",
   "execution_count": 1,
   "metadata": {},
   "outputs": [
    {
     "data": {
      "text/html": [
       "<div>\n",
       "<style scoped>\n",
       "    .dataframe tbody tr th:only-of-type {\n",
       "        vertical-align: middle;\n",
       "    }\n",
       "\n",
       "    .dataframe tbody tr th {\n",
       "        vertical-align: top;\n",
       "    }\n",
       "\n",
       "    .dataframe thead th {\n",
       "        text-align: right;\n",
       "    }\n",
       "</style>\n",
       "<table border=\"1\" class=\"dataframe\">\n",
       "  <thead>\n",
       "    <tr style=\"text-align: right;\">\n",
       "      <th></th>\n",
       "      <th>Student</th>\n",
       "      <th>Gender</th>\n",
       "      <th>HW1</th>\n",
       "      <th>HW2</th>\n",
       "      <th>HW3</th>\n",
       "      <th>HW4</th>\n",
       "      <th>HW5</th>\n",
       "      <th>Midterm1</th>\n",
       "      <th>Midterm2</th>\n",
       "      <th>Final</th>\n",
       "      <th>Homework</th>\n",
       "      <th>Total</th>\n",
       "    </tr>\n",
       "  </thead>\n",
       "  <tbody>\n",
       "    <tr>\n",
       "      <th>0</th>\n",
       "      <td>John</td>\n",
       "      <td>Male</td>\n",
       "      <td>98</td>\n",
       "      <td>97</td>\n",
       "      <td>92</td>\n",
       "      <td>77</td>\n",
       "      <td>89</td>\n",
       "      <td>87</td>\n",
       "      <td>83</td>\n",
       "      <td>90</td>\n",
       "      <td>90.6</td>\n",
       "      <td>87.62</td>\n",
       "    </tr>\n",
       "    <tr>\n",
       "      <th>1</th>\n",
       "      <td>William</td>\n",
       "      <td>Male</td>\n",
       "      <td>84</td>\n",
       "      <td>97</td>\n",
       "      <td>89</td>\n",
       "      <td>92</td>\n",
       "      <td>88</td>\n",
       "      <td>90</td>\n",
       "      <td>79</td>\n",
       "      <td>85</td>\n",
       "      <td>90.0</td>\n",
       "      <td>85.75</td>\n",
       "    </tr>\n",
       "    <tr>\n",
       "      <th>2</th>\n",
       "      <td>Elizabeth</td>\n",
       "      <td>Female</td>\n",
       "      <td>0</td>\n",
       "      <td>87</td>\n",
       "      <td>53</td>\n",
       "      <td>88</td>\n",
       "      <td>79</td>\n",
       "      <td>78</td>\n",
       "      <td>68</td>\n",
       "      <td>73</td>\n",
       "      <td>61.4</td>\n",
       "      <td>70.68</td>\n",
       "    </tr>\n",
       "    <tr>\n",
       "      <th>3</th>\n",
       "      <td>Thomas</td>\n",
       "      <td>Male</td>\n",
       "      <td>100</td>\n",
       "      <td>98</td>\n",
       "      <td>54</td>\n",
       "      <td>0</td>\n",
       "      <td>83</td>\n",
       "      <td>68</td>\n",
       "      <td>74</td>\n",
       "      <td>74</td>\n",
       "      <td>67.0</td>\n",
       "      <td>71.10</td>\n",
       "    </tr>\n",
       "    <tr>\n",
       "      <th>4</th>\n",
       "      <td>Emily</td>\n",
       "      <td>Female</td>\n",
       "      <td>86</td>\n",
       "      <td>98</td>\n",
       "      <td>87</td>\n",
       "      <td>100</td>\n",
       "      <td>100</td>\n",
       "      <td>97</td>\n",
       "      <td>93</td>\n",
       "      <td>91</td>\n",
       "      <td>94.2</td>\n",
       "      <td>93.64</td>\n",
       "    </tr>\n",
       "    <tr>\n",
       "      <th>5</th>\n",
       "      <td>Lisa</td>\n",
       "      <td>Female</td>\n",
       "      <td>99</td>\n",
       "      <td>87</td>\n",
       "      <td>74</td>\n",
       "      <td>88</td>\n",
       "      <td>79</td>\n",
       "      <td>91</td>\n",
       "      <td>95</td>\n",
       "      <td>93</td>\n",
       "      <td>85.4</td>\n",
       "      <td>91.48</td>\n",
       "    </tr>\n",
       "    <tr>\n",
       "      <th>6</th>\n",
       "      <td>Joseph</td>\n",
       "      <td>Male</td>\n",
       "      <td>96</td>\n",
       "      <td>77</td>\n",
       "      <td>0</td>\n",
       "      <td>79</td>\n",
       "      <td>0</td>\n",
       "      <td>72</td>\n",
       "      <td>89</td>\n",
       "      <td>83</td>\n",
       "      <td>50.4</td>\n",
       "      <td>75.23</td>\n",
       "    </tr>\n",
       "    <tr>\n",
       "      <th>7</th>\n",
       "      <td>Michael</td>\n",
       "      <td>Male</td>\n",
       "      <td>89</td>\n",
       "      <td>87</td>\n",
       "      <td>100</td>\n",
       "      <td>99</td>\n",
       "      <td>92</td>\n",
       "      <td>100</td>\n",
       "      <td>97</td>\n",
       "      <td>92</td>\n",
       "      <td>93.4</td>\n",
       "      <td>95.53</td>\n",
       "    </tr>\n",
       "    <tr>\n",
       "      <th>8</th>\n",
       "      <td>Sarah</td>\n",
       "      <td>Female</td>\n",
       "      <td>96</td>\n",
       "      <td>100</td>\n",
       "      <td>100</td>\n",
       "      <td>0</td>\n",
       "      <td>86</td>\n",
       "      <td>84</td>\n",
       "      <td>88</td>\n",
       "      <td>74</td>\n",
       "      <td>76.4</td>\n",
       "      <td>80.48</td>\n",
       "    </tr>\n",
       "    <tr>\n",
       "      <th>9</th>\n",
       "      <td>Amy</td>\n",
       "      <td>Female</td>\n",
       "      <td>86</td>\n",
       "      <td>100</td>\n",
       "      <td>94</td>\n",
       "      <td>84</td>\n",
       "      <td>85</td>\n",
       "      <td>56</td>\n",
       "      <td>62</td>\n",
       "      <td>63</td>\n",
       "      <td>89.8</td>\n",
       "      <td>66.36</td>\n",
       "    </tr>\n",
       "  </tbody>\n",
       "</table>\n",
       "</div>"
      ],
      "text/plain": [
       "     Student  Gender  HW1  HW2  HW3  HW4  HW5  Midterm1  Midterm2  Final  \\\n",
       "0       John    Male   98   97   92   77   89        87        83     90   \n",
       "1    William    Male   84   97   89   92   88        90        79     85   \n",
       "2  Elizabeth  Female    0   87   53   88   79        78        68     73   \n",
       "3     Thomas    Male  100   98   54    0   83        68        74     74   \n",
       "4      Emily  Female   86   98   87  100  100        97        93     91   \n",
       "5       Lisa  Female   99   87   74   88   79        91        95     93   \n",
       "6     Joseph    Male   96   77    0   79    0        72        89     83   \n",
       "7    Michael    Male   89   87  100   99   92       100        97     92   \n",
       "8      Sarah  Female   96  100  100    0   86        84        88     74   \n",
       "9        Amy  Female   86  100   94   84   85        56        62     63   \n",
       "\n",
       "   Homework  Total  \n",
       "0      90.6  87.62  \n",
       "1      90.0  85.75  \n",
       "2      61.4  70.68  \n",
       "3      67.0  71.10  \n",
       "4      94.2  93.64  \n",
       "5      85.4  91.48  \n",
       "6      50.4  75.23  \n",
       "7      93.4  95.53  \n",
       "8      76.4  80.48  \n",
       "9      89.8  66.36  "
      ]
     },
     "execution_count": 1,
     "metadata": {},
     "output_type": "execute_result"
    }
   ],
   "source": [
    "import pandas as pd\n",
    "df = pd.read_csv(r'C:\\Users\\daiki\\Documents\\Grades.csv')\n",
    "\n",
    "df['Homework'] = (df['HW1'] + df['HW2'] + df['HW3'] + df['HW4'] + df['HW5']) / 5\n",
    "df['Total'] = 0.2 * df['Homework'] + 0.25 * df['Midterm1'] + 0.25 * df['Midterm2'] + 0.3 * df['Final']\n",
    "\n",
    "df"
   ]
  },
  {
   "cell_type": "code",
   "execution_count": 2,
   "metadata": {},
   "outputs": [],
   "source": [
    "def function(row):\n",
    "    if row['Total'] >= 90:\n",
    "        return 'A'\n",
    "    elif row['Total'] >= 80:\n",
    "        return 'B'\n",
    "    elif row['Total'] >= 70:\n",
    "        return 'C'\n",
    "    else:\n",
    "        return 'D'"
   ]
  },
  {
   "cell_type": "code",
   "execution_count": 3,
   "metadata": {},
   "outputs": [
    {
     "data": {
      "text/html": [
       "<div>\n",
       "<style scoped>\n",
       "    .dataframe tbody tr th:only-of-type {\n",
       "        vertical-align: middle;\n",
       "    }\n",
       "\n",
       "    .dataframe tbody tr th {\n",
       "        vertical-align: top;\n",
       "    }\n",
       "\n",
       "    .dataframe thead th {\n",
       "        text-align: right;\n",
       "    }\n",
       "</style>\n",
       "<table border=\"1\" class=\"dataframe\">\n",
       "  <thead>\n",
       "    <tr style=\"text-align: right;\">\n",
       "      <th></th>\n",
       "      <th>Student</th>\n",
       "      <th>Gender</th>\n",
       "      <th>HW1</th>\n",
       "      <th>HW2</th>\n",
       "      <th>HW3</th>\n",
       "      <th>HW4</th>\n",
       "      <th>HW5</th>\n",
       "      <th>Midterm1</th>\n",
       "      <th>Midterm2</th>\n",
       "      <th>Final</th>\n",
       "      <th>Homework</th>\n",
       "      <th>Total</th>\n",
       "      <th>Grade</th>\n",
       "    </tr>\n",
       "  </thead>\n",
       "  <tbody>\n",
       "    <tr>\n",
       "      <th>0</th>\n",
       "      <td>John</td>\n",
       "      <td>Male</td>\n",
       "      <td>98</td>\n",
       "      <td>97</td>\n",
       "      <td>92</td>\n",
       "      <td>77</td>\n",
       "      <td>89</td>\n",
       "      <td>87</td>\n",
       "      <td>83</td>\n",
       "      <td>90</td>\n",
       "      <td>90.6</td>\n",
       "      <td>87.62</td>\n",
       "      <td>B</td>\n",
       "    </tr>\n",
       "    <tr>\n",
       "      <th>1</th>\n",
       "      <td>William</td>\n",
       "      <td>Male</td>\n",
       "      <td>84</td>\n",
       "      <td>97</td>\n",
       "      <td>89</td>\n",
       "      <td>92</td>\n",
       "      <td>88</td>\n",
       "      <td>90</td>\n",
       "      <td>79</td>\n",
       "      <td>85</td>\n",
       "      <td>90.0</td>\n",
       "      <td>85.75</td>\n",
       "      <td>B</td>\n",
       "    </tr>\n",
       "    <tr>\n",
       "      <th>2</th>\n",
       "      <td>Elizabeth</td>\n",
       "      <td>Female</td>\n",
       "      <td>0</td>\n",
       "      <td>87</td>\n",
       "      <td>53</td>\n",
       "      <td>88</td>\n",
       "      <td>79</td>\n",
       "      <td>78</td>\n",
       "      <td>68</td>\n",
       "      <td>73</td>\n",
       "      <td>61.4</td>\n",
       "      <td>70.68</td>\n",
       "      <td>C</td>\n",
       "    </tr>\n",
       "    <tr>\n",
       "      <th>3</th>\n",
       "      <td>Thomas</td>\n",
       "      <td>Male</td>\n",
       "      <td>100</td>\n",
       "      <td>98</td>\n",
       "      <td>54</td>\n",
       "      <td>0</td>\n",
       "      <td>83</td>\n",
       "      <td>68</td>\n",
       "      <td>74</td>\n",
       "      <td>74</td>\n",
       "      <td>67.0</td>\n",
       "      <td>71.10</td>\n",
       "      <td>C</td>\n",
       "    </tr>\n",
       "    <tr>\n",
       "      <th>4</th>\n",
       "      <td>Emily</td>\n",
       "      <td>Female</td>\n",
       "      <td>86</td>\n",
       "      <td>98</td>\n",
       "      <td>87</td>\n",
       "      <td>100</td>\n",
       "      <td>100</td>\n",
       "      <td>97</td>\n",
       "      <td>93</td>\n",
       "      <td>91</td>\n",
       "      <td>94.2</td>\n",
       "      <td>93.64</td>\n",
       "      <td>A</td>\n",
       "    </tr>\n",
       "    <tr>\n",
       "      <th>5</th>\n",
       "      <td>Lisa</td>\n",
       "      <td>Female</td>\n",
       "      <td>99</td>\n",
       "      <td>87</td>\n",
       "      <td>74</td>\n",
       "      <td>88</td>\n",
       "      <td>79</td>\n",
       "      <td>91</td>\n",
       "      <td>95</td>\n",
       "      <td>93</td>\n",
       "      <td>85.4</td>\n",
       "      <td>91.48</td>\n",
       "      <td>A</td>\n",
       "    </tr>\n",
       "    <tr>\n",
       "      <th>6</th>\n",
       "      <td>Joseph</td>\n",
       "      <td>Male</td>\n",
       "      <td>96</td>\n",
       "      <td>77</td>\n",
       "      <td>0</td>\n",
       "      <td>79</td>\n",
       "      <td>0</td>\n",
       "      <td>72</td>\n",
       "      <td>89</td>\n",
       "      <td>83</td>\n",
       "      <td>50.4</td>\n",
       "      <td>75.23</td>\n",
       "      <td>C</td>\n",
       "    </tr>\n",
       "    <tr>\n",
       "      <th>7</th>\n",
       "      <td>Michael</td>\n",
       "      <td>Male</td>\n",
       "      <td>89</td>\n",
       "      <td>87</td>\n",
       "      <td>100</td>\n",
       "      <td>99</td>\n",
       "      <td>92</td>\n",
       "      <td>100</td>\n",
       "      <td>97</td>\n",
       "      <td>92</td>\n",
       "      <td>93.4</td>\n",
       "      <td>95.53</td>\n",
       "      <td>A</td>\n",
       "    </tr>\n",
       "    <tr>\n",
       "      <th>8</th>\n",
       "      <td>Sarah</td>\n",
       "      <td>Female</td>\n",
       "      <td>96</td>\n",
       "      <td>100</td>\n",
       "      <td>100</td>\n",
       "      <td>0</td>\n",
       "      <td>86</td>\n",
       "      <td>84</td>\n",
       "      <td>88</td>\n",
       "      <td>74</td>\n",
       "      <td>76.4</td>\n",
       "      <td>80.48</td>\n",
       "      <td>B</td>\n",
       "    </tr>\n",
       "    <tr>\n",
       "      <th>9</th>\n",
       "      <td>Amy</td>\n",
       "      <td>Female</td>\n",
       "      <td>86</td>\n",
       "      <td>100</td>\n",
       "      <td>94</td>\n",
       "      <td>84</td>\n",
       "      <td>85</td>\n",
       "      <td>56</td>\n",
       "      <td>62</td>\n",
       "      <td>63</td>\n",
       "      <td>89.8</td>\n",
       "      <td>66.36</td>\n",
       "      <td>D</td>\n",
       "    </tr>\n",
       "  </tbody>\n",
       "</table>\n",
       "</div>"
      ],
      "text/plain": [
       "     Student  Gender  HW1  HW2  HW3  HW4  HW5  Midterm1  Midterm2  Final  \\\n",
       "0       John    Male   98   97   92   77   89        87        83     90   \n",
       "1    William    Male   84   97   89   92   88        90        79     85   \n",
       "2  Elizabeth  Female    0   87   53   88   79        78        68     73   \n",
       "3     Thomas    Male  100   98   54    0   83        68        74     74   \n",
       "4      Emily  Female   86   98   87  100  100        97        93     91   \n",
       "5       Lisa  Female   99   87   74   88   79        91        95     93   \n",
       "6     Joseph    Male   96   77    0   79    0        72        89     83   \n",
       "7    Michael    Male   89   87  100   99   92       100        97     92   \n",
       "8      Sarah  Female   96  100  100    0   86        84        88     74   \n",
       "9        Amy  Female   86  100   94   84   85        56        62     63   \n",
       "\n",
       "   Homework  Total Grade  \n",
       "0      90.6  87.62     B  \n",
       "1      90.0  85.75     B  \n",
       "2      61.4  70.68     C  \n",
       "3      67.0  71.10     C  \n",
       "4      94.2  93.64     A  \n",
       "5      85.4  91.48     A  \n",
       "6      50.4  75.23     C  \n",
       "7      93.4  95.53     A  \n",
       "8      76.4  80.48     B  \n",
       "9      89.8  66.36     D  "
      ]
     },
     "execution_count": 3,
     "metadata": {},
     "output_type": "execute_result"
    }
   ],
   "source": [
    "df['Grade'] = df.apply(function, axis=1)\n",
    "df"
   ]
  },
  {
   "cell_type": "markdown",
   "metadata": {},
   "source": [
    "# Problem3"
   ]
  },
  {
   "cell_type": "markdown",
   "metadata": {},
   "source": [
    "- Load “NHANES.csv” file in Python [3 points]\n",
    "- Correct if statements [7 points]\n",
    "- Correct classification [5 points]\n",
    "\n",
    "New grading scheme:\n",
    "\n",
    "- No value counts [-1 point] (It was asked in the problem)\n",
    "- Slight incorrect errors [-1 point] (Most counts are correct, but some are incorrect)\n",
    "- Incorrect if statement order/statement [-3 points] (The general if statement is correct, but the counts are drastically different)\n",
    "- Completely different if statement [-5 points]"
   ]
  },
  {
   "cell_type": "code",
   "execution_count": 11,
   "metadata": {},
   "outputs": [],
   "source": [
    "import pandas as pd\n",
    "df = pd.read_csv(r'C:\\Users\\daiki\\Documents\\PythonLabGithub\\Lab 2\\Data\\NHANES.csv')"
   ]
  },
  {
   "cell_type": "code",
   "execution_count": 12,
   "metadata": {},
   "outputs": [],
   "source": [
    "# I just included them here for my reference (no need to do this)\n",
    "diastolic = df['BPDiaAve']\n",
    "systoic = df['BPSysAve']"
   ]
  },
  {
   "cell_type": "code",
   "execution_count": 33,
   "metadata": {},
   "outputs": [],
   "source": [
    "def function(row):\n",
    "    if row['BPDiaAve'] < 80 and row['BPSysAve'] < 120:\n",
    "        return 'Healthy'\n",
    "    elif row['BPDiaAve'] < 80 and row['BPSysAve'] < 130:\n",
    "        return 'Elevated'\n",
    "    elif row['BPDiaAve'] < 90 and row['BPSysAve'] < 140:\n",
    "        return 'Stage1'\n",
    "    elif row['BPDiaAve'] <= 120 and row['BPSysAve'] <= 180:\n",
    "        return 'Stage2'\n",
    "    elif row['BPDiaAve'] >= 180 or row['BPSysAve'] >= 120:\n",
    "        return 'Hypertensive Crisis'\n",
    "    else:\n",
    "        return 'NaN'"
   ]
  },
  {
   "cell_type": "code",
   "execution_count": 34,
   "metadata": {},
   "outputs": [],
   "source": [
    "df['Blood Pressure'] = df.apply(function, axis=1)"
   ]
  },
  {
   "cell_type": "code",
   "execution_count": 35,
   "metadata": {},
   "outputs": [
    {
     "data": {
      "text/plain": [
       "Healthy                4794\n",
       "Stage1                 1463\n",
       "NaN                    1449\n",
       "Elevated               1248\n",
       "Stage2                 1001\n",
       "Hypertensive Crisis      45\n",
       "Name: Blood Pressure, dtype: int64"
      ]
     },
     "execution_count": 35,
     "metadata": {},
     "output_type": "execute_result"
    }
   ],
   "source": [
    "df['Blood Pressure'].value_counts()"
   ]
  },
  {
   "cell_type": "markdown",
   "metadata": {},
   "source": [
    "We didn't cover how to deal with NaN in our class, so I gave points for people who didn't deal with NaNs as well.\n",
    "\n",
    "For example, the following is an acceptable answer:"
   ]
  },
  {
   "cell_type": "code",
   "execution_count": 40,
   "metadata": {},
   "outputs": [],
   "source": [
    "def function(row):\n",
    "    if row['BPDiaAve'] < 80 and row['BPSysAve'] < 120:\n",
    "        return 'Healthy'\n",
    "    elif row['BPDiaAve'] < 80 and row['BPSysAve'] < 130:\n",
    "        return 'Elevated'\n",
    "    elif row['BPDiaAve'] < 90 and row['BPSysAve'] < 140:\n",
    "        return 'Stage1'\n",
    "    elif row['BPDiaAve'] <= 120 and row['BPSysAve'] <= 180:\n",
    "        return 'Stage2'\n",
    "    else:\n",
    "        return 'Hypertensive Crisis'"
   ]
  },
  {
   "cell_type": "code",
   "execution_count": 41,
   "metadata": {},
   "outputs": [
    {
     "data": {
      "text/plain": [
       "Healthy                4794\n",
       "Hypertensive Crisis    1494\n",
       "Stage1                 1463\n",
       "Elevated               1248\n",
       "Stage2                 1001\n",
       "Name: Blood Pressure, dtype: int64"
      ]
     },
     "execution_count": 41,
     "metadata": {},
     "output_type": "execute_result"
    }
   ],
   "source": [
    "df['Blood Pressure'] = df.apply(function, axis=1)\n",
    "df['Blood Pressure'].value_counts()"
   ]
  },
  {
   "cell_type": "markdown",
   "metadata": {},
   "source": [
    "Here, notice that I only moved the final statement to `else:`. Even if I didn't get rid of NaNs, only the counts for 1 condition will change."
   ]
  },
  {
   "cell_type": "markdown",
   "metadata": {},
   "source": [
    "## Diagram of conditions:\n",
    "\n",
    "For complicated problems like this, it is always the best to visualize the possible outcomes\n",
    "\n",
    "<img src=\"Images/blood_pressure.jpg\" width=600>"
   ]
  }
 ],
 "metadata": {
  "kernelspec": {
   "display_name": "Python 3",
   "language": "python",
   "name": "python3"
  },
  "language_info": {
   "codemirror_mode": {
    "name": "ipython",
    "version": 3
   },
   "file_extension": ".py",
   "mimetype": "text/x-python",
   "name": "python",
   "nbconvert_exporter": "python",
   "pygments_lexer": "ipython3",
   "version": "3.6.10"
  }
 },
 "nbformat": 4,
 "nbformat_minor": 4
}

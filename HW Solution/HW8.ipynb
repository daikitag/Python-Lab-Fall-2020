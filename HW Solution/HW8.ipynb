{
 "cells": [
  {
   "cell_type": "markdown",
   "metadata": {},
   "source": [
    "# HW 8 [50 points]\n",
    "\n",
    "As I mentioned during class, this will be the final lab assignment that is going to be graded this semester.\n",
    "\n",
    "You should have all the required tools to solve these problems, and good luck!"
   ]
  },
  {
   "cell_type": "markdown",
   "metadata": {},
   "source": [
    "# Problem 1 [25 points]\n",
    "\n",
    "During the 17th century, many people used:\n",
    "\n",
    "- Thou\n",
    "- Thee\n",
    "- Thy\n",
    "- Thine\n",
    "\n",
    "instead of you, your and yours. Let's visulalize how the usage of these words have changed over time.\n",
    "\n",
    "Remember the code that you used in HW1 to download the book to analyze it in Python. You have to do the following:\n",
    "\n",
    "1. Download 5 books that were written in different time periods. One of them should be a book written by Shakespeare. For these books, try to select books that were originally written in English, instead of translations.\n",
    "\n",
    "2. Count the number of \"thou, thee, thy, thine\" and \"you, your, yours\" in those 5 books\n",
    "\n",
    "3. Order the 5 books based on the year that they were written, and create a line graph that shows the change of the number of occurrences of these words (Your plot should include two labeled lines, one for thou group and another for you group). The xlabels should be the year that they were written, instead of the name of the books\n",
    "\n",
    "As long as you are able to create a good looking line graph, you will get full credit for this problem."
   ]
  },
  {
   "cell_type": "code",
   "execution_count": null,
   "metadata": {},
   "outputs": [],
   "source": []
  },
  {
   "cell_type": "markdown",
   "metadata": {},
   "source": [
    "# Problem 2 [25 points]\n",
    "\n",
    "Please create a stacked plot\n",
    "\n",
    "https://matplotlib.org/3.1.1/gallery/lines_bars_and_markers/stackplot_demo.html#sphx-glr-gallery-lines-bars-and-markers-stackplot-demo-py\n",
    "\n",
    "that shows the \"cumulative\" counts of COVID-19 cases broken down by continent (Africa, America, Asia, Europe and Oceania). America can be broken down to North American and South America based on the dataset. You should find the link that shows the daily COVID-19 cases broken down by different countries. Please select the dataset that includes the continent column, as classifying the countries without that column would be difficult. I would also recommend you to select the dataset that includes cumulative counts as well.\n",
    "\n",
    "Recommended steps:\n",
    "1. Find a link for dataset (cite it in your solution)\n",
    "2. Create separate dataframes based on continent\n",
    "3. Sum the COVID-19 cases based on dates to get the COVID-19 cases for each continents\n",
    "4. If your dataframe doesn't include cumulative counts, obtain the cumulative COVID-19 cases by using a for loop\n",
    "5. Use the data to create a stacked plot by referring to the stackplot link provided above.\n",
    "6. Make sure that your plot includes the correct labels and legends\n",
    "7. For x tick labels, you can ignore them like in the previous stock price plot assignment. This is completely optional, but if you have some time, please follow the directions in https://matplotlib.org/3.3.2/gallery/text_labels_and_annotations/date.html to get the appropriate x labels\n",
    "\n",
    "As long as you are able to create a satisfactory looking stacked plot, you will get full credit for this problem."
   ]
  },
  {
   "cell_type": "code",
   "execution_count": null,
   "metadata": {},
   "outputs": [],
   "source": []
  }
 ],
 "metadata": {
  "kernelspec": {
   "display_name": "Python 3",
   "language": "python",
   "name": "python3"
  },
  "language_info": {
   "codemirror_mode": {
    "name": "ipython",
    "version": 3
   },
   "file_extension": ".py",
   "mimetype": "text/x-python",
   "name": "python",
   "nbconvert_exporter": "python",
   "pygments_lexer": "ipython3",
   "version": "3.6.12"
  }
 },
 "nbformat": 4,
 "nbformat_minor": 4
}

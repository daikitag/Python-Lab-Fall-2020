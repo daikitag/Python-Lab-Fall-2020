{
 "cells": [
  {
   "cell_type": "markdown",
   "metadata": {},
   "source": [
    "# Section 2: Chi-squared test of independence\n",
    "\n",
    "We use chi-squared test of independence to compare the proportion. Here, we have:\n",
    "\n",
    "Null hypothesis: There is no association between category A and category B\n",
    "\n",
    "Alternative hypothesis: There is an association between category A and category B\n",
    "\n",
    "The code to conduct chi-squared test will look like:\n",
    "\n",
    "```Python\n",
    "from scipy import stats\n",
    "\n",
    "chi2, p, dof, expected = stats.chi2_contingency(contig_table)\n",
    "\n",
    "print(\"chi2:\", chi2)\n",
    "print(\"p:\", p)\n",
    "print(\"dof:\", dof)\n",
    "print(\"expected:\", expected)\n",
    "```\n",
    "Here, you put contigency table in `contig_table`."
   ]
  },
  {
   "cell_type": "markdown",
   "metadata": {},
   "source": [
    "# What is contingency table?\n",
    "\n",
    "Do you remember the following code that you wrote to create a two-frequency table? You need to create the exact same table to this:"
   ]
  },
  {
   "cell_type": "code",
   "execution_count": 1,
   "metadata": {},
   "outputs": [],
   "source": [
    "import pandas as pd\n",
    "df = pd.read_csv(\"Data/NHANES.csv\")"
   ]
  },
  {
   "cell_type": "code",
   "execution_count": 3,
   "metadata": {},
   "outputs": [
    {
     "data": {
      "text/html": [
       "<div>\n",
       "<style scoped>\n",
       "    .dataframe tbody tr th:only-of-type {\n",
       "        vertical-align: middle;\n",
       "    }\n",
       "\n",
       "    .dataframe tbody tr th {\n",
       "        vertical-align: top;\n",
       "    }\n",
       "\n",
       "    .dataframe thead th {\n",
       "        text-align: right;\n",
       "    }\n",
       "</style>\n",
       "<table border=\"1\" class=\"dataframe\">\n",
       "  <thead>\n",
       "    <tr style=\"text-align: right;\">\n",
       "      <th></th>\n",
       "      <th>BMI</th>\n",
       "      <th>Race3</th>\n",
       "    </tr>\n",
       "  </thead>\n",
       "  <tbody>\n",
       "    <tr>\n",
       "      <th>5000</th>\n",
       "      <td>17.3</td>\n",
       "      <td>Asian</td>\n",
       "    </tr>\n",
       "    <tr>\n",
       "      <th>5001</th>\n",
       "      <td>33.3</td>\n",
       "      <td>Black</td>\n",
       "    </tr>\n",
       "    <tr>\n",
       "      <th>5002</th>\n",
       "      <td>33.9</td>\n",
       "      <td>White</td>\n",
       "    </tr>\n",
       "    <tr>\n",
       "      <th>5003</th>\n",
       "      <td>33.9</td>\n",
       "      <td>White</td>\n",
       "    </tr>\n",
       "    <tr>\n",
       "      <th>5004</th>\n",
       "      <td>16.7</td>\n",
       "      <td>White</td>\n",
       "    </tr>\n",
       "    <tr>\n",
       "      <th>...</th>\n",
       "      <td>...</td>\n",
       "      <td>...</td>\n",
       "    </tr>\n",
       "    <tr>\n",
       "      <th>9994</th>\n",
       "      <td>29.4</td>\n",
       "      <td>Mexican</td>\n",
       "    </tr>\n",
       "    <tr>\n",
       "      <th>9995</th>\n",
       "      <td>29.4</td>\n",
       "      <td>Mexican</td>\n",
       "    </tr>\n",
       "    <tr>\n",
       "      <th>9997</th>\n",
       "      <td>31.3</td>\n",
       "      <td>Mexican</td>\n",
       "    </tr>\n",
       "    <tr>\n",
       "      <th>9998</th>\n",
       "      <td>27.5</td>\n",
       "      <td>White</td>\n",
       "    </tr>\n",
       "    <tr>\n",
       "      <th>9999</th>\n",
       "      <td>27.5</td>\n",
       "      <td>White</td>\n",
       "    </tr>\n",
       "  </tbody>\n",
       "</table>\n",
       "<p>4834 rows × 2 columns</p>\n",
       "</div>"
      ],
      "text/plain": [
       "       BMI    Race3\n",
       "5000  17.3    Asian\n",
       "5001  33.3    Black\n",
       "5002  33.9    White\n",
       "5003  33.9    White\n",
       "5004  16.7    White\n",
       "...    ...      ...\n",
       "9994  29.4  Mexican\n",
       "9995  29.4  Mexican\n",
       "9997  31.3  Mexican\n",
       "9998  27.5    White\n",
       "9999  27.5    White\n",
       "\n",
       "[4834 rows x 2 columns]"
      ]
     },
     "execution_count": 3,
     "metadata": {},
     "output_type": "execute_result"
    }
   ],
   "source": [
    "data = df[['BMI', 'Race3']]\n",
    "data = data.dropna()\n",
    "data"
   ]
  },
  {
   "cell_type": "code",
   "execution_count": 4,
   "metadata": {},
   "outputs": [],
   "source": [
    "# This was covered before\n",
    "def function(row):\n",
    "    if row['BMI'] >= 40:\n",
    "        return 'Severe Obesity'\n",
    "    elif row['BMI'] >= 30:\n",
    "        return 'Obesity'\n",
    "    elif row['BMI'] >= 25:\n",
    "        return 'Overweight'\n",
    "    elif row['BMI'] >= 18.5:\n",
    "        return 'Normal'\n",
    "    elif row['BMI'] < 18.5:\n",
    "        return 'Underweight'\n",
    "    else:\n",
    "        return 'NaN'"
   ]
  },
  {
   "cell_type": "code",
   "execution_count": 5,
   "metadata": {},
   "outputs": [],
   "source": [
    "data['Obesity'] = data.apply(function, axis=1)"
   ]
  },
  {
   "cell_type": "code",
   "execution_count": 7,
   "metadata": {},
   "outputs": [
    {
     "data": {
      "text/html": [
       "<div>\n",
       "<style scoped>\n",
       "    .dataframe tbody tr th:only-of-type {\n",
       "        vertical-align: middle;\n",
       "    }\n",
       "\n",
       "    .dataframe tbody tr th {\n",
       "        vertical-align: top;\n",
       "    }\n",
       "\n",
       "    .dataframe thead th {\n",
       "        text-align: right;\n",
       "    }\n",
       "</style>\n",
       "<table border=\"1\" class=\"dataframe\">\n",
       "  <thead>\n",
       "    <tr style=\"text-align: right;\">\n",
       "      <th>Race3</th>\n",
       "      <th>Asian</th>\n",
       "      <th>Black</th>\n",
       "      <th>Hispanic</th>\n",
       "      <th>Mexican</th>\n",
       "      <th>Other</th>\n",
       "      <th>White</th>\n",
       "    </tr>\n",
       "    <tr>\n",
       "      <th>Obesity</th>\n",
       "      <th></th>\n",
       "      <th></th>\n",
       "      <th></th>\n",
       "      <th></th>\n",
       "      <th></th>\n",
       "      <th></th>\n",
       "    </tr>\n",
       "  </thead>\n",
       "  <tbody>\n",
       "    <tr>\n",
       "      <th>Normal</th>\n",
       "      <td>130</td>\n",
       "      <td>135</td>\n",
       "      <td>86</td>\n",
       "      <td>122</td>\n",
       "      <td>46</td>\n",
       "      <td>974</td>\n",
       "    </tr>\n",
       "    <tr>\n",
       "      <th>Obesity</th>\n",
       "      <td>25</td>\n",
       "      <td>162</td>\n",
       "      <td>87</td>\n",
       "      <td>115</td>\n",
       "      <td>27</td>\n",
       "      <td>711</td>\n",
       "    </tr>\n",
       "    <tr>\n",
       "      <th>Overweight</th>\n",
       "      <td>72</td>\n",
       "      <td>131</td>\n",
       "      <td>105</td>\n",
       "      <td>119</td>\n",
       "      <td>34</td>\n",
       "      <td>858</td>\n",
       "    </tr>\n",
       "    <tr>\n",
       "      <th>Severe Obesity</th>\n",
       "      <td>4</td>\n",
       "      <td>45</td>\n",
       "      <td>6</td>\n",
       "      <td>16</td>\n",
       "      <td>13</td>\n",
       "      <td>140</td>\n",
       "    </tr>\n",
       "    <tr>\n",
       "      <th>Underweight</th>\n",
       "      <td>46</td>\n",
       "      <td>95</td>\n",
       "      <td>56</td>\n",
       "      <td>80</td>\n",
       "      <td>30</td>\n",
       "      <td>364</td>\n",
       "    </tr>\n",
       "  </tbody>\n",
       "</table>\n",
       "</div>"
      ],
      "text/plain": [
       "Race3           Asian  Black  Hispanic  Mexican  Other  White\n",
       "Obesity                                                      \n",
       "Normal            130    135        86      122     46    974\n",
       "Obesity            25    162        87      115     27    711\n",
       "Overweight         72    131       105      119     34    858\n",
       "Severe Obesity      4     45         6       16     13    140\n",
       "Underweight        46     95        56       80     30    364"
      ]
     },
     "execution_count": 7,
     "metadata": {},
     "output_type": "execute_result"
    }
   ],
   "source": [
    "table = pd.crosstab(index=data[\"Obesity\"], columns=data[\"Race3\"]) \n",
    "table"
   ]
  },
  {
   "cell_type": "code",
   "execution_count": 9,
   "metadata": {},
   "outputs": [
    {
     "name": "stdout",
     "output_type": "stream",
     "text": [
      "chi2: 136.47459238920283\n",
      "p: 2.3534603363688666e-19\n",
      "dof: 20\n",
      "expected: [[ 85.55254448 175.42904427 105.0103434  139.60198593  46.32809268\n",
      "  941.07798924]\n",
      " [ 64.57985106 132.4236657   79.26768722 105.37939595  34.97103848\n",
      "  710.37836161]\n",
      " [ 75.58191974 154.98386429  92.77203144 123.33223004  40.9288374\n",
      "  831.40111709]\n",
      " [ 12.83574679  26.32023169  15.75506827  20.94497311   6.95076541\n",
      "  141.19321473]\n",
      " [ 38.44993794  78.84319404  47.19486967  62.74141498  20.82126603\n",
      "  422.94931734]]\n"
     ]
    }
   ],
   "source": [
    "from scipy import stats\n",
    "\n",
    "chi2, p, dof, expected = stats.chi2_contingency(table)\n",
    "\n",
    "print(\"chi2:\", chi2)\n",
    "print(\"p:\", p)\n",
    "print(\"dof:\", dof)\n",
    "print(\"expected:\", expected)"
   ]
  },
  {
   "cell_type": "markdown",
   "metadata": {},
   "source": [
    "How do I report this?"
   ]
  },
  {
   "cell_type": "code",
   "execution_count": null,
   "metadata": {},
   "outputs": [],
   "source": []
  },
  {
   "cell_type": "markdown",
   "metadata": {},
   "source": [
    "Remember the 95\\% CI for proportion difference:\n",
    "\n",
    "```Python\n",
    "def CI_prop_diff(s1, s2, n1, n2):\n",
    "    p1 = s1 / n1\n",
    "    p2 = s2 / n2\n",
    "    se2p1 = p1 * (1 - p1) / n1\n",
    "    se2p2 = p2 * (1 - p2) / n2\n",
    "    se2 = se2p1 + se2p2\n",
    "    se = np.sqrt(se2)\n",
    "    low = (p1 - p2) - 1.96 * se\n",
    "    up = (p1 - p2) + 1.96 * se\n",
    "    print(\"Proportion difference is:\", p1 - p2)\n",
    "    print(\"95% CI is: ({}, {})\".format(low, up))\n",
    "```"
   ]
  },
  {
   "cell_type": "markdown",
   "metadata": {},
   "source": [
    "### Vitamin C and the Common Cold\n",
    "\n",
    "Linus Pauling, recipient of Nobel Prizes in Chemistry and in Peace, advocated the use of vitamin C for preventing the common cold. A Canadian experiment examined this claim, using 818 volunteers. At the beginning of the winter, subjects were randomly divided into two groups. The vitamin C group received a supply of vitamin C pills adequate to last through the entire cold season at 1,000 mg per day. The placebo group received an equivalent amount of inert pills. At the end of the cold season, each subject was interviewed by a physician who did not know the group to which the subject had been assigned. On the basis of the interview, the physcian determined whether the subject had or had not suffered a cold during the period. Can the risk of a cold be reduced by using vitamin C?\n",
    "\n",
    "(Data from T. W. Anderson, D. B. W. Reid, and G. H. Beaton, \"Vitamin C and the Common Cold\", Canadian Medical Association Journal 107 (1972): 503-08.)"
   ]
  },
  {
   "cell_type": "code",
   "execution_count": 10,
   "metadata": {},
   "outputs": [],
   "source": [
    "import pandas as pd\n",
    "import numpy as np\n",
    "import matplotlib.pyplot as plt"
   ]
  },
  {
   "cell_type": "code",
   "execution_count": 11,
   "metadata": {},
   "outputs": [
    {
     "data": {
      "text/html": [
       "<div>\n",
       "<style scoped>\n",
       "    .dataframe tbody tr th:only-of-type {\n",
       "        vertical-align: middle;\n",
       "    }\n",
       "\n",
       "    .dataframe tbody tr th {\n",
       "        vertical-align: top;\n",
       "    }\n",
       "\n",
       "    .dataframe thead th {\n",
       "        text-align: right;\n",
       "    }\n",
       "</style>\n",
       "<table border=\"1\" class=\"dataframe\">\n",
       "  <thead>\n",
       "    <tr style=\"text-align: right;\">\n",
       "      <th></th>\n",
       "      <th>Treatment</th>\n",
       "      <th>Cold</th>\n",
       "      <th>NoCold</th>\n",
       "    </tr>\n",
       "  </thead>\n",
       "  <tbody>\n",
       "    <tr>\n",
       "      <th>0</th>\n",
       "      <td>Placebo</td>\n",
       "      <td>335</td>\n",
       "      <td>76</td>\n",
       "    </tr>\n",
       "    <tr>\n",
       "      <th>1</th>\n",
       "      <td>VitC</td>\n",
       "      <td>302</td>\n",
       "      <td>105</td>\n",
       "    </tr>\n",
       "  </tbody>\n",
       "</table>\n",
       "</div>"
      ],
      "text/plain": [
       "  Treatment  Cold  NoCold\n",
       "0   Placebo   335      76\n",
       "1      VitC   302     105"
      ]
     },
     "execution_count": 11,
     "metadata": {},
     "output_type": "execute_result"
    }
   ],
   "source": [
    "df = pd.read_csv('Data/ex4.csv')\n",
    "df"
   ]
  },
  {
   "cell_type": "markdown",
   "metadata": {},
   "source": [
    "The first step in anything should be data visualization. Remember the following code to create a bar chart:\n",
    "\n",
    "```Python\n",
    "fig, axs = plt.subplots(figsize=(10,6)) # Change the figure size here       \n",
    "axs.bar(x_values, y_values, color=('deepskyblue')) # You specify the color here     \n",
    "axs.set_title(\"Plot Title\", fontsize=20, fontweight=\"bold\")   \n",
    "axs.set_xlabel(\"x-axis label\", fontsize=14)\n",
    "axs.set_ylabel(\"y-axis label\", fontsize=14)\n",
    "axs.tick_params(labelsize=16)              \n",
    "plt.show() \n",
    "```"
   ]
  },
  {
   "cell_type": "code",
   "execution_count": 12,
   "metadata": {},
   "outputs": [
    {
     "data": {
      "text/html": [
       "<div>\n",
       "<style scoped>\n",
       "    .dataframe tbody tr th:only-of-type {\n",
       "        vertical-align: middle;\n",
       "    }\n",
       "\n",
       "    .dataframe tbody tr th {\n",
       "        vertical-align: top;\n",
       "    }\n",
       "\n",
       "    .dataframe thead th {\n",
       "        text-align: right;\n",
       "    }\n",
       "</style>\n",
       "<table border=\"1\" class=\"dataframe\">\n",
       "  <thead>\n",
       "    <tr style=\"text-align: right;\">\n",
       "      <th></th>\n",
       "      <th>Treatment</th>\n",
       "      <th>Cold</th>\n",
       "      <th>NoCold</th>\n",
       "      <th>Total</th>\n",
       "      <th>Cold_per</th>\n",
       "    </tr>\n",
       "  </thead>\n",
       "  <tbody>\n",
       "    <tr>\n",
       "      <th>0</th>\n",
       "      <td>Placebo</td>\n",
       "      <td>335</td>\n",
       "      <td>76</td>\n",
       "      <td>411</td>\n",
       "      <td>0.815085</td>\n",
       "    </tr>\n",
       "    <tr>\n",
       "      <th>1</th>\n",
       "      <td>VitC</td>\n",
       "      <td>302</td>\n",
       "      <td>105</td>\n",
       "      <td>407</td>\n",
       "      <td>0.742015</td>\n",
       "    </tr>\n",
       "  </tbody>\n",
       "</table>\n",
       "</div>"
      ],
      "text/plain": [
       "  Treatment  Cold  NoCold  Total  Cold_per\n",
       "0   Placebo   335      76    411  0.815085\n",
       "1      VitC   302     105    407  0.742015"
      ]
     },
     "execution_count": 12,
     "metadata": {},
     "output_type": "execute_result"
    }
   ],
   "source": [
    "df['Total'] = df['Cold'] + df['NoCold']\n",
    "df['Cold_per'] = df['Cold'] / df['Total']\n",
    "df"
   ]
  },
  {
   "cell_type": "code",
   "execution_count": 13,
   "metadata": {},
   "outputs": [
    {
     "data": {
      "image/png": "[encoded data removed]",
      "text/plain": [
       "<Figure size 360x432 with 1 Axes>"
      ]
     },
     "metadata": {
      "needs_background": "light"
     },
     "output_type": "display_data"
    }
   ],
   "source": [
    "x_values = ['Placebo', 'Vitamin C']\n",
    "y_values = df['Cold_per']\n",
    "\n",
    "fig, axs = plt.subplots(figsize=(5,6)) # Change the figure size here       \n",
    "axs.bar(x_values, y_values, color=('deepskyblue'), width=0.5) # You specify the color here     \n",
    "axs.set_title(\"Vitamin C and Common Cold\", fontsize=20, fontweight=\"bold\")   \n",
    "axs.set_xlabel(\"\", fontsize=14)\n",
    "axs.set_ylabel(\"Proportion of people who got a cold\", fontsize=14)\n",
    "axs.tick_params(labelsize=16)              \n",
    "plt.show() "
   ]
  },
  {
   "cell_type": "markdown",
   "metadata": {},
   "source": [
    "Now, let's obtain the 95\\% CI for proportion difference:"
   ]
  },
  {
   "cell_type": "code",
   "execution_count": 14,
   "metadata": {},
   "outputs": [],
   "source": [
    "def CI_prop_diff(s1, s2, n1, n2):\n",
    "    p1 = s1 / n1\n",
    "    p2 = s2 / n2\n",
    "    se2p1 = p1 * (1 - p1) / n1\n",
    "    se2p2 = p2 * (1 - p2) / n2\n",
    "    se2 = se2p1 + se2p2\n",
    "    se = np.sqrt(se2)\n",
    "    low = (p1 - p2) - 1.96 * se\n",
    "    up = (p1 - p2) + 1.96 * se\n",
    "    print(\"Proportion difference is:\", p1 - p2)\n",
    "    print(\"95% CI is: ({}, {})\".format(low, up))"
   ]
  },
  {
   "cell_type": "code",
   "execution_count": 15,
   "metadata": {},
   "outputs": [
    {
     "data": {
      "text/html": [
       "<div>\n",
       "<style scoped>\n",
       "    .dataframe tbody tr th:only-of-type {\n",
       "        vertical-align: middle;\n",
       "    }\n",
       "\n",
       "    .dataframe tbody tr th {\n",
       "        vertical-align: top;\n",
       "    }\n",
       "\n",
       "    .dataframe thead th {\n",
       "        text-align: right;\n",
       "    }\n",
       "</style>\n",
       "<table border=\"1\" class=\"dataframe\">\n",
       "  <thead>\n",
       "    <tr style=\"text-align: right;\">\n",
       "      <th></th>\n",
       "      <th>Treatment</th>\n",
       "      <th>Cold</th>\n",
       "      <th>NoCold</th>\n",
       "      <th>Total</th>\n",
       "      <th>Cold_per</th>\n",
       "    </tr>\n",
       "  </thead>\n",
       "  <tbody>\n",
       "    <tr>\n",
       "      <th>0</th>\n",
       "      <td>Placebo</td>\n",
       "      <td>335</td>\n",
       "      <td>76</td>\n",
       "      <td>411</td>\n",
       "      <td>0.815085</td>\n",
       "    </tr>\n",
       "    <tr>\n",
       "      <th>1</th>\n",
       "      <td>VitC</td>\n",
       "      <td>302</td>\n",
       "      <td>105</td>\n",
       "      <td>407</td>\n",
       "      <td>0.742015</td>\n",
       "    </tr>\n",
       "  </tbody>\n",
       "</table>\n",
       "</div>"
      ],
      "text/plain": [
       "  Treatment  Cold  NoCold  Total  Cold_per\n",
       "0   Placebo   335      76    411  0.815085\n",
       "1      VitC   302     105    407  0.742015"
      ]
     },
     "execution_count": 15,
     "metadata": {},
     "output_type": "execute_result"
    }
   ],
   "source": [
    "df"
   ]
  },
  {
   "cell_type": "code",
   "execution_count": 16,
   "metadata": {},
   "outputs": [
    {
     "name": "stdout",
     "output_type": "stream",
     "text": [
      "Proportion difference is: 0.07307041613610954\n",
      "95% CI is: (0.016363724481925114, 0.12977710779029397)\n"
     ]
    }
   ],
   "source": [
    "CI_prop_diff(s1=335, s2=302, n1=411, n2=407)"
   ]
  },
  {
   "cell_type": "markdown",
   "metadata": {},
   "source": [
    "# Important!!!\n",
    "The table won't include total. It only includes the counts without the total"
   ]
  },
  {
   "cell_type": "code",
   "execution_count": 17,
   "metadata": {},
   "outputs": [
    {
     "data": {
      "text/html": [
       "<div>\n",
       "<style scoped>\n",
       "    .dataframe tbody tr th:only-of-type {\n",
       "        vertical-align: middle;\n",
       "    }\n",
       "\n",
       "    .dataframe tbody tr th {\n",
       "        vertical-align: top;\n",
       "    }\n",
       "\n",
       "    .dataframe thead th {\n",
       "        text-align: right;\n",
       "    }\n",
       "</style>\n",
       "<table border=\"1\" class=\"dataframe\">\n",
       "  <thead>\n",
       "    <tr style=\"text-align: right;\">\n",
       "      <th></th>\n",
       "      <th>Cold</th>\n",
       "      <th>NoCold</th>\n",
       "    </tr>\n",
       "  </thead>\n",
       "  <tbody>\n",
       "    <tr>\n",
       "      <th>0</th>\n",
       "      <td>335</td>\n",
       "      <td>76</td>\n",
       "    </tr>\n",
       "    <tr>\n",
       "      <th>1</th>\n",
       "      <td>302</td>\n",
       "      <td>105</td>\n",
       "    </tr>\n",
       "  </tbody>\n",
       "</table>\n",
       "</div>"
      ],
      "text/plain": [
       "   Cold  NoCold\n",
       "0   335      76\n",
       "1   302     105"
      ]
     },
     "execution_count": 17,
     "metadata": {},
     "output_type": "execute_result"
    }
   ],
   "source": [
    "table = df[['Cold','NoCold']]\n",
    "table"
   ]
  },
  {
   "cell_type": "code",
   "execution_count": 18,
   "metadata": {},
   "outputs": [
    {
     "name": "stdout",
     "output_type": "stream",
     "text": [
      "chi2: 5.919608681186981\n",
      "p: 0.014973283758288616\n",
      "dof: 1\n",
      "expected: [[320.05745721  90.94254279]\n",
      " [316.94254279  90.05745721]]\n"
     ]
    }
   ],
   "source": [
    "from scipy import stats\n",
    "\n",
    "chi2, p, dof, expected = stats.chi2_contingency(table)\n",
    "\n",
    "print(\"chi2:\", chi2)\n",
    "print(\"p:\", p)\n",
    "print(\"dof:\", dof)\n",
    "print(\"expected:\", expected)"
   ]
  },
  {
   "cell_type": "markdown",
   "metadata": {},
   "source": [
    "How do I report this?"
   ]
  },
  {
   "cell_type": "code",
   "execution_count": 44,
   "metadata": {},
   "outputs": [],
   "source": [
    "# Of the 411 subjects who took the placebo pill, 82% caught colds at some time during the winter. Among the 407 who took\n",
    "# vitamin C pills, however, only 74% caught colds. The data provide strong evidence that the probability of catching cold\n",
    "# was smaller for those who took vitamin C, as the difference was 7.31% (95% CI = [1.64, 12.98]). This provides strong\n",
    "# support to Dr. Pauling's convictions."
   ]
  },
  {
   "cell_type": "markdown",
   "metadata": {},
   "source": [
    "## Discussions:\n",
    "\n",
    "Because the treatments were randomly assigned to the available volunteers, the difference in cold rates in these groups can safely be attributed to differences in treatments, but it is important to understand exactly what the treatments entail."
   ]
  }
 ],
 "metadata": {
  "kernelspec": {
   "display_name": "Python 3",
   "language": "python",
   "name": "python3"
  },
  "language_info": {
   "codemirror_mode": {
    "name": "ipython",
    "version": 3
   },
   "file_extension": ".py",
   "mimetype": "text/x-python",
   "name": "python",
   "nbconvert_exporter": "python",
   "pygments_lexer": "ipython3",
   "version": "3.6.12"
  }
 },
 "nbformat": 4,
 "nbformat_minor": 4
}

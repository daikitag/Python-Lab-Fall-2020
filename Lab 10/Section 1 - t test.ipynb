{
 "cells": [
  {
   "cell_type": "markdown",
   "metadata": {},
   "source": [
    "# Section 1: t-test\n",
    "\n",
    "Hypothesis testing is what researchers use to make conclusions based on data. You should never make conclusions based only on your observation or intuition without conducting a hypothesis test.\n",
    "\n",
    "Important terms: (From slide 15)\n",
    "\n",
    "1. Null hypothesis\n",
    "\n",
    "Hypothesis testing begins from the point of view of what\n",
    "is known as the null hypothesis. It could be a statement\n",
    "of the currently accepted belief about the value of a\n",
    "population parameter – say population mean height of\n",
    "men is equal to 70 inches\n",
    "\n",
    "\n",
    "2. Alternative hypothesis\n",
    "\n",
    "The alternative (research) hypothesis is a statement we make\n",
    "when rejecting the null hypothesis. The researcher is looking\n",
    "for statistical evidence (in the data) in favor of the alternative\n",
    "hypothesis.\n",
    "\n",
    "\n",
    "3. p-value\n",
    "\n",
    "The p-value is the probability of observing the sample statistic\n",
    "we observed (or one even further from the null value) given\n",
    "that the null value (for the population parameter) is correct\n",
    "\n",
    "### General rule of thumb:\n",
    "\n",
    "You want to prove that the alternative hypothesis is true. If p < 0.05, you can reject the null hypothesis and conclude that the statement in the alternative hypothesis is true. If p > 0.05, you cannot reject the null hypothesis. This won't imply that the null hypothesis is true."
   ]
  },
  {
   "cell_type": "markdown",
   "metadata": {},
   "source": [
    "# 1. One sample t test"
   ]
  },
  {
   "cell_type": "markdown",
   "metadata": {},
   "source": [
    "Here, we have:\n",
    "\n",
    "Null hypothesis: Population mean is $\\alpha$\n",
    "\n",
    "Alternative hypothesis: Population mean is not $\\alpha$.\n",
    "\n",
    "The code to do this is:\n",
    "\n",
    "```Python\n",
    "from scipy import stats\n",
    "\n",
    "t_val, p_val = stats.ttest_1samp(data, alpha)\n",
    "\n",
    "print(\"Test statistic:\", t_val)\n",
    "print(\"p-value:\", p_val)\n",
    "```\n",
    "Here, you put list of data in `data`, and the value that you would like to examine in `alpha`.\n",
    "\n",
    "Remember that 95\\% CI of mean can be computed by:\n",
    "```Python\n",
    "def CI_mean(data):\n",
    "    se = np.std(data)/np.sqrt(len(data))\n",
    "    low = np.mean(data)-1.96*se\n",
    "    up = np.mean(data)+1.96*se\n",
    "    print(\"Average is:\", np.mean(data))\n",
    "    print(\"95% CI of mean is: ({}, {})\".format(low,up))\n",
    "```\n",
    "\n",
    "Example:"
   ]
  },
  {
   "cell_type": "markdown",
   "metadata": {},
   "source": [
    "The global mean height of adult men is 171cm. Is the mean height of adult men in the U.S. is different compared to the global mean?"
   ]
  },
  {
   "cell_type": "code",
   "execution_count": 1,
   "metadata": {},
   "outputs": [],
   "source": [
    "import pandas as pd\n",
    "import numpy as np\n",
    "import matplotlib.pyplot as plt"
   ]
  },
  {
   "cell_type": "code",
   "execution_count": 2,
   "metadata": {},
   "outputs": [],
   "source": [
    "df = pd.read_csv('Data/NHANES.csv')"
   ]
  },
  {
   "cell_type": "markdown",
   "metadata": {},
   "source": [
    "This code was introduced before:"
   ]
  },
  {
   "cell_type": "code",
   "execution_count": 3,
   "metadata": {},
   "outputs": [],
   "source": [
    "adult = df['Age'] >= 20\n",
    "male = df['Gender'] == 'male'\n",
    "female = df['Gender'] == 'female'\n",
    "\n",
    "male_df = df[adult & male]\n",
    "female_df = df[adult & female]"
   ]
  },
  {
   "cell_type": "markdown",
   "metadata": {},
   "source": [
    "The first step would be data visualization.\n",
    "\n",
    "Remember the following code from before:\n",
    "```Python\n",
    "fig, axs = plt.subplots(figsize=(12,8))\n",
    "axs.hist(x_value, color=\"SkyBlue\", edgecolor=\"Black\")\n",
    "plt.title(\"Title\", fontsize=20)\n",
    "axs.set_xlabel(\"x element\", fontsize=18)\n",
    "axs.set_ylabel(\"Frequency\", fontsize=18)\n",
    "axs.tick_params(labelsize=15)\n",
    "plt.show()\n",
    "```"
   ]
  },
  {
   "cell_type": "code",
   "execution_count": 4,
   "metadata": {},
   "outputs": [
    {
     "data": {
      "image/png": "[encoded data removed]",
      "text/plain": [
       "<Figure size 864x576 with 1 Axes>"
      ]
     },
     "metadata": {
      "needs_background": "light"
     },
     "output_type": "display_data"
    }
   ],
   "source": [
    "fig, axs = plt.subplots(figsize=(12,8))\n",
    "axs.hist(male_df['Height'], color=\"SkyBlue\", edgecolor=\"Black\")\n",
    "plt.title(\"Height distribuion of men in the United States\", fontsize=20)\n",
    "axs.set_xlabel(\"Height [cm]\", fontsize=18)\n",
    "axs.set_ylabel(\"Frequency\", fontsize=18)\n",
    "axs.tick_params(labelsize=15)\n",
    "plt.show()"
   ]
  },
  {
   "cell_type": "code",
   "execution_count": 5,
   "metadata": {},
   "outputs": [],
   "source": [
    "def CI_mean(data):\n",
    "    se = np.std(data)/np.sqrt(len(data))\n",
    "    low = np.mean(data)-1.96*se\n",
    "    up = np.mean(data)+1.96*se\n",
    "    print(\"Average is:\", np.mean(data))\n",
    "    print(\"95% CI of mean is: ({}, {})\".format(low,up))"
   ]
  },
  {
   "cell_type": "code",
   "execution_count": 6,
   "metadata": {},
   "outputs": [
    {
     "name": "stdout",
     "output_type": "stream",
     "text": [
      "Average is: 175.78927355278094\n",
      "95% CI of mean is: (175.54334598015788, 176.035201125404)\n"
     ]
    }
   ],
   "source": [
    "CI_mean(male_df['Height'])"
   ]
  },
  {
   "cell_type": "code",
   "execution_count": 8,
   "metadata": {},
   "outputs": [
    {
     "name": "stdout",
     "output_type": "stream",
     "text": [
      "Test statistic: 38.013541738442036\n",
      "p-value: 2.8480106428908124e-265\n"
     ]
    }
   ],
   "source": [
    "from scipy import stats\n",
    "\n",
    "t_val, p_val = stats.ttest_1samp(male_df['Height'].dropna(), 171)\n",
    "\n",
    "print(\"Test statistic:\", t_val)\n",
    "print(\"p-value:\", p_val)"
   ]
  },
  {
   "cell_type": "markdown",
   "metadata": {},
   "source": [
    "How do I report this?"
   ]
  },
  {
   "cell_type": "code",
   "execution_count": 32,
   "metadata": {},
   "outputs": [],
   "source": []
  },
  {
   "cell_type": "markdown",
   "metadata": {},
   "source": [
    "Female:"
   ]
  },
  {
   "cell_type": "code",
   "execution_count": 37,
   "metadata": {},
   "outputs": [
    {
     "data": {
      "image/png": "[encoded data removed]",
      "text/plain": [
       "<Figure size 864x576 with 1 Axes>"
      ]
     },
     "metadata": {
      "needs_background": "light"
     },
     "output_type": "display_data"
    }
   ],
   "source": [
    "fig, axs = plt.subplots(figsize=(12,8))\n",
    "axs.hist(female_df['Height'], color=\"orange\", edgecolor=\"Black\")\n",
    "plt.title(\"Height distribuion of female in the United States\", fontsize=20)\n",
    "axs.set_xlabel(\"Height [cm]\", fontsize=18)\n",
    "axs.set_ylabel(\"Frequency\", fontsize=18)\n",
    "axs.tick_params(labelsize=15)\n",
    "plt.show()"
   ]
  },
  {
   "cell_type": "code",
   "execution_count": 34,
   "metadata": {},
   "outputs": [
    {
     "name": "stdout",
     "output_type": "stream",
     "text": [
      "Average is: 162.0428376161837\n",
      "95% CI of mean is: (161.8072377485356, 162.2784374838318)\n"
     ]
    }
   ],
   "source": [
    "CI_mean(female_df['Height'])"
   ]
  },
  {
   "cell_type": "markdown",
   "metadata": {},
   "source": [
    "How do I report this?"
   ]
  },
  {
   "cell_type": "code",
   "execution_count": 35,
   "metadata": {},
   "outputs": [],
   "source": [
    "# According to the NHANES dataset, the average height of women in the United States was 162.04cm\n",
    "# (95% CI = [161.81, 162.28])."
   ]
  },
  {
   "cell_type": "markdown",
   "metadata": {},
   "source": [
    "# Comparing Means:\n",
    "\n",
    "The next two examples are adapted from \n",
    "- The Statistical Sleuth, A Course in Methods of Data Analysis by \"Ramsey/Schafer\"\n",
    "\n",
    "https://www.amazon.com/Statistical-Sleuth-Course-Methods-Analysis/dp/1133490670\n",
    "\n",
    "this is a textbook that is used in Advanced Data Analysis STAT GU4291/GR5291 course, which is a capstone course for the Statistics MA program in Columbia University. These examples are taken to illustrate how confidence intervals can be used to make conclusions in research projects."
   ]
  },
  {
   "cell_type": "markdown",
   "metadata": {},
   "source": [
    "# 2. Two sample t-test\n",
    "\n",
    "Two sample t-test is used to compare the mean of two groups. Here,\n",
    "\n",
    "Null Hypothesis: Population mean difference is zero\n",
    "\n",
    "Alternative Hypothesis: Population mean difference is not zero\n",
    "\n",
    "The following code is used to conduct this hypothsis test:\n",
    "\n",
    "```Python\n",
    "from scipy import stats\n",
    "\n",
    "t_val, p_val = stats.ttest_ind(sample1_vals, sample2_vals, equal_var=False)\n",
    "\n",
    "print(\"Test statistic:\", t_val)\n",
    "print(\"p-value:\", p_val)\n",
    "```\n",
    "\n",
    "where `sample1_vals` represent data from 1 group, `sample2_vals` represent data from another group"
   ]
  },
  {
   "cell_type": "markdown",
   "metadata": {},
   "source": [
    "95\\% CI of population mean difference can be found by using the following code:\n",
    "\n",
    "```Python\n",
    "def CI_mean_diff(list1, list2):\n",
    "    s1 = np.var(list1)\n",
    "    s2 = np.var(list2)\n",
    "    n1 = len(list1)\n",
    "    n2 = len(list2)\n",
    "    se2 = s1/n1 + s2/n2\n",
    "    se = np.sqrt(se2)\n",
    "    \n",
    "    diff = np.mean(list1) - np.mean(list2)\n",
    "    low = diff - 1.96 * se\n",
    "    up = diff + 1.96 * se\n",
    "    print(\"The average difference is:\", diff)\n",
    "    print(\"The 95% CI is: ({}, {})\".format(low, up))\n",
    "```"
   ]
  },
  {
   "cell_type": "markdown",
   "metadata": {},
   "source": [
    "### Darwin's theory of natural selection\n",
    "\n",
    "In the search for evidence supporting Charles Darwin's theory of natural selection, biologists Peter and Rosemary Grant and colleagues in the 1980s caught and measured all the birds from more than 20 generations of finches on the Galapagos island of Daphne Major. In one of those years, 1977, a severe drought caused vegetation to wither, and the only remaining food source was a large, tough seed which the finches ordinarily ignored. Were the birds with larger and stronger beaks for opening these tough seeds more likely to survive that year and did they tend to pass this characteristic to their offspring?\n",
    "\n",
    "The grants measured beak depths (height of the beak at its base) of all 751 Daphne Major finches the year before the drought (1976) and all 89 finches captured the year after the drought (1978). Is there evidence of a difference between the population distributions of beak depths in 1976 and 1978?"
   ]
  },
  {
   "cell_type": "markdown",
   "metadata": {},
   "source": [
    "Darwin's finches:\n",
    "\n",
    "<img src='Image/finch.png' width=500>"
   ]
  },
  {
   "cell_type": "code",
   "execution_count": 10,
   "metadata": {},
   "outputs": [
    {
     "data": {
      "text/html": [
       "<div>\n",
       "<style scoped>\n",
       "    .dataframe tbody tr th:only-of-type {\n",
       "        vertical-align: middle;\n",
       "    }\n",
       "\n",
       "    .dataframe tbody tr th {\n",
       "        vertical-align: top;\n",
       "    }\n",
       "\n",
       "    .dataframe thead th {\n",
       "        text-align: right;\n",
       "    }\n",
       "</style>\n",
       "<table border=\"1\" class=\"dataframe\">\n",
       "  <thead>\n",
       "    <tr style=\"text-align: right;\">\n",
       "      <th></th>\n",
       "      <th>Year</th>\n",
       "      <th>Depth</th>\n",
       "    </tr>\n",
       "  </thead>\n",
       "  <tbody>\n",
       "    <tr>\n",
       "      <th>0</th>\n",
       "      <td>1976</td>\n",
       "      <td>6.1</td>\n",
       "    </tr>\n",
       "    <tr>\n",
       "      <th>1</th>\n",
       "      <td>1976</td>\n",
       "      <td>6.1</td>\n",
       "    </tr>\n",
       "    <tr>\n",
       "      <th>2</th>\n",
       "      <td>1976</td>\n",
       "      <td>6.2</td>\n",
       "    </tr>\n",
       "    <tr>\n",
       "      <th>3</th>\n",
       "      <td>1976</td>\n",
       "      <td>6.3</td>\n",
       "    </tr>\n",
       "    <tr>\n",
       "      <th>4</th>\n",
       "      <td>1976</td>\n",
       "      <td>6.2</td>\n",
       "    </tr>\n",
       "    <tr>\n",
       "      <th>...</th>\n",
       "      <td>...</td>\n",
       "      <td>...</td>\n",
       "    </tr>\n",
       "    <tr>\n",
       "      <th>835</th>\n",
       "      <td>1978</td>\n",
       "      <td>11.4</td>\n",
       "    </tr>\n",
       "    <tr>\n",
       "      <th>836</th>\n",
       "      <td>1978</td>\n",
       "      <td>11.4</td>\n",
       "    </tr>\n",
       "    <tr>\n",
       "      <th>837</th>\n",
       "      <td>1978</td>\n",
       "      <td>11.6</td>\n",
       "    </tr>\n",
       "    <tr>\n",
       "      <th>838</th>\n",
       "      <td>1978</td>\n",
       "      <td>11.6</td>\n",
       "    </tr>\n",
       "    <tr>\n",
       "      <th>839</th>\n",
       "      <td>1978</td>\n",
       "      <td>11.7</td>\n",
       "    </tr>\n",
       "  </tbody>\n",
       "</table>\n",
       "<p>840 rows × 2 columns</p>\n",
       "</div>"
      ],
      "text/plain": [
       "     Year  Depth\n",
       "0    1976    6.1\n",
       "1    1976    6.1\n",
       "2    1976    6.2\n",
       "3    1976    6.3\n",
       "4    1976    6.2\n",
       "..    ...    ...\n",
       "835  1978   11.4\n",
       "836  1978   11.4\n",
       "837  1978   11.6\n",
       "838  1978   11.6\n",
       "839  1978   11.7\n",
       "\n",
       "[840 rows x 2 columns]"
      ]
     },
     "execution_count": 10,
     "metadata": {},
     "output_type": "execute_result"
    }
   ],
   "source": [
    "import pandas as pd\n",
    "import numpy as np\n",
    "import matplotlib.pyplot as plt\n",
    "\n",
    "df = pd.read_csv('Data/ex1.csv')\n",
    "df"
   ]
  },
  {
   "cell_type": "code",
   "execution_count": 11,
   "metadata": {},
   "outputs": [],
   "source": [
    "# Separate the dataframe based on year\n",
    "data1 = df[df['Year']==1976]\n",
    "data2 = df[df['Year']==1978]"
   ]
  },
  {
   "cell_type": "code",
   "execution_count": 12,
   "metadata": {},
   "outputs": [
    {
     "data": {
      "text/html": [
       "<div>\n",
       "<style scoped>\n",
       "    .dataframe tbody tr th:only-of-type {\n",
       "        vertical-align: middle;\n",
       "    }\n",
       "\n",
       "    .dataframe tbody tr th {\n",
       "        vertical-align: top;\n",
       "    }\n",
       "\n",
       "    .dataframe thead th {\n",
       "        text-align: right;\n",
       "    }\n",
       "</style>\n",
       "<table border=\"1\" class=\"dataframe\">\n",
       "  <thead>\n",
       "    <tr style=\"text-align: right;\">\n",
       "      <th></th>\n",
       "      <th>Year</th>\n",
       "      <th>Depth</th>\n",
       "    </tr>\n",
       "  </thead>\n",
       "  <tbody>\n",
       "    <tr>\n",
       "      <th>0</th>\n",
       "      <td>1976</td>\n",
       "      <td>6.1</td>\n",
       "    </tr>\n",
       "    <tr>\n",
       "      <th>1</th>\n",
       "      <td>1976</td>\n",
       "      <td>6.1</td>\n",
       "    </tr>\n",
       "    <tr>\n",
       "      <th>2</th>\n",
       "      <td>1976</td>\n",
       "      <td>6.2</td>\n",
       "    </tr>\n",
       "    <tr>\n",
       "      <th>3</th>\n",
       "      <td>1976</td>\n",
       "      <td>6.3</td>\n",
       "    </tr>\n",
       "    <tr>\n",
       "      <th>4</th>\n",
       "      <td>1976</td>\n",
       "      <td>6.2</td>\n",
       "    </tr>\n",
       "    <tr>\n",
       "      <th>...</th>\n",
       "      <td>...</td>\n",
       "      <td>...</td>\n",
       "    </tr>\n",
       "    <tr>\n",
       "      <th>746</th>\n",
       "      <td>1976</td>\n",
       "      <td>12.3</td>\n",
       "    </tr>\n",
       "    <tr>\n",
       "      <th>747</th>\n",
       "      <td>1976</td>\n",
       "      <td>12.5</td>\n",
       "    </tr>\n",
       "    <tr>\n",
       "      <th>748</th>\n",
       "      <td>1976</td>\n",
       "      <td>12.4</td>\n",
       "    </tr>\n",
       "    <tr>\n",
       "      <th>749</th>\n",
       "      <td>1976</td>\n",
       "      <td>14.1</td>\n",
       "    </tr>\n",
       "    <tr>\n",
       "      <th>750</th>\n",
       "      <td>1976</td>\n",
       "      <td>14.1</td>\n",
       "    </tr>\n",
       "  </tbody>\n",
       "</table>\n",
       "<p>751 rows × 2 columns</p>\n",
       "</div>"
      ],
      "text/plain": [
       "     Year  Depth\n",
       "0    1976    6.1\n",
       "1    1976    6.1\n",
       "2    1976    6.2\n",
       "3    1976    6.3\n",
       "4    1976    6.2\n",
       "..    ...    ...\n",
       "746  1976   12.3\n",
       "747  1976   12.5\n",
       "748  1976   12.4\n",
       "749  1976   14.1\n",
       "750  1976   14.1\n",
       "\n",
       "[751 rows x 2 columns]"
      ]
     },
     "execution_count": 12,
     "metadata": {},
     "output_type": "execute_result"
    }
   ],
   "source": [
    "data1"
   ]
  },
  {
   "cell_type": "markdown",
   "metadata": {},
   "source": [
    "The first step in data analysis should be data visualization. Remember the following code to produce a box plot (lab 5):\n",
    "\n",
    "```Python\n",
    "fig, axs = plt.subplots(figsize=(12,8))\n",
    "axs.boxplot(['list of values'])\n",
    "plt.title('title', fontsize=20)\n",
    "axs.set_xticklabels(['list of labels'])\n",
    "axs.set_ylabel('y-axis labels', fontsize=18)\n",
    "axs.tick_params(labelsize=15)\n",
    "plt.show()\n",
    "```"
   ]
  },
  {
   "cell_type": "code",
   "execution_count": 13,
   "metadata": {},
   "outputs": [
    {
     "data": {
      "image/png": "[encoded data removed]",
      "text/plain": [
       "<Figure size 864x576 with 1 Axes>"
      ]
     },
     "metadata": {
      "needs_background": "light"
     },
     "output_type": "display_data"
    }
   ],
   "source": [
    "fig, axs = plt.subplots(figsize=(12,8))\n",
    "axs.boxplot([data1['Depth'],data2['Depth']])\n",
    "plt.title('The beak depth of finches before and after the drought', fontsize=20)\n",
    "axs.set_xticklabels(['1976','1978'])\n",
    "axs.set_ylabel('Depth [mm]', fontsize=18)\n",
    "axs.tick_params(labelsize=15)\n",
    "plt.show()"
   ]
  },
  {
   "cell_type": "markdown",
   "metadata": {},
   "source": [
    "From the grouped boxplot above, it seems that finch depth from 1978 were larger compared to the finch depth from 1976."
   ]
  },
  {
   "cell_type": "code",
   "execution_count": 14,
   "metadata": {},
   "outputs": [],
   "source": [
    "def CI_mean_diff(list1, list2):\n",
    "    s1 = np.var(list1)\n",
    "    s2 = np.var(list2)\n",
    "    n1 = len(list1)\n",
    "    n2 = len(list2)\n",
    "    se2 = s1/n1 + s2/n2\n",
    "    se = np.sqrt(se2)\n",
    "\n",
    "    diff = np.mean(list1) - np.mean(list2)\n",
    "    low = diff - 1.96 * se\n",
    "    up = diff + 1.96 * se\n",
    "    print(\"The average difference is:\", diff)\n",
    "    print(\"The 95% CI is: ({}, {})\".format(low, up))"
   ]
  },
  {
   "cell_type": "code",
   "execution_count": 15,
   "metadata": {},
   "outputs": [
    {
     "name": "stdout",
     "output_type": "stream",
     "text": [
      "The average difference is: 0.5374033124373483\n",
      "The 95% CI is: (0.3360386931184024, 0.7387679317562942)\n"
     ]
    }
   ],
   "source": [
    "CI_mean_diff(data2['Depth'], data1['Depth'])"
   ]
  },
  {
   "cell_type": "code",
   "execution_count": 16,
   "metadata": {},
   "outputs": [
    {
     "name": "stdout",
     "output_type": "stream",
     "text": [
      "Test statistic: 5.204880058234464\n",
      "p-value: 8.393545180715297e-07\n"
     ]
    }
   ],
   "source": [
    "from scipy import stats\n",
    "\n",
    "t_val, p_val = stats.ttest_ind(data2['Depth'], data1['Depth'], equal_var=False)\n",
    "\n",
    "print(\"Test statistic:\", t_val)\n",
    "print(\"p-value:\", p_val)"
   ]
  },
  {
   "cell_type": "markdown",
   "metadata": {},
   "source": [
    "How can I report this?"
   ]
  },
  {
   "cell_type": "code",
   "execution_count": 23,
   "metadata": {},
   "outputs": [],
   "source": [
    "# These data provide evidence that the mean beak depth increased from 1976 to 1978. The 1978 (post-drought) mean was\n",
    "# estimated to exceed the 1976 (pre-drought) mean by 0.54mm (95% CI = [0.34, 0.74])."
   ]
  },
  {
   "cell_type": "markdown",
   "metadata": {},
   "source": [
    "### Discussions:\n",
    "\n",
    "Since this was an observational study, a causal conclusion - that the drought caused a change in the mean beak size - does not follow directly from the statistical evidence of a difference in the means. A lack of alternative explanations, though, might make biologists reasonably confident in the speculation that natural selection in response to the drought is responsible for the change."
   ]
  },
  {
   "cell_type": "markdown",
   "metadata": {},
   "source": [
    "# 3. Paired t test\n",
    "\n",
    "We sometimes have paired data, meaning that you have two samples in which observations in one sample can be paired with observations in the other sample. This is frequently used in case control studies.\n",
    "\n",
    "In this example, we have:\n",
    "\n",
    "Null Hypothesis: Population mean difference is zero\n",
    "\n",
    "Alternative Hypothesis: Population mean difference is not zero\n",
    "\n",
    "The following code is used to conduct this hypothsis test:\n",
    "\n",
    "```Python\n",
    "from scipy import stats\n",
    "\n",
    "t_val, p_val = stats.ttest_rel(sample1_vals, sample2_vals)\n",
    "\n",
    "print(\"Test statistic:\", t_val)\n",
    "print(\"p-value:\", p_val)\n",
    "```\n",
    "\n",
    "where `sample1_vals` represent data from 1 group, `sample2_vals` represent data from another group"
   ]
  },
  {
   "cell_type": "markdown",
   "metadata": {},
   "source": [
    "### Anatomical Abnormalities Associated with Schizophrenia\n",
    "\n",
    "Are any physiological indicators associated with schizophrenia? Early studies, based largely on postmortem analysis, suggest that the sizes of certain areas of the brain may be different in persons afflicted with schizophrenia than in others. Confounding variables in these studies, however, clouded the issue considerably. In a 1990 article, researchers reported the results of a study that controlled for genetic and socioeconomic differences by examining 15 pairs of monozygotic twins, where one of the twins was schizophrenic and the other was not. The twins were located through an intensive search throughout Canada and the United States. (Data from R. L. Suddath et al., \"Anatomical Abnormalities in the Brains of Monozugotic Twins Discordant for Schizophrenia\", New England Journal of Medicine 322(12) (1990): 789-93).\n",
    "\n",
    "The researchers used magnetic resonance imaging to measure the volumes (in $cm^3$) of several regions and subregions inside the twins' brains. Here, the data is based on the reported summary statistics from one subregions, the left hippocampus. What is the magnitude of the difference in volumes of the left hippocampus between the unaffected and the affected individuals?\n",
    "\n",
    "\n",
    "Definition:\n",
    "- Schizophrenia: \"Schizophrenia is a serious mental disorder in which people interpret reality abnormally\""
   ]
  },
  {
   "cell_type": "code",
   "execution_count": 17,
   "metadata": {},
   "outputs": [],
   "source": [
    "import pandas as pd\n",
    "import numpy as np\n",
    "import matplotlib.pyplot as plt\n",
    "\n",
    "df = pd.read_csv('Data/ex3.csv')"
   ]
  },
  {
   "cell_type": "code",
   "execution_count": 18,
   "metadata": {},
   "outputs": [
    {
     "data": {
      "text/html": [
       "<div>\n",
       "<style scoped>\n",
       "    .dataframe tbody tr th:only-of-type {\n",
       "        vertical-align: middle;\n",
       "    }\n",
       "\n",
       "    .dataframe tbody tr th {\n",
       "        vertical-align: top;\n",
       "    }\n",
       "\n",
       "    .dataframe thead th {\n",
       "        text-align: right;\n",
       "    }\n",
       "</style>\n",
       "<table border=\"1\" class=\"dataframe\">\n",
       "  <thead>\n",
       "    <tr style=\"text-align: right;\">\n",
       "      <th></th>\n",
       "      <th>Pair</th>\n",
       "      <th>Unaffected</th>\n",
       "      <th>Affected</th>\n",
       "    </tr>\n",
       "  </thead>\n",
       "  <tbody>\n",
       "    <tr>\n",
       "      <th>0</th>\n",
       "      <td>1</td>\n",
       "      <td>1.94</td>\n",
       "      <td>1.27</td>\n",
       "    </tr>\n",
       "    <tr>\n",
       "      <th>1</th>\n",
       "      <td>2</td>\n",
       "      <td>1.44</td>\n",
       "      <td>1.63</td>\n",
       "    </tr>\n",
       "    <tr>\n",
       "      <th>2</th>\n",
       "      <td>3</td>\n",
       "      <td>1.56</td>\n",
       "      <td>1.47</td>\n",
       "    </tr>\n",
       "    <tr>\n",
       "      <th>3</th>\n",
       "      <td>4</td>\n",
       "      <td>1.58</td>\n",
       "      <td>1.39</td>\n",
       "    </tr>\n",
       "    <tr>\n",
       "      <th>4</th>\n",
       "      <td>5</td>\n",
       "      <td>2.06</td>\n",
       "      <td>1.93</td>\n",
       "    </tr>\n",
       "    <tr>\n",
       "      <th>5</th>\n",
       "      <td>6</td>\n",
       "      <td>1.66</td>\n",
       "      <td>1.26</td>\n",
       "    </tr>\n",
       "    <tr>\n",
       "      <th>6</th>\n",
       "      <td>7</td>\n",
       "      <td>1.75</td>\n",
       "      <td>1.71</td>\n",
       "    </tr>\n",
       "    <tr>\n",
       "      <th>7</th>\n",
       "      <td>8</td>\n",
       "      <td>1.77</td>\n",
       "      <td>1.67</td>\n",
       "    </tr>\n",
       "    <tr>\n",
       "      <th>8</th>\n",
       "      <td>9</td>\n",
       "      <td>1.78</td>\n",
       "      <td>1.28</td>\n",
       "    </tr>\n",
       "    <tr>\n",
       "      <th>9</th>\n",
       "      <td>10</td>\n",
       "      <td>1.92</td>\n",
       "      <td>1.85</td>\n",
       "    </tr>\n",
       "    <tr>\n",
       "      <th>10</th>\n",
       "      <td>11</td>\n",
       "      <td>1.25</td>\n",
       "      <td>1.02</td>\n",
       "    </tr>\n",
       "    <tr>\n",
       "      <th>11</th>\n",
       "      <td>12</td>\n",
       "      <td>1.93</td>\n",
       "      <td>1.34</td>\n",
       "    </tr>\n",
       "    <tr>\n",
       "      <th>12</th>\n",
       "      <td>13</td>\n",
       "      <td>2.04</td>\n",
       "      <td>2.02</td>\n",
       "    </tr>\n",
       "    <tr>\n",
       "      <th>13</th>\n",
       "      <td>14</td>\n",
       "      <td>1.62</td>\n",
       "      <td>1.59</td>\n",
       "    </tr>\n",
       "    <tr>\n",
       "      <th>14</th>\n",
       "      <td>15</td>\n",
       "      <td>2.08</td>\n",
       "      <td>1.97</td>\n",
       "    </tr>\n",
       "  </tbody>\n",
       "</table>\n",
       "</div>"
      ],
      "text/plain": [
       "    Pair  Unaffected  Affected\n",
       "0      1        1.94      1.27\n",
       "1      2        1.44      1.63\n",
       "2      3        1.56      1.47\n",
       "3      4        1.58      1.39\n",
       "4      5        2.06      1.93\n",
       "5      6        1.66      1.26\n",
       "6      7        1.75      1.71\n",
       "7      8        1.77      1.67\n",
       "8      9        1.78      1.28\n",
       "9     10        1.92      1.85\n",
       "10    11        1.25      1.02\n",
       "11    12        1.93      1.34\n",
       "12    13        2.04      2.02\n",
       "13    14        1.62      1.59\n",
       "14    15        2.08      1.97"
      ]
     },
     "execution_count": 18,
     "metadata": {},
     "output_type": "execute_result"
    }
   ],
   "source": [
    "df"
   ]
  },
  {
   "cell_type": "markdown",
   "metadata": {},
   "source": [
    "The first step in data analysis should be data visualization. Remember the following code to produce a box plot (lab 5):\n",
    "\n",
    "```Python\n",
    "fig, axs = plt.subplots(figsize=(12,8))\n",
    "axs.boxplot(['list of values'])\n",
    "plt.title('title', fontsize=20)\n",
    "axs.set_xticklabels(['list of labels'])\n",
    "axs.set_ylabel('y-axis labels', fontsize=18)\n",
    "axs.tick_params(labelsize=15)\n",
    "plt.show()\n",
    "```"
   ]
  },
  {
   "cell_type": "code",
   "execution_count": 19,
   "metadata": {},
   "outputs": [
    {
     "data": {
      "image/png": "[encoded data removed]",
      "text/plain": [
       "<Figure size 864x576 with 1 Axes>"
      ]
     },
     "metadata": {
      "needs_background": "light"
     },
     "output_type": "display_data"
    }
   ],
   "source": [
    "fig, axs = plt.subplots(figsize=(12,8))\n",
    "axs.boxplot([df['Unaffected'], df['Affected']])\n",
    "plt.title('Difference in left hippocampus volumes', fontsize=20)\n",
    "axs.set_xticklabels(['Unaffected', 'Affected'])\n",
    "axs.set_ylabel('Volume [$cm^3$]', fontsize=18)\n",
    "axs.tick_params(labelsize=15)\n",
    "plt.show()"
   ]
  },
  {
   "cell_type": "markdown",
   "metadata": {},
   "source": [
    "Just by observing the box plot, it is clear that the unaffected individual has a greater left hippocampus volume compared to the affected individual. Since this is a paired data (comes from twins), we will compute the 95\\% CI of difference in paired data.\n",
    "\n",
    "After obtaining the difference, we can just use the function to estimate the 95\\% CI of mean that was defined before:"
   ]
  },
  {
   "cell_type": "code",
   "execution_count": 20,
   "metadata": {},
   "outputs": [],
   "source": [
    "df['Difference'] = df['Unaffected'] - df['Affected']"
   ]
  },
  {
   "cell_type": "code",
   "execution_count": 21,
   "metadata": {},
   "outputs": [],
   "source": [
    "def CI_mean(data):\n",
    "    se = np.std(data)/np.sqrt(len(data))\n",
    "    low = np.mean(data)-1.96*se\n",
    "    up = np.mean(data)+1.96*se\n",
    "    print(\"Average is:\", np.mean(data))\n",
    "    print(\"95% CI of mean is: ({}, {})\".format(low,up))"
   ]
  },
  {
   "cell_type": "code",
   "execution_count": 22,
   "metadata": {},
   "outputs": [
    {
     "name": "stdout",
     "output_type": "stream",
     "text": [
      "Average is: 0.19866666666666669\n",
      "95% CI of mean is: (0.08216259792830637, 0.315170735405027)\n"
     ]
    }
   ],
   "source": [
    "CI_mean(df['Difference'])"
   ]
  },
  {
   "cell_type": "code",
   "execution_count": 23,
   "metadata": {},
   "outputs": [
    {
     "name": "stdout",
     "output_type": "stream",
     "text": [
      "Test statistic: 3.228928081062294\n",
      "p-value: 0.006061543639348829\n"
     ]
    }
   ],
   "source": [
    "from scipy import stats\n",
    "\n",
    "t_val, p_val = stats.ttest_rel(df['Unaffected'],df['Affected'])\n",
    "\n",
    "print(\"Test statistic:\", t_val)\n",
    "print(\"p-value:\", p_val)"
   ]
  },
  {
   "cell_type": "markdown",
   "metadata": {},
   "source": [
    "This is totally the same as the p-value computed from the one sample t test of the difference:"
   ]
  },
  {
   "cell_type": "code",
   "execution_count": 24,
   "metadata": {},
   "outputs": [
    {
     "name": "stdout",
     "output_type": "stream",
     "text": [
      "Test statistic: 3.228928081062294\n",
      "p-value: 0.006061543639348829\n"
     ]
    }
   ],
   "source": [
    "from scipy import stats\n",
    "\n",
    "t_val, p_val = stats.ttest_1samp(df['Difference'], 0)\n",
    "\n",
    "print(\"Test statistic:\", t_val)\n",
    "print(\"p-value:\", p_val)"
   ]
  },
  {
   "cell_type": "markdown",
   "metadata": {},
   "source": [
    "How can I report this?"
   ]
  },
  {
   "cell_type": "code",
   "execution_count": 11,
   "metadata": {},
   "outputs": [],
   "source": [
    "# There is substantial evidence that the mean difference in left hippocampus volumes between schizophrenic individuals and\n",
    "# their nonschizophrenic twins is nonzero (It is better to report p-value, which we will show in the next lab).\n",
    "# It is estimated that the mean volume is 0.20 cm^3 smaller for those with schizophrenia. The 95% confidence interval for\n",
    "# the difference is from 0.08 to 0.32 cm^3."
   ]
  },
  {
   "cell_type": "markdown",
   "metadata": {},
   "source": [
    "### Discussions:\n",
    "\n",
    "These twins were not randomly selected from general populations of schizophrenie and nonschizophrenic individuals. Tempting as it is to draw inferences to these wider populations, such inferences must be based on an assumption that these individuals are as representative as random samples are. Furthermore, the study is observational, so no causal connection between left hippocampus volume and schizophrenia can be established from the statistics alone. In fact, the researchers had no theories about whether the abnormalities preceded the disease or resulted from it."
   ]
  },
  {
   "cell_type": "markdown",
   "metadata": {},
   "source": [
    "Compare this with the usual two sample t-test:"
   ]
  },
  {
   "cell_type": "code",
   "execution_count": 25,
   "metadata": {},
   "outputs": [
    {
     "name": "stdout",
     "output_type": "stream",
     "text": [
      "Test statistic: 1.9898086231072385\n",
      "p-value: 0.056914857308579925\n"
     ]
    }
   ],
   "source": [
    "from scipy import stats\n",
    "\n",
    "t_val, p_val = stats.ttest_ind(df['Unaffected'],df['Affected'], equal_var=False)\n",
    "\n",
    "print(\"Test statistic:\", t_val)\n",
    "print(\"p-value:\", p_val)"
   ]
  },
  {
   "cell_type": "markdown",
   "metadata": {},
   "source": [
    "Surprisingly, we don't get a significant difference!"
   ]
  }
 ],
 "metadata": {
  "kernelspec": {
   "display_name": "Python 3",
   "language": "python",
   "name": "python3"
  },
  "language_info": {
   "codemirror_mode": {
    "name": "ipython",
    "version": 3
   },
   "file_extension": ".py",
   "mimetype": "text/x-python",
   "name": "python",
   "nbconvert_exporter": "python",
   "pygments_lexer": "ipython3",
   "version": "3.6.12"
  }
 },
 "nbformat": 4,
 "nbformat_minor": 4
}

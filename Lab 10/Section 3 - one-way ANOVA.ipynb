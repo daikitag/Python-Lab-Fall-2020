{
 "cells": [
  {
   "cell_type": "markdown",
   "metadata": {},
   "source": [
    "# Section 3: One-way ANOVA\n",
    "\n",
    "Previously, we used t-test to compare the mean of two groups. Sometimes, we want to compare means of several groups. Then, we use one-way ANOVA. Here,\n",
    "\n",
    "Null hypothesis: All means are the same\n",
    "\n",
    "Alternative: At least one of the population means differ\n",
    "\n",
    "Here, getting a low p-value indicates that AT LEAST one of the population means differ, not saying that ALL the population means are different.\n",
    "\n",
    "The Python code to one-way ANOVA is:\n",
    "```Python\n",
    "from scipy import stats\n",
    "\n",
    "f, p = stats.f_oneway(list of data)\n",
    "\n",
    "print(\"F:\", f)\n",
    "print(\"p:\", p)\n",
    "```"
   ]
  },
  {
   "cell_type": "markdown",
   "metadata": {},
   "source": [
    "We will be using the example of BMI values that we examined before:"
   ]
  },
  {
   "cell_type": "code",
   "execution_count": 14,
   "metadata": {},
   "outputs": [],
   "source": [
    "import numpy as np\n",
    "import pandas as pd\n",
    "import matplotlib.pyplot as plt\n",
    "from scipy import stats"
   ]
  },
  {
   "cell_type": "code",
   "execution_count": 15,
   "metadata": {},
   "outputs": [],
   "source": [
    "df = pd.read_csv('Data/NHANES.csv')"
   ]
  },
  {
   "cell_type": "code",
   "execution_count": 16,
   "metadata": {},
   "outputs": [],
   "source": [
    "df = df.dropna(subset=['BMI'])"
   ]
  },
  {
   "cell_type": "code",
   "execution_count": 24,
   "metadata": {},
   "outputs": [],
   "source": [
    "white = df['Race3'] == 'White'\n",
    "black = df['Race3'] == 'Black'\n",
    "hispanic = df['Race3'] == 'Hispanic'\n",
    "asian = df['Race3'] == 'Asian'\n",
    "mexican = df['Race3'] == 'Mexican'\n",
    "other = df['Race3'] == 'Other'"
   ]
  },
  {
   "cell_type": "code",
   "execution_count": 25,
   "metadata": {},
   "outputs": [],
   "source": [
    "white_df = df[white]\n",
    "black_df = df[black]\n",
    "hispanic_df = df[hispanic]\n",
    "asian_df = df[asian]\n",
    "mexican_df = df[mexican]\n",
    "other_df = df[other]"
   ]
  },
  {
   "cell_type": "code",
   "execution_count": 19,
   "metadata": {},
   "outputs": [
    {
     "data": {
      "image/png": "[encoded data removed]",
      "text/plain": [
       "<Figure size 864x576 with 1 Axes>"
      ]
     },
     "metadata": {
      "needs_background": "light"
     },
     "output_type": "display_data"
    }
   ],
   "source": [
    "fig, axs = plt.subplots(figsize=(12,8))\n",
    "axs.boxplot([white_df['BMI'], black_df['BMI'], hispanic_df['BMI'], asian_df['BMI']])\n",
    "plt.title('BMI Categorized by Race', fontsize=20)\n",
    "axs.set_xticklabels(['White', 'Black', 'Hispanic', 'Asian'])\n",
    "axs.set_ylabel('BMI', fontsize=18)\n",
    "axs.tick_params(labelsize=15)\n",
    "plt.show()"
   ]
  },
  {
   "cell_type": "code",
   "execution_count": 26,
   "metadata": {},
   "outputs": [
    {
     "name": "stdout",
     "output_type": "stream",
     "text": [
      "F: 11.76857781607841\n",
      "p: 2.474067847059599e-11\n"
     ]
    }
   ],
   "source": [
    "f, p = stats.f_oneway(white_df['BMI'], black_df['BMI'], hispanic_df['BMI'], asian_df['BMI'], mexican_df['BMI'],\n",
    "                     other_df['BMI'])\n",
    "\n",
    "print(\"F:\", f)\n",
    "print(\"p:\", p)"
   ]
  },
  {
   "cell_type": "markdown",
   "metadata": {},
   "source": [
    "Alternatively, you can use the following code to get the ANOVA table from the one-way ANOVA:\n",
    "\n",
    "```Python\n",
    "model = ols('Value ~ C(Factor)', data=df).fit()\n",
    "aov_table = sm.stats.anova_lm(model, typ=2)\n",
    "aov_table\n",
    "```\n",
    "Where `Value` column includes the data, and `Factor` column includes the factor that you would like to examine."
   ]
  },
  {
   "cell_type": "code",
   "execution_count": 21,
   "metadata": {},
   "outputs": [
    {
     "data": {
      "text/html": [
       "<div>\n",
       "<style scoped>\n",
       "    .dataframe tbody tr th:only-of-type {\n",
       "        vertical-align: middle;\n",
       "    }\n",
       "\n",
       "    .dataframe tbody tr th {\n",
       "        vertical-align: top;\n",
       "    }\n",
       "\n",
       "    .dataframe thead th {\n",
       "        text-align: right;\n",
       "    }\n",
       "</style>\n",
       "<table border=\"1\" class=\"dataframe\">\n",
       "  <thead>\n",
       "    <tr style=\"text-align: right;\">\n",
       "      <th></th>\n",
       "      <th>sum_sq</th>\n",
       "      <th>df</th>\n",
       "      <th>F</th>\n",
       "      <th>PR(&gt;F)</th>\n",
       "    </tr>\n",
       "  </thead>\n",
       "  <tbody>\n",
       "    <tr>\n",
       "      <th>C(Race3)</th>\n",
       "      <td>3083.532096</td>\n",
       "      <td>5.0</td>\n",
       "      <td>11.768578</td>\n",
       "      <td>2.474068e-11</td>\n",
       "    </tr>\n",
       "    <tr>\n",
       "      <th>Residual</th>\n",
       "      <td>253000.714176</td>\n",
       "      <td>4828.0</td>\n",
       "      <td>NaN</td>\n",
       "      <td>NaN</td>\n",
       "    </tr>\n",
       "  </tbody>\n",
       "</table>\n",
       "</div>"
      ],
      "text/plain": [
       "                 sum_sq      df          F        PR(>F)\n",
       "C(Race3)    3083.532096     5.0  11.768578  2.474068e-11\n",
       "Residual  253000.714176  4828.0        NaN           NaN"
      ]
     },
     "execution_count": 21,
     "metadata": {},
     "output_type": "execute_result"
    }
   ],
   "source": [
    "import statsmodels.api as sm\n",
    "from statsmodels.formula.api import ols\n",
    "\n",
    "model = ols('BMI ~ C(Race3)', data=df).fit()\n",
    "aov_table = sm.stats.anova_lm(model, typ=2)\n",
    "aov_table"
   ]
  },
  {
   "cell_type": "markdown",
   "metadata": {},
   "source": [
    "How do we report this?"
   ]
  },
  {
   "cell_type": "code",
   "execution_count": 22,
   "metadata": {},
   "outputs": [
    {
     "data": {
      "text/plain": [
       "White       3047\n",
       "Black        568\n",
       "Mexican      452\n",
       "Hispanic     340\n",
       "Asian        277\n",
       "Other        150\n",
       "Name: Race3, dtype: int64"
      ]
     },
     "execution_count": 22,
     "metadata": {},
     "output_type": "execute_result"
    }
   ],
   "source": [
    "df['Race3'].value_counts()"
   ]
  }
 ],
 "metadata": {
  "kernelspec": {
   "display_name": "Python 3",
   "language": "python",
   "name": "python3"
  },
  "language_info": {
   "codemirror_mode": {
    "name": "ipython",
    "version": 3
   },
   "file_extension": ".py",
   "mimetype": "text/x-python",
   "name": "python",
   "nbconvert_exporter": "python",
   "pygments_lexer": "ipython3",
   "version": "3.6.12"
  }
 },
 "nbformat": 4,
 "nbformat_minor": 4
}

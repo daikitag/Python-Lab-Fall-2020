{
 "cells": [
  {
   "cell_type": "markdown",
   "metadata": {},
   "source": [
    "# Introduction to Matplotlib"
   ]
  },
  {
   "cell_type": "markdown",
   "metadata": {},
   "source": [
    "## What is Matplotlib?"
   ]
  },
  {
   "cell_type": "markdown",
   "metadata": {},
   "source": [
    "<img src=\"Images/matplotlib.jpg\" width=600>"
   ]
  },
  {
   "cell_type": "markdown",
   "metadata": {},
   "source": [
    "Matplotlib is a plotting library for the Python programming language. All the plots in Python for this lab course will be produced by using Matplotlib."
   ]
  },
  {
   "cell_type": "markdown",
   "metadata": {},
   "source": [
    "Matplotlib would be EXTREMELY important if you would like to do data analysis with Python. These are some suggested links to understand the basics of matplotlib:\n",
    "\n",
    "- https://matplotlib.org/tutorials/introductory/pyplot.html\n",
    "- https://realpython.com/python-matplotlib-guide/"
   ]
  },
  {
   "cell_type": "markdown",
   "metadata": {},
   "source": [
    "## Creating a barplot using a sample dataset"
   ]
  },
  {
   "cell_type": "markdown",
   "metadata": {},
   "source": [
    "## Load a sample dataset\n",
    "\n",
    "This is a sample dataset that counts the favorite colors."
   ]
  },
  {
   "cell_type": "code",
   "execution_count": null,
   "metadata": {},
   "outputs": [],
   "source": []
  },
  {
   "cell_type": "markdown",
   "metadata": {},
   "source": [
    "Let's create a bar graph from this."
   ]
  },
  {
   "cell_type": "markdown",
   "metadata": {},
   "source": [
    "## Step1: Import package\n",
    "\n",
    "You must run this code at the beginning. In Python, we should always import packages to use the codes in that package."
   ]
  },
  {
   "cell_type": "code",
   "execution_count": null,
   "metadata": {},
   "outputs": [],
   "source": []
  },
  {
   "cell_type": "markdown",
   "metadata": {},
   "source": [
    "## Step2: Create figure and axes object"
   ]
  },
  {
   "cell_type": "markdown",
   "metadata": {},
   "source": [
    "We can create figure and axes object by using:\n",
    "```Python\n",
    "fig, axs = plt.subplots(figsize=(6,4))\n",
    "```\n",
    "We can change the numbers in `figsize=(6,4)` to change the size of the object."
   ]
  },
  {
   "cell_type": "code",
   "execution_count": null,
   "metadata": {},
   "outputs": [],
   "source": []
  },
  {
   "cell_type": "markdown",
   "metadata": {},
   "source": [
    "<img src=\"https://files.realpython.com/media/fig_map.bc8c7cabd823.png\" width=300>"
   ]
  },
  {
   "cell_type": "markdown",
   "metadata": {},
   "source": [
    "fig, axs represents figure and axes object in matplotlib. In this package, we create these objects at first, and then add elements to it. As you can see, it created a blank figure with nothing inside."
   ]
  },
  {
   "cell_type": "markdown",
   "metadata": {},
   "source": [
    "## Step3: Add bar chart to axes object"
   ]
  },
  {
   "cell_type": "markdown",
   "metadata": {},
   "source": [
    "We can add bar chart to axes by using \n",
    "```Python\n",
    "axs.bar(x-value, y-value, color='blue')\n",
    "```\n",
    "Inside here, you have to specify the x-value and y-value. x-value will be the labels for categorical data, and y-value is always numerical data. We usually put lists in x-value and y-value. You can change `blue` in `color='blue'` to change the color of the plot.\n",
    "\n",
    "Remember:\n",
    "```Python\n",
    "df['Column Name']\n",
    "```\n",
    "is the same as taking a list of elements from the column with the name 'Column Name' from the dataframe called 'df'."
   ]
  },
  {
   "cell_type": "code",
   "execution_count": null,
   "metadata": {},
   "outputs": [],
   "source": []
  },
  {
   "cell_type": "code",
   "execution_count": null,
   "metadata": {},
   "outputs": [],
   "source": []
  },
  {
   "cell_type": "markdown",
   "metadata": {},
   "source": [
    "Great! We now have a barplot on axes object."
   ]
  },
  {
   "cell_type": "markdown",
   "metadata": {},
   "source": [
    "## Step4: Add title\n",
    "\n",
    "We can add a title to the plot by using\n",
    "```Python\n",
    "axs.set_title(\"Plot Title\", fontsize=14, fontweight=\"bold\") \n",
    "```\n",
    "You change the `\"Plot Title\"` to the title that you deserve, and you can change the `fontsize=14` as well to change the fontsize. `fontweight=\"bold\"` is used to make the title bold, but you can remove it if you don't want to have the title to be bold."
   ]
  },
  {
   "cell_type": "code",
   "execution_count": null,
   "metadata": {},
   "outputs": [],
   "source": []
  },
  {
   "cell_type": "markdown",
   "metadata": {},
   "source": [
    "## Step5: Add axis label\n",
    "\n",
    "We can add axis label by using:\n",
    "```Python\n",
    "axs.set_xlabel(\"x-axis label\", fontsize=12)\n",
    "axs.set_ylabel(\"y-axis label\", fontsize=12)\n",
    "```\n",
    "Change the string (red part) to change the label, and you can adjust the fontsize as well."
   ]
  },
  {
   "cell_type": "code",
   "execution_count": null,
   "metadata": {},
   "outputs": [],
   "source": []
  },
  {
   "cell_type": "markdown",
   "metadata": {},
   "source": [
    "## Final step:\n",
    "\n",
    "Add\n",
    "```Python\n",
    "plt.show()\n",
    "```\n",
    "at the end. Even though Python will show the plot without having this code, it's always better to have this."
   ]
  },
  {
   "cell_type": "code",
   "execution_count": null,
   "metadata": {},
   "outputs": [],
   "source": []
  },
  {
   "cell_type": "markdown",
   "metadata": {},
   "source": [
    "## Important messages\n",
    "\n",
    "We always start the plot with\n",
    "```Python\n",
    "fig, axs = plt.subplots(figsize=(6,4))\n",
    "```\n",
    "and end the plot with\n",
    "```Python\n",
    "plt.show()\n",
    "```\n",
    "\n",
    "Notice that we add elements to the plot by adding `axs.` codes. Sometimes we use `plt.` codes as well.\n",
    "\n",
    "Codes for fancy looking charts will be long, as they will be adding many elements to the graph, but the basic structure will be the same for all graphs."
   ]
  },
  {
   "cell_type": "markdown",
   "metadata": {},
   "source": [
    "## Codes for plots\n",
    "\n",
    "You can see the plots that are created in this matplotlib gallery.\n",
    "https://matplotlib.org/3.1.1/gallery/index.html\n",
    "The best way to create a good looking graph is to take an example from here and modify the code for your own dataset."
   ]
  }
 ],
 "metadata": {
  "kernelspec": {
   "display_name": "Python 3",
   "language": "python",
   "name": "python3"
  },
  "language_info": {
   "codemirror_mode": {
    "name": "ipython",
    "version": 3
   },
   "file_extension": ".py",
   "mimetype": "text/x-python",
   "name": "python",
   "nbconvert_exporter": "python",
   "pygments_lexer": "ipython3",
   "version": "3.6.10"
  }
 },
 "nbformat": 4,
 "nbformat_minor": 4
}

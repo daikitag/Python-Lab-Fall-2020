{
 "cells": [
  {
   "cell_type": "markdown",
   "metadata": {},
   "source": [
    "# For loops\n",
    "\n",
    "For loops are very frequently used in Python to deal with lists or do repetative things.\n",
    "\n",
    "## 1. For loops for lists\n",
    "\n",
    "The common structure is:\n",
    "\n",
    "```Python\n",
    "for i in list_name:\n",
    "    # Write a code here that works with i\n",
    "```"
   ]
  },
  {
   "cell_type": "markdown",
   "metadata": {},
   "source": [
    "## Example1: Print out everything in a list"
   ]
  },
  {
   "cell_type": "code",
   "execution_count": null,
   "metadata": {},
   "outputs": [],
   "source": []
  },
  {
   "cell_type": "markdown",
   "metadata": {},
   "source": [
    "This `i` in `print(i)` comes from `for i` part in the for loop. For loop is frequently used with if statemenets."
   ]
  },
  {
   "cell_type": "markdown",
   "metadata": {},
   "source": [
    "## Example2: Print out even numbers in a list"
   ]
  },
  {
   "cell_type": "code",
   "execution_count": null,
   "metadata": {},
   "outputs": [],
   "source": []
  },
  {
   "cell_type": "markdown",
   "metadata": {},
   "source": [
    "Remember that `i % 2` returns the remainder of `i` divided by `2`.\n",
    "\n",
    "`continue` in if statement means to stop the code with that `i` and go to the next step.\n",
    "\n",
    "For loops can be used to count the number of elements in a list that satisfies a certain condition:"
   ]
  },
  {
   "cell_type": "markdown",
   "metadata": {},
   "source": [
    "## Example3: Count the number of even numbers in a list"
   ]
  },
  {
   "cell_type": "code",
   "execution_count": null,
   "metadata": {},
   "outputs": [],
   "source": []
  },
  {
   "cell_type": "markdown",
   "metadata": {},
   "source": [
    "## 2. For loops + range()\n",
    "\n",
    "This is another way that we can use a for loop. The basic structure is:\n",
    "\n",
    "```Python\n",
    "for i in range(integer):\n",
    "    # Do something with i\n",
    "```\n",
    "\n",
    "Here, the values of i will be integers from 0 to (integer - 1) instead of elements in a list."
   ]
  },
  {
   "cell_type": "markdown",
   "metadata": {},
   "source": [
    "## Example4: Visualize for loop"
   ]
  },
  {
   "cell_type": "code",
   "execution_count": null,
   "metadata": {},
   "outputs": [],
   "source": []
  },
  {
   "cell_type": "markdown",
   "metadata": {},
   "source": [
    "Notice that i takes values from 0 to 2 (= 3 - 1) in the for loop. This can be used to repeat the same process:\n",
    "\n",
    "## Example5: Use the same print function for multiple times"
   ]
  },
  {
   "cell_type": "code",
   "execution_count": null,
   "metadata": {},
   "outputs": [],
   "source": []
  },
  {
   "cell_type": "markdown",
   "metadata": {},
   "source": [
    "Here,\n",
    "```Python\n",
    "print(\"Python\")\n",
    "```\n",
    "was repeated 5 times. As a general rule, the integer inside the parenthesis of range() specifies the number of times the for loop will repeat itself. Notice that you don't have to write a function that involves `i`."
   ]
  },
  {
   "cell_type": "markdown",
   "metadata": {},
   "source": [
    "## Example6: Use range() to get items from a list\n",
    "\n",
    "Remember that we can get the length of a list by using `len()`, and access an element in a list through `list_name[integer]`"
   ]
  },
  {
   "cell_type": "code",
   "execution_count": null,
   "metadata": {},
   "outputs": [],
   "source": []
  },
  {
   "cell_type": "markdown",
   "metadata": {},
   "source": [
    "Even though we can do the same thing through:\n",
    "```Python\n",
    "for i in lista:\n",
    "    print(i)\n",
    "```\n",
    "This code will be useful if you would like to do something with elements in different lists."
   ]
  },
  {
   "cell_type": "markdown",
   "metadata": {},
   "source": [
    "## Example7: Multiply elements in two lists"
   ]
  },
  {
   "cell_type": "code",
   "execution_count": null,
   "metadata": {},
   "outputs": [],
   "source": []
  },
  {
   "cell_type": "markdown",
   "metadata": {},
   "source": [
    "Remember that `.append()` is used to add an element to the list. We cannot do this in the previous for loop that I have given you before."
   ]
  }
 ],
 "metadata": {
  "kernelspec": {
   "display_name": "Python 3",
   "language": "python",
   "name": "python3"
  },
  "language_info": {
   "codemirror_mode": {
    "name": "ipython",
    "version": 3
   },
   "file_extension": ".py",
   "mimetype": "text/x-python",
   "name": "python",
   "nbconvert_exporter": "python",
   "pygments_lexer": "ipython3",
   "version": "3.6.10"
  }
 },
 "nbformat": 4,
 "nbformat_minor": 4
}

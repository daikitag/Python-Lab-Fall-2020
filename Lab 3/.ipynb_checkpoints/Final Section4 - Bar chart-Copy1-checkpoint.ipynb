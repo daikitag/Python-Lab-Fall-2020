{
 "cells": [
  {
   "cell_type": "markdown",
   "metadata": {},
   "source": [
    "# COVID-19 Analysis"
   ]
  },
  {
   "cell_type": "markdown",
   "metadata": {},
   "source": [
    "In our labs, we will be analyzing the following question:\n",
    "\n",
    "### \"What are the reasons behind coronavirus infections?\"\n",
    "\n",
    "This looks like a simple question, but since most of the COVID-19 data are observational, we can never rule out the possiblity of confounding factors.\n",
    "\n",
    "For example, it is a known fact that African Americans are more likely to be infected by COVID-19 compared to Whites. Some of the confounding factors to this relationship might include:\n",
    "\n",
    "- Socioeconomic factors\n",
    "- Ocupation\n",
    "- Health status\n",
    "- Other conditions that we might not know\n",
    "\n",
    "In this lab, we will try to understand the overall picture of COVID-19 by using data visualizations."
   ]
  },
  {
   "cell_type": "markdown",
   "metadata": {},
   "source": [
    "<img src=\"Images/virus.png\" width=400>"
   ]
  },
  {
   "cell_type": "markdown",
   "metadata": {},
   "source": [
    "# Bar chart"
   ]
  },
  {
   "cell_type": "markdown",
   "metadata": {},
   "source": [
    "This is the code that can create a bar chart:\n",
    "\n",
    "```Python\n",
    "import matplotlib.pyplot as plt\n",
    "\n",
    "fig, axs = plt.subplots(figsize=(10,6)) # Change the figure size here       \n",
    "axs.bar(x_values, y_values, color=('deepskyblue')) # You specify the color here     \n",
    "axs.set_title(\"Plot Title\", fontsize=20, fontweight=\"bold\")   \n",
    "axs.set_xlabel(\"x-axis label\", fontsize=14)\n",
    "axs.set_ylabel(\"y-axis label\", fontsize=14)\n",
    "axs.tick_params(labelsize=16)  \n",
    "plt.grid(axis='y')\n",
    "plt.show() \n",
    "# You can change the fontsize by changing the numbers after fontsize=\n",
    "```"
   ]
  },
  {
   "cell_type": "markdown",
   "metadata": {},
   "source": [
    "### New Code:\n",
    "```Python\n",
    "axs.tick_params(labelsize=16)\n",
    "```\n",
    "This changes the size of axis ticks.\n",
    "\n",
    "```Python\n",
    "plt.grid(axis='y')\n",
    "```\n",
    "This adds a horizontal grid."
   ]
  },
  {
   "cell_type": "markdown",
   "metadata": {},
   "source": [
    "### Remember:\n",
    "\n",
    "You only have to specify the `x_values` and `y_values` here."
   ]
  },
  {
   "cell_type": "markdown",
   "metadata": {},
   "source": [
    "## 1. Load dataset"
   ]
  },
  {
   "cell_type": "code",
   "execution_count": null,
   "metadata": {},
   "outputs": [],
   "source": []
  },
  {
   "cell_type": "code",
   "execution_count": null,
   "metadata": {},
   "outputs": [],
   "source": []
  },
  {
   "cell_type": "markdown",
   "metadata": {},
   "source": [
    "## 2. Create a bar plot"
   ]
  },
  {
   "cell_type": "markdown",
   "metadata": {},
   "source": [
    "Let's plot the number of cases.\n",
    "\n",
    "Copy and paste the code above and change the x-values and y-values. Then, change the labels."
   ]
  },
  {
   "cell_type": "code",
   "execution_count": null,
   "metadata": {},
   "outputs": [],
   "source": []
  },
  {
   "cell_type": "markdown",
   "metadata": {},
   "source": [
    "Realize the 1e6 at the top left part of the axis. This means that the numbers are multiplied by $10^6$."
   ]
  },
  {
   "cell_type": "markdown",
   "metadata": {},
   "source": [
    "## Add numerical labels to bar chart\n",
    "\n",
    "You can use the following code to add numerical labels to bar chart\n",
    "\n",
    "```Python\n",
    "import matplotlib.pyplot as plt\n",
    "\n",
    "fig, axs = plt.subplots(figsize=(10,6)) # Change the figure size here       \n",
    "axs.bar(x_values, y_values, color=('blue'), alpha=0.4) # You specify the color here     \n",
    "axs.set_title(\"Plot Title\", fontsize=20, fontweight=\"bold\")   \n",
    "axs.set_xlabel(\"x-axis label\", fontsize=14)\n",
    "axs.set_ylabel(\"y-axis label\", fontsize=14)\n",
    "axs.tick_params(labelsize=14)   \n",
    "\n",
    "axs.spines['right'].set_visible(False)\n",
    "axs.spines['top'].set_visible(False)\n",
    "\n",
    "for i in range(len(x_values)):\n",
    "    plt.text(i-0.3, y_values[i], str(y_values[i]), color='blue', size=16)\n",
    "\n",
    "plt.grid(axis='y')\n",
    "\n",
    "plt.show() \n",
    "```"
   ]
  },
  {
   "cell_type": "markdown",
   "metadata": {},
   "source": [
    "### New Code:\n",
    "\n",
    "```Python\n",
    "axs.spines['right'].set_visible(False)\n",
    "axs.spines['top'].set_visible(False)\n",
    "```\n",
    "They will delete the right an top axis for better visualization purposes.\n",
    "\n",
    "```Python\n",
    "plt.test(x, y, a, color='blue', size=16)\n",
    "```\n",
    "Adds a text `a` to position `(x,y)`\n",
    "\n",
    "```Python\n",
    "axs.bar(x_values, y_values, color=('blue'), alpha=0.4)\n",
    "```\n",
    "Here, `alpha` is added. This is used to adjust the darkness of the color (alpha=1 means dark and alpha=0 means light)."
   ]
  },
  {
   "cell_type": "markdown",
   "metadata": {},
   "source": [
    "Just like in the previous step, you only have to change the values of x_values and y_values."
   ]
  },
  {
   "cell_type": "markdown",
   "metadata": {},
   "source": [
    "## 1. Observe dataframe"
   ]
  },
  {
   "cell_type": "code",
   "execution_count": null,
   "metadata": {},
   "outputs": [],
   "source": []
  },
  {
   "cell_type": "markdown",
   "metadata": {},
   "source": [
    "## 2. Create the bar chart\n",
    "\n",
    "We will be plotting \"Deaths\"."
   ]
  },
  {
   "cell_type": "code",
   "execution_count": null,
   "metadata": {
    "scrolled": false
   },
   "outputs": [],
   "source": []
  },
  {
   "cell_type": "markdown",
   "metadata": {},
   "source": [
    "## Exercise:\n",
    "\n",
    "It's your turn now. Look through the horizontal plot in https://matplotlib.org/3.1.1/gallery/index.html and create the following graph:"
   ]
  },
  {
   "cell_type": "markdown",
   "metadata": {},
   "source": [
    "<img src=\"Images/horizontal.png\" width=450>"
   ]
  },
  {
   "cell_type": "markdown",
   "metadata": {},
   "source": [
    "### Hint:\n",
    "\n",
    "You don't need to add a new line of code to produce this, but there are 4 places that you have to change in the code."
   ]
  },
  {
   "cell_type": "code",
   "execution_count": null,
   "metadata": {},
   "outputs": [],
   "source": []
  },
  {
   "cell_type": "markdown",
   "metadata": {},
   "source": [
    "After you have finished, raise your hand in Zoom. In the meantime, please feel free to ask any questions."
   ]
  },
  {
   "cell_type": "markdown",
   "metadata": {},
   "source": [
    "## Next steps:\n",
    "\n",
    "- Pie Charts"
   ]
  }
 ],
 "metadata": {
  "kernelspec": {
   "display_name": "Python 3",
   "language": "python",
   "name": "python3"
  },
  "language_info": {
   "codemirror_mode": {
    "name": "ipython",
    "version": 3
   },
   "file_extension": ".py",
   "mimetype": "text/x-python",
   "name": "python",
   "nbconvert_exporter": "python",
   "pygments_lexer": "ipython3",
   "version": "3.6.10"
  }
 },
 "nbformat": 4,
 "nbformat_minor": 4
}

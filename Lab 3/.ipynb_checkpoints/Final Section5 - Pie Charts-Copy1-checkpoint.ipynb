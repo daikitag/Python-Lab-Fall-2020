{
 "cells": [
  {
   "cell_type": "markdown",
   "metadata": {},
   "source": [
    "# Pie Charts\n",
    "\n",
    "We will be creating pie charts in this notebook."
   ]
  },
  {
   "cell_type": "markdown",
   "metadata": {},
   "source": [
    "This is the code that can create pie charts:\n",
    "\n",
    "```Python\n",
    "import matplotlib.pyplot as plt\n",
    "\n",
    "fig, axs = plt.subplots(figsize=(5, 5)) # change figure size here\n",
    "axs.pie(y_values, labels=x_values, autopct='%1.1f%%', startangle=90)\n",
    "\n",
    "axs.axis('equal')\n",
    "plt.title('Main title',fontweight=\"bold\", fontsize=15, pad=20)\n",
    "plt.show()\n",
    "```"
   ]
  },
  {
   "cell_type": "markdown",
   "metadata": {},
   "source": [
    "### New code:\n",
    "\n",
    "```Python\n",
    "axs.pie(y_values, labels=x_values, autopct='%1.1f%%', startangle=90)\n",
    "```\n",
    "This is a code to add a pie chart to axis object. `y_values`, `x_values` are the same as before.\n",
    "\n",
    "`autopct` add a label to the pie chart and `%1.1f%%` means until 1 decimal place. `startangle` specifies where the pie chart starts, but `90` would be the best option.\n",
    "\n",
    "```Python\n",
    "axs.axis('equal')\n",
    "```\n",
    "This code makes sure that the size of each segments in a pie chart will be the same."
   ]
  },
  {
   "cell_type": "markdown",
   "metadata": {},
   "source": [
    "As before, you have to specify the values in `y_values` and labels in `x_values`"
   ]
  },
  {
   "cell_type": "code",
   "execution_count": null,
   "metadata": {},
   "outputs": [],
   "source": []
  },
  {
   "cell_type": "code",
   "execution_count": null,
   "metadata": {},
   "outputs": [],
   "source": []
  },
  {
   "cell_type": "markdown",
   "metadata": {},
   "source": [
    "We will create a pie chart of the population in the U.S."
   ]
  },
  {
   "cell_type": "code",
   "execution_count": null,
   "metadata": {},
   "outputs": [],
   "source": []
  },
  {
   "cell_type": "markdown",
   "metadata": {},
   "source": [
    "Good, but we see the unknown, which is undesired in this case. `df['Column name']` is the same as lists, and we can delete the final element in the list by: `list_name[:-1]`"
   ]
  },
  {
   "cell_type": "code",
   "execution_count": null,
   "metadata": {},
   "outputs": [],
   "source": []
  },
  {
   "cell_type": "markdown",
   "metadata": {},
   "source": [
    "Looks great. We will can also make the labels go to the right by using the following code:\n",
    "\n",
    "```Python\n",
    "import matplotlib.pyplot as plt\n",
    "\n",
    "percent = y_values / sum(y_values) * 100\n",
    "label = [[] for i in range(len(x_values))]\n",
    "for i in range(len(x_values)):\n",
    "    label[i] = '{} ({:.2f}%)'.format(x_values[i],percent[i])\n",
    "\n",
    "fig, axs = plt.subplots(figsize=(5, 5)) # change figure size here\n",
    "pie = axs.pie(y_values, shadow=True, startangle=90)\n",
    "axs.axis('equal')\n",
    "plt.legend(pie[0],label, bbox_to_anchor=(1.3,0.5), loc=\"center right\", fontsize=12, \n",
    "           bbox_transform=plt.gcf().transFigure)\n",
    "plt.title('Main title',fontweight=\"bold\", fontsize=15, pad=20)\n",
    "plt.show()\n",
    "```\n"
   ]
  },
  {
   "cell_type": "code",
   "execution_count": null,
   "metadata": {},
   "outputs": [],
   "source": []
  },
  {
   "cell_type": "markdown",
   "metadata": {},
   "source": [
    "Now, we will be visualizing COVID-19 death cases"
   ]
  },
  {
   "cell_type": "code",
   "execution_count": null,
   "metadata": {},
   "outputs": [],
   "source": []
  },
  {
   "cell_type": "code",
   "execution_count": null,
   "metadata": {},
   "outputs": [],
   "source": []
  },
  {
   "cell_type": "code",
   "execution_count": null,
   "metadata": {},
   "outputs": [],
   "source": []
  },
  {
   "cell_type": "markdown",
   "metadata": {},
   "source": [
    "## Conclusion:\n",
    "\n",
    "Just by observing the COVID-19 death cases brokwn down by race, we can conclude that there are more white deaths compared to other races. It seems that the number of white deaths is more than two times the number of black or Latin deaths.\n",
    "\n",
    "However, it is incorrect to say that white people are more likely to die from COVID compared to other races. Even though 60.1% of Americans are white, only 48.45% of COVID death cases are white. This suggests that white people are less likely to die from COVID compared to other race/ethnicity."
   ]
  }
 ],
 "metadata": {
  "kernelspec": {
   "display_name": "Python 3",
   "language": "python",
   "name": "python3"
  },
  "language_info": {
   "codemirror_mode": {
    "name": "ipython",
    "version": 3
   },
   "file_extension": ".py",
   "mimetype": "text/x-python",
   "name": "python",
   "nbconvert_exporter": "python",
   "pygments_lexer": "ipython3",
   "version": "3.6.10"
  }
 },
 "nbformat": 4,
 "nbformat_minor": 4
}

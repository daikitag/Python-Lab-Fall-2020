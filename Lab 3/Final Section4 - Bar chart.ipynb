{
 "cells": [
  {
   "cell_type": "markdown",
   "metadata": {},
   "source": [
    "# COVID-19 Analysis"
   ]
  },
  {
   "cell_type": "markdown",
   "metadata": {},
   "source": [
    "In our labs, we will be analyzing the following question:\n",
    "\n",
    "### \"What are the reasons behind coronavirus infections?\"\n",
    "\n",
    "This looks like a simple question, but since most of the COVID-19 data are observational, we can never rule out the possiblity of confounding factors.\n",
    "\n",
    "For example, it is a known fact that African Americans are more likely to be infected by COVID-19 compared to Whites. Some of the confounding factors to this relationship might include:\n",
    "\n",
    "- Socioeconomic factors\n",
    "- Ocupation\n",
    "- Health status\n",
    "- Other conditions that we might not know\n",
    "\n",
    "In this lab, we will try to understand the overall picture of COVID-19 by using data visualizations."
   ]
  },
  {
   "cell_type": "markdown",
   "metadata": {},
   "source": [
    "<img src=\"Images/virus.png\" width=400>"
   ]
  },
  {
   "cell_type": "markdown",
   "metadata": {},
   "source": [
    "# Bar chart"
   ]
  },
  {
   "cell_type": "markdown",
   "metadata": {},
   "source": [
    "This is the code that can create a bar chart:\n",
    "\n",
    "```Python\n",
    "import matplotlib.pyplot as plt\n",
    "\n",
    "fig, axs = plt.subplots(figsize=(10,6)) # Change the figure size here       \n",
    "axs.bar(x_values, y_values, color=('deepskyblue')) # You specify the color here     \n",
    "axs.set_title(\"Plot Title\", fontsize=20, fontweight=\"bold\")   \n",
    "axs.set_xlabel(\"x-axis label\", fontsize=14)\n",
    "axs.set_ylabel(\"y-axis label\", fontsize=14)\n",
    "axs.tick_params(labelsize=16)  \n",
    "plt.grid(axis='y')\n",
    "plt.show() \n",
    "# You can change the fontsize by changing the numbers after fontsize=\n",
    "```"
   ]
  },
  {
   "cell_type": "markdown",
   "metadata": {},
   "source": [
    "### New Code:\n",
    "```Python\n",
    "axs.tick_params(labelsize=16)\n",
    "```\n",
    "This changes the size of axis ticks.\n",
    "\n",
    "```Python\n",
    "plt.grid(axis='y')\n",
    "```\n",
    "This adds a horizontal grid."
   ]
  },
  {
   "cell_type": "markdown",
   "metadata": {},
   "source": [
    "### Remember:\n",
    "\n",
    "You only have to specify the `x_values` and `y_values` here."
   ]
  },
  {
   "cell_type": "markdown",
   "metadata": {},
   "source": [
    "## 1. Load dataset"
   ]
  },
  {
   "cell_type": "code",
   "execution_count": 1,
   "metadata": {},
   "outputs": [],
   "source": [
    "import pandas as pd\n",
    "df = pd.read_csv('Data/COVID.csv')"
   ]
  },
  {
   "cell_type": "code",
   "execution_count": 2,
   "metadata": {},
   "outputs": [
    {
     "data": {
      "text/html": [
       "<div>\n",
       "<style scoped>\n",
       "    .dataframe tbody tr th:only-of-type {\n",
       "        vertical-align: middle;\n",
       "    }\n",
       "\n",
       "    .dataframe tbody tr th {\n",
       "        vertical-align: top;\n",
       "    }\n",
       "\n",
       "    .dataframe thead th {\n",
       "        text-align: right;\n",
       "    }\n",
       "</style>\n",
       "<table border=\"1\" class=\"dataframe\">\n",
       "  <thead>\n",
       "    <tr style=\"text-align: right;\">\n",
       "      <th></th>\n",
       "      <th>Race</th>\n",
       "      <th>Cases</th>\n",
       "      <th>Deaths</th>\n",
       "      <th>Population</th>\n",
       "    </tr>\n",
       "  </thead>\n",
       "  <tbody>\n",
       "    <tr>\n",
       "      <th>0</th>\n",
       "      <td>White</td>\n",
       "      <td>2010404</td>\n",
       "      <td>96979</td>\n",
       "      <td>197277789</td>\n",
       "    </tr>\n",
       "    <tr>\n",
       "      <th>1</th>\n",
       "      <td>Black</td>\n",
       "      <td>824169</td>\n",
       "      <td>39648</td>\n",
       "      <td>39445495</td>\n",
       "    </tr>\n",
       "    <tr>\n",
       "      <th>2</th>\n",
       "      <td>Latin</td>\n",
       "      <td>1030154</td>\n",
       "      <td>36882</td>\n",
       "      <td>56510571</td>\n",
       "    </tr>\n",
       "    <tr>\n",
       "      <th>3</th>\n",
       "      <td>Asian</td>\n",
       "      <td>123389</td>\n",
       "      <td>6891</td>\n",
       "      <td>16989540</td>\n",
       "    </tr>\n",
       "    <tr>\n",
       "      <th>4</th>\n",
       "      <td>Other</td>\n",
       "      <td>452013</td>\n",
       "      <td>8694</td>\n",
       "      <td>10781012</td>\n",
       "    </tr>\n",
       "    <tr>\n",
       "      <th>5</th>\n",
       "      <td>Unknown</td>\n",
       "      <td>2646058</td>\n",
       "      <td>11052</td>\n",
       "      <td>0</td>\n",
       "    </tr>\n",
       "  </tbody>\n",
       "</table>\n",
       "</div>"
      ],
      "text/plain": [
       "      Race    Cases  Deaths  Population\n",
       "0    White  2010404   96979   197277789\n",
       "1    Black   824169   39648    39445495\n",
       "2    Latin  1030154   36882    56510571\n",
       "3    Asian   123389    6891    16989540\n",
       "4    Other   452013    8694    10781012\n",
       "5  Unknown  2646058   11052           0"
      ]
     },
     "execution_count": 2,
     "metadata": {},
     "output_type": "execute_result"
    }
   ],
   "source": [
    "df"
   ]
  },
  {
   "cell_type": "markdown",
   "metadata": {},
   "source": [
    "## 2. Create a bar plot"
   ]
  },
  {
   "cell_type": "markdown",
   "metadata": {},
   "source": [
    "Let's plot the number of cases.\n",
    "\n",
    "Copy and paste the code above and change the x-values and y-values. Then, change the labels."
   ]
  },
  {
   "cell_type": "code",
   "execution_count": 7,
   "metadata": {},
   "outputs": [
    {
     "data": {
      "image/png": "[encoded data removed]",
      "text/plain": [
       "<Figure size 720x432 with 1 Axes>"
      ]
     },
     "metadata": {
      "needs_background": "light"
     },
     "output_type": "display_data"
    }
   ],
   "source": [
    "y_values = df['Cases']\n",
    "x_values = df['Race']\n",
    "\n",
    "import matplotlib.pyplot as plt\n",
    "\n",
    "fig, axs = plt.subplots(figsize=(10,6)) # Change the figure size here       \n",
    "axs.bar(x_values, y_values, color=('deepskyblue')) # You specify the color here     \n",
    "axs.set_title(\"COVID-19 Cases Broken Down by Race\", fontsize=20, fontweight=\"bold\")   \n",
    "axs.set_xlabel(\"Race\", fontsize=14)\n",
    "axs.set_ylabel(\"Number of COVID-19 Cases\", fontsize=14)\n",
    "axs.tick_params(labelsize=16)    \n",
    "plt.grid(axis='y')\n",
    "plt.show() "
   ]
  },
  {
   "cell_type": "markdown",
   "metadata": {},
   "source": [
    "Realize the 1e6 at the top left part of the axis. This means that the numbers are multiplied by $10^6$."
   ]
  },
  {
   "cell_type": "markdown",
   "metadata": {},
   "source": [
    "## Add numerical labels to bar chart\n",
    "\n",
    "You can use the following code to add numerical labels to bar chart\n",
    "\n",
    "```Python\n",
    "import matplotlib.pyplot as plt\n",
    "\n",
    "fig, axs = plt.subplots(figsize=(10,6)) # Change the figure size here       \n",
    "axs.bar(x_values, y_values, color=('blue'), alpha=0.4) # You specify the color here     \n",
    "axs.set_title(\"Plot Title\", fontsize=20, fontweight=\"bold\")   \n",
    "axs.set_xlabel(\"x-axis label\", fontsize=14)\n",
    "axs.set_ylabel(\"y-axis label\", fontsize=14)\n",
    "axs.tick_params(labelsize=14)   \n",
    "\n",
    "axs.spines['right'].set_visible(False)\n",
    "axs.spines['top'].set_visible(False)\n",
    "\n",
    "for i in range(len(x_values)):\n",
    "    plt.text(i-0.3, y_values[i], str(y_values[i]), color='blue', size=16)\n",
    "\n",
    "plt.grid(axis='y')\n",
    "\n",
    "plt.show() \n",
    "```"
   ]
  },
  {
   "cell_type": "markdown",
   "metadata": {},
   "source": [
    "### New Code:\n",
    "\n",
    "```Python\n",
    "axs.spines['right'].set_visible(False)\n",
    "axs.spines['top'].set_visible(False)\n",
    "```\n",
    "They will delete the right an top axis for better visualization purposes.\n",
    "\n",
    "```Python\n",
    "plt.test(x, y, a, color='blue', size=16)\n",
    "```\n",
    "Adds a text `a` to position `(x,y)`\n",
    "\n",
    "```Python\n",
    "axs.bar(x_values, y_values, color=('blue'), alpha=0.4)\n",
    "```\n",
    "Here, `alpha` is added. This is used to adjust the darkness of the color (alpha=1 means dark and alpha=0 means light)."
   ]
  },
  {
   "cell_type": "markdown",
   "metadata": {},
   "source": [
    "Just like in the previous step, you only have to change the values of x_values and y_values."
   ]
  },
  {
   "cell_type": "markdown",
   "metadata": {},
   "source": [
    "## 1. Observe dataframe"
   ]
  },
  {
   "cell_type": "code",
   "execution_count": 17,
   "metadata": {},
   "outputs": [
    {
     "data": {
      "text/html": [
       "<div>\n",
       "<style scoped>\n",
       "    .dataframe tbody tr th:only-of-type {\n",
       "        vertical-align: middle;\n",
       "    }\n",
       "\n",
       "    .dataframe tbody tr th {\n",
       "        vertical-align: top;\n",
       "    }\n",
       "\n",
       "    .dataframe thead th {\n",
       "        text-align: right;\n",
       "    }\n",
       "</style>\n",
       "<table border=\"1\" class=\"dataframe\">\n",
       "  <thead>\n",
       "    <tr style=\"text-align: right;\">\n",
       "      <th></th>\n",
       "      <th>Race</th>\n",
       "      <th>Cases</th>\n",
       "      <th>Deaths</th>\n",
       "      <th>Population</th>\n",
       "    </tr>\n",
       "  </thead>\n",
       "  <tbody>\n",
       "    <tr>\n",
       "      <th>0</th>\n",
       "      <td>White</td>\n",
       "      <td>2010404</td>\n",
       "      <td>96979</td>\n",
       "      <td>197277789</td>\n",
       "    </tr>\n",
       "    <tr>\n",
       "      <th>1</th>\n",
       "      <td>Black</td>\n",
       "      <td>824169</td>\n",
       "      <td>39648</td>\n",
       "      <td>39445495</td>\n",
       "    </tr>\n",
       "    <tr>\n",
       "      <th>2</th>\n",
       "      <td>Latin</td>\n",
       "      <td>1030154</td>\n",
       "      <td>36882</td>\n",
       "      <td>56510571</td>\n",
       "    </tr>\n",
       "    <tr>\n",
       "      <th>3</th>\n",
       "      <td>Asian</td>\n",
       "      <td>123389</td>\n",
       "      <td>6891</td>\n",
       "      <td>16989540</td>\n",
       "    </tr>\n",
       "    <tr>\n",
       "      <th>4</th>\n",
       "      <td>Other</td>\n",
       "      <td>452013</td>\n",
       "      <td>8694</td>\n",
       "      <td>10781012</td>\n",
       "    </tr>\n",
       "    <tr>\n",
       "      <th>5</th>\n",
       "      <td>Unknown</td>\n",
       "      <td>2646058</td>\n",
       "      <td>11052</td>\n",
       "      <td>0</td>\n",
       "    </tr>\n",
       "  </tbody>\n",
       "</table>\n",
       "</div>"
      ],
      "text/plain": [
       "      Race    Cases  Deaths  Population\n",
       "0    White  2010404   96979   197277789\n",
       "1    Black   824169   39648    39445495\n",
       "2    Latin  1030154   36882    56510571\n",
       "3    Asian   123389    6891    16989540\n",
       "4    Other   452013    8694    10781012\n",
       "5  Unknown  2646058   11052           0"
      ]
     },
     "execution_count": 17,
     "metadata": {},
     "output_type": "execute_result"
    }
   ],
   "source": [
    "df"
   ]
  },
  {
   "cell_type": "markdown",
   "metadata": {},
   "source": [
    "## 2. Create the bar chart\n",
    "\n",
    "We will be plotting \"Deaths\"."
   ]
  },
  {
   "cell_type": "code",
   "execution_count": 8,
   "metadata": {
    "scrolled": false
   },
   "outputs": [
    {
     "data": {
      "image/png": "[encoded data removed]",
      "text/plain": [
       "<Figure size 720x432 with 1 Axes>"
      ]
     },
     "metadata": {
      "needs_background": "light"
     },
     "output_type": "display_data"
    }
   ],
   "source": [
    "x_values = df['Race'] # This specifies the label\n",
    "y_values = df['Deaths'] # This specifies the value\n",
    "\n",
    "import matplotlib.pyplot as plt\n",
    "\n",
    "fig, axs = plt.subplots(figsize=(10,6)) # Change the figure size here       \n",
    "bargraph = axs.bar(x_values, y_values, color=('blue'), alpha=0.4) # You specify the color here     \n",
    "axs.set_title(\"COVID-19 Deaths Broken Down by Race\", fontsize=20, fontweight=\"bold\")   \n",
    "axs.set_xlabel(\"Race\", fontsize=14)\n",
    "axs.set_ylabel(\"COVID-19 Deaths\", fontsize=14)\n",
    "axs.tick_params(labelsize=14)   \n",
    "\n",
    "axs.spines['right'].set_visible(False)\n",
    "axs.spines['top'].set_visible(False)\n",
    "\n",
    "for i in range(len(x_values)):\n",
    "    plt.text(i-0.3, y_values[i], str(y_values[i]), color='b', size=16)\n",
    "\n",
    "plt.grid(axis='y')\n",
    "\n",
    "plt.show()"
   ]
  },
  {
   "cell_type": "markdown",
   "metadata": {},
   "source": [
    "## Exercise:\n",
    "\n",
    "It's your turn now. Look through the horizontal plot in https://matplotlib.org/3.1.1/gallery/index.html and create the following graph:"
   ]
  },
  {
   "cell_type": "markdown",
   "metadata": {},
   "source": [
    "<img src=\"Images/horizontal.png\" width=450>"
   ]
  },
  {
   "cell_type": "markdown",
   "metadata": {},
   "source": [
    "### Hint:\n",
    "\n",
    "You don't need to add a new line of code to produce this, but there are 4 places that you have to change in the code."
   ]
  },
  {
   "cell_type": "code",
   "execution_count": 11,
   "metadata": {},
   "outputs": [
    {
     "data": {
      "image/png": "[encoded data removed]",
      "text/plain": [
       "<Figure size 720x432 with 1 Axes>"
      ]
     },
     "metadata": {
      "needs_background": "light"
     },
     "output_type": "display_data"
    }
   ],
   "source": [
    "y_values = df['Cases']\n",
    "x_values = df['Race']\n",
    "\n",
    "import matplotlib.pyplot as plt\n",
    "\n",
    "fig, axs = plt.subplots(figsize=(10,6)) # Change the figure size here       \n",
    "axs.barh(x_values, y_values, color=('deepskyblue')) # You specify the color here     \n",
    "axs.set_title(\"COVID-19 Cases Broken Down by Race\", fontsize=20, fontweight=\"bold\")   \n",
    "axs.set_ylabel(\"Race\", fontsize=14)\n",
    "axs.set_xlabel(\"Number of COVID-19 Cases\", fontsize=14)\n",
    "axs.tick_params(labelsize=16)    \n",
    "plt.grid(axis='x')\n",
    "plt.show() "
   ]
  },
  {
   "cell_type": "markdown",
   "metadata": {},
   "source": [
    "After you have finished, raise your hand in Zoom. In the meantime, please feel free to ask any questions."
   ]
  },
  {
   "cell_type": "markdown",
   "metadata": {},
   "source": [
    "## Next steps:\n",
    "\n",
    "- Pie Charts"
   ]
  }
 ],
 "metadata": {
  "kernelspec": {
   "display_name": "Python 3",
   "language": "python",
   "name": "python3"
  },
  "language_info": {
   "codemirror_mode": {
    "name": "ipython",
    "version": 3
   },
   "file_extension": ".py",
   "mimetype": "text/x-python",
   "name": "python",
   "nbconvert_exporter": "python",
   "pygments_lexer": "ipython3",
   "version": "3.6.12"
  }
 },
 "nbformat": 4,
 "nbformat_minor": 4
}

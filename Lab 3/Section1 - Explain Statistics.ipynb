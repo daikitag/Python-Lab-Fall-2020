{
 "cells": [
  {
   "cell_type": "markdown",
   "metadata": {},
   "source": [
    "# Python Lab 3: Categorical Data Visualization"
   ]
  },
  {
   "cell_type": "markdown",
   "metadata": {},
   "source": [
    "In this lab, I hope we can tackle the following question:\n",
    "\n",
    "# \"How likely are we to be infected by the coronavirus?\""
   ]
  },
  {
   "cell_type": "markdown",
   "metadata": {},
   "source": [
    "<img src=\"Images/virus.png\" width=400>"
   ]
  },
  {
   "cell_type": "markdown",
   "metadata": {},
   "source": [
    "This question is very simple, but can be extremely difficult to answer. Before we dig deep into coding, I hope I can introduce some statistical concepts behind the analysis."
   ]
  },
  {
   "cell_type": "markdown",
   "metadata": {},
   "source": [
    "## How can we get conclusion from data?\n",
    "\n",
    "We always have to conduct a \"hypothesis testing\" to make conclusions from data (this will be the main focus in the later labs). However, we should always try to visualize the data before conducting any anlaysis on it. This is because data visualizations can help us see the truth contained in the data."
   ]
  },
  {
   "cell_type": "markdown",
   "metadata": {},
   "source": [
    "## Randomized Experiments vs Observational Studies"
   ]
  },
  {
   "cell_type": "markdown",
   "metadata": {},
   "source": [
    "## 1. What is a  randomized experiment?\n",
    "\n",
    "Review from the slide:\n",
    "\n",
    "<img src=\"Images/randomized.png\" width=400>"
   ]
  },
  {
   "cell_type": "markdown",
   "metadata": {},
   "source": [
    "What is a confounding variable?\n",
    "\n",
    "<img src=\"Images/confounding.png\" width=400>"
   ]
  },
  {
   "cell_type": "markdown",
   "metadata": {},
   "source": [
    "Example:\n",
    "\n",
    "African Americans have a higher COVID-19 mortality rates compared to Whites. However, we can not conclude that African Americans are more likely to die from COVID-19, because of the prevalence of confounding factors.\n",
    "\n",
    "- Socioeconomic factors\n",
    "- Health conditions\n",
    "- Some factors that we don't know"
   ]
  },
  {
   "cell_type": "markdown",
   "metadata": {},
   "source": [
    "## 2. What is an observational study?"
   ]
  },
  {
   "cell_type": "markdown",
   "metadata": {},
   "source": [
    "<img src=\"Images/observational.png\" width=400>"
   ]
  },
  {
   "cell_type": "markdown",
   "metadata": {},
   "source": [
    "### Important:\n",
    "\n",
    "- Statistical inferences of cause-and-effect relationships can be drawn from randomized experiments, but not from observational studies.\n",
    "- Inferences to populations can be drawn from random sampling studies, but not otherwise.\n",
    "\n",
    "Definition:\n",
    "\n",
    "An inference is a conclusion that patterns in the data are present in some broader context."
   ]
  },
  {
   "cell_type": "markdown",
   "metadata": {},
   "source": [
    "We always have to think about our research question before conducting the analysis. It would not be a good idea to analyze big data from observational studies that won't answer your research question.\n",
    "\n",
    "<img src=\"Images/bigdata.png\" width=400>"
   ]
  },
  {
   "cell_type": "markdown",
   "metadata": {},
   "source": [
    "## Why do we care about observational studies?\n",
    "\n",
    "1. Observational studies can be easier to conduct\n",
    "2. Observational studies can be used to find potential factors that may affect the outcome\n",
    "3. Randomized experiment is often not possible to conduct"
   ]
  },
  {
   "cell_type": "markdown",
   "metadata": {},
   "source": [
    "## Example: COVID-19 Data"
   ]
  },
  {
   "cell_type": "markdown",
   "metadata": {},
   "source": [
    "Remember from the previous lab that we can load a csv file in Python by using the following command:\n",
    "\n",
    "```Python\n",
    "import pandas as pd\n",
    "df = pd.read_csv('data.csv')\n",
    "```\n",
    "where ```'data.csv' ``` represents the name of the csv file."
   ]
  },
  {
   "cell_type": "code",
   "execution_count": 6,
   "metadata": {},
   "outputs": [],
   "source": [
    "import pandas as pd\n",
    "df = pd.read_csv('Data/COVID.csv')"
   ]
  },
  {
   "cell_type": "markdown",
   "metadata": {},
   "source": [
    "This code loads ```COVID.csv``` file that is in ```Data``` folder."
   ]
  },
  {
   "cell_type": "code",
   "execution_count": 7,
   "metadata": {},
   "outputs": [
    {
     "data": {
      "text/html": [
       "<div>\n",
       "<style scoped>\n",
       "    .dataframe tbody tr th:only-of-type {\n",
       "        vertical-align: middle;\n",
       "    }\n",
       "\n",
       "    .dataframe tbody tr th {\n",
       "        vertical-align: top;\n",
       "    }\n",
       "\n",
       "    .dataframe thead th {\n",
       "        text-align: right;\n",
       "    }\n",
       "</style>\n",
       "<table border=\"1\" class=\"dataframe\">\n",
       "  <thead>\n",
       "    <tr style=\"text-align: right;\">\n",
       "      <th></th>\n",
       "      <th>Race</th>\n",
       "      <th>Cases</th>\n",
       "      <th>Deaths</th>\n",
       "      <th>Population</th>\n",
       "    </tr>\n",
       "  </thead>\n",
       "  <tbody>\n",
       "    <tr>\n",
       "      <th>0</th>\n",
       "      <td>White</td>\n",
       "      <td>2010404</td>\n",
       "      <td>96979</td>\n",
       "      <td>197277789</td>\n",
       "    </tr>\n",
       "    <tr>\n",
       "      <th>1</th>\n",
       "      <td>Black</td>\n",
       "      <td>824169</td>\n",
       "      <td>39648</td>\n",
       "      <td>39445495</td>\n",
       "    </tr>\n",
       "    <tr>\n",
       "      <th>2</th>\n",
       "      <td>Latin</td>\n",
       "      <td>1030154</td>\n",
       "      <td>36882</td>\n",
       "      <td>56510571</td>\n",
       "    </tr>\n",
       "    <tr>\n",
       "      <th>3</th>\n",
       "      <td>Asian</td>\n",
       "      <td>123389</td>\n",
       "      <td>6891</td>\n",
       "      <td>16989540</td>\n",
       "    </tr>\n",
       "    <tr>\n",
       "      <th>4</th>\n",
       "      <td>Other</td>\n",
       "      <td>452013</td>\n",
       "      <td>8694</td>\n",
       "      <td>10781012</td>\n",
       "    </tr>\n",
       "    <tr>\n",
       "      <th>5</th>\n",
       "      <td>Unknown</td>\n",
       "      <td>2646058</td>\n",
       "      <td>11052</td>\n",
       "      <td>0</td>\n",
       "    </tr>\n",
       "  </tbody>\n",
       "</table>\n",
       "</div>"
      ],
      "text/plain": [
       "      Race    Cases  Deaths  Population\n",
       "0    White  2010404   96979   197277789\n",
       "1    Black   824169   39648    39445495\n",
       "2    Latin  1030154   36882    56510571\n",
       "3    Asian   123389    6891    16989540\n",
       "4    Other   452013    8694    10781012\n",
       "5  Unknown  2646058   11052           0"
      ]
     },
     "execution_count": 7,
     "metadata": {},
     "output_type": "execute_result"
    }
   ],
   "source": [
    "df"
   ]
  },
  {
   "cell_type": "markdown",
   "metadata": {},
   "source": [
    "These numbers represent the exact numbers as of September 27, 2020."
   ]
  },
  {
   "cell_type": "markdown",
   "metadata": {},
   "source": [
    "### Question: Is this data from randomized experiment or observational study?\n",
    "\n",
    "Answer: This is obviously from an observational study."
   ]
  },
  {
   "cell_type": "markdown",
   "metadata": {},
   "source": [
    "## Major reasons why randomized experiment / random sampling is difficult"
   ]
  },
  {
   "cell_type": "markdown",
   "metadata": {},
   "source": [
    "### 1. Taking a random sample from the entire population in the U.S. is not practical\n",
    "\n",
    "There isn't a large list of all the people in the U.S. However, let's just assume that we can get a random sample from the U.S. population by using a list of social security numbers. Imagine that you randomly take 1,000 people. If one of them is living in a countryside in Alaska, would you fly all the way to there to get data from 1 person? That would be too expensive"
   ]
  },
  {
   "cell_type": "markdown",
   "metadata": {},
   "source": [
    "### 2. We cannot randomly assign race to different people\n",
    "\n",
    "Let's imagine that we gathered some people for the experiment. Can we randomly assign race to those people? We cannot do this."
   ]
  },
  {
   "cell_type": "markdown",
   "metadata": {},
   "source": [
    "### 3. We need a large sample size\n",
    "\n",
    "To illustrate this, let's analyze the dataset that was given before:"
   ]
  },
  {
   "cell_type": "markdown",
   "metadata": {},
   "source": [
    "Remember that we can get all the values in a column in a dataframe by using the following code:\n",
    "```Python\n",
    "df['Name of Column']\n",
    "```\n",
    "Also,\n",
    "```Python\n",
    "sum()\n",
    "```\n",
    "can be used to find the sum of all the values in the list."
   ]
  },
  {
   "cell_type": "code",
   "execution_count": 10,
   "metadata": {},
   "outputs": [
    {
     "name": "stdout",
     "output_type": "stream",
     "text": [
      "2.207504584197188 % of U.S. population is affected from COVID-19\n",
      "0.06234992281585717 % of U.S. population died from COVID-19\n"
     ]
    }
   ],
   "source": [
    "# Total number of COVID cases and deaths in the U.S.\n",
    "cases = sum(df['Cases'])\n",
    "deaths = sum(df['Deaths'])\n",
    "\n",
    "# Find total U.S. population\n",
    "population = sum(df['Population'])\n",
    "\n",
    "# Find probabilities by dividing these number by the total population in the U.S.\n",
    "# and multiplying by 100%\n",
    "cases_rate = cases / population * 100\n",
    "deaths_rate = deaths / population * 100\n",
    "\n",
    "print('{} % of U.S. population is affected from COVID-19'.format(cases_rate))\n",
    "print('{} % of U.S. population died from COVID-19'.format(deaths_rate))"
   ]
  },
  {
   "cell_type": "markdown",
   "metadata": {},
   "source": [
    "If we were to conduct a randomized experiment in COVID-19, we would do the following:\n",
    "\n",
    "1. Take a sample from the population\n",
    "2. Randomly assign a treatment to individuals\n",
    "3. Continue to observe those people for 1-2 years and compare the proportion of COVID-19 deaths\n",
    "\n",
    "We can see that the probability of dying from COVID-19 is really low, so we have to get an extremely laarge sample size to get a sufficient number of COVID-19 deaths. Also, there are ethical issues behind this experiment."
   ]
  },
  {
   "cell_type": "markdown",
   "metadata": {},
   "source": [
    "### Does this mean that we cannot get any information from COVID-19 data?\n",
    "\n",
    "No. While we can't draw conclusions about the entire U.S. population, we can use the dateset to find the causes behind COVID-19 deaths. There are several tools that we can use to account for the effects of several confounding varialbes, which includes ANOVA and regression analysis, and we will cover them in the later labs."
   ]
  }
 ],
 "metadata": {
  "kernelspec": {
   "display_name": "Python 3",
   "language": "python",
   "name": "python3"
  },
  "language_info": {
   "codemirror_mode": {
    "name": "ipython",
    "version": 3
   },
   "file_extension": ".py",
   "mimetype": "text/x-python",
   "name": "python",
   "nbconvert_exporter": "python",
   "pygments_lexer": "ipython3",
   "version": "3.6.10"
  }
 },
 "nbformat": 4,
 "nbformat_minor": 4
}

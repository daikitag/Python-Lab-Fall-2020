{
 "cells": [
  {
   "cell_type": "markdown",
   "metadata": {},
   "source": [
    "# Example:\n",
    "\n",
    "Suppose that you are interested in examining the racial disparity in COVID-19 death cases in the U.S. Before diving deep into the analysis, the first step would be to understand the current situation."
   ]
  },
  {
   "cell_type": "markdown",
   "metadata": {},
   "source": [
    "Data Source: https://data.cdc.gov/NCHS/Provisional-Death-Counts-for-Coronavirus-Disease-C/pj7m-y5uh\n",
    "\n",
    "(Accessed 10/22/2020)"
   ]
  },
  {
   "cell_type": "code",
   "execution_count": 1,
   "metadata": {},
   "outputs": [],
   "source": [
    "import pandas as pd\n",
    "import numpy as np\n",
    "import matplotlib.pyplot as plt"
   ]
  },
  {
   "cell_type": "code",
   "execution_count": 2,
   "metadata": {},
   "outputs": [],
   "source": [
    "# Load dataset\n",
    "df = pd.read_csv('Data/COVID_Race.csv')"
   ]
  },
  {
   "cell_type": "code",
   "execution_count": 4,
   "metadata": {
    "scrolled": false
   },
   "outputs": [
    {
     "data": {
      "text/html": [
       "<div>\n",
       "<style scoped>\n",
       "    .dataframe tbody tr th:only-of-type {\n",
       "        vertical-align: middle;\n",
       "    }\n",
       "\n",
       "    .dataframe tbody tr th {\n",
       "        vertical-align: top;\n",
       "    }\n",
       "\n",
       "    .dataframe thead th {\n",
       "        text-align: right;\n",
       "    }\n",
       "</style>\n",
       "<table border=\"1\" class=\"dataframe\">\n",
       "  <thead>\n",
       "    <tr style=\"text-align: right;\">\n",
       "      <th></th>\n",
       "      <th>Data as of</th>\n",
       "      <th>Start Week</th>\n",
       "      <th>End Week</th>\n",
       "      <th>State</th>\n",
       "      <th>Indicator</th>\n",
       "      <th>Non-Hispanic White</th>\n",
       "      <th>Non-Hispanic Black or African American</th>\n",
       "      <th>Non-Hispanic American Indian or Alaska Native</th>\n",
       "      <th>Non-Hispanic Asian</th>\n",
       "      <th>Hispanic or Latino</th>\n",
       "      <th>Other</th>\n",
       "      <th>Footnote</th>\n",
       "    </tr>\n",
       "  </thead>\n",
       "  <tbody>\n",
       "    <tr>\n",
       "      <th>0</th>\n",
       "      <td>10/14/2020</td>\n",
       "      <td>2/1/2020</td>\n",
       "      <td>10/10/2020</td>\n",
       "      <td>United States</td>\n",
       "      <td>Count of COVID-19 deaths</td>\n",
       "      <td>104846.0</td>\n",
       "      <td>41663.0</td>\n",
       "      <td>2039.0</td>\n",
       "      <td>8312.0</td>\n",
       "      <td>43107.0</td>\n",
       "      <td>3076.0</td>\n",
       "      <td>NaN</td>\n",
       "    </tr>\n",
       "    <tr>\n",
       "      <th>1</th>\n",
       "      <td>10/14/2020</td>\n",
       "      <td>2/1/2020</td>\n",
       "      <td>10/10/2020</td>\n",
       "      <td>United States</td>\n",
       "      <td>Distribution of COVID-19 deaths (%)</td>\n",
       "      <td>51.6</td>\n",
       "      <td>20.5</td>\n",
       "      <td>1.0</td>\n",
       "      <td>4.1</td>\n",
       "      <td>21.2</td>\n",
       "      <td>1.5</td>\n",
       "      <td>NaN</td>\n",
       "    </tr>\n",
       "    <tr>\n",
       "      <th>2</th>\n",
       "      <td>10/14/2020</td>\n",
       "      <td>2/1/2020</td>\n",
       "      <td>10/10/2020</td>\n",
       "      <td>United States</td>\n",
       "      <td>Unweighted distribution of population (%)</td>\n",
       "      <td>60.1</td>\n",
       "      <td>12.5</td>\n",
       "      <td>0.7</td>\n",
       "      <td>5.8</td>\n",
       "      <td>18.5</td>\n",
       "      <td>2.4</td>\n",
       "      <td>NaN</td>\n",
       "    </tr>\n",
       "    <tr>\n",
       "      <th>3</th>\n",
       "      <td>10/14/2020</td>\n",
       "      <td>2/1/2020</td>\n",
       "      <td>10/10/2020</td>\n",
       "      <td>United States</td>\n",
       "      <td>Weighted distribution of population (%)</td>\n",
       "      <td>40.1</td>\n",
       "      <td>15.2</td>\n",
       "      <td>0.3</td>\n",
       "      <td>9.9</td>\n",
       "      <td>32.5</td>\n",
       "      <td>2.0</td>\n",
       "      <td>NaN</td>\n",
       "    </tr>\n",
       "    <tr>\n",
       "      <th>4</th>\n",
       "      <td>10/14/2020</td>\n",
       "      <td>2/1/2020</td>\n",
       "      <td>10/10/2020</td>\n",
       "      <td>Alabama</td>\n",
       "      <td>Count of COVID-19 deaths</td>\n",
       "      <td>2097.0</td>\n",
       "      <td>1282.0</td>\n",
       "      <td>NaN</td>\n",
       "      <td>20.0</td>\n",
       "      <td>89.0</td>\n",
       "      <td>NaN</td>\n",
       "      <td>One or more data cells have counts between 1-9...</td>\n",
       "    </tr>\n",
       "  </tbody>\n",
       "</table>\n",
       "</div>"
      ],
      "text/plain": [
       "   Data as of Start Week    End Week          State  \\\n",
       "0  10/14/2020   2/1/2020  10/10/2020  United States   \n",
       "1  10/14/2020   2/1/2020  10/10/2020  United States   \n",
       "2  10/14/2020   2/1/2020  10/10/2020  United States   \n",
       "3  10/14/2020   2/1/2020  10/10/2020  United States   \n",
       "4  10/14/2020   2/1/2020  10/10/2020        Alabama   \n",
       "\n",
       "                                   Indicator  Non-Hispanic White  \\\n",
       "0                   Count of COVID-19 deaths            104846.0   \n",
       "1        Distribution of COVID-19 deaths (%)                51.6   \n",
       "2  Unweighted distribution of population (%)                60.1   \n",
       "3    Weighted distribution of population (%)                40.1   \n",
       "4                   Count of COVID-19 deaths              2097.0   \n",
       "\n",
       "   Non-Hispanic Black or African American  \\\n",
       "0                                 41663.0   \n",
       "1                                    20.5   \n",
       "2                                    12.5   \n",
       "3                                    15.2   \n",
       "4                                  1282.0   \n",
       "\n",
       "   Non-Hispanic American Indian or Alaska Native  Non-Hispanic Asian  \\\n",
       "0                                         2039.0              8312.0   \n",
       "1                                            1.0                 4.1   \n",
       "2                                            0.7                 5.8   \n",
       "3                                            0.3                 9.9   \n",
       "4                                            NaN                20.0   \n",
       "\n",
       "   Hispanic or Latino   Other  \\\n",
       "0             43107.0  3076.0   \n",
       "1                21.2     1.5   \n",
       "2                18.5     2.4   \n",
       "3                32.5     2.0   \n",
       "4                89.0     NaN   \n",
       "\n",
       "                                            Footnote  \n",
       "0                                                NaN  \n",
       "1                                                NaN  \n",
       "2                                                NaN  \n",
       "3                                                NaN  \n",
       "4  One or more data cells have counts between 1-9...  "
      ]
     },
     "execution_count": 4,
     "metadata": {},
     "output_type": "execute_result"
    }
   ],
   "source": [
    "df.head()"
   ]
  },
  {
   "cell_type": "markdown",
   "metadata": {},
   "source": [
    "Here, I'm interested in examining COVID-19 Death rates. Does anyone have any suggestions? Please feel free to type a private chat."
   ]
  },
  {
   "cell_type": "code",
   "execution_count": 7,
   "metadata": {},
   "outputs": [
    {
     "data": {
      "text/plain": [
       "Index(['Data as of', 'Start Week', 'End Week', 'State', 'Indicator',\n",
       "       'Non-Hispanic White', 'Non-Hispanic Black or African American',\n",
       "       'Non-Hispanic American Indian or Alaska Native', 'Non-Hispanic Asian',\n",
       "       'Hispanic or Latino', 'Other', 'Footnote'],\n",
       "      dtype='object')"
      ]
     },
     "execution_count": 7,
     "metadata": {},
     "output_type": "execute_result"
    }
   ],
   "source": [
    "df.columns"
   ]
  },
  {
   "cell_type": "code",
   "execution_count": 9,
   "metadata": {},
   "outputs": [],
   "source": [
    "# Select columns that are important to us\n",
    "df = df[['Non-Hispanic White', 'Non-Hispanic Black or African American',\n",
    "       'Non-Hispanic American Indian or Alaska Native', 'Non-Hispanic Asian',\n",
    "       'Hispanic or Latino', 'Other']]"
   ]
  },
  {
   "cell_type": "code",
   "execution_count": 11,
   "metadata": {},
   "outputs": [],
   "source": [
    "# The COVID-19 death counts are located in the first row\n",
    "deaths = df.loc[0]"
   ]
  },
  {
   "cell_type": "code",
   "execution_count": 12,
   "metadata": {},
   "outputs": [],
   "source": [
    "race = ['Non-Hispanic White', 'Non-Hispanic Black or African American',\n",
    "       'Non-Hispanic American Indian or Alaska Native', 'Non-Hispanic Asian',\n",
    "       'Hispanic or Latino', 'Other']"
   ]
  },
  {
   "cell_type": "markdown",
   "metadata": {},
   "source": [
    "Now that we have the death counts, how can we get death rates? Does anyone have any suggestions? Feel free to send me a private chat."
   ]
  },
  {
   "cell_type": "markdown",
   "metadata": {},
   "source": [
    "U.S. Census:https://www.census.gov/quickfacts/fact/table/US/INC110218\n",
    "\n",
    "Accessed 10/22/2020"
   ]
  },
  {
   "cell_type": "code",
   "execution_count": 13,
   "metadata": {},
   "outputs": [],
   "source": [
    "population = [0.601, 0.134, 0.013, 0.059, 0.185]"
   ]
  },
  {
   "cell_type": "code",
   "execution_count": 15,
   "metadata": {},
   "outputs": [
    {
     "data": {
      "text/plain": [
       "0.008000000000000007"
      ]
     },
     "execution_count": 15,
     "metadata": {},
     "output_type": "execute_result"
    }
   ],
   "source": [
    "# This gives me the other proportion\n",
    "1 - sum(population)"
   ]
  },
  {
   "cell_type": "code",
   "execution_count": 18,
   "metadata": {},
   "outputs": [],
   "source": [
    "population = [0.601, 0.134, 0.013, 0.059, 0.185, 0.008]\n",
    "total = 328239523"
   ]
  },
  {
   "cell_type": "code",
   "execution_count": 20,
   "metadata": {},
   "outputs": [],
   "source": [
    "# I create a new list with population counts of race\n",
    "\n",
    "race_population = []\n",
    "\n",
    "for i in population:\n",
    "    j = i * total\n",
    "    race_population.append(j)"
   ]
  },
  {
   "cell_type": "code",
   "execution_count": 21,
   "metadata": {},
   "outputs": [
    {
     "data": {
      "text/plain": [
       "[197271953.32299998,\n",
       " 43984096.082,\n",
       " 4267113.799,\n",
       " 19366131.857,\n",
       " 60724311.755,\n",
       " 2625916.184]"
      ]
     },
     "execution_count": 21,
     "metadata": {},
     "output_type": "execute_result"
    }
   ],
   "source": [
    "race_population"
   ]
  },
  {
   "cell_type": "code",
   "execution_count": 23,
   "metadata": {},
   "outputs": [],
   "source": [
    "# Now get death rates of COVID-19\n",
    "prop = []\n",
    "for i in range(len(deaths)):\n",
    "    j = deaths[i] / race_population[i]\n",
    "    prop.append(j)"
   ]
  },
  {
   "cell_type": "code",
   "execution_count": 24,
   "metadata": {},
   "outputs": [
    {
     "data": {
      "text/plain": [
       "[0.0005314795044804577,\n",
       " 0.0009472287420054567,\n",
       " 0.00047784054891571924,\n",
       " 0.0004292029023336211,\n",
       " 0.0007098804211058118,\n",
       " 0.0011714006786440524]"
      ]
     },
     "execution_count": 24,
     "metadata": {},
     "output_type": "execute_result"
    }
   ],
   "source": [
    "prop"
   ]
  },
  {
   "cell_type": "code",
   "execution_count": 25,
   "metadata": {},
   "outputs": [],
   "source": [
    "# Multiply this by 100,000 to get number of COVID-19 deaths/100,000 people\n",
    "for i in range(len(prop)):\n",
    "    prop[i] = 100000 * prop[i]"
   ]
  },
  {
   "cell_type": "code",
   "execution_count": 26,
   "metadata": {},
   "outputs": [
    {
     "data": {
      "text/plain": [
       "[53.14795044804577,\n",
       " 94.72287420054568,\n",
       " 47.78405489157193,\n",
       " 42.92029023336211,\n",
       " 70.98804211058118,\n",
       " 117.14006786440524]"
      ]
     },
     "execution_count": 26,
     "metadata": {},
     "output_type": "execute_result"
    }
   ],
   "source": [
    "prop"
   ]
  },
  {
   "cell_type": "code",
   "execution_count": 27,
   "metadata": {},
   "outputs": [
    {
     "data": {
      "text/plain": [
       "['Non-Hispanic White',\n",
       " 'Non-Hispanic Black or African American',\n",
       " 'Non-Hispanic American Indian or Alaska Native',\n",
       " 'Non-Hispanic Asian',\n",
       " 'Hispanic or Latino',\n",
       " 'Other']"
      ]
     },
     "execution_count": 27,
     "metadata": {},
     "output_type": "execute_result"
    }
   ],
   "source": [
    "race"
   ]
  },
  {
   "cell_type": "code",
   "execution_count": 28,
   "metadata": {},
   "outputs": [
    {
     "data": {
      "image/png": "[encoded data removed]",
      "text/plain": [
       "<Figure size 720x432 with 1 Axes>"
      ]
     },
     "metadata": {
      "needs_background": "light"
     },
     "output_type": "display_data"
    }
   ],
   "source": [
    "x_values = race # This specifies the label\n",
    "y_values = prop # This specifies the value\n",
    "\n",
    "import matplotlib.pyplot as plt\n",
    "\n",
    "fig, axs = plt.subplots(figsize=(10,6)) # Change the figure size here       \n",
    "bargraph = axs.bar(x_values, y_values, color=('blue'), alpha=0.4) # You specify the color here     \n",
    "axs.set_title(\"COVID-19 Deaths Broken Down by Race\", fontsize=20, fontweight=\"bold\")   \n",
    "axs.set_xlabel(\"Race\", fontsize=14)\n",
    "axs.set_ylabel(\"COVID-19 Deaths\", fontsize=14)\n",
    "axs.tick_params(labelsize=14)   \n",
    "\n",
    "axs.spines['right'].set_visible(False)\n",
    "axs.spines['top'].set_visible(False)\n",
    "\n",
    "for i in range(len(x_values)):\n",
    "    plt.text(i-0.3, y_values[i], str(y_values[i]), color='b', size=16)\n",
    "\n",
    "plt.grid(axis='y')\n",
    "\n",
    "plt.show()"
   ]
  },
  {
   "cell_type": "code",
   "execution_count": 29,
   "metadata": {},
   "outputs": [
    {
     "data": {
      "text/plain": [
       "['Non-Hispanic White',\n",
       " 'Non-Hispanic Black or African American',\n",
       " 'Non-Hispanic American Indian or Alaska Native',\n",
       " 'Non-Hispanic Asian',\n",
       " 'Hispanic or Latino',\n",
       " 'Other']"
      ]
     },
     "execution_count": 29,
     "metadata": {},
     "output_type": "execute_result"
    }
   ],
   "source": [
    "race"
   ]
  },
  {
   "cell_type": "code",
   "execution_count": 34,
   "metadata": {},
   "outputs": [],
   "source": [
    "race1 = ['White', 'Black', 'AIAN', 'Asian', 'Hispanic', 'Other']"
   ]
  },
  {
   "cell_type": "code",
   "execution_count": 35,
   "metadata": {},
   "outputs": [
    {
     "data": {
      "text/plain": [
       "[53.14795044804577,\n",
       " 94.72287420054568,\n",
       " 47.78405489157193,\n",
       " 42.92029023336211,\n",
       " 70.98804211058118,\n",
       " 117.14006786440524]"
      ]
     },
     "execution_count": 35,
     "metadata": {},
     "output_type": "execute_result"
    }
   ],
   "source": [
    "prop"
   ]
  },
  {
   "cell_type": "code",
   "execution_count": 36,
   "metadata": {},
   "outputs": [],
   "source": [
    "prop1 = [53.1, 94.7, 47.8, 42.9, 71.0, 117.1]"
   ]
  },
  {
   "cell_type": "code",
   "execution_count": 56,
   "metadata": {},
   "outputs": [
    {
     "data": {
      "image/png": "[encoded data removed]",
      "text/plain": [
       "<Figure size 720x432 with 1 Axes>"
      ]
     },
     "metadata": {
      "needs_background": "light"
     },
     "output_type": "display_data"
    }
   ],
   "source": [
    "x_values = race1 # This specifies the label\n",
    "y_values = prop1 # This specifies the value\n",
    "\n",
    "import matplotlib.pyplot as plt\n",
    "\n",
    "fig, axs = plt.subplots(figsize=(10,6)) # Change the figure size here       \n",
    "bargraph = axs.bar(x_values, y_values, color=('blue'), alpha=0.4) # You specify the color here     \n",
    "axs.set_title(\"Number of COVID-19 Deaths per 100,000 Americans\", fontsize=20, fontweight=\"bold\", pad=20)   \n",
    "axs.set_xlabel(\"Race\", fontsize=14)\n",
    "axs.set_ylabel(\"Number of Deaths per 100,000\", fontsize=14)\n",
    "axs.tick_params(labelsize=14)   \n",
    "\n",
    "axs.spines['right'].set_visible(False)\n",
    "axs.spines['top'].set_visible(False)\n",
    "\n",
    "for i in range(len(x_values)):\n",
    "    plt.text(i-0.3, y_values[i], str(y_values[i]), color='b', size=16)\n",
    "\n",
    "plt.grid(axis='y')\n",
    "txt1 = 'Source: Centers for Disease Control and Prevention, Census (Accessed 10/22/2020)'\n",
    "plt.text(0, -30, txt1, ha='left', fontsize=11)\n",
    "txt2 = '* White, Black, AIAN, Asian represents Non-Hispanics'\n",
    "plt.text(0, -23, txt2, ha='left', fontsize=14)\n",
    "\n",
    "plt.show()"
   ]
  },
  {
   "cell_type": "markdown",
   "metadata": {},
   "source": [
    "Next suggestions?"
   ]
  },
  {
   "cell_type": "code",
   "execution_count": 57,
   "metadata": {},
   "outputs": [
    {
     "data": {
      "text/plain": [
       "[53.14795044804577,\n",
       " 94.72287420054568,\n",
       " 47.78405489157193,\n",
       " 42.92029023336211,\n",
       " 70.98804211058118,\n",
       " 117.14006786440524]"
      ]
     },
     "execution_count": 57,
     "metadata": {},
     "output_type": "execute_result"
    }
   ],
   "source": [
    "prop"
   ]
  },
  {
   "cell_type": "code",
   "execution_count": 58,
   "metadata": {},
   "outputs": [],
   "source": [
    "white = prop[0]\n",
    "relative = []\n",
    "\n",
    "for i in range(len(prop)):\n",
    "    j = prop[i] / white\n",
    "    relative.append(j)"
   ]
  },
  {
   "cell_type": "code",
   "execution_count": 59,
   "metadata": {},
   "outputs": [
    {
     "data": {
      "text/plain": [
       "[1.0,\n",
       " 1.782248861941366,\n",
       " 0.8990761541836451,\n",
       " 0.8075624717705416,\n",
       " 1.3356684785046378,\n",
       " 2.2040373500181216]"
      ]
     },
     "execution_count": 59,
     "metadata": {},
     "output_type": "execute_result"
    }
   ],
   "source": [
    "relative"
   ]
  },
  {
   "cell_type": "code",
   "execution_count": 107,
   "metadata": {},
   "outputs": [
    {
     "data": {
      "image/png": "[encoded data removed]",
      "text/plain": [
       "<Figure size 720x432 with 1 Axes>"
      ]
     },
     "metadata": {
      "needs_background": "light"
     },
     "output_type": "display_data"
    }
   ],
   "source": [
    "y_values = relative\n",
    "x_values = race1\n",
    "\n",
    "import matplotlib.pyplot as plt\n",
    "\n",
    "fig, axs = plt.subplots(figsize=(10,6)) # Change the figure size here       \n",
    "axs.barh(x_values, y_values, color=('khaki', 'steelblue','steelblue','steelblue',\n",
    "                                    'steelblue','steelblue')) # You specify the color here  \n",
    "# This can flip the order\n",
    "axs.invert_yaxis()\n",
    "axs.set_title(\"Relative COVID-19 Deaths\", fontsize=20, fontweight=\"bold\")   \n",
    "axs.set_ylabel(\"Race\", fontsize=14)\n",
    "axs.set_xlabel(\"Number of COVID-19 Cases\", fontsize=14)\n",
    "axs.tick_params(labelsize=14) \n",
    "\n",
    "# This removes the x-axis\n",
    "axs.get_xaxis().set_visible(False)\n",
    "\n",
    "axs.spines['right'].set_visible(False)\n",
    "axs.spines['top'].set_visible(False)\n",
    "axs.spines['left'].set_visible(False)\n",
    "axs.spines['bottom'].set_visible(False)\n",
    "\n",
    "\n",
    "plt.text(0.8,0,'1.0',color='black',va=\"center\",size=15)\n",
    "plt.text(1.6,1,'1.78',color='white',va=\"center\",size=15)\n",
    "plt.text(0.7,2,'0.90',color='white',va=\"center\",size=15)\n",
    "plt.text(0.6,3,'0.81',color='white',va=\"center\",size=15)\n",
    "plt.text(1.1,4,'1.34',color='white',va=\"center\",size=15)\n",
    "plt.text(2,5,'2.20',color='white',va=\"center\",size=15)\n",
    "\n",
    "txt1 = 'Source: Centers for Disease Control and Prevention, Census (Accessed 10/22/2020)'\n",
    "plt.text(0, 6.5, txt1, ha='left', fontsize=11)\n",
    "txt2 = '* White, Black, AIAN, Asian represents Non-Hispanics'\n",
    "plt.text(0, 6, txt2, ha='left', fontsize=14)\n",
    "\n",
    "plt.show() "
   ]
  },
  {
   "cell_type": "code",
   "execution_count": 96,
   "metadata": {},
   "outputs": [
    {
     "data": {
      "text/plain": [
       "[1.0,\n",
       " 1.782248861941366,\n",
       " 0.8990761541836451,\n",
       " 0.8075624717705416,\n",
       " 1.3356684785046378,\n",
       " 2.2040373500181216]"
      ]
     },
     "execution_count": 96,
     "metadata": {},
     "output_type": "execute_result"
    }
   ],
   "source": [
    "relative"
   ]
  }
 ],
 "metadata": {
  "kernelspec": {
   "display_name": "Python 3",
   "language": "python",
   "name": "python3"
  },
  "language_info": {
   "codemirror_mode": {
    "name": "ipython",
    "version": 3
   },
   "file_extension": ".py",
   "mimetype": "text/x-python",
   "name": "python",
   "nbconvert_exporter": "python",
   "pygments_lexer": "ipython3",
   "version": "3.6.10"
  }
 },
 "nbformat": 4,
 "nbformat_minor": 4
}

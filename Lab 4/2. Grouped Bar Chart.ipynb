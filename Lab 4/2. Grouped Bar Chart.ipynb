{
 "cells": [
  {
   "cell_type": "markdown",
   "metadata": {},
   "source": [
    "# 2. Grouped Bar Chart"
   ]
  },
  {
   "cell_type": "markdown",
   "metadata": {},
   "source": [
    "We will be creating a grouped bar chart of the BMI categories.\n",
    "\n",
    "At first, load the dataset that was produced in the previous notebook."
   ]
  },
  {
   "cell_type": "code",
   "execution_count": 1,
   "metadata": {},
   "outputs": [],
   "source": [
    "import pandas as pd\n",
    "table = pd.read_csv('Data/BMI_table.csv')"
   ]
  },
  {
   "cell_type": "code",
   "execution_count": 2,
   "metadata": {},
   "outputs": [
    {
     "data": {
      "text/html": [
       "<div>\n",
       "<style scoped>\n",
       "    .dataframe tbody tr th:only-of-type {\n",
       "        vertical-align: middle;\n",
       "    }\n",
       "\n",
       "    .dataframe tbody tr th {\n",
       "        vertical-align: top;\n",
       "    }\n",
       "\n",
       "    .dataframe thead th {\n",
       "        text-align: right;\n",
       "    }\n",
       "</style>\n",
       "<table border=\"1\" class=\"dataframe\">\n",
       "  <thead>\n",
       "    <tr style=\"text-align: right;\">\n",
       "      <th></th>\n",
       "      <th>Obesity</th>\n",
       "      <th>Asian</th>\n",
       "      <th>Black</th>\n",
       "      <th>Hispanic</th>\n",
       "      <th>Mexican</th>\n",
       "      <th>Other</th>\n",
       "      <th>White</th>\n",
       "      <th>Asian_per</th>\n",
       "      <th>Black_per</th>\n",
       "      <th>Hispanic_per</th>\n",
       "      <th>Mexican_per</th>\n",
       "      <th>Other_per</th>\n",
       "      <th>White_per</th>\n",
       "    </tr>\n",
       "  </thead>\n",
       "  <tbody>\n",
       "    <tr>\n",
       "      <th>0</th>\n",
       "      <td>Underweight</td>\n",
       "      <td>46</td>\n",
       "      <td>95</td>\n",
       "      <td>56</td>\n",
       "      <td>80</td>\n",
       "      <td>30</td>\n",
       "      <td>364</td>\n",
       "      <td>0.166065</td>\n",
       "      <td>0.167254</td>\n",
       "      <td>0.164706</td>\n",
       "      <td>0.176991</td>\n",
       "      <td>0.200000</td>\n",
       "      <td>0.119462</td>\n",
       "    </tr>\n",
       "    <tr>\n",
       "      <th>1</th>\n",
       "      <td>Normal</td>\n",
       "      <td>130</td>\n",
       "      <td>135</td>\n",
       "      <td>86</td>\n",
       "      <td>122</td>\n",
       "      <td>46</td>\n",
       "      <td>974</td>\n",
       "      <td>0.469314</td>\n",
       "      <td>0.237676</td>\n",
       "      <td>0.252941</td>\n",
       "      <td>0.269912</td>\n",
       "      <td>0.306667</td>\n",
       "      <td>0.319659</td>\n",
       "    </tr>\n",
       "    <tr>\n",
       "      <th>2</th>\n",
       "      <td>Overweight</td>\n",
       "      <td>72</td>\n",
       "      <td>131</td>\n",
       "      <td>105</td>\n",
       "      <td>119</td>\n",
       "      <td>34</td>\n",
       "      <td>858</td>\n",
       "      <td>0.259928</td>\n",
       "      <td>0.230634</td>\n",
       "      <td>0.308824</td>\n",
       "      <td>0.263274</td>\n",
       "      <td>0.226667</td>\n",
       "      <td>0.281588</td>\n",
       "    </tr>\n",
       "    <tr>\n",
       "      <th>3</th>\n",
       "      <td>Obesity</td>\n",
       "      <td>25</td>\n",
       "      <td>162</td>\n",
       "      <td>87</td>\n",
       "      <td>115</td>\n",
       "      <td>27</td>\n",
       "      <td>711</td>\n",
       "      <td>0.090253</td>\n",
       "      <td>0.285211</td>\n",
       "      <td>0.255882</td>\n",
       "      <td>0.254425</td>\n",
       "      <td>0.180000</td>\n",
       "      <td>0.233344</td>\n",
       "    </tr>\n",
       "    <tr>\n",
       "      <th>4</th>\n",
       "      <td>Severe Obesity</td>\n",
       "      <td>4</td>\n",
       "      <td>45</td>\n",
       "      <td>6</td>\n",
       "      <td>16</td>\n",
       "      <td>13</td>\n",
       "      <td>140</td>\n",
       "      <td>0.014440</td>\n",
       "      <td>0.079225</td>\n",
       "      <td>0.017647</td>\n",
       "      <td>0.035398</td>\n",
       "      <td>0.086667</td>\n",
       "      <td>0.045947</td>\n",
       "    </tr>\n",
       "  </tbody>\n",
       "</table>\n",
       "</div>"
      ],
      "text/plain": [
       "          Obesity  Asian  Black  Hispanic  Mexican  Other  White  Asian_per  \\\n",
       "0     Underweight     46     95        56       80     30    364   0.166065   \n",
       "1          Normal    130    135        86      122     46    974   0.469314   \n",
       "2      Overweight     72    131       105      119     34    858   0.259928   \n",
       "3         Obesity     25    162        87      115     27    711   0.090253   \n",
       "4  Severe Obesity      4     45         6       16     13    140   0.014440   \n",
       "\n",
       "   Black_per  Hispanic_per  Mexican_per  Other_per  White_per  \n",
       "0   0.167254      0.164706     0.176991   0.200000   0.119462  \n",
       "1   0.237676      0.252941     0.269912   0.306667   0.319659  \n",
       "2   0.230634      0.308824     0.263274   0.226667   0.281588  \n",
       "3   0.285211      0.255882     0.254425   0.180000   0.233344  \n",
       "4   0.079225      0.017647     0.035398   0.086667   0.045947  "
      ]
     },
     "execution_count": 2,
     "metadata": {},
     "output_type": "execute_result"
    }
   ],
   "source": [
    "table"
   ]
  },
  {
   "cell_type": "markdown",
   "metadata": {},
   "source": [
    "We want to visualize the percentage data of BMI categories broken down by race."
   ]
  },
  {
   "cell_type": "markdown",
   "metadata": {},
   "source": [
    "The following code can be used to created a grouped bar chart:"
   ]
  },
  {
   "cell_type": "markdown",
   "metadata": {},
   "source": [
    "```Python\n",
    "import matplotlib\n",
    "import matplotlib.pyplot as plt\n",
    "import numpy as np\n",
    "\n",
    "\n",
    "labels = [] # Specify the x-axis labels here\n",
    "y_value1 = [] # List of y-values from 1st category\n",
    "y_value2 = [] # List of y-values from 2nd category\n",
    "\n",
    "x = np.arange(len(labels))\n",
    "width = 0.35  # the width of the bars\n",
    "\n",
    "fig, ax = plt.subplots(figsize=(10,6))\n",
    "ax.bar(x - width/2, y_value1, width, label='Label1', color='orange')\n",
    "ax.bar(x + width/2, y_value2, width, label='Label2', color='blue')\n",
    "\n",
    "\n",
    "ax.set_ylabel('y axis label', fontsize=14)\n",
    "ax.set_xlabel('x axis label', fontsize=14)\n",
    "ax.set_title('Title',fontsize=20, fontweight='bold')\n",
    "ax.set_xticks(x)\n",
    "ax.set_xticklabels(labels, fontsize=12)\n",
    "ax.legend()\n",
    "\n",
    "\n",
    "plt.show()\n",
    "```"
   ]
  },
  {
   "cell_type": "code",
   "execution_count": 3,
   "metadata": {},
   "outputs": [
    {
     "data": {
      "text/plain": [
       "0    0.119462\n",
       "1    0.319659\n",
       "2    0.281588\n",
       "3    0.233344\n",
       "4    0.045947\n",
       "Name: White_per, dtype: float64"
      ]
     },
     "execution_count": 3,
     "metadata": {},
     "output_type": "execute_result"
    }
   ],
   "source": [
    "table['White_per']"
   ]
  },
  {
   "cell_type": "markdown",
   "metadata": {},
   "source": [
    "In this code, you only have to change `label`, `y_value1` and `y_value2` to create the plot."
   ]
  },
  {
   "cell_type": "code",
   "execution_count": 4,
   "metadata": {},
   "outputs": [
    {
     "data": {
      "image/png": "[encoded data removed]",
      "text/plain": [
       "<Figure size 720x432 with 1 Axes>"
      ]
     },
     "metadata": {
      "needs_background": "light"
     },
     "output_type": "display_data"
    }
   ],
   "source": [
    "import matplotlib\n",
    "import matplotlib.pyplot as plt\n",
    "import numpy as np\n",
    "\n",
    "\n",
    "labels = table['Obesity']\n",
    "y_value1 = table['White_per']\n",
    "y_value2 = table['Black_per']\n",
    "\n",
    "x = np.arange(len(labels))\n",
    "width = 0.35  # the width of the bars\n",
    "\n",
    "fig, ax = plt.subplots(figsize=(10,6))\n",
    "ax.bar(x - width/2, y_value1, width, label='White', color='orange')\n",
    "ax.bar(x + width/2, y_value2, width, label='Black', color='tomato')\n",
    "\n",
    "\n",
    "ax.set_ylabel('Proportion', fontsize=14)\n",
    "ax.set_xlabel('', fontsize=14)\n",
    "ax.set_title('Obesity level broken down by race',fontsize=20, fontweight='bold')\n",
    "ax.set_xticks(x)\n",
    "ax.set_xticklabels(labels, fontsize=12)\n",
    "ax.legend()\n",
    "\n",
    "\n",
    "plt.show()"
   ]
  },
  {
   "cell_type": "markdown",
   "metadata": {},
   "source": [
    "How can I add more items? There are more than 2 race groups.\n",
    "\n",
    "This is how you can add more items to a bar graph:"
   ]
  },
  {
   "cell_type": "markdown",
   "metadata": {},
   "source": [
    "```Python\n",
    "import matplotlib\n",
    "import matplotlib.pyplot as plt\n",
    "import numpy as np\n",
    "\n",
    "\n",
    "labels = [] # Specify the x-axis labels here\n",
    "y_value1 = [] # List of y-values from 1st category\n",
    "y_value2 = [] # List of y-values from 2nd category\n",
    "y_value3 = [] # List of y-values from 3rd category\n",
    "y_value4 = [] # List of y-values from 4th category\n",
    "\n",
    "x = np.arange(len(labels))\n",
    "width = 0.35  # the width of the bars\n",
    "\n",
    "fig, ax = plt.subplots(figsize=(10,6))\n",
    "ax.bar(x, y_value1, width, label='Label1', color='b')\n",
    "ax.bar(x + width, y_value2, width, label='Label2', color='g')\n",
    "ax.bar(x + 2 * width, y_value3, width, label='Label3', color='b') # Notice that I added 2*width\n",
    "ax.bar(x + 3 * width, y_value4, width, label='Label4', color='r') # I added 3*width\n",
    "\n",
    "ax.set_ylabel('y axis label', fontsize=14)\n",
    "ax.set_xlabel('x axis label', fontsize=14)\n",
    "ax.set_title('Title',fontsize=20, fontweight='bold')\n",
    "ax.set_xticks(x + (4*width)/2) # Only change the number '4' to the number of values that you have\n",
    "ax.set_xticklabels(labels, fontsize=12)\n",
    "ax.legend()\n",
    "\n",
    "\n",
    "plt.show()\n",
    "```"
   ]
  },
  {
   "cell_type": "markdown",
   "metadata": {},
   "source": [
    "Here, change `label`, `y_value`, add/delete `ax.bar` depending on how many elements that you would like to add.\n",
    "\n",
    "Remember that you have to manipulate the number before `width`"
   ]
  },
  {
   "cell_type": "code",
   "execution_count": 5,
   "metadata": {},
   "outputs": [
    {
     "data": {
      "text/html": [
       "<div>\n",
       "<style scoped>\n",
       "    .dataframe tbody tr th:only-of-type {\n",
       "        vertical-align: middle;\n",
       "    }\n",
       "\n",
       "    .dataframe tbody tr th {\n",
       "        vertical-align: top;\n",
       "    }\n",
       "\n",
       "    .dataframe thead th {\n",
       "        text-align: right;\n",
       "    }\n",
       "</style>\n",
       "<table border=\"1\" class=\"dataframe\">\n",
       "  <thead>\n",
       "    <tr style=\"text-align: right;\">\n",
       "      <th></th>\n",
       "      <th>Obesity</th>\n",
       "      <th>Asian</th>\n",
       "      <th>Black</th>\n",
       "      <th>Hispanic</th>\n",
       "      <th>Mexican</th>\n",
       "      <th>Other</th>\n",
       "      <th>White</th>\n",
       "      <th>Asian_per</th>\n",
       "      <th>Black_per</th>\n",
       "      <th>Hispanic_per</th>\n",
       "      <th>Mexican_per</th>\n",
       "      <th>Other_per</th>\n",
       "      <th>White_per</th>\n",
       "    </tr>\n",
       "  </thead>\n",
       "  <tbody>\n",
       "    <tr>\n",
       "      <th>0</th>\n",
       "      <td>Underweight</td>\n",
       "      <td>46</td>\n",
       "      <td>95</td>\n",
       "      <td>56</td>\n",
       "      <td>80</td>\n",
       "      <td>30</td>\n",
       "      <td>364</td>\n",
       "      <td>0.166065</td>\n",
       "      <td>0.167254</td>\n",
       "      <td>0.164706</td>\n",
       "      <td>0.176991</td>\n",
       "      <td>0.200000</td>\n",
       "      <td>0.119462</td>\n",
       "    </tr>\n",
       "    <tr>\n",
       "      <th>1</th>\n",
       "      <td>Normal</td>\n",
       "      <td>130</td>\n",
       "      <td>135</td>\n",
       "      <td>86</td>\n",
       "      <td>122</td>\n",
       "      <td>46</td>\n",
       "      <td>974</td>\n",
       "      <td>0.469314</td>\n",
       "      <td>0.237676</td>\n",
       "      <td>0.252941</td>\n",
       "      <td>0.269912</td>\n",
       "      <td>0.306667</td>\n",
       "      <td>0.319659</td>\n",
       "    </tr>\n",
       "    <tr>\n",
       "      <th>2</th>\n",
       "      <td>Overweight</td>\n",
       "      <td>72</td>\n",
       "      <td>131</td>\n",
       "      <td>105</td>\n",
       "      <td>119</td>\n",
       "      <td>34</td>\n",
       "      <td>858</td>\n",
       "      <td>0.259928</td>\n",
       "      <td>0.230634</td>\n",
       "      <td>0.308824</td>\n",
       "      <td>0.263274</td>\n",
       "      <td>0.226667</td>\n",
       "      <td>0.281588</td>\n",
       "    </tr>\n",
       "    <tr>\n",
       "      <th>3</th>\n",
       "      <td>Obesity</td>\n",
       "      <td>25</td>\n",
       "      <td>162</td>\n",
       "      <td>87</td>\n",
       "      <td>115</td>\n",
       "      <td>27</td>\n",
       "      <td>711</td>\n",
       "      <td>0.090253</td>\n",
       "      <td>0.285211</td>\n",
       "      <td>0.255882</td>\n",
       "      <td>0.254425</td>\n",
       "      <td>0.180000</td>\n",
       "      <td>0.233344</td>\n",
       "    </tr>\n",
       "    <tr>\n",
       "      <th>4</th>\n",
       "      <td>Severe Obesity</td>\n",
       "      <td>4</td>\n",
       "      <td>45</td>\n",
       "      <td>6</td>\n",
       "      <td>16</td>\n",
       "      <td>13</td>\n",
       "      <td>140</td>\n",
       "      <td>0.014440</td>\n",
       "      <td>0.079225</td>\n",
       "      <td>0.017647</td>\n",
       "      <td>0.035398</td>\n",
       "      <td>0.086667</td>\n",
       "      <td>0.045947</td>\n",
       "    </tr>\n",
       "  </tbody>\n",
       "</table>\n",
       "</div>"
      ],
      "text/plain": [
       "          Obesity  Asian  Black  Hispanic  Mexican  Other  White  Asian_per  \\\n",
       "0     Underweight     46     95        56       80     30    364   0.166065   \n",
       "1          Normal    130    135        86      122     46    974   0.469314   \n",
       "2      Overweight     72    131       105      119     34    858   0.259928   \n",
       "3         Obesity     25    162        87      115     27    711   0.090253   \n",
       "4  Severe Obesity      4     45         6       16     13    140   0.014440   \n",
       "\n",
       "   Black_per  Hispanic_per  Mexican_per  Other_per  White_per  \n",
       "0   0.167254      0.164706     0.176991   0.200000   0.119462  \n",
       "1   0.237676      0.252941     0.269912   0.306667   0.319659  \n",
       "2   0.230634      0.308824     0.263274   0.226667   0.281588  \n",
       "3   0.285211      0.255882     0.254425   0.180000   0.233344  \n",
       "4   0.079225      0.017647     0.035398   0.086667   0.045947  "
      ]
     },
     "execution_count": 5,
     "metadata": {},
     "output_type": "execute_result"
    }
   ],
   "source": [
    "table"
   ]
  },
  {
   "cell_type": "code",
   "execution_count": 6,
   "metadata": {},
   "outputs": [
    {
     "data": {
      "image/png": "[encoded data removed]",
      "text/plain": [
       "<Figure size 1440x864 with 1 Axes>"
      ]
     },
     "metadata": {
      "needs_background": "light"
     },
     "output_type": "display_data"
    }
   ],
   "source": [
    "import matplotlib\n",
    "import matplotlib.pyplot as plt\n",
    "import numpy as np\n",
    "\n",
    "\n",
    "labels = table['Obesity']\n",
    "y_value1 = table['Asian_per']\n",
    "y_value2 = table['Black_per']\n",
    "y_value3 = table['Hispanic_per']\n",
    "y_value4 = table['Mexican_per']\n",
    "y_value5 = table['White_per']\n",
    "y_value6 = table['Other_per']\n",
    "\n",
    "x = np.arange(len(labels))\n",
    "width = 0.1  # the width of the bars\n",
    "\n",
    "fig, ax = plt.subplots(figsize=(20,12))\n",
    "ax.bar(x, y_value1, width, label='Asian', color='b')\n",
    "ax.bar(x + width, y_value2, width, label='Black', color='g')\n",
    "ax.bar(x + 2 * width, y_value3, width, label='Hispanic', color='m') # Notice that I added 2*width\n",
    "ax.bar(x + 3 * width, y_value4, width, label='Mexican', color='r') # I added 3*width\n",
    "ax.bar(x + 4 * width, y_value5, width, label='White', color='c')\n",
    "ax.bar(x + 5 * width, y_value6, width, label='Other', )\n",
    "\n",
    "ax.set_ylabel('Proportion', fontsize=14)\n",
    "ax.set_xlabel('', fontsize=14)\n",
    "ax.set_title('Obesity categories broken down by race',fontsize=20, fontweight='bold')\n",
    "ax.set_xticks(x + (6*width)/2) # Only change the number '4' to the number of values that you have\n",
    "ax.set_xticklabels(labels, fontsize=12)\n",
    "ax.legend()\n",
    "\n",
    "\n",
    "plt.show()"
   ]
  },
  {
   "cell_type": "markdown",
   "metadata": {},
   "source": [
    "I changed figure size to be larger and bar widths to be smaller. However, this is extremely difficult to see. It would be a good idea to reduce the groups (I personally think 3-4 groups is max for grouped bar chart), or use stacked bar chart in the next lab."
   ]
  }
 ],
 "metadata": {
  "kernelspec": {
   "display_name": "Python 3",
   "language": "python",
   "name": "python3"
  },
  "language_info": {
   "codemirror_mode": {
    "name": "ipython",
    "version": 3
   },
   "file_extension": ".py",
   "mimetype": "text/x-python",
   "name": "python",
   "nbconvert_exporter": "python",
   "pygments_lexer": "ipython3",
   "version": "3.6.12"
  }
 },
 "nbformat": 4,
 "nbformat_minor": 4
}

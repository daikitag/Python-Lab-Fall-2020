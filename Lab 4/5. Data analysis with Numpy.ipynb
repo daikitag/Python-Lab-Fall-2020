{
 "cells": [
  {
   "cell_type": "markdown",
   "metadata": {},
   "source": [
    "# 5. Data Analysis\n",
    "\n",
    "We worked with summary statistics in the previous section. We will be using Numpy to compute these summary statistics for the NHANES dataset."
   ]
  },
  {
   "cell_type": "markdown",
   "metadata": {},
   "source": [
    "## Load dataset\n",
    "\n",
    "By now, you should be comfortable with what this code is doing."
   ]
  },
  {
   "cell_type": "code",
   "execution_count": 2,
   "metadata": {},
   "outputs": [],
   "source": [
    "import pandas as pd\n",
    "df = pd.read_csv('Data/NHANES.csv')"
   ]
  },
  {
   "cell_type": "code",
   "execution_count": 4,
   "metadata": {},
   "outputs": [
    {
     "data": {
      "text/html": [
       "<div>\n",
       "<style scoped>\n",
       "    .dataframe tbody tr th:only-of-type {\n",
       "        vertical-align: middle;\n",
       "    }\n",
       "\n",
       "    .dataframe tbody tr th {\n",
       "        vertical-align: top;\n",
       "    }\n",
       "\n",
       "    .dataframe thead th {\n",
       "        text-align: right;\n",
       "    }\n",
       "</style>\n",
       "<table border=\"1\" class=\"dataframe\">\n",
       "  <thead>\n",
       "    <tr style=\"text-align: right;\">\n",
       "      <th></th>\n",
       "      <th>ID</th>\n",
       "      <th>SurveyYr</th>\n",
       "      <th>Gender</th>\n",
       "      <th>Age</th>\n",
       "      <th>AgeDecade</th>\n",
       "      <th>AgeMonths</th>\n",
       "      <th>Race1</th>\n",
       "      <th>Race3</th>\n",
       "      <th>Education</th>\n",
       "      <th>MaritalStatus</th>\n",
       "      <th>...</th>\n",
       "      <th>RegularMarij</th>\n",
       "      <th>AgeRegMarij</th>\n",
       "      <th>HardDrugs</th>\n",
       "      <th>SexEver</th>\n",
       "      <th>SexAge</th>\n",
       "      <th>SexNumPartnLife</th>\n",
       "      <th>SexNumPartYear</th>\n",
       "      <th>SameSex</th>\n",
       "      <th>SexOrientation</th>\n",
       "      <th>PregntNow</th>\n",
       "    </tr>\n",
       "  </thead>\n",
       "  <tbody>\n",
       "    <tr>\n",
       "      <th>0</th>\n",
       "      <td>51624</td>\n",
       "      <td>2009_10</td>\n",
       "      <td>male</td>\n",
       "      <td>34</td>\n",
       "      <td>30-39</td>\n",
       "      <td>409.0</td>\n",
       "      <td>White</td>\n",
       "      <td>NaN</td>\n",
       "      <td>High School</td>\n",
       "      <td>Married</td>\n",
       "      <td>...</td>\n",
       "      <td>No</td>\n",
       "      <td>NaN</td>\n",
       "      <td>Yes</td>\n",
       "      <td>Yes</td>\n",
       "      <td>16.0</td>\n",
       "      <td>8.0</td>\n",
       "      <td>1.0</td>\n",
       "      <td>No</td>\n",
       "      <td>Heterosexual</td>\n",
       "      <td>NaN</td>\n",
       "    </tr>\n",
       "    <tr>\n",
       "      <th>1</th>\n",
       "      <td>51624</td>\n",
       "      <td>2009_10</td>\n",
       "      <td>male</td>\n",
       "      <td>34</td>\n",
       "      <td>30-39</td>\n",
       "      <td>409.0</td>\n",
       "      <td>White</td>\n",
       "      <td>NaN</td>\n",
       "      <td>High School</td>\n",
       "      <td>Married</td>\n",
       "      <td>...</td>\n",
       "      <td>No</td>\n",
       "      <td>NaN</td>\n",
       "      <td>Yes</td>\n",
       "      <td>Yes</td>\n",
       "      <td>16.0</td>\n",
       "      <td>8.0</td>\n",
       "      <td>1.0</td>\n",
       "      <td>No</td>\n",
       "      <td>Heterosexual</td>\n",
       "      <td>NaN</td>\n",
       "    </tr>\n",
       "    <tr>\n",
       "      <th>2</th>\n",
       "      <td>51624</td>\n",
       "      <td>2009_10</td>\n",
       "      <td>male</td>\n",
       "      <td>34</td>\n",
       "      <td>30-39</td>\n",
       "      <td>409.0</td>\n",
       "      <td>White</td>\n",
       "      <td>NaN</td>\n",
       "      <td>High School</td>\n",
       "      <td>Married</td>\n",
       "      <td>...</td>\n",
       "      <td>No</td>\n",
       "      <td>NaN</td>\n",
       "      <td>Yes</td>\n",
       "      <td>Yes</td>\n",
       "      <td>16.0</td>\n",
       "      <td>8.0</td>\n",
       "      <td>1.0</td>\n",
       "      <td>No</td>\n",
       "      <td>Heterosexual</td>\n",
       "      <td>NaN</td>\n",
       "    </tr>\n",
       "    <tr>\n",
       "      <th>3</th>\n",
       "      <td>51625</td>\n",
       "      <td>2009_10</td>\n",
       "      <td>male</td>\n",
       "      <td>4</td>\n",
       "      <td>0-9</td>\n",
       "      <td>49.0</td>\n",
       "      <td>Other</td>\n",
       "      <td>NaN</td>\n",
       "      <td>NaN</td>\n",
       "      <td>NaN</td>\n",
       "      <td>...</td>\n",
       "      <td>NaN</td>\n",
       "      <td>NaN</td>\n",
       "      <td>NaN</td>\n",
       "      <td>NaN</td>\n",
       "      <td>NaN</td>\n",
       "      <td>NaN</td>\n",
       "      <td>NaN</td>\n",
       "      <td>NaN</td>\n",
       "      <td>NaN</td>\n",
       "      <td>NaN</td>\n",
       "    </tr>\n",
       "    <tr>\n",
       "      <th>4</th>\n",
       "      <td>51630</td>\n",
       "      <td>2009_10</td>\n",
       "      <td>female</td>\n",
       "      <td>49</td>\n",
       "      <td>40-49</td>\n",
       "      <td>596.0</td>\n",
       "      <td>White</td>\n",
       "      <td>NaN</td>\n",
       "      <td>Some College</td>\n",
       "      <td>LivePartner</td>\n",
       "      <td>...</td>\n",
       "      <td>No</td>\n",
       "      <td>NaN</td>\n",
       "      <td>Yes</td>\n",
       "      <td>Yes</td>\n",
       "      <td>12.0</td>\n",
       "      <td>10.0</td>\n",
       "      <td>1.0</td>\n",
       "      <td>Yes</td>\n",
       "      <td>Heterosexual</td>\n",
       "      <td>NaN</td>\n",
       "    </tr>\n",
       "  </tbody>\n",
       "</table>\n",
       "<p>5 rows × 76 columns</p>\n",
       "</div>"
      ],
      "text/plain": [
       "      ID SurveyYr  Gender  Age AgeDecade  AgeMonths  Race1 Race3  \\\n",
       "0  51624  2009_10    male   34     30-39      409.0  White   NaN   \n",
       "1  51624  2009_10    male   34     30-39      409.0  White   NaN   \n",
       "2  51624  2009_10    male   34     30-39      409.0  White   NaN   \n",
       "3  51625  2009_10    male    4       0-9       49.0  Other   NaN   \n",
       "4  51630  2009_10  female   49     40-49      596.0  White   NaN   \n",
       "\n",
       "      Education MaritalStatus  ... RegularMarij  AgeRegMarij  HardDrugs  \\\n",
       "0   High School       Married  ...           No          NaN        Yes   \n",
       "1   High School       Married  ...           No          NaN        Yes   \n",
       "2   High School       Married  ...           No          NaN        Yes   \n",
       "3           NaN           NaN  ...          NaN          NaN        NaN   \n",
       "4  Some College   LivePartner  ...           No          NaN        Yes   \n",
       "\n",
       "   SexEver SexAge SexNumPartnLife  SexNumPartYear  SameSex  SexOrientation  \\\n",
       "0      Yes   16.0             8.0             1.0       No    Heterosexual   \n",
       "1      Yes   16.0             8.0             1.0       No    Heterosexual   \n",
       "2      Yes   16.0             8.0             1.0       No    Heterosexual   \n",
       "3      NaN    NaN             NaN             NaN      NaN             NaN   \n",
       "4      Yes   12.0            10.0             1.0      Yes    Heterosexual   \n",
       "\n",
       "   PregntNow  \n",
       "0        NaN  \n",
       "1        NaN  \n",
       "2        NaN  \n",
       "3        NaN  \n",
       "4        NaN  \n",
       "\n",
       "[5 rows x 76 columns]"
      ]
     },
     "execution_count": 4,
     "metadata": {},
     "output_type": "execute_result"
    }
   ],
   "source": [
    "df.head()"
   ]
  },
  {
   "cell_type": "markdown",
   "metadata": {},
   "source": [
    "Delete NaNs"
   ]
  },
  {
   "cell_type": "code",
   "execution_count": 3,
   "metadata": {},
   "outputs": [],
   "source": [
    "df = df.dropna(subset=['Height'])"
   ]
  },
  {
   "cell_type": "markdown",
   "metadata": {},
   "source": [
    "## One Note: Why am I using NHANES dataset frequently?\n",
    "\n",
    "Many social science researches make conclusions from observational data, because doing an experiment with human subjects requires a lot of time and money. NHANES dataset is the largest dataset to understand the health situations of Americans, and the U.S. government is spending more than $120M/year to gather this data from Americans.\n",
    "\n",
    "Many data analysis exercises and examples in upper level statistics textbooks are actually coming from social sciences, and I believe it's very important for people in social sciences to learn and apply the statistical concepts in the real world dataset of your field.\n",
    "\n",
    "I hope this NHANES dataset serves as an introduction to data analysis in the social sciences."
   ]
  },
  {
   "cell_type": "markdown",
   "metadata": {},
   "source": [
    "## Get some information about people's height\n",
    "\n",
    "People's height is stored in `Height` column."
   ]
  },
  {
   "cell_type": "markdown",
   "metadata": {},
   "source": [
    "Remember the following from previous:\n",
    "\n",
    "- Mean: np.mean(a)\n",
    "- Variance: np.var(a)\n",
    "- Standard Deviation: np.std(a)\n",
    "- Maximum: np.max(a)\n",
    "- Minimum: np.min(a)\n",
    "- Median: np.median(a)\n",
    "- Qth percentile: np.percentile(x, q, interpolation='midpoint')"
   ]
  },
  {
   "cell_type": "markdown",
   "metadata": {},
   "source": [
    "## Do not forget to run this code:"
   ]
  },
  {
   "cell_type": "code",
   "execution_count": 13,
   "metadata": {},
   "outputs": [],
   "source": [
    "import numpy as np"
   ]
  },
  {
   "cell_type": "markdown",
   "metadata": {},
   "source": [
    "## 1. Get mean, variance and standard deviation\n",
    "\n",
    "These are especially important in inference problems that we will cover in the future."
   ]
  },
  {
   "cell_type": "code",
   "execution_count": 13,
   "metadata": {},
   "outputs": [
    {
     "name": "stdout",
     "output_type": "stream",
     "text": [
      "The average height is: 161.877837669743\n",
      "The variance of height is: 407.45522978063894\n",
      "The standard deivation of height is: 20.18552029997342\n"
     ]
    }
   ],
   "source": [
    "height = df['Height']\n",
    "\n",
    "mean = np.mean(height)\n",
    "variance = np.var(height)\n",
    "std = np.std(height)\n",
    "\n",
    "print(\"The average height is:\", mean)\n",
    "print(\"The variance of height is:\", variance)\n",
    "print(\"The standard deivation of height is:\", std)"
   ]
  },
  {
   "cell_type": "markdown",
   "metadata": {},
   "source": [
    "## 2. Get max, min, median and IQR (Interquartile range)\n",
    "\n",
    "These are important to understand the distribution of the data"
   ]
  },
  {
   "cell_type": "code",
   "execution_count": 14,
   "metadata": {},
   "outputs": [
    {
     "name": "stdout",
     "output_type": "stream",
     "text": [
      "The maximum is: 200.4\n",
      "The minimum is: 83.6\n",
      "The median is: 166.0\n",
      "The interquartile randge is: 17.69999999999999\n"
     ]
    }
   ],
   "source": [
    "maximum = np.max(height)\n",
    "minimum = np.min(height)\n",
    "median = np.median(height)\n",
    "\n",
    "q1 = np.percentile(height, 25, interpolation='midpoint')\n",
    "q3 = np.percentile(height, 75, interpolation='midpoint')\n",
    "\n",
    "print(\"The maximum is:\", maximum)\n",
    "print(\"The minimum is:\", minimum)\n",
    "print(\"The median is:\", median)\n",
    "print(\"The interquartile randge is:\", q3-q1)"
   ]
  },
  {
   "cell_type": "markdown",
   "metadata": {},
   "source": [
    "## Reminder:\n",
    "\n",
    "You will get an error with `np.percentile()` if you don't delete the NaNs"
   ]
  },
  {
   "cell_type": "markdown",
   "metadata": {},
   "source": [
    "## Conclusions:\n",
    "\n",
    "The mean was 162cm, while the median was 166cm. This suggests that the height data is negatively skewed, because the median is greater than the mean.\n",
    "\n",
    "<img src=\"Image/skew.png\" width=600>"
   ]
  },
  {
   "cell_type": "markdown",
   "metadata": {},
   "source": [
    "However, I think it is incorrect to conclude that the height data is negatively skewed. Here, we are including height data from all people, including toddlers. It's not a good idea to compare the height data from children and adults.\n",
    "\n",
    "Also, it is a known fact that the average height of males and females are different. We will get a separate dataset for adult males and females."
   ]
  },
  {
   "cell_type": "markdown",
   "metadata": {},
   "source": [
    "## Getting data with conditions"
   ]
  },
  {
   "cell_type": "markdown",
   "metadata": {},
   "source": [
    "Step1:\n",
    "\n",
    "Create a variable with the condition\n",
    "\n",
    "Example:\n",
    "```Python\n",
    "condition1 = df['Age'] >= 20 # Get data of people whose age is above 20 years old\n",
    "```\n",
    "\n",
    "Step2:\n",
    "\n",
    "Put that variable in square brackets after the dataframe variable\n",
    "\n",
    "Example:\n",
    "```Python\n",
    "adult = df[condition1]\n",
    "```\n",
    "\n",
    "If you have multiple conditions, you can create a new dataframe by:\n",
    "```Python\n",
    "df_new = df[condition1 & condition2]\n",
    "```"
   ]
  },
  {
   "cell_type": "markdown",
   "metadata": {},
   "source": [
    "## Get adult male and female data"
   ]
  },
  {
   "cell_type": "markdown",
   "metadata": {},
   "source": [
    "We are only interested in gender, height and age column, so we will only select them from the original dataframe."
   ]
  },
  {
   "cell_type": "code",
   "execution_count": 4,
   "metadata": {},
   "outputs": [],
   "source": [
    "df = pd.read_csv('Data/NHANES.csv')"
   ]
  },
  {
   "cell_type": "code",
   "execution_count": 5,
   "metadata": {},
   "outputs": [],
   "source": [
    "df = df[['Gender', 'Age', 'Height']]"
   ]
  },
  {
   "cell_type": "code",
   "execution_count": 9,
   "metadata": {},
   "outputs": [],
   "source": [
    "df = df.dropna()"
   ]
  },
  {
   "cell_type": "code",
   "execution_count": 10,
   "metadata": {},
   "outputs": [
    {
     "data": {
      "text/html": [
       "<div>\n",
       "<style scoped>\n",
       "    .dataframe tbody tr th:only-of-type {\n",
       "        vertical-align: middle;\n",
       "    }\n",
       "\n",
       "    .dataframe tbody tr th {\n",
       "        vertical-align: top;\n",
       "    }\n",
       "\n",
       "    .dataframe thead th {\n",
       "        text-align: right;\n",
       "    }\n",
       "</style>\n",
       "<table border=\"1\" class=\"dataframe\">\n",
       "  <thead>\n",
       "    <tr style=\"text-align: right;\">\n",
       "      <th></th>\n",
       "      <th>Gender</th>\n",
       "      <th>Age</th>\n",
       "      <th>Height</th>\n",
       "    </tr>\n",
       "  </thead>\n",
       "  <tbody>\n",
       "    <tr>\n",
       "      <th>0</th>\n",
       "      <td>male</td>\n",
       "      <td>34</td>\n",
       "      <td>164.7</td>\n",
       "    </tr>\n",
       "    <tr>\n",
       "      <th>1</th>\n",
       "      <td>male</td>\n",
       "      <td>34</td>\n",
       "      <td>164.7</td>\n",
       "    </tr>\n",
       "    <tr>\n",
       "      <th>2</th>\n",
       "      <td>male</td>\n",
       "      <td>34</td>\n",
       "      <td>164.7</td>\n",
       "    </tr>\n",
       "    <tr>\n",
       "      <th>3</th>\n",
       "      <td>male</td>\n",
       "      <td>4</td>\n",
       "      <td>105.4</td>\n",
       "    </tr>\n",
       "    <tr>\n",
       "      <th>4</th>\n",
       "      <td>female</td>\n",
       "      <td>49</td>\n",
       "      <td>168.4</td>\n",
       "    </tr>\n",
       "    <tr>\n",
       "      <th>...</th>\n",
       "      <td>...</td>\n",
       "      <td>...</td>\n",
       "      <td>...</td>\n",
       "    </tr>\n",
       "    <tr>\n",
       "      <th>9994</th>\n",
       "      <td>male</td>\n",
       "      <td>28</td>\n",
       "      <td>177.3</td>\n",
       "    </tr>\n",
       "    <tr>\n",
       "      <th>9995</th>\n",
       "      <td>male</td>\n",
       "      <td>28</td>\n",
       "      <td>177.3</td>\n",
       "    </tr>\n",
       "    <tr>\n",
       "      <th>9997</th>\n",
       "      <td>male</td>\n",
       "      <td>27</td>\n",
       "      <td>175.8</td>\n",
       "    </tr>\n",
       "    <tr>\n",
       "      <th>9998</th>\n",
       "      <td>male</td>\n",
       "      <td>60</td>\n",
       "      <td>168.8</td>\n",
       "    </tr>\n",
       "    <tr>\n",
       "      <th>9999</th>\n",
       "      <td>male</td>\n",
       "      <td>60</td>\n",
       "      <td>168.8</td>\n",
       "    </tr>\n",
       "  </tbody>\n",
       "</table>\n",
       "<p>9647 rows × 3 columns</p>\n",
       "</div>"
      ],
      "text/plain": [
       "      Gender  Age  Height\n",
       "0       male   34   164.7\n",
       "1       male   34   164.7\n",
       "2       male   34   164.7\n",
       "3       male    4   105.4\n",
       "4     female   49   168.4\n",
       "...      ...  ...     ...\n",
       "9994    male   28   177.3\n",
       "9995    male   28   177.3\n",
       "9997    male   27   175.8\n",
       "9998    male   60   168.8\n",
       "9999    male   60   168.8\n",
       "\n",
       "[9647 rows x 3 columns]"
      ]
     },
     "execution_count": 10,
     "metadata": {},
     "output_type": "execute_result"
    }
   ],
   "source": [
    "df"
   ]
  },
  {
   "cell_type": "markdown",
   "metadata": {},
   "source": [
    "Looks great."
   ]
  },
  {
   "cell_type": "markdown",
   "metadata": {},
   "source": [
    "## Get adult male and female data"
   ]
  },
  {
   "cell_type": "code",
   "execution_count": 12,
   "metadata": {},
   "outputs": [],
   "source": [
    "adult = df['Age'] >= 20\n",
    "\n",
    "# Remember that == means a condition statement to find if two elements are the same\n",
    "male = df['Gender'] == 'male'\n",
    "female = df['Gender'] == 'female'\n",
    "\n",
    "# We will create two separate dataframes for male and female\n",
    "\n",
    "male_df = df[adult & male]\n",
    "female_df = df[adult & female]"
   ]
  },
  {
   "cell_type": "code",
   "execution_count": 19,
   "metadata": {},
   "outputs": [
    {
     "data": {
      "text/html": [
       "<div>\n",
       "<style scoped>\n",
       "    .dataframe tbody tr th:only-of-type {\n",
       "        vertical-align: middle;\n",
       "    }\n",
       "\n",
       "    .dataframe tbody tr th {\n",
       "        vertical-align: top;\n",
       "    }\n",
       "\n",
       "    .dataframe thead th {\n",
       "        text-align: right;\n",
       "    }\n",
       "</style>\n",
       "<table border=\"1\" class=\"dataframe\">\n",
       "  <thead>\n",
       "    <tr style=\"text-align: right;\">\n",
       "      <th></th>\n",
       "      <th>Gender</th>\n",
       "      <th>Age</th>\n",
       "      <th>Height</th>\n",
       "    </tr>\n",
       "  </thead>\n",
       "  <tbody>\n",
       "    <tr>\n",
       "      <th>0</th>\n",
       "      <td>male</td>\n",
       "      <td>34</td>\n",
       "      <td>164.7</td>\n",
       "    </tr>\n",
       "    <tr>\n",
       "      <th>1</th>\n",
       "      <td>male</td>\n",
       "      <td>34</td>\n",
       "      <td>164.7</td>\n",
       "    </tr>\n",
       "    <tr>\n",
       "      <th>2</th>\n",
       "      <td>male</td>\n",
       "      <td>34</td>\n",
       "      <td>164.7</td>\n",
       "    </tr>\n",
       "    <tr>\n",
       "      <th>10</th>\n",
       "      <td>male</td>\n",
       "      <td>66</td>\n",
       "      <td>169.5</td>\n",
       "    </tr>\n",
       "    <tr>\n",
       "      <th>11</th>\n",
       "      <td>male</td>\n",
       "      <td>58</td>\n",
       "      <td>181.9</td>\n",
       "    </tr>\n",
       "  </tbody>\n",
       "</table>\n",
       "</div>"
      ],
      "text/plain": [
       "   Gender  Age  Height\n",
       "0    male   34   164.7\n",
       "1    male   34   164.7\n",
       "2    male   34   164.7\n",
       "10   male   66   169.5\n",
       "11   male   58   181.9"
      ]
     },
     "execution_count": 19,
     "metadata": {},
     "output_type": "execute_result"
    }
   ],
   "source": [
    "male_df.head()"
   ]
  },
  {
   "cell_type": "code",
   "execution_count": 20,
   "metadata": {},
   "outputs": [
    {
     "data": {
      "text/html": [
       "<div>\n",
       "<style scoped>\n",
       "    .dataframe tbody tr th:only-of-type {\n",
       "        vertical-align: middle;\n",
       "    }\n",
       "\n",
       "    .dataframe tbody tr th {\n",
       "        vertical-align: top;\n",
       "    }\n",
       "\n",
       "    .dataframe thead th {\n",
       "        text-align: right;\n",
       "    }\n",
       "</style>\n",
       "<table border=\"1\" class=\"dataframe\">\n",
       "  <thead>\n",
       "    <tr style=\"text-align: right;\">\n",
       "      <th></th>\n",
       "      <th>Gender</th>\n",
       "      <th>Age</th>\n",
       "      <th>Height</th>\n",
       "    </tr>\n",
       "  </thead>\n",
       "  <tbody>\n",
       "    <tr>\n",
       "      <th>4</th>\n",
       "      <td>female</td>\n",
       "      <td>49</td>\n",
       "      <td>168.4</td>\n",
       "    </tr>\n",
       "    <tr>\n",
       "      <th>7</th>\n",
       "      <td>female</td>\n",
       "      <td>45</td>\n",
       "      <td>166.7</td>\n",
       "    </tr>\n",
       "    <tr>\n",
       "      <th>8</th>\n",
       "      <td>female</td>\n",
       "      <td>45</td>\n",
       "      <td>166.7</td>\n",
       "    </tr>\n",
       "    <tr>\n",
       "      <th>9</th>\n",
       "      <td>female</td>\n",
       "      <td>45</td>\n",
       "      <td>166.7</td>\n",
       "    </tr>\n",
       "    <tr>\n",
       "      <th>14</th>\n",
       "      <td>female</td>\n",
       "      <td>58</td>\n",
       "      <td>148.1</td>\n",
       "    </tr>\n",
       "  </tbody>\n",
       "</table>\n",
       "</div>"
      ],
      "text/plain": [
       "    Gender  Age  Height\n",
       "4   female   49   168.4\n",
       "7   female   45   166.7\n",
       "8   female   45   166.7\n",
       "9   female   45   166.7\n",
       "14  female   58   148.1"
      ]
     },
     "execution_count": 20,
     "metadata": {},
     "output_type": "execute_result"
    }
   ],
   "source": [
    "female_df.head()"
   ]
  },
  {
   "cell_type": "markdown",
   "metadata": {},
   "source": [
    "## Let's see if the conditions are satisfied"
   ]
  },
  {
   "cell_type": "code",
   "execution_count": 14,
   "metadata": {},
   "outputs": [
    {
     "name": "stdout",
     "output_type": "stream",
     "text": [
      "Min age is: 20\n"
     ]
    }
   ],
   "source": [
    "# Minimum age of male dataset\n",
    "print(\"Min age is:\", np.min(male_df['Age']))"
   ]
  },
  {
   "cell_type": "code",
   "execution_count": 15,
   "metadata": {},
   "outputs": [
    {
     "data": {
      "text/plain": [
       "male    3524\n",
       "Name: Gender, dtype: int64"
      ]
     },
     "execution_count": 15,
     "metadata": {},
     "output_type": "execute_result"
    }
   ],
   "source": [
    "# Gender\n",
    "male_df['Gender'].value_counts()"
   ]
  },
  {
   "cell_type": "code",
   "execution_count": 16,
   "metadata": {},
   "outputs": [
    {
     "name": "stdout",
     "output_type": "stream",
     "text": [
      "Min age is: 20\n"
     ]
    }
   ],
   "source": [
    "# Minimum age of female dataset\n",
    "print(\"Min age is:\", np.min(female_df['Age']))"
   ]
  },
  {
   "cell_type": "code",
   "execution_count": 17,
   "metadata": {},
   "outputs": [
    {
     "data": {
      "text/plain": [
       "female    3658\n",
       "Name: Gender, dtype: int64"
      ]
     },
     "execution_count": 17,
     "metadata": {},
     "output_type": "execute_result"
    }
   ],
   "source": [
    "# Gender\n",
    "female_df['Gender'].value_counts()"
   ]
  },
  {
   "cell_type": "markdown",
   "metadata": {},
   "source": [
    "## This looks perfectly fine"
   ]
  },
  {
   "cell_type": "markdown",
   "metadata": {},
   "source": [
    "Next, I try to find the summary statistics of males and females.\n",
    "\n",
    "Here, I can copy and paste the code that I wrote before to find the summary statistics of overall data. I DO NOT NEED to rewrite the codes again.\n",
    "\n",
    "That is why I made `df['Height']` in the first code to be a variable."
   ]
  },
  {
   "cell_type": "code",
   "execution_count": 21,
   "metadata": {},
   "outputs": [
    {
     "name": "stdout",
     "output_type": "stream",
     "text": [
      "Male adult average height: 175.78927355278043\n",
      "Variance of male adult height: 55.92104271858525\n",
      "Standard deviation of male adult height: 7.478037357394335\n"
     ]
    }
   ],
   "source": [
    "# Only change df['Height'] to be male_df['Height']\n",
    "\n",
    "height = male_df['Height']\n",
    "\n",
    "mean = np.mean(height)\n",
    "variance = np.var(height)\n",
    "std = np.std(height)\n",
    "\n",
    "print(\"Male adult average height:\", mean)\n",
    "print(\"Variance of male adult height:\", variance)\n",
    "print(\"Standard deviation of male adult height:\", std)"
   ]
  },
  {
   "cell_type": "code",
   "execution_count": 22,
   "metadata": {},
   "outputs": [
    {
     "name": "stdout",
     "output_type": "stream",
     "text": [
      "Max male adult height: 200.4\n",
      "Min male adult height: 149.4\n",
      "The median is: 175.6\n",
      "The interquartile randge is: 9.599999999999994\n"
     ]
    }
   ],
   "source": [
    "maximum = np.max(height)\n",
    "minimum = np.min(height)\n",
    "median = np.median(height)\n",
    "\n",
    "q1 = np.percentile(height, 25, interpolation='midpoint')\n",
    "q3 = np.percentile(height, 75, interpolation='midpoint')\n",
    "\n",
    "print(\"Max male adult height:\", maximum)\n",
    "print(\"Min male adult height:\", minimum)\n",
    "print(\"The median is:\", median)\n",
    "print(\"The interquartile randge is:\", q3-q1)"
   ]
  },
  {
   "cell_type": "markdown",
   "metadata": {},
   "source": [
    "## Conclusions:\n",
    "\n",
    "There are few noticeable results here:\n",
    "\n",
    "1. Mean and median of male adult height are extremely close (175.79 vs 175.6). This suggests that male height follows a symmetric distribution\n",
    "\n",
    "2. Interquartile range became smaller\n",
    "\n",
    "3. The variance of male adult height is 55.92, while the variance of the original height data is 407.46. This is an important thing to notice that will be relevant in ANOVA test which we will be doing in the future."
   ]
  },
  {
   "cell_type": "markdown",
   "metadata": {},
   "source": [
    "## Practice problems:\n",
    "\n",
    "- Get the summary statitics for female dataset\n",
    "- Get the summary statistics for children (Age <= 15). Compare the summary statistics of males and females."
   ]
  }
 ],
 "metadata": {
  "kernelspec": {
   "display_name": "Python 3",
   "language": "python",
   "name": "python3"
  },
  "language_info": {
   "codemirror_mode": {
    "name": "ipython",
    "version": 3
   },
   "file_extension": ".py",
   "mimetype": "text/x-python",
   "name": "python",
   "nbconvert_exporter": "python",
   "pygments_lexer": "ipython3",
   "version": "3.6.10"
  }
 },
 "nbformat": 4,
 "nbformat_minor": 4
}

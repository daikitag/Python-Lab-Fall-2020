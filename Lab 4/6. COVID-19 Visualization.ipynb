{
 "cells": [
  {
   "cell_type": "markdown",
   "metadata": {},
   "source": [
    "# Practice: COVID-19 Visualization\n",
    "\n",
    "Now that we have the right tools for creating a stacked bar chart, let's visualize COVID-19 data together from scratch. Here, we would like to create a stacked bar chart for:\n",
    "\n",
    "- Total recovered\n",
    "- Active cases\n",
    "- Total deaths\n",
    "\n",
    "in top5 countries of COVID-19 infections to see how the COVID-19 cases are broken down.\n",
    "\n",
    "The data is from: https://www.worldometers.info/coronavirus/\n",
    "\n",
    "I hope you look through / give some advice on how I can proceed, as I will be uploading this to Codio."
   ]
  },
  {
   "cell_type": "markdown",
   "metadata": {},
   "source": [
    "```Python\n",
    "import matplotlib.pyplot as plt\n",
    "\n",
    "label = []\n",
    "y_value1 = []\n",
    "y_value2 = []\n",
    "y_value3 = []\n",
    "\n",
    "fig, axs = plt.subplots(figsize=(10,6)) # Change the figure size here       \n",
    "p1 = axs.bar(label, y_value1, color='blue')     \n",
    "# Don't forget the bottom from p2\n",
    "p2 = axs.bar(label, y_value2, color='red', bottom=y_value1)\n",
    "p3 = axs.bar(label, y_value3, color='green', bottom=y_value1+y_value2)\n",
    "axs.set_title(\"Plot Title\", fontsize=20, fontweight=\"bold\")   \n",
    "axs.set_xlabel(\"x-axis label\", fontsize=14)\n",
    "axs.set_ylabel(\"y-axis label\", fontsize=14)\n",
    "axs.tick_params(labelsize=16)  \n",
    "axs.legend((p1[0],p2[0],p3[0]),('label1','label2','label3'),\n",
    "          bbox_to_anchor=(1.05, 1))\n",
    "# make sure to add p here, if you would like to add more bars\n",
    "plt.show() \n",
    "```\n",
    "`bottom` specifies the y-axis location to start the bar chart, and `bbox_to_anchor=(1.05, 1)` specifies that you would like to have the legend outside the plot. You can delete it to put the legend inside the plot."
   ]
  }
 ],
 "metadata": {
  "kernelspec": {
   "display_name": "Python 3",
   "language": "python",
   "name": "python3"
  },
  "language_info": {
   "codemirror_mode": {
    "name": "ipython",
    "version": 3
   },
   "file_extension": ".py",
   "mimetype": "text/x-python",
   "name": "python",
   "nbconvert_exporter": "python",
   "pygments_lexer": "ipython3",
   "version": "3.6.10"
  }
 },
 "nbformat": 4,
 "nbformat_minor": 4
}

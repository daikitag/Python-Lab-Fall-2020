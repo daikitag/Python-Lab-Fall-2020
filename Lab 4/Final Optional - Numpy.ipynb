{
 "cells": [
  {
   "cell_type": "markdown",
   "metadata": {},
   "source": [
    "# Introduction to Numpy for Data Science"
   ]
  },
  {
   "cell_type": "markdown",
   "metadata": {},
   "source": [
    "<img src=\"Image/numpy.png\" width=\"300\" height=\"500\">"
   ]
  },
  {
   "cell_type": "markdown",
   "metadata": {},
   "source": [
    "## What is Numpy?\n",
    "\n",
    "Numpy is the fundamental package for scientific computing in Python. It has powerful methods to conduct calculations in Linear Algebra or Fourier Analysis if you are interested.\n",
    "\n",
    "Remember from section2 that most data can be stored as lists in Python. For example, we can store the students' test scores as list:"
   ]
  },
  {
   "cell_type": "markdown",
   "metadata": {},
   "source": [
    "```Python\n",
    "scores = [90, 81, 85, 100, 76]\n",
    "```"
   ]
  },
  {
   "cell_type": "markdown",
   "metadata": {},
   "source": [
    "We are interested in figuring out the \n",
    "\n",
    "We will be using Numpy to compute these things from lists:\n",
    "\n",
    "- Mean\n",
    "- Variance\n",
    "- Standard Deviation"
   ]
  }
 ],
 "metadata": {
  "kernelspec": {
   "display_name": "Python 3",
   "language": "python",
   "name": "python3"
  },
  "language_info": {
   "codemirror_mode": {
    "name": "ipython",
    "version": 3
   },
   "file_extension": ".py",
   "mimetype": "text/x-python",
   "name": "python",
   "nbconvert_exporter": "python",
   "pygments_lexer": "ipython3",
   "version": "3.6.10"
  }
 },
 "nbformat": 4,
 "nbformat_minor": 4
}

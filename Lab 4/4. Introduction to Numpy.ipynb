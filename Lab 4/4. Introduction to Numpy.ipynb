{
 "cells": [
  {
   "cell_type": "markdown",
   "metadata": {},
   "source": [
    "# Introduction to Numpy for Data Science"
   ]
  },
  {
   "cell_type": "markdown",
   "metadata": {},
   "source": [
    "<img src=\"Image/numpy.png\" width=\"300\" height=\"500\">"
   ]
  },
  {
   "cell_type": "markdown",
   "metadata": {},
   "source": [
    "## What is Numpy?\n",
    "\n",
    "Numpy is the fundamental package for scientific computing in Python. It has powerful methods to conduct calculations in Linear Algebra or Fourier Analysis if you are interested.\n",
    "\n",
    "Remember from section2 that most data can be stored as lists in Python. For example, we can store the students' test scores as list:"
   ]
  },
  {
   "cell_type": "markdown",
   "metadata": {},
   "source": [
    "```Python\n",
    "scores = [90, 81, 85, 100, 76]\n",
    "```"
   ]
  },
  {
   "cell_type": "markdown",
   "metadata": {},
   "source": [
    "Also, remember that the column in a dataframe can be seen as a list:\n",
    "\n",
    "```Python\n",
    "df['Scores']\n",
    "```\n",
    "This is the same as obtaining a list of all the values in `'Scores'` column in a dataframe called `df`\n",
    "\n",
    "Therefore, Numpy is frequently used with dataframes to obtain mean, variance and standard deviation of a specific column in a dataframe."
   ]
  },
  {
   "cell_type": "markdown",
   "metadata": {},
   "source": [
    "We are interested in figuring out the \n",
    "\n",
    "We will be using Numpy to compute these things from lists:\n",
    "\n",
    "- Mean\n",
    "- Variance\n",
    "- Standard Deviation\n",
    "- Maximum\n",
    "- Minimum\n",
    "- Median\n",
    "- Interquartile Range"
   ]
  },
  {
   "cell_type": "markdown",
   "metadata": {},
   "source": [
    "While this course will only focus the basics of Numpy, it is one of the most commonly used packages in Python. For students who want to have a better understanding of Numpy should refer to the following documentations:\n",
    "\n",
    "- https://www.w3schools.com/python/numpy_intro.asp\n",
    "- https://numpy.org/devdocs/user/quickstart.html\n",
    "- https://www.tutorialspoint.com/numpy/index.htm"
   ]
  },
  {
   "cell_type": "markdown",
   "metadata": {},
   "source": [
    "## 0. Import package\n",
    "\n",
    "As with matplotlib and pandas, you should ALWAYS start with importing numpy package"
   ]
  },
  {
   "cell_type": "code",
   "execution_count": 2,
   "metadata": {},
   "outputs": [],
   "source": [
    "import numpy as np"
   ]
  },
  {
   "cell_type": "markdown",
   "metadata": {},
   "source": [
    "## 1. Mean\n",
    "\n",
    "You can compute mean by using:\n",
    "\n",
    "```Python\n",
    "np.mean(a)\n",
    "```\n",
    "where `a` represents the list"
   ]
  },
  {
   "cell_type": "code",
   "execution_count": 3,
   "metadata": {},
   "outputs": [
    {
     "name": "stdout",
     "output_type": "stream",
     "text": [
      "The average score of students is: 86.4\n"
     ]
    }
   ],
   "source": [
    "scores = [90, 81, 85, 100, 76]\n",
    "mean = np.mean(scores)\n",
    "\n",
    "print(\"The average score of students is:\", mean)"
   ]
  },
  {
   "cell_type": "markdown",
   "metadata": {},
   "source": [
    "## 2. Variance\n",
    "\n",
    "The variance can be computed by using:\n",
    "\n",
    "```Python\n",
    "np.var(a)\n",
    "```\n",
    "where `a` represents the list"
   ]
  },
  {
   "cell_type": "code",
   "execution_count": 5,
   "metadata": {},
   "outputs": [
    {
     "name": "stdout",
     "output_type": "stream",
     "text": [
      "The variance is 67.44\n"
     ]
    }
   ],
   "source": [
    "scores = [90, 81, 85, 100, 76]\n",
    "variance = np.var(scores)\n",
    "\n",
    "print(\"The variance is\", variance)"
   ]
  },
  {
   "cell_type": "markdown",
   "metadata": {},
   "source": [
    "## 3. Standard Deviation\n",
    "\n",
    "The standard deviation can be computed by using:\n",
    "\n",
    "```Python\n",
    "np.std(a)\n",
    "```\n",
    "where `a` represents the list"
   ]
  },
  {
   "cell_type": "code",
   "execution_count": 6,
   "metadata": {},
   "outputs": [
    {
     "name": "stdout",
     "output_type": "stream",
     "text": [
      "The standard deviation is 8.212186067059124\n"
     ]
    }
   ],
   "source": [
    "scores = [90, 81, 85, 100, 76]\n",
    "sd = np.std(scores)\n",
    "\n",
    "print(\"The standard deviation is\", sd)"
   ]
  },
  {
   "cell_type": "markdown",
   "metadata": {},
   "source": [
    "Notice that the standard deviation can be calculated as:\n",
    "\n",
    "$$\n",
    "standard~deviation = \\sqrt{variance}\n",
    "$$\n",
    "\n",
    "Let's check this:\n",
    "\n",
    "```Python\n",
    "np.sqrt(a)\n",
    "```\n",
    "can be used to compute the square root of `a`"
   ]
  },
  {
   "cell_type": "code",
   "execution_count": 9,
   "metadata": {},
   "outputs": [
    {
     "name": "stdout",
     "output_type": "stream",
     "text": [
      "The standard deviation from variance is: 8.212186067059124\n",
      "The standard deviation from numpy is: 8.212186067059124\n"
     ]
    }
   ],
   "source": [
    "scores = [90, 81, 85, 100, 76]\n",
    "variance = np.var(scores)\n",
    "std1 = np.sqrt(variance)\n",
    "\n",
    "std2 = np.std(scores)\n",
    "\n",
    "print(\"The standard deviation from variance is:\", std1)\n",
    "print(\"The standard deviation from numpy is:\", std2)"
   ]
  },
  {
   "cell_type": "markdown",
   "metadata": {},
   "source": [
    "Notice that this is the same. This is one of the most important formulas that you have to know in statistics."
   ]
  },
  {
   "cell_type": "markdown",
   "metadata": {},
   "source": [
    "## 4. Maximum\n",
    "\n",
    "Maximum value of a list can be computed by:\n",
    "\n",
    "```Python\n",
    "np.max(a)\n",
    "```\n",
    "where `a` represents a list"
   ]
  },
  {
   "cell_type": "code",
   "execution_count": 10,
   "metadata": {},
   "outputs": [
    {
     "name": "stdout",
     "output_type": "stream",
     "text": [
      "The maximum is 100\n"
     ]
    }
   ],
   "source": [
    "scores = [90, 81, 85, 100, 76]\n",
    "maximum = np.max(scores)\n",
    "print(\"The maximum is\", maximum)"
   ]
  },
  {
   "cell_type": "markdown",
   "metadata": {},
   "source": [
    "This is exactly the same as\n",
    "```Python\n",
    "max()\n",
    "```\n",
    "that we did before."
   ]
  },
  {
   "cell_type": "code",
   "execution_count": 11,
   "metadata": {},
   "outputs": [
    {
     "name": "stdout",
     "output_type": "stream",
     "text": [
      "The maximum is 100\n"
     ]
    }
   ],
   "source": [
    "scores = [90, 81, 85, 100, 76]\n",
    "maximum = max(scores)\n",
    "print(\"The maximum is\", maximum)"
   ]
  },
  {
   "cell_type": "markdown",
   "metadata": {},
   "source": [
    "## 5. Minimum\n",
    "\n",
    "Minimum value of a list can be computed by:\n",
    "```Python\n",
    "np.min(a)\n",
    "```\n",
    "where `a` represents a list"
   ]
  },
  {
   "cell_type": "code",
   "execution_count": 12,
   "metadata": {},
   "outputs": [
    {
     "name": "stdout",
     "output_type": "stream",
     "text": [
      "The minimum is 76\n"
     ]
    }
   ],
   "source": [
    "scores = [90, 81, 85, 100, 76]\n",
    "minimum = np.min(scores)\n",
    "print(\"The minimum is\", minimum)"
   ]
  },
  {
   "cell_type": "markdown",
   "metadata": {},
   "source": [
    "This is exactly the same as:\n",
    "\n",
    "```Python\n",
    "min()\n",
    "```\n",
    "that we did before"
   ]
  },
  {
   "cell_type": "code",
   "execution_count": 13,
   "metadata": {},
   "outputs": [
    {
     "name": "stdout",
     "output_type": "stream",
     "text": [
      "The minimum is 76\n"
     ]
    }
   ],
   "source": [
    "scores = [90, 81, 85, 100, 76]\n",
    "minimum = min(scores)\n",
    "print(\"The minimum is\", minimum)"
   ]
  },
  {
   "cell_type": "markdown",
   "metadata": {},
   "source": [
    "## 6. Median\n",
    "\n"
   ]
  },
  {
   "cell_type": "markdown",
   "metadata": {},
   "source": [
    "Median can be computed by using:\n",
    "```Python\n",
    "np.median()\n",
    "```"
   ]
  },
  {
   "cell_type": "code",
   "execution_count": 3,
   "metadata": {},
   "outputs": [
    {
     "name": "stdout",
     "output_type": "stream",
     "text": [
      "The median is 3.0\n"
     ]
    }
   ],
   "source": [
    "numbers = [1, 2, 3, 4, 5]\n",
    "median = np.mean(numbers)\n",
    "print(\"The median is\", median)"
   ]
  },
  {
   "cell_type": "markdown",
   "metadata": {},
   "source": [
    "## 7. Interquartile Range\n",
    "\n",
    "```Python\n",
    "np.percentile(x, q, interpolation='midpoint')\n",
    "```\n",
    "Returns the `q`th percentile of the data from list `x`\n",
    "\n",
    "Remember that:\n",
    "\n",
    "interquartile range = the third quartile - the first quartile"
   ]
  },
  {
   "cell_type": "code",
   "execution_count": 9,
   "metadata": {},
   "outputs": [
    {
     "name": "stdout",
     "output_type": "stream",
     "text": [
      "The first quartile is 1.5\n",
      "The second quartile is 3.5\n",
      "The interquartile range is 2.0\n"
     ]
    }
   ],
   "source": [
    "numbers = [1, 2, 3, 4]\n",
    "q1 = np.percentile(numbers, 25, interpolation='midpoint')\n",
    "q3 = np.percentile(numbers, 75, interpolation='midpoint')\n",
    "\n",
    "print(\"The first quartile is\", q1)\n",
    "print(\"The second quartile is\", q3)\n",
    "\n",
    "print(\"The interquartile range is\", q3-q1)"
   ]
  },
  {
   "cell_type": "markdown",
   "metadata": {},
   "source": [
    "There are many useful things in Numpy, but we will only be focusing on these 7 functions in Numpy for this lab course."
   ]
  }
 ],
 "metadata": {
  "kernelspec": {
   "display_name": "Python 3",
   "language": "python",
   "name": "python3"
  },
  "language_info": {
   "codemirror_mode": {
    "name": "ipython",
    "version": 3
   },
   "file_extension": ".py",
   "mimetype": "text/x-python",
   "name": "python",
   "nbconvert_exporter": "python",
   "pygments_lexer": "ipython3",
   "version": "3.6.10"
  }
 },
 "nbformat": 4,
 "nbformat_minor": 4
}

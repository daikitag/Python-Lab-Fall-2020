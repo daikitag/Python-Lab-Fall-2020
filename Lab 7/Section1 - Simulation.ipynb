{
 "cells": [
  {
   "cell_type": "markdown",
   "metadata": {},
   "source": [
    "# Lab 7\n",
    "\n",
    "## HW6 Due TODAY\n",
    "\n",
    "I briefly reviewed the submissions, and it seems that some people missed the bins. Please double check your solutions, so that you have the correct bin argument inside the histograms."
   ]
  },
  {
   "cell_type": "markdown",
   "metadata": {},
   "source": [
    "## Today's agenda\n",
    "\n",
    "- Simulation\n",
    "- Probability Exercise 1\n",
    "- Probability Exercise 2\n",
    "- Law of large numbers\n",
    "- Central limit theorem"
   ]
  },
  {
   "cell_type": "markdown",
   "metadata": {},
   "source": [
    "# 1. Simulation"
   ]
  },
  {
   "cell_type": "markdown",
   "metadata": {},
   "source": [
    "## What is simulation?\n",
    "\n",
    "Simulation is the process of generating new data. In many situations, it is difficult to examine the probability or estimate a the parameter inside the probability model, such as the mean and variance. While we can't mathematically prove that a value is true, simulation allows us to predict the probability of different outcomes of the model when randomness is present. Simulation, or Monte Carlo simulation, is very important in the field of applied statistics to understand the parameters behind the model."
   ]
  },
  {
   "cell_type": "markdown",
   "metadata": {},
   "source": [
    "## Random library"
   ]
  },
  {
   "cell_type": "code",
   "execution_count": 1,
   "metadata": {},
   "outputs": [],
   "source": [
    "import random"
   ]
  },
  {
   "cell_type": "markdown",
   "metadata": {},
   "source": [
    "```Python\n",
    "random.randint(a,b)\n",
    "```\n",
    "returns a random number between `a` and `b`. This is frequently used with for loops to generate many simulations based on this model (this can be regarded as a discrete uniform distribution)."
   ]
  },
  {
   "cell_type": "code",
   "execution_count": 45,
   "metadata": {},
   "outputs": [
    {
     "data": {
      "text/plain": [
       "6"
      ]
     },
     "execution_count": 45,
     "metadata": {},
     "output_type": "execute_result"
    }
   ],
   "source": [
    "random.randint(0,10)"
   ]
  },
  {
   "cell_type": "code",
   "execution_count": 3,
   "metadata": {},
   "outputs": [
    {
     "data": {
      "text/plain": [
       "7"
      ]
     },
     "execution_count": 3,
     "metadata": {},
     "output_type": "execute_result"
    }
   ],
   "source": [
    "random.randint(0,10)"
   ]
  },
  {
   "cell_type": "markdown",
   "metadata": {},
   "source": [
    "Notice that I get a different number when I run this code. We can also randomly select strings (words) as well."
   ]
  },
  {
   "cell_type": "markdown",
   "metadata": {},
   "source": [
    "```Python\n",
    "random.choice(['a','b'])\n",
    "```\n",
    "randomly selects `'a'` or `'b'` with equal probability. You can put as many elements that you want."
   ]
  },
  {
   "cell_type": "code",
   "execution_count": 5,
   "metadata": {},
   "outputs": [
    {
     "data": {
      "text/plain": [
       "'H'"
      ]
     },
     "execution_count": 5,
     "metadata": {},
     "output_type": "execute_result"
    }
   ],
   "source": [
    "random.choice(['H','T'])"
   ]
  },
  {
   "cell_type": "code",
   "execution_count": 6,
   "metadata": {},
   "outputs": [
    {
     "data": {
      "text/plain": [
       "'T'"
      ]
     },
     "execution_count": 6,
     "metadata": {},
     "output_type": "execute_result"
    }
   ],
   "source": [
    "random.choice(['H','T'])"
   ]
  },
  {
   "cell_type": "code",
   "execution_count": 7,
   "metadata": {},
   "outputs": [
    {
     "data": {
      "text/plain": [
       "'H'"
      ]
     },
     "execution_count": 7,
     "metadata": {},
     "output_type": "execute_result"
    }
   ],
   "source": [
    "random.choice(['H','T'])"
   ]
  },
  {
   "cell_type": "markdown",
   "metadata": {},
   "source": [
    "Notice that I get a different selection each time."
   ]
  },
  {
   "cell_type": "markdown",
   "metadata": {},
   "source": [
    "## 1. Generate coin toss\n",
    "\n",
    "Coin toss can be seen as `random.choice(['H','T'])`, because we can let `'H'` = Heads and `'T'` = Tails. The following for loop generates a list of coin toss.\n",
    "\n",
    "1. Set the number of tosses to be the parameter\n",
    "2. Randomly select 'H' or 'T'\n",
    "3. Store those numbers in a list called result\n",
    "4. Output the result after the for loop is finished"
   ]
  },
  {
   "cell_type": "code",
   "execution_count": 14,
   "metadata": {},
   "outputs": [],
   "source": [
    "def coin_toss(s):\n",
    "    result = []\n",
    "    for i in range(s):\n",
    "        toss = random.choice(['H','T'])\n",
    "        result.append(toss)\n",
    "    return result"
   ]
  },
  {
   "cell_type": "code",
   "execution_count": 15,
   "metadata": {},
   "outputs": [
    {
     "data": {
      "text/plain": [
       "['T']"
      ]
     },
     "execution_count": 15,
     "metadata": {},
     "output_type": "execute_result"
    }
   ],
   "source": [
    "coin_toss(1)"
   ]
  },
  {
   "cell_type": "code",
   "execution_count": 16,
   "metadata": {},
   "outputs": [
    {
     "data": {
      "text/plain": [
       "['T', 'T', 'H']"
      ]
     },
     "execution_count": 16,
     "metadata": {},
     "output_type": "execute_result"
    }
   ],
   "source": [
    "coin_toss(3)"
   ]
  },
  {
   "cell_type": "markdown",
   "metadata": {},
   "source": [
    "Now, we will be using this simulation to compute probabilities. What is the probability that I will get 2 heads when I flip a coin 3 times?\n",
    "\n",
    "The outcome of getting 2 heads is:\n",
    "$$\n",
    "\\{H,H,T\\}, \\{H,T,H\\},\\{T,H,H\\}\n",
    "$$\n",
    "so there are 3 outcomes. There are a total of $2^3=8$ outcomes, so the probability is \n",
    "$$\\frac{3}{8}=0.375$$\n",
    "\n",
    "We will check this by simulation.\n",
    "\n",
    "Steps:\n",
    "1. Generate 100,000 samples of 3 coin tosses\n",
    "2. Count how many of them have 2 heads"
   ]
  },
  {
   "cell_type": "code",
   "execution_count": null,
   "metadata": {},
   "outputs": [],
   "source": [
    "# Briefly explain 2^3=8 (8 different ways)"
   ]
  },
  {
   "cell_type": "markdown",
   "metadata": {},
   "source": [
    "I introduce a new code here.\n",
    "```Python\n",
    "list_variable.count('a')\n",
    "```\n",
    "counts the number of `'a'` in a list called `list_variable`"
   ]
  },
  {
   "cell_type": "code",
   "execution_count": 17,
   "metadata": {},
   "outputs": [],
   "source": [
    "def num_3toss(s):\n",
    "    result = []\n",
    "    for i in range(s):\n",
    "        toss = coin_toss(3)\n",
    "        head = toss.count('H')\n",
    "        result.append(head)\n",
    "    return result"
   ]
  },
  {
   "cell_type": "code",
   "execution_count": 19,
   "metadata": {},
   "outputs": [
    {
     "data": {
      "text/plain": [
       "[2, 2, 2, 1, 3]"
      ]
     },
     "execution_count": 19,
     "metadata": {},
     "output_type": "execute_result"
    }
   ],
   "source": [
    "num_3toss(5)"
   ]
  },
  {
   "cell_type": "code",
   "execution_count": 24,
   "metadata": {},
   "outputs": [],
   "source": [
    "s = 100000"
   ]
  },
  {
   "cell_type": "code",
   "execution_count": 46,
   "metadata": {},
   "outputs": [],
   "source": [
    "result = num_3toss(s)"
   ]
  },
  {
   "cell_type": "markdown",
   "metadata": {},
   "source": [
    "Now, we will count the total number of cases when the number of heads = 2"
   ]
  },
  {
   "cell_type": "code",
   "execution_count": 47,
   "metadata": {},
   "outputs": [
    {
     "name": "stdout",
     "output_type": "stream",
     "text": [
      "The probability is: 0.37329\n"
     ]
    }
   ],
   "source": [
    "count = 0\n",
    "for i in range(s):\n",
    "    if result[i] == 2:\n",
    "        count += 1\n",
    "prob = count / s\n",
    "print(\"The probability is:\", prob)"
   ]
  },
  {
   "cell_type": "markdown",
   "metadata": {},
   "source": [
    "It would be extremely difficult to get the exact probability, but notice that this probability would be a good estimate of the actual probability."
   ]
  },
  {
   "cell_type": "markdown",
   "metadata": {},
   "source": [
    "## 2. Generate die roll"
   ]
  },
  {
   "cell_type": "markdown",
   "metadata": {},
   "source": [
    "A die roll can be simulated by:\n",
    "```Python\n",
    "random.randint(1,6)\n",
    "```"
   ]
  },
  {
   "cell_type": "code",
   "execution_count": 27,
   "metadata": {},
   "outputs": [],
   "source": [
    "def die_roll(s):\n",
    "    result = []\n",
    "    for i in range(s):\n",
    "        roll = random.randint(1,6)\n",
    "        result.append(roll)\n",
    "    return result"
   ]
  },
  {
   "cell_type": "markdown",
   "metadata": {},
   "source": [
    "Now, imagine that I would like to approximate the probability that the total of 10 die rolls is 30. Is this probability easy to compute? I think not. The total outcome of 10 die rolls will be:\n",
    "\n",
    "$$\n",
    "6^{10} = 60,466,176\n",
    "$$\n",
    "\n",
    "I think it would be impractical to examine all 60 million + outcomes, so we would use a simulation to approximate the probability."
   ]
  },
  {
   "cell_type": "markdown",
   "metadata": {},
   "source": [
    "Steps:\n",
    "\n",
    "1. Generate 100,000 samples of 10 die rolls\n",
    "2. Count how many of them will have a total of 30"
   ]
  },
  {
   "cell_type": "code",
   "execution_count": 48,
   "metadata": {},
   "outputs": [],
   "source": [
    "def total_10(s):\n",
    "    result = []\n",
    "    for i in range(s):\n",
    "        roll = die_roll(10)\n",
    "        total = sum(roll)\n",
    "        result.append(total)\n",
    "    return result"
   ]
  },
  {
   "cell_type": "code",
   "execution_count": 49,
   "metadata": {},
   "outputs": [],
   "source": [
    "# Number of simulations\n",
    "s = 100000"
   ]
  },
  {
   "cell_type": "code",
   "execution_count": 52,
   "metadata": {},
   "outputs": [],
   "source": [
    "result = total_10(s)"
   ]
  },
  {
   "cell_type": "code",
   "execution_count": 53,
   "metadata": {},
   "outputs": [
    {
     "name": "stdout",
     "output_type": "stream",
     "text": [
      "The probability is: 0.0491\n"
     ]
    }
   ],
   "source": [
    "count = 0\n",
    "for i in range(s):\n",
    "    if result[i] == 30:\n",
    "        count += 1\n",
    "prob = count / s\n",
    "print(\"The probability is:\", prob)"
   ]
  },
  {
   "cell_type": "markdown",
   "metadata": {},
   "source": [
    "We can estimate that the probability that the total of 10 die rolls is 30 will be approximately 5%."
   ]
  },
  {
   "cell_type": "markdown",
   "metadata": {},
   "source": [
    "In examples like this, simulation would be the best way to compute the probability. Some of you might have seen the word \"Monte Carlo Simulation\" before. In addition to probabilities, Monte Carlo methods can estimate mean, median, IQR, integrals, $\\pi$, etc. This would be the basic ideas behind Monte Carlo methods."
   ]
  }
 ],
 "metadata": {
  "kernelspec": {
   "display_name": "Python 3",
   "language": "python",
   "name": "python3"
  },
  "language_info": {
   "codemirror_mode": {
    "name": "ipython",
    "version": 3
   },
   "file_extension": ".py",
   "mimetype": "text/x-python",
   "name": "python",
   "nbconvert_exporter": "python",
   "pygments_lexer": "ipython3",
   "version": "3.6.12"
  }
 },
 "nbformat": 4,
 "nbformat_minor": 4
}
